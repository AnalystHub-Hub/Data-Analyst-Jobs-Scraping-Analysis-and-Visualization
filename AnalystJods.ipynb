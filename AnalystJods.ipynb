{
 "cells": [
  {
   "cell_type": "markdown",
   "metadata": {},
   "source": [
    "# Project Title: Data Analyst Jobs Scraping, Analysis and Visualization"
   ]
  },
  {
   "cell_type": "markdown",
   "metadata": {},
   "source": [
    "## Purpose"
   ]
  },
  {
   "cell_type": "markdown",
   "metadata": {},
   "source": [
    "It was exciting to start a career in data analysis, but I had a lot of questions. In addition to the various job categories included in the relatively broad field of \"data science,\" I want to find out which regions of the world has the highest data analyst job demand, which would result in higher pay and better working conditions. What distinguishes working as a data analyst as an entry, junior, or senior levels in a company. We will also observe the requirements needed to be hired in any of the job levels.\n",
    "\n",
    " We will investigate the highest-earning data analyst by job title and examine their relationships to factors such as Required skills, experience level, location, and other factors.\n",
    "To better convey the results, the findings are visualized. The data will be appropriately analyzed, cleaned, and formatted in order to accomplish this goal.\n",
    "This EDA project's insights can help many people who want to work in the data industry make better decisions."
   ]
  },
  {
   "cell_type": "markdown",
   "metadata": {},
   "source": [
    "## Problem Statement"
   ]
  },
  {
   "cell_type": "markdown",
   "metadata": {},
   "source": [
    "The goal of this project is to identify the skills that are required for positions in the data analyst related field, establish a hierarchy and pair those skills up.\n",
    "\n",
    "We Will be answering the following questions in thi project;\n",
    "\n",
    "    Which skills are the most demanded among big companies?\n",
    "    Which Companies has most data analysis positions ?\n",
    "    Where are most data analysis position found?\n",
    "    What is an estimated salary of a data analyst by level (Executive, Entry, Junior, Sinior)?\n",
    "    How profitable it is to have a remote job over an onsite job?\n",
    "    "
   ]
  },
  {
   "cell_type": "markdown",
   "metadata": {},
   "source": [
    "## Web Scraping in Python"
   ]
  },
  {
   "cell_type": "markdown",
   "metadata": {},
   "source": [
    "In this project section, I scraped a job posting portal, [ai-jobs.net](https://ai-jobs.net) for ** Data Analyst jobs**, using BeautifulSoup web scraping tool and Python Programming Language."
   ]
  },
  {
   "cell_type": "markdown",
   "metadata": {},
   "source": [
    "## Dataset Information"
   ]
  },
  {
   "cell_type": "markdown",
   "metadata": {},
   "source": [
    "The data used for this study is obtained by aggregated data from ai-jobs.net, under this license.\n",
    "\n",
    "* Job Ttile - The name of the available job\n",
    "* Company Name - The name of the company with the job vacancy\n",
    "* Location - It contains the Physical Location of the company and if the job is remote\n",
    "* Level - It's the Job level, if it is a junior, mid or senior role\n",
    "* Job Type - Is the job a full-time or internship role\n",
    "* Salary Range - The pay range (some columns are in yearly range, while some are in hourly range)\n",
    "* Required Skills - Necessary skills an applicant must have before applying\n",
    "* Benefits - The benefits that comes with the job"
   ]
  },
  {
   "cell_type": "code",
   "execution_count": 216,
   "metadata": {},
   "outputs": [],
   "source": [
    "#import needed libraries\n",
    "\n",
    "from bs4 import BeautifulSoup\n",
    "import requests\n",
    "import pandas as pd \n",
    "import urllib.parse "
   ]
  },
  {
   "cell_type": "code",
   "execution_count": 217,
   "metadata": {},
   "outputs": [],
   "source": [
    "#store website into a variable \"webUrl\"\n",
    "\n",
    "webUrl = 'https://ai-jobs.net/analyst-jobs/'"
   ]
  },
  {
   "cell_type": "code",
   "execution_count": 218,
   "metadata": {},
   "outputs": [],
   "source": [
    "#make request to the website specified above\n",
    "\n",
    "response = requests.get(webUrl)"
   ]
  },
  {
   "cell_type": "code",
   "execution_count": 219,
   "metadata": {},
   "outputs": [
    {
     "data": {
      "text/plain": [
       "200"
      ]
     },
     "execution_count": 219,
     "metadata": {},
     "output_type": "execute_result"
    }
   ],
   "source": [
    "#confirm if the request made was successful\n",
    "\n",
    "response.status_code"
   ]
  },
  {
   "cell_type": "code",
   "execution_count": 220,
   "metadata": {},
   "outputs": [],
   "source": [
    "#create a soup object to get access to the html content of the website\n",
    "\n",
    "soup = BeautifulSoup(response.content, 'html.parser')"
   ]
  },
  {
   "cell_type": "code",
   "execution_count": 221,
   "metadata": {},
   "outputs": [
    {
     "data": {
      "text/plain": [
       "<!DOCTYPE html>\n",
       "\n",
       "<html class=\"h-100\" lang=\"en\">\n",
       "<head>\n",
       "<meta charset=\"utf-8\"/>\n",
       "<meta content=\"width=device-width, initial-scale=1, shrink-to-fit=no\" name=\"viewport\"/>\n",
       "<meta content=\"max-snippet:-1, max-image-preview:large, max-video-preview:-1\" name=\"robots\">\n",
       "<meta content=\"All Analyst jobs - Find the latest AI/ML/Data Science jobs on ai-jobs.net.\" name=\"description\"/>\n",
       "<title>All Analyst jobs — Jobs in AI/ML and Big Data | ai-jobs.net</title>\n",
       "<link href=\"/static/css/style_ai.min.css?v=1.4.1\" rel=\"stylesheet\"/>\n",
       "<link href=\"/static/fa/css/all.min.css?v=5.13.0\" rel=\"stylesheet\"/>\n",
       "<link href=\"https://ai-jobs.net/analyst-jobs/\" rel=\"canonical\"/>\n",
       "<link href=\"https://insights.ai-jobs.net\" rel=\"dns-prefetch\"/>\n",
       "<link href=\"https://salaries.ai-jobs.net\" rel=\"dns-prefetch\"/>\n",
       "<link href=\"https://ai-jobs.net/feed/\" rel=\"alternate\" title=\"ai-jobs.net - Job feed\" type=\"application/rss+xml\"/>\n",
       "<link href=\"/static/img/favicons_ai/apple-icon-57x57.png\" rel=\"apple-touch-icon\" sizes=\"57x57\"/>\n",
       "<link href=\"/static/img/favicons_ai/apple-icon-60x60.png\" rel=\"apple-touch-icon\" sizes=\"60x60\"/>\n",
       "<link href=\"/static/img/favicons_ai/apple-icon-72x72.png\" rel=\"apple-touch-icon\" sizes=\"72x72\"/>\n",
       "<link href=\"/static/img/favicons_ai/apple-icon-76x76.png\" rel=\"apple-touch-icon\" sizes=\"76x76\"/>\n",
       "<link href=\"/static/img/favicons_ai/apple-icon-114x114.png\" rel=\"apple-touch-icon\" sizes=\"114x114\"/>\n",
       "<link href=\"/static/img/favicons_ai/apple-icon-120x120.png\" rel=\"apple-touch-icon\" sizes=\"120x120\"/>\n",
       "<link href=\"/static/img/favicons_ai/apple-icon-144x144.png\" rel=\"apple-touch-icon\" sizes=\"144x144\"/>\n",
       "<link href=\"/static/img/favicons_ai/apple-icon-152x152.png\" rel=\"apple-touch-icon\" sizes=\"152x152\"/>\n",
       "<link href=\"/static/img/favicons_ai/apple-icon-180x180.png\" rel=\"apple-touch-icon\" sizes=\"180x180\"/>\n",
       "<link href=\"/static/img/favicons_ai/android-icon-192x192.png\" rel=\"icon\" sizes=\"192x192\" type=\"image/png\"/>\n",
       "<link href=\"/static/img/favicons_ai/favicon-32x32.png\" rel=\"icon\" sizes=\"32x32\" type=\"image/png\"/>\n",
       "<link href=\"/static/img/favicons_ai/favicon-96x96.png\" rel=\"icon\" sizes=\"96x96\" type=\"image/png\"/>\n",
       "<link href=\"/static/img/favicons_ai/favicon-16x16.png\" rel=\"icon\" sizes=\"16x16\" type=\"image/png\"/>\n",
       "<link href=\"/manifest.json\" rel=\"manifest\"/>\n",
       "<meta content=\"yes\" name=\"mobile-web-app-capable\"/>\n",
       "<meta content=\"yes\" name=\"apple-mobile-web-app-capable\"/>\n",
       "<meta content=\"#ffffff\" name=\"msapplication-TileColor\"/>\n",
       "<meta content=\"/static/img/favicons_ai/ms-icon-144x144.png\" name=\"msapplication-TileImage\"/>\n",
       "<meta content=\"/static/img/favicons_ai/browserconfig.xml\" name=\"msapplication-config\"/>\n",
       "<meta content=\"#ffffff\" name=\"theme-color\"/>\n",
       "<meta content=\"en_US\" property=\"og:locale\"/>\n",
       "<meta content=\"website\" property=\"og:type\"/>\n",
       "<meta content=\"All Analyst jobs | ai-jobs.net\" property=\"og:title\"/>\n",
       "<meta content=\"All Analyst jobs - Find the latest AI/ML/Data Science jobs on ai-jobs.net.\" property=\"og:description\"/>\n",
       "<meta content=\"https://ai-jobs.net/analyst-jobs/\" property=\"og:url\"/>\n",
       "<meta content=\"ai-jobs.net\" property=\"og:site_name\"/>\n",
       "<meta content=\"https://ai-jobs.net/static/img/ai-jobs.jpg\" property=\"og:image\"/>\n",
       "<meta content=\"https://ai-jobs.net/static/img/ai-jobs.jpg\" property=\"og:image:secure_url\"/>\n",
       "<meta content=\"summary_large_image\" name=\"twitter:card\"/>\n",
       "<meta content=\"All Analyst jobs - Find the latest AI/ML/Data Science jobs on ai-jobs.net.\" name=\"twitter:description\"/>\n",
       "<meta content=\"All Analyst jobs | ai-jobs.net\" name=\"twitter:title\"/>\n",
       "<meta content=\"https://ai-jobs.net/static/img/ai-jobs.jpg\" name=\"twitter:image\"/>\n",
       "<meta content=\"https://twitter.com/ai_jobsNET\" name=\"twitter:site\"/>\n",
       "<style>\n",
       "  main { min-height: 50rem; }\n",
       "  .display-4 { font-size: 3rem; }\n",
       "  footer h3 { color: #FCFCFC !important; }\n",
       "  footer a { font-weight: normal; }\n",
       "  .lead { font-weight: 400; }\n",
       "  .badge { font-weight: 500; }\n",
       "  .list-group-item-action .badge { font-size: 85% !important; }\n",
       "  .list-group-flush .list-group-item:first-child { border-top-width: 1px; }\n",
       "  .dropdown-toggle { padding: .3rem; }\n",
       "  .select2.select2-container { width: 100% !important; }\n",
       "  .select2-container--default .select2-selection--multiple .select2-selection__choice { border: none !important; }\n",
       "  .select2-container--default .select2-selection--multiple { border: 1px solid #ced4da !important; }\n",
       "  .select2-container .select2-search--inline .select2-search__field { padding: 0.05rem 0.35rem !important; }\n",
       "  .jumbotron.jumbotron-fluid { color: white; background: #360033; background: -webkit-linear-gradient(to right, #0b8793, #360033); background: linear-gradient(to right, #0b8793, #360033); }\n",
       "  .job-description-text { font-size: .95rem; }\n",
       "  @media (max-width: 340px) { .navbar.fixed-bottom { padding: 2px; } }\n",
       "\n",
       "  a { color: #325D88; font-weight: 400; }\n",
       "  .btn-link { color: #325D88; font-weight: 400; }\n",
       "  footer .text-muted { color: #aaa !important; }\n",
       "  .dropdown-divider { border-top: 1px solid #ddd; }\n",
       "  .list-group-flush .list-group-item { border-color: #eee; }\n",
       "\n",
       "</style>\n",
       "<script src=\"/static/js/jquery.min.js?v=3.6.0\"></script>\n",
       "<script async=\"\" src=\"/static/js/bootstrap.bundle.min.js\"></script>\n",
       "<style>\n",
       "  .form-group { margin-bottom: .75rem; }\n",
       "</style>\n",
       "<script>\n",
       "  var _paq = window._paq || [];\n",
       "  _paq.push(['setDoNotTrack', true]);\n",
       "  _paq.push(['trackPageView']);\n",
       "  _paq.push(['enableLinkTracking']);\n",
       "  (function() {\n",
       "      var u=\"https://stats.foorilla.com/\";\n",
       "      _paq.push(['setTrackerUrl', u+'matomo.php']);\n",
       "      _paq.push(['setSiteId', '7']);\n",
       "      var d=document, g=d.createElement('script'), s=d.getElementsByTagName('script')[0];\n",
       "      g.type='text/javascript'; g.async=true; g.defer=true; g.src=u+'matomo.js'; s.parentNode.insertBefore(g,s);\n",
       "  })();\n",
       "</script>\n",
       "</meta></head>\n",
       "<body class=\"d-flex flex-column h-100 pt-5 mt-2\">\n",
       "<header class=\"navbar navbar-expand-md navbar-light bg-white fixed-top border-0 px-md-2 shadow-sm\">\n",
       "<div class=\"container-xl\">\n",
       "<a class=\"navbar-brand\" href=\"/\">\n",
       "<img alt=\"ai-jobs.net logo\" height=\"32\" src=\"/static/img/ai-jobs-logo.png\" width=\"32\"/>\n",
       "<strong>ai-jobs.net</strong>\n",
       "</a>\n",
       "<button aria-controls=\"navbarResponsive\" aria-expanded=\"false\" aria-label=\"Toggle navigation\" class=\"navbar-toggler border-0\" data-target=\"#navbarResponsive\" data-toggle=\"collapse\" type=\"button\">\n",
       "<span class=\"navbar-toggler-icon\"></span>\n",
       "</button>\n",
       "<div class=\"collapse navbar-collapse\" id=\"navbarResponsive\">\n",
       "<ul class=\"navbar-nav ml-auto\">\n",
       "<li class=\"nav-item\">\n",
       "<a class=\"nav-link text-dark\" href=\"/\"><i class=\"fas fa-search\"></i> Search<span class=\"d-md-none d-lg-inline\"> jobs</span></a>\n",
       "</li>\n",
       "<li class=\"nav-item\">\n",
       "<a class=\"nav-link text-dark\" href=\"/job/emails/\"><i class=\"far fa-envelope\"></i> <span class=\"d-md-none d-lg-inline\">Job </span>Emails</a>\n",
       "</li>\n",
       "<li class=\"nav-item\">\n",
       "<a class=\"nav-link text-dark\" href=\"/job/marks/\"><i class=\"fas fa-list-ol\"></i> Saved<span class=\"d-md-none d-lg-inline\"> Jobs</span></a>\n",
       "</li>\n",
       "<li class=\"nav-item\">\n",
       "<a class=\"nav-link text-dark\" href=\"https://salaries.ai-jobs.net/\"><i class=\"fas fa-dollar-sign\"></i> Salaries</a>\n",
       "</li>\n",
       "<li class=\"nav-item\">\n",
       "<a class=\"nav-link text-dark\" href=\"https://insights.ai-jobs.net/\"><i class=\"far fa-lightbulb\"></i> Insights</a>\n",
       "</li>\n",
       "<li class=\"nav-item d-md-none\">\n",
       "<a class=\"nav-link text-dark\" href=\"/trends/\"><i class=\"fas fa-chart-area\"></i> Trends</a>\n",
       "</li>\n",
       "<li class=\"nav-item\">\n",
       "<a class=\"btn btn-primary mx-1 d-none d-md-block\" href=\"/post-a-job/\">Post a Job</a>\n",
       "<a class=\"nav-link text-dark d-block d-md-none\" href=\"/post-a-job/\"><i class=\"fas fa-bullhorn\"></i> Post a Job</a>\n",
       "</li>\n",
       "<li class=\"nav-item\">\n",
       "<a class=\"btn btn-primary mx-1 d-none d-md-block\" href=\"/register/\">Sign up</a>\n",
       "<a class=\"nav-link text-dark d-block d-md-none\" href=\"/register/\"><i class=\"fas fa-user-plus\"></i> Sign up</a>\n",
       "</li>\n",
       "<li class=\"nav-item\">\n",
       "<a class=\"btn btn-outline-primary mx-1 d-none d-md-block\" href=\"/accounts/login/\">Log in</a>\n",
       "<a class=\"nav-link text-dark d-block d-md-none\" href=\"/accounts/login/\"><i class=\"fas fa-sign-in-alt\"></i> Log in</a>\n",
       "</li>\n",
       "<li class=\"nav-item d-none d-md-inline-block\">\n",
       "<a class=\"nav-link text-dark\" href=\"/dark/mode/\" title=\"Switch to dark mode\"><i class=\"fas fa-moon\"></i></a>\n",
       "</li>\n",
       "</ul>\n",
       "</div>\n",
       "</div>\n",
       "</header>\n",
       "<main class=\"flex-shrink-0\" id=\"content\">\n",
       "<div class=\"container-xl pt-4\">\n",
       "<div class=\"row\">\n",
       "<div class=\"col-lg-10 mx-auto px-2 pt-md-3 pt-lg-2\">\n",
       "<h1 class=\"d-md-block h4 mb-0 mb-lg-1\">\n",
       "    Your prime source for jobs in AI/ML and Big Data. 🧠🐱‍💻🤖🚗🚀 — All Analyst jobs\n",
       "    \n",
       "  </h1>\n",
       "</div>\n",
       "</div>\n",
       "<div class=\"row\">\n",
       "<div class=\"col-lg-10 mx-auto px-2\">\n",
       "<form action=\"/\" class=\"my-3\" id=\"job-filter\" method=\"get\">\n",
       "<link href=\"/static/css/select2.min.css\" media=\"screen\" rel=\"stylesheet\"/>\n",
       "<link href=\"/static/django_select2/django_select2.css\" media=\"screen\" rel=\"stylesheet\"/>\n",
       "<script src=\"/static/js/select2.min.js\"></script>\n",
       "<script src=\"/static/django_select2/django_select2.js\"></script> <fieldset> <div class=\"form-row\"> <div class=\"col-md-12 p-0 mb-2\"> <ul class=\"nav nav-pills nav-fill\" id=\"job-categories\"> <li class=\"nav-item\"> <label class=\"nav-link btn btn-outline-dark p-1 pr-2 m-1\"> <input checked=\"\" class=\"m-1\" id=\"id_cat_0\" name=\"cat\" type=\"checkbox\" value=\"12\"/>\n",
       "    Analyst\n",
       "  </label>\n",
       "</li> <li class=\"nav-item\"> <label class=\"nav-link btn btn-outline-dark p-1 pr-2 m-1\"> <input class=\"m-1\" id=\"id_cat_1\" name=\"cat\" type=\"checkbox\" value=\"14\"/>\n",
       "    Architecture\n",
       "  </label>\n",
       "</li> <li class=\"nav-item\"> <label class=\"nav-link btn btn-outline-dark p-1 pr-2 m-1\"> <input class=\"m-1\" id=\"id_cat_2\" name=\"cat\" type=\"checkbox\" value=\"10\"/>\n",
       "    Big Data\n",
       "  </label>\n",
       "</li> <li class=\"nav-item\"> <label class=\"nav-link btn btn-outline-dark p-1 pr-2 m-1\"> <input class=\"m-1\" id=\"id_cat_3\" name=\"cat\" type=\"checkbox\" value=\"4\"/>\n",
       "    Computer Vision\n",
       "  </label>\n",
       "</li> <li class=\"nav-item\"> <label class=\"nav-link btn btn-outline-dark p-1 pr-2 m-1\"> <input class=\"m-1\" id=\"id_cat_4\" name=\"cat\" type=\"checkbox\" value=\"9\"/>\n",
       "    Consulting\n",
       "  </label>\n",
       "</li> <li class=\"nav-item\"> <label class=\"nav-link btn btn-outline-dark p-1 pr-2 m-1\"> <input class=\"m-1\" id=\"id_cat_5\" name=\"cat\" type=\"checkbox\" value=\"3\"/>\n",
       "    Data Science\n",
       "  </label>\n",
       "</li> <li class=\"nav-item\"> <label class=\"nav-link btn btn-outline-dark p-1 pr-2 m-1\"> <input class=\"m-1\" id=\"id_cat_6\" name=\"cat\" type=\"checkbox\" value=\"6\"/>\n",
       "    Deep Learning\n",
       "  </label>\n",
       "</li> <li class=\"nav-item\"> <label class=\"nav-link btn btn-outline-dark p-1 pr-2 m-1\"> <input class=\"m-1\" id=\"id_cat_7\" name=\"cat\" type=\"checkbox\" value=\"2\"/>\n",
       "    Engineering\n",
       "  </label>\n",
       "</li> <li class=\"nav-item\"> <label class=\"nav-link btn btn-outline-dark p-1 pr-2 m-1\"> <input class=\"m-1\" id=\"id_cat_8\" name=\"cat\" type=\"checkbox\" value=\"8\"/>\n",
       "    Leadership\n",
       "  </label>\n",
       "</li> <li class=\"nav-item\"> <label class=\"nav-link btn btn-outline-dark p-1 pr-2 m-1\"> <input class=\"m-1\" id=\"id_cat_9\" name=\"cat\" type=\"checkbox\" value=\"5\"/>\n",
       "    Machine Learning\n",
       "  </label>\n",
       "</li> <li class=\"nav-item\"> <label class=\"nav-link btn btn-outline-dark p-1 pr-2 m-1\"> <input class=\"m-1\" id=\"id_cat_10\" name=\"cat\" type=\"checkbox\" value=\"15\"/>\n",
       "    ML Ops\n",
       "  </label>\n",
       "</li> <li class=\"nav-item\"> <label class=\"nav-link btn btn-outline-dark p-1 pr-2 m-1\"> <input class=\"m-1\" id=\"id_cat_11\" name=\"cat\" type=\"checkbox\" value=\"7\"/>\n",
       "    NLP\n",
       "  </label>\n",
       "</li> <li class=\"nav-item\"> <label class=\"nav-link btn btn-outline-dark p-1 pr-2 m-1\"> <input class=\"m-1\" id=\"id_cat_12\" name=\"cat\" type=\"checkbox\" value=\"1\"/>\n",
       "    Research\n",
       "  </label>\n",
       "</li> </ul>\n",
       "</div>\n",
       "</div>\n",
       "<div class=\"form-row\"> <div class=\"col-6 col-sm-4\"> <div class=\"form-group\" id=\"div_id_cit\"> <div> <select class=\"modelselect2multiplewidget custom-select django-select2 django-select2-heavy\" data-ajax--cache=\"true\" data-ajax--type=\"GET\" data-ajax--url=\"/select2/fields/auto.json\" data-allow-clear=\"true\" data-field_id=\"IjU5MmM4ZGQwLWJiMTgtNDZhMS05ODYxLWY3MDJkYWUyYTEyZCI:1on3zr:lFseKskp5_FFKCfcGI7YJwQzf5AIsto2nnV7g8OS9nQ\" data-minimum-input-length=\"2\" data-placeholder=\"Cities 🏢\" data-theme=\"default\" id=\"id_cit\" lang=\"None\" multiple=\"\" name=\"cit\">\n",
       "</select> </div> </div> </div>\n",
       "<div class=\"col-6 col-sm-4\"> <div class=\"form-group\" id=\"div_id_cou\"> <div> <select class=\"modelselect2multiplewidget custom-select django-select2 django-select2-heavy\" data-ajax--cache=\"true\" data-ajax--type=\"GET\" data-ajax--url=\"/select2/fields/auto.json\" data-allow-clear=\"true\" data-field_id=\"IjIzYzE4ZTM1LWVmMzgtNDMyYy1iMmY5LTgwYjlhYTkzOWRhMSI:1on3zr:a62ve53784pwKhe5Xy2LVq1t0N3wYRgwb-JWsQKPL2Y\" data-minimum-input-length=\"2\" data-placeholder=\"Countries 🛂\" data-theme=\"default\" id=\"id_cou\" lang=\"None\" multiple=\"\" name=\"cou\">\n",
       "</select> </div> </div> </div>\n",
       "<div class=\"col-6 col-sm-4\"> <div class=\"form-group\" id=\"div_id_reg\"> <div> <select class=\"select2multiplewidget custom-select django-select2\" data-allow-clear=\"true\" data-minimum-input-length=\"0\" data-placeholder=\"Regions, Remote 🌍\" data-theme=\"default\" id=\"id_reg\" lang=\"None\" multiple=\"\" name=\"reg\"> <option value=\"7\">Remote/Anywhere</option> <option value=\"1\">Africa</option> <option value=\"2\">Asia/Pacific</option> <option value=\"3\">Europe</option> <option value=\"4\">Middle East</option> <option value=\"5\">North America</option> <option value=\"6\">South America</option>\n",
       "</select> </div> </div> </div>\n",
       "<div class=\"col-6 col-sm-4\"> <div class=\"form-group\" id=\"div_id_key\"> <div> <input class=\"textinput textInput form-control\" id=\"id_key\" maxlength=\"60\" name=\"key\" placeholder=\"Keywords 🔤\" type=\"text\"/> </div> </div> </div>\n",
       "<div class=\"col-5 col-sm-3 col-md-4\"> <div class=\"form-group\" id=\"div_id_typ\"> <div> <select class=\"select2multiplewidget custom-select django-select2\" data-allow-clear=\"true\" data-minimum-input-length=\"0\" data-placeholder=\"Job types ⏰\" data-theme=\"default\" id=\"id_typ\" lang=\"None\" multiple=\"\" name=\"typ\"> <option value=\"1\">Full Time</option> <option value=\"2\">Part Time</option> <option value=\"3\">Temporary</option> <option value=\"4\">Internship</option> <option value=\"5\">Freelance</option> <option value=\"6\">Contract</option>\n",
       "</select> </div> </div> </div>\n",
       "<div class=\"col-4 col-sm-3\"> <div class=\"form-group\" id=\"div_id_exp\"> <div> <select class=\"select custom-select\" id=\"id_exp\" name=\"exp\"> <option selected=\"\" value=\"\">Experience level (all) 🤓</option> <option value=\"EN\">Entry-level / Junior</option> <option value=\"MI\">Mid-level / Intermediate</option> <option value=\"SE\">Senior-level / Expert</option> <option value=\"EX\">Executive-level / Director</option>\n",
       "</select> </div> </div> </div>\n",
       "<div class=\"col-3 col-sm-2 col-md-1\">\n",
       "<div class=\"dropdown\"> <a aria-expanded=\"false\" aria-haspopup=\"true\" class=\"btn btn-outline-dark btn-block dropdown-toggle\" data-toggle=\"dropdown\" href=\"#\" id=\"dropdownDisplaySettings\" role=\"button\" title=\"Edit display settings\"> <i class=\"fas fa-cogs\"></i> </a> <div aria-labelledby=\"dropdownDisplaySettings\" class=\"dropdown-menu dropdown-menu-right\"> <a class=\"dropdown-item display-setting\" href=\"#\" id=\"compact_mode\"> <i class=\"fas fa-list\"></i>\n",
       "      Compact mode: <strong>off</strong> </a> <a class=\"dropdown-item display-setting\" href=\"#\" id=\"open_new_tab\"> <i class=\"fas fa-external-link-alt\"></i>\n",
       "      Open in new tab: <strong>off</strong></a> </div>\n",
       "</div>\n",
       "</div>\n",
       "</div> </fieldset>\n",
       "<div class=\"d-flex justify-content-between\">\n",
       "<em class=\"float-left my-auto\" id=\"job-search-count\">593 jobs<span class=\"d-none d-sm-inline\"> found</span></em>\n",
       "<span class=\"d-flex justify-content-end\">\n",
       "<a class=\"btn btn-outline-primary px-2 my-auto\" href=\"/\">Reset</a>\n",
       "<button class=\"btn btn-outline-primary px-2 ml-1 ml-sm-2 my-auto\" data-container=\"body\" data-content=\"&lt;b&gt;Copied link to this search!&lt;/b&gt;\" data-html=\"true\" data-placement=\"top\" data-toggle=\"popover\" id=\"copy-link\" type=\"button\">Share</button>\n",
       "<a class=\"btn btn-outline-primary px-2 ml-1 ml-sm-2 my-auto\" href=\"/job/email/create/?key=&amp;loc=&amp;exp=&amp;cat=12\">Subscribe</a>\n",
       "<button class=\"btn btn-primary px-3 px-sm-4 ml-1 ml-sm-2 my-auto\" type=\"submit\"><i class=\"fas fa-search d-none d-sm-inline mr-1\"></i> Search</button>\n",
       "</span>\n",
       "</div>\n",
       "</form>\n",
       "</div>\n",
       "</div>\n",
       "<div class=\"row\">\n",
       "<div class=\"col-lg-10 mx-auto px-2\">\n",
       "<div class=\"list-group list-group-flush mb-5\" id=\"job-list\">\n",
       "<div class=\"list-group-item px-2 px-lg-3 py-0\">\n",
       "<div class=\"row\">\n",
       "<div class=\"col-2 col-sm-1 px-2 py-3\">\n",
       "<a href=\"/jobs-at-stubhub/\" title=\"Show all open positions at StubHub\">\n",
       "<img alt=\"StubHub logo\" class=\"mx-auto my-1 d-block\" height=\"48\" loading=\"lazy\" src=\"/media/cache/35/48/354868eefebb089d5e0f7e69397386c3.jpg\" width=\"48\"/>\n",
       "</a>\n",
       "<div class=\"d-flex justify-content-center mt-3\">\n",
       "<a class=\"btn-direct-apply text-dark p-1\" href=\"/J30559/apply/\" id=\"30559\" rel=\"nofollow noopener\" target=\"_blank\" title=\"Apply for this job directly on StubHub's career site\"><i class=\"fas fa-edit\"></i></a>\n",
       "<a class=\"btn-direct-apply text-dark p-1\" href=\"/job/mark/30559/create/\" rel=\"nofollow\" title=\"Save this job for later application\"><i class=\"fas fa-list-ol\"></i></a>\n",
       "</div>\n",
       "</div>\n",
       "<a class=\"col list-group-item-action px-2 py-3\" href=\"/job/30559-senior-data-engineer-analytic-platform/\" title=\"View full details of `Senior Data Engineer - Analytic Platform` vacancy\">\n",
       "<div class=\"float-right text-right d-inline-block w-25 ml-2\">\n",
       "<span class=\"d-block d-md-none text-break job-list-item-location\">Irvine, CA</span>\n",
       "<span class=\"d-none d-md-block text-break job-list-item-location\">Irvine, CA</span>\n",
       "<span class=\"badge badge-secondary badge-pill my-md-1\">Full Time</span>\n",
       "<div class=\"d-block\">\n",
       "<span class=\"badge badge-info badge-pill my-md-1 d-md-none\">Senior</span>\n",
       "<span class=\"badge badge-info badge-pill my-md-1 d-none d-md-inline-block\">Senior-level</span>\n",
       "</div>\n",
       "<div class=\"d-block\">\n",
       "<span class=\"badge badge-success badge-pill d-none d-md-inline-block\">USD 76K - 150K *</span>\n",
       "<span class=\"badge badge-success badge-pill d-md-none\">USD 76K+ *</span>\n",
       "</div>\n",
       "</div>\n",
       "<p class=\"m-0 text-muted job-list-item-company\">StubHub</p>\n",
       "<h2 class=\"h4 mb-1\">Senior Data Engineer - Analytic Platform</h2>\n",
       "<span class=\"badge badge-light badge-pill\">Airflow</span>\n",
       "<span class=\"badge badge-light badge-pill\">Data pipelines</span>\n",
       "<span class=\"badge badge-light badge-pill\">Data Warehousing</span>\n",
       "<span class=\"badge badge-light badge-pill\">Engineering</span>\n",
       "<span class=\"badge badge-light badge-pill\">Kafka</span>\n",
       "<span class=\"badge badge-light badge-pill\">Machine Learning</span>\n",
       "<span class=\"badge badge-light badge-pill\">Pipelines</span>\n",
       "<span class=\"badge badge-light badge-pill\">+5</span>\n",
       "<br/>\n",
       "<span class=\"badge badge-success badge-pill\">Career development</span>\n",
       "<span class=\"badge badge-success badge-pill\">Health care</span>\n",
       "<span class=\"badge badge-success badge-pill\">Lunch / meals</span>\n",
       "<span class=\"badge badge-success badge-pill\">Startup environment</span>\n",
       "<span class=\"badge badge-success badge-pill\">Team events</span>\n",
       "<span class=\"badge badge-success badge-pill\">+1</span>\n",
       "</a>\n",
       "</div>\n",
       "</div>\n",
       "<div class=\"list-group-item px-2 px-lg-3 py-0\">\n",
       "<div class=\"row\">\n",
       "<div class=\"col-2 col-sm-1 px-2 py-3\">\n",
       "<a href=\"/jobs-at-uncapped/\" title=\"Show all open positions at Uncapped\">\n",
       "<img alt=\"Uncapped logo\" class=\"mx-auto my-1 d-block\" height=\"48\" loading=\"lazy\" src=\"/media/cache/81/00/81007c777d77e9f668212f0e337cb7e1.jpg\" width=\"48\"/>\n",
       "</a>\n",
       "<div class=\"d-flex justify-content-center mt-3\">\n",
       "<a class=\"btn-direct-apply text-dark p-1\" href=\"/J30589/apply/\" id=\"30589\" rel=\"nofollow noopener\" target=\"_blank\" title=\"Apply for this job directly on Uncapped's career site\"><i class=\"fas fa-edit\"></i></a>\n",
       "<a class=\"btn-direct-apply text-dark p-1\" href=\"/job/mark/30589/create/\" rel=\"nofollow\" title=\"Save this job for later application\"><i class=\"fas fa-list-ol\"></i></a>\n",
       "</div>\n",
       "</div>\n",
       "<a class=\"col list-group-item-action px-2 py-3\" href=\"/job/30589-credit-analytics-and-data-science-lead/\" title=\"View full details of `Credit Analytics and Data Science Lead` vacancy\">\n",
       "<div class=\"float-right text-right d-inline-block w-25 ml-2\">\n",
       "<span class=\"d-block d-md-none text-break job-list-item-location\">Warsaw, Masovian Voivodeship, Poland …</span>\n",
       "<span class=\"d-none d-md-block text-break job-list-item-location\">Warsaw, Masovian Voivodeship, Poland - Remote</span>\n",
       "<span class=\"badge badge-secondary badge-pill my-md-1\">Full Time</span>\n",
       "<div class=\"d-block\">\n",
       "<span class=\"badge badge-info badge-pill my-md-1 d-md-none\">Mid</span>\n",
       "<span class=\"badge badge-info badge-pill my-md-1 d-none d-md-inline-block\">Mid-level</span>\n",
       "</div>\n",
       "</div>\n",
       "<p class=\"m-0 text-muted job-list-item-company\">Uncapped</p>\n",
       "<h2 class=\"h4 mb-1\">Credit Analytics and Data Science Lead</h2>\n",
       "<span class=\"badge badge-light badge-pill\">Credit risk</span>\n",
       "<span class=\"badge badge-light badge-pill\">Finance</span>\n",
       "<span class=\"badge badge-light badge-pill\">Machine Learning</span>\n",
       "<span class=\"badge badge-light badge-pill\">ML models</span>\n",
       "<span class=\"badge badge-light badge-pill\">Python</span>\n",
       "<span class=\"badge badge-light badge-pill\">R</span>\n",
       "<span class=\"badge badge-light badge-pill\">SQL</span>\n",
       "<span class=\"badge badge-light badge-pill\">+1</span>\n",
       "<br/>\n",
       "<span class=\"badge badge-success badge-pill\">Career development</span>\n",
       "<span class=\"badge badge-success badge-pill\">Competitive pay</span>\n",
       "<span class=\"badge badge-success badge-pill\">Equity</span>\n",
       "<span class=\"badge badge-success badge-pill\">Flex hours</span>\n",
       "<span class=\"badge badge-success badge-pill\">Flex vacation</span>\n",
       "<span class=\"badge badge-success badge-pill\">+4</span>\n",
       "</a>\n",
       "</div>\n",
       "</div>\n",
       "<div class=\"list-group-item px-2 px-lg-3 py-0\">\n",
       "<div class=\"row\">\n",
       "<div class=\"col-2 col-sm-1 px-2 py-3\">\n",
       "<a href=\"/jobs-at-publicis-groupe/\" title=\"Show all open positions at Publicis Groupe\">\n",
       "<img alt=\"Publicis Groupe logo\" class=\"mx-auto my-1 d-block\" height=\"48\" loading=\"lazy\" src=\"/media/cache/a6/53/a653b278988cd1beaecb466acc29b1fc.jpg\" width=\"48\"/>\n",
       "</a>\n",
       "<div class=\"d-flex justify-content-center mt-3\">\n",
       "<a class=\"btn-direct-apply text-dark p-1\" href=\"/J30599/apply/\" id=\"30599\" rel=\"nofollow noopener\" target=\"_blank\" title=\"Apply for this job directly on Publicis Groupe's career site\"><i class=\"fas fa-edit\"></i></a>\n",
       "<a class=\"btn-direct-apply text-dark p-1\" href=\"/job/mark/30599/create/\" rel=\"nofollow\" title=\"Save this job for later application\"><i class=\"fas fa-list-ol\"></i></a>\n",
       "</div>\n",
       "</div>\n",
       "<a class=\"col list-group-item-action px-2 py-3\" href=\"/job/30599-data-analytics-assistant/\" title=\"View full details of `Data Analytics Assistant` vacancy\">\n",
       "<div class=\"float-right text-right d-inline-block w-25 ml-2\">\n",
       "<span class=\"d-block d-md-none text-break job-list-item-location\">Warszawa, Poland</span>\n",
       "<span class=\"d-none d-md-block text-break job-list-item-location\">Warszawa, Poland</span>\n",
       "<span class=\"badge badge-secondary badge-pill my-md-1\">Full Time</span>\n",
       "<div class=\"d-block\">\n",
       "<span class=\"badge badge-info badge-pill my-md-1 d-md-none\">Entry</span>\n",
       "<span class=\"badge badge-info badge-pill my-md-1 d-none d-md-inline-block\">Entry-level</span>\n",
       "</div>\n",
       "</div>\n",
       "<p class=\"m-0 text-muted job-list-item-company\">Publicis Groupe</p>\n",
       "<h2 class=\"h4 mb-1\">Data Analytics Assistant</h2>\n",
       "<span class=\"badge badge-light badge-pill\">Bitbucket</span>\n",
       "<span class=\"badge badge-light badge-pill\">Data Analytics</span>\n",
       "<span class=\"badge badge-light badge-pill\">Jira</span>\n",
       "<span class=\"badge badge-light badge-pill\">Machine Learning</span>\n",
       "<span class=\"badge badge-light badge-pill\">NumPy</span>\n",
       "<span class=\"badge badge-light badge-pill\">Pandas</span>\n",
       "<span class=\"badge badge-light badge-pill\">Python</span>\n",
       "<span class=\"badge badge-light badge-pill\">+4</span>\n",
       "<br/>\n",
       "</a>\n",
       "</div>\n",
       "</div>\n",
       "<div class=\"list-group-item px-2 px-lg-3 py-0\">\n",
       "<div class=\"row\">\n",
       "<div class=\"col-2 col-sm-1 px-2 py-3\">\n",
       "<a href=\"/jobs-at-publicis-groupe/\" title=\"Show all open positions at Publicis Groupe\">\n",
       "<img alt=\"Publicis Groupe logo\" class=\"mx-auto my-1 d-block\" height=\"48\" loading=\"lazy\" src=\"/media/cache/a6/53/a653b278988cd1beaecb466acc29b1fc.jpg\" width=\"48\"/>\n",
       "</a>\n",
       "<div class=\"d-flex justify-content-center mt-3\">\n",
       "<a class=\"btn-direct-apply text-dark p-1\" href=\"/J30602/apply/\" id=\"30602\" rel=\"nofollow noopener\" target=\"_blank\" title=\"Apply for this job directly on Publicis Groupe's career site\"><i class=\"fas fa-edit\"></i></a>\n",
       "<a class=\"btn-direct-apply text-dark p-1\" href=\"/job/mark/30602/create/\" rel=\"nofollow\" title=\"Save this job for later application\"><i class=\"fas fa-list-ol\"></i></a>\n",
       "</div>\n",
       "</div>\n",
       "<a class=\"col list-group-item-action px-2 py-3\" href=\"/job/30602-data-analyst-ta-4160/\" title=\"View full details of `Data Analyst (TA-4160)` vacancy\">\n",
       "<div class=\"float-right text-right d-inline-block w-25 ml-2\">\n",
       "<span class=\"d-block d-md-none text-break job-list-item-location\">Bogotá, Colombia</span>\n",
       "<span class=\"d-none d-md-block text-break job-list-item-location\">Bogotá, Colombia</span>\n",
       "<span class=\"badge badge-secondary badge-pill my-md-1\">Full Time</span>\n",
       "<div class=\"d-block\">\n",
       "<span class=\"badge badge-info badge-pill my-md-1 d-md-none\">Mid</span>\n",
       "<span class=\"badge badge-info badge-pill my-md-1 d-none d-md-inline-block\">Mid-level</span>\n",
       "</div>\n",
       "<div class=\"d-block\">\n",
       "<span class=\"badge badge-success badge-pill d-none d-md-inline-block\">USD 51K - 90K *</span>\n",
       "<span class=\"badge badge-success badge-pill d-md-none\">USD 51K+ *</span>\n",
       "</div>\n",
       "</div>\n",
       "<p class=\"m-0 text-muted job-list-item-company\">Publicis Groupe</p>\n",
       "<h2 class=\"h4 mb-1\">Data Analyst (TA-4160)</h2>\n",
       "<span class=\"badge badge-light badge-pill\">Business Intelligence</span>\n",
       "<span class=\"badge badge-light badge-pill\">Data Analytics</span>\n",
       "<span class=\"badge badge-light badge-pill\">Data management</span>\n",
       "<span class=\"badge badge-light badge-pill\">Data Studio</span>\n",
       "<span class=\"badge badge-light badge-pill\">Excel</span>\n",
       "<span class=\"badge badge-light badge-pill\">Power BI</span>\n",
       "<span class=\"badge badge-light badge-pill\">Tableau</span>\n",
       "<br/>\n",
       "<span class=\"badge badge-success badge-pill\">Career development</span>\n",
       "<span class=\"badge badge-success badge-pill\">Flex hours</span>\n",
       "<span class=\"badge badge-success badge-pill\">Team events</span>\n",
       "</a>\n",
       "</div>\n",
       "</div>\n",
       "<div class=\"list-group-item px-2 px-lg-3 py-0\">\n",
       "<div class=\"row\">\n",
       "<div class=\"col-2 col-sm-1 px-2 py-3\">\n",
       "<a href=\"/jobs-at-netcentric/\" title=\"Show all open positions at Netcentric\">\n",
       "<img alt=\"Netcentric logo\" class=\"mx-auto my-1 d-block\" height=\"48\" loading=\"lazy\" src=\"/media/cache/1c/39/1c396d55597a19bcfcefc6eb773f337e.jpg\" width=\"48\"/>\n",
       "</a>\n",
       "<div class=\"d-flex justify-content-center mt-3\">\n",
       "<a class=\"btn-direct-apply text-dark p-1\" href=\"/J30579/apply/\" id=\"30579\" rel=\"nofollow noopener\" target=\"_blank\" title=\"Apply for this job directly on Netcentric's career site\"><i class=\"fas fa-edit\"></i></a>\n",
       "<a class=\"btn-direct-apply text-dark p-1\" href=\"/job/mark/30579/create/\" rel=\"nofollow\" title=\"Save this job for later application\"><i class=\"fas fa-list-ol\"></i></a>\n",
       "</div>\n",
       "</div>\n",
       "<a class=\"col list-group-item-action px-2 py-3\" href=\"/job/30579-senior-digital-analytics-engineer/\" title=\"View full details of `(Senior) Digital Analytics Engineer` vacancy\">\n",
       "<div class=\"float-right text-right d-inline-block w-25 ml-2\">\n",
       "<span class=\"d-block d-md-none text-break job-list-item-location\">Munich, Germany</span>\n",
       "<span class=\"d-none d-md-block text-break job-list-item-location\">Munich, Germany</span>\n",
       "<span class=\"badge badge-secondary badge-pill my-md-1\">Full Time</span>\n",
       "<div class=\"d-block\">\n",
       "<span class=\"badge badge-info badge-pill my-md-1 d-md-none\">Senior</span>\n",
       "<span class=\"badge badge-info badge-pill my-md-1 d-none d-md-inline-block\">Senior-level</span>\n",
       "</div>\n",
       "</div>\n",
       "<p class=\"m-0 text-muted job-list-item-company\">Netcentric</p>\n",
       "<h2 class=\"h4 mb-1\">(Senior) Digital Analytics Engineer</h2>\n",
       "<span class=\"badge badge-light badge-pill\">A/B testing</span>\n",
       "<span class=\"badge badge-light badge-pill\">APIs</span>\n",
       "<span class=\"badge badge-light badge-pill\">Computer Science</span>\n",
       "<span class=\"badge badge-light badge-pill\">Engineering</span>\n",
       "<span class=\"badge badge-light badge-pill\">JavaScript</span>\n",
       "<span class=\"badge badge-light badge-pill\">Node.js</span>\n",
       "<span class=\"badge badge-light badge-pill\">React</span>\n",
       "<span class=\"badge badge-light badge-pill\">+1</span>\n",
       "<br/>\n",
       "<span class=\"badge badge-success badge-pill\">Career development</span>\n",
       "<span class=\"badge badge-success badge-pill\">Fitness / gym</span>\n",
       "<span class=\"badge badge-success badge-pill\">Flex hours</span>\n",
       "<span class=\"badge badge-success badge-pill\">Flex vacation</span>\n",
       "<span class=\"badge badge-success badge-pill\">Salary bonus</span>\n",
       "<span class=\"badge badge-success badge-pill\">+2</span>\n",
       "</a>\n",
       "</div>\n",
       "</div>\n",
       "<div class=\"list-group-item px-2 px-lg-3 py-0\">\n",
       "<div class=\"row\">\n",
       "<div class=\"col-2 col-sm-1 px-2 py-3\">\n",
       "<a href=\"/jobs-at-metiora/\" title=\"Show all open positions at Metiora\">\n",
       "<img alt=\"Metiora logo\" class=\"mx-auto my-1 d-block\" height=\"48\" loading=\"lazy\" src=\"/media/cache/d6/1d/d61d24fea34b8ebbab30345643e58fe2.jpg\" width=\"48\"/>\n",
       "</a>\n",
       "<div class=\"d-flex justify-content-center mt-3\">\n",
       "<a class=\"btn-direct-apply text-dark p-1\" href=\"/J30606/apply/\" id=\"30606\" rel=\"nofollow noopener\" target=\"_blank\" title=\"Apply for this job directly on Metiora's career site\"><i class=\"fas fa-edit\"></i></a>\n",
       "<a class=\"btn-direct-apply text-dark p-1\" href=\"/job/mark/30606/create/\" rel=\"nofollow\" title=\"Save this job for later application\"><i class=\"fas fa-list-ol\"></i></a>\n",
       "</div>\n",
       "</div>\n",
       "<a class=\"col list-group-item-action px-2 py-3\" href=\"/job/30606-junior-data-analyst/\" title=\"View full details of `Junior Data Analyst` vacancy\">\n",
       "<div class=\"float-right text-right d-inline-block w-25 ml-2\">\n",
       "<span class=\"d-block d-md-none text-break job-list-item-location\">Madrid, Spain</span>\n",
       "<span class=\"d-none d-md-block text-break job-list-item-location\">Madrid, Spain</span>\n",
       "<span class=\"badge badge-secondary badge-pill my-md-1\">Full Time</span>\n",
       "<div class=\"d-block\">\n",
       "<span class=\"badge badge-info badge-pill my-md-1 d-md-none\">Entry</span>\n",
       "<span class=\"badge badge-info badge-pill my-md-1 d-none d-md-inline-block\">Entry-level</span>\n",
       "</div>\n",
       "<div class=\"d-block\">\n",
       "<span class=\"badge badge-success badge-pill d-none d-md-inline-block\">USD 30K - 80K *</span>\n",
       "<span class=\"badge badge-success badge-pill d-md-none\">USD 30K+ *</span>\n",
       "</div>\n",
       "</div>\n",
       "<p class=\"m-0 text-muted job-list-item-company\">Metiora</p>\n",
       "<h2 class=\"h4 mb-1\">Junior Data Analyst</h2>\n",
       "<span class=\"badge badge-light badge-pill\">Consulting</span>\n",
       "<span class=\"badge badge-light badge-pill\">Data Analytics</span>\n",
       "<span class=\"badge badge-light badge-pill\">Django</span>\n",
       "<span class=\"badge badge-light badge-pill\">MongoDB</span>\n",
       "<span class=\"badge badge-light badge-pill\">Power BI</span>\n",
       "<span class=\"badge badge-light badge-pill\">Python</span>\n",
       "<span class=\"badge badge-light badge-pill\">Qlik</span>\n",
       "<span class=\"badge badge-light badge-pill\">+2</span>\n",
       "<br/>\n",
       "</a>\n",
       "</div>\n",
       "</div>\n",
       "<div class=\"list-group-item px-2 px-lg-3 py-0\">\n",
       "<div class=\"row\">\n",
       "<div class=\"col-2 col-sm-1 px-2 py-3\">\n",
       "<a href=\"/jobs-at-netcentric/\" title=\"Show all open positions at Netcentric\">\n",
       "<img alt=\"Netcentric logo\" class=\"mx-auto my-1 d-block\" height=\"48\" loading=\"lazy\" src=\"/media/cache/1c/39/1c396d55597a19bcfcefc6eb773f337e.jpg\" width=\"48\"/>\n",
       "</a>\n",
       "<div class=\"d-flex justify-content-center mt-3\">\n",
       "<a class=\"btn-direct-apply text-dark p-1\" href=\"/J30601/apply/\" id=\"30601\" rel=\"nofollow noopener\" target=\"_blank\" title=\"Apply for this job directly on Netcentric's career site\"><i class=\"fas fa-edit\"></i></a>\n",
       "<a class=\"btn-direct-apply text-dark p-1\" href=\"/job/mark/30601/create/\" rel=\"nofollow\" title=\"Save this job for later application\"><i class=\"fas fa-list-ol\"></i></a>\n",
       "</div>\n",
       "</div>\n",
       "<a class=\"col list-group-item-action px-2 py-3\" href=\"/job/30601-data-analyst/\" title=\"View full details of `Data Analyst` vacancy\">\n",
       "<div class=\"float-right text-right d-inline-block w-25 ml-2\">\n",
       "<span class=\"d-block d-md-none text-break job-list-item-location\">Madrid, Spain</span>\n",
       "<span class=\"d-none d-md-block text-break job-list-item-location\">Madrid, Spain</span>\n",
       "<span class=\"badge badge-secondary badge-pill my-md-1\">Full Time</span>\n",
       "<div class=\"d-block\">\n",
       "<span class=\"badge badge-info badge-pill my-md-1 d-md-none\">Senior</span>\n",
       "<span class=\"badge badge-info badge-pill my-md-1 d-none d-md-inline-block\">Senior-level</span>\n",
       "</div>\n",
       "<div class=\"d-block\">\n",
       "<span class=\"badge badge-success badge-pill d-none d-md-inline-block\">USD 46K - 85K *</span>\n",
       "<span class=\"badge badge-success badge-pill d-md-none\">USD 46K+ *</span>\n",
       "</div>\n",
       "</div>\n",
       "<p class=\"m-0 text-muted job-list-item-company\">Netcentric</p>\n",
       "<h2 class=\"h4 mb-1\">Data Analyst</h2>\n",
       "<span class=\"badge badge-light badge-pill\">Big Data</span>\n",
       "<span class=\"badge badge-light badge-pill\">Data management</span>\n",
       "<span class=\"badge badge-light badge-pill\">GCP</span>\n",
       "<span class=\"badge badge-light badge-pill\">Google Cloud</span>\n",
       "<span class=\"badge badge-light badge-pill\">Looker</span>\n",
       "<span class=\"badge badge-light badge-pill\">Python</span>\n",
       "<br/>\n",
       "<span class=\"badge badge-success badge-pill\">Fitness / gym</span>\n",
       "<span class=\"badge badge-success badge-pill\">Flex hours</span>\n",
       "<span class=\"badge badge-success badge-pill\">Flex vacation</span>\n",
       "<span class=\"badge badge-success badge-pill\">Health care</span>\n",
       "<span class=\"badge badge-success badge-pill\">Salary bonus</span>\n",
       "<span class=\"badge badge-success badge-pill\">+1</span>\n",
       "</a>\n",
       "</div>\n",
       "</div>\n",
       "<div class=\"list-group-item px-2 px-lg-3 py-0\">\n",
       "<div class=\"row\">\n",
       "<div class=\"col-2 col-sm-1 px-2 py-3\">\n",
       "<a href=\"/jobs-at-wealthsimple/\" title=\"Show all open positions at Wealthsimple\">\n",
       "<img alt=\"Wealthsimple logo\" class=\"mx-auto my-1 d-block\" height=\"48\" loading=\"lazy\" src=\"/media/cache/25/3c/253c56c1df64a0c478aeaa34493d41fa.jpg\" width=\"48\"/>\n",
       "</a>\n",
       "<div class=\"d-flex justify-content-center mt-3\">\n",
       "<a class=\"btn-direct-apply text-dark p-1\" href=\"/J30441/apply/\" id=\"30441\" rel=\"nofollow noopener\" target=\"_blank\" title=\"Apply for this job directly on Wealthsimple's career site\"><i class=\"fas fa-edit\"></i></a>\n",
       "<a class=\"btn-direct-apply text-dark p-1\" href=\"/job/mark/30441/create/\" rel=\"nofollow\" title=\"Save this job for later application\"><i class=\"fas fa-list-ol\"></i></a>\n",
       "</div>\n",
       "</div>\n",
       "<a class=\"col list-group-item-action px-2 py-3\" href=\"/job/30441-senior-security-analytics-engineer/\" title=\"View full details of `Senior Security Analytics Engineer` vacancy\">\n",
       "<div class=\"float-right text-right d-inline-block w-25 ml-2\">\n",
       "<span class=\"d-block d-md-none text-break job-list-item-location\">Toronto or Remote (Canada)</span>\n",
       "<span class=\"d-none d-md-block text-break job-list-item-location\">Toronto or Remote (Canada)</span>\n",
       "<span class=\"badge badge-secondary badge-pill my-md-1\">Full Time</span>\n",
       "<div class=\"d-block\">\n",
       "<span class=\"badge badge-info badge-pill my-md-1 d-md-none\">Senior</span>\n",
       "<span class=\"badge badge-info badge-pill my-md-1 d-none d-md-inline-block\">Senior-level</span>\n",
       "</div>\n",
       "</div>\n",
       "<p class=\"m-0 text-muted job-list-item-company\">Wealthsimple</p>\n",
       "<h2 class=\"h4 mb-1\">Senior Security Analytics Engineer</h2>\n",
       "<span class=\"badge badge-light badge-pill\">A/B testing</span>\n",
       "<span class=\"badge badge-light badge-pill\">AWS</span>\n",
       "<span class=\"badge badge-light badge-pill\">Engineering</span>\n",
       "<span class=\"badge badge-light badge-pill\">NoSQL</span>\n",
       "<span class=\"badge badge-light badge-pill\">Security</span>\n",
       "<span class=\"badge badge-light badge-pill\">SQL</span>\n",
       "<span class=\"badge badge-light badge-pill\">Streaming</span>\n",
       "<span class=\"badge badge-light badge-pill\">+1</span>\n",
       "<br/>\n",
       "<span class=\"badge badge-success badge-pill\">Career development</span>\n",
       "<span class=\"badge badge-success badge-pill\">Startup environment</span>\n",
       "</a>\n",
       "</div>\n",
       "</div>\n",
       "<div class=\"list-group-item px-2 px-lg-3 py-0\">\n",
       "<div class=\"row\">\n",
       "<div class=\"col-2 col-sm-1 px-2 py-3\">\n",
       "<a href=\"/jobs-at-dun-bradstreet/\" title=\"Show all open positions at Dun &amp; Bradstreet\">\n",
       "<img alt=\"Dun &amp; Bradstreet logo\" class=\"mx-auto my-1 d-block\" height=\"48\" loading=\"lazy\" src=\"/media/cache/79/1f/791f113499af900224eb6ad8a5d96e19.jpg\" width=\"48\"/>\n",
       "</a>\n",
       "<div class=\"d-flex justify-content-center mt-3\">\n",
       "<a class=\"btn-direct-apply text-dark p-1\" href=\"/J30423/apply/\" id=\"30423\" rel=\"nofollow noopener\" target=\"_blank\" title=\"Apply for this job directly on Dun &amp; Bradstreet's career site\"><i class=\"fas fa-edit\"></i></a>\n",
       "<a class=\"btn-direct-apply text-dark p-1\" href=\"/job/mark/30423/create/\" rel=\"nofollow\" title=\"Save this job for later application\"><i class=\"fas fa-list-ol\"></i></a>\n",
       "</div>\n",
       "</div>\n",
       "<a class=\"col list-group-item-action px-2 py-3\" href=\"/job/30423-data-operations-analyst-ii_r-13146/\" title=\"View full details of `Data Operations Analyst II_R-13146` vacancy\">\n",
       "<div class=\"float-right text-right d-inline-block w-25 ml-2\">\n",
       "<span class=\"d-block d-md-none text-break job-list-item-location\">Dublin - Ireland</span>\n",
       "<span class=\"d-none d-md-block text-break job-list-item-location\">Dublin - Ireland</span>\n",
       "<span class=\"badge badge-secondary badge-pill my-md-1\">Full Time</span>\n",
       "<div class=\"d-block\">\n",
       "<span class=\"badge badge-info badge-pill my-md-1 d-md-none\">Mid</span>\n",
       "<span class=\"badge badge-info badge-pill my-md-1 d-none d-md-inline-block\">Mid-level</span>\n",
       "</div>\n",
       "</div>\n",
       "<p class=\"m-0 text-muted job-list-item-company\">Dun &amp; Bradstreet</p>\n",
       "<h2 class=\"h4 mb-1\">Data Operations Analyst II_R-13146</h2>\n",
       "<span class=\"badge badge-light badge-pill\">Agile</span>\n",
       "<span class=\"badge badge-light badge-pill\">AWS</span>\n",
       "<span class=\"badge badge-light badge-pill\">Computer Science</span>\n",
       "<span class=\"badge badge-light badge-pill\">Data analysis</span>\n",
       "<span class=\"badge badge-light badge-pill\">Data management</span>\n",
       "<span class=\"badge badge-light badge-pill\">Data visualization</span>\n",
       "<span class=\"badge badge-light badge-pill\">GCP</span>\n",
       "<span class=\"badge badge-light badge-pill\">+9</span>\n",
       "<br/>\n",
       "<span class=\"badge badge-success badge-pill\">Team events</span>\n",
       "</a>\n",
       "</div>\n",
       "</div>\n",
       "<div class=\"list-group-item px-2 px-lg-3 py-0\">\n",
       "<div class=\"row\">\n",
       "<div class=\"col-2 col-sm-1 px-2 py-3\">\n",
       "<a href=\"/jobs-at-hike/\" title=\"Show all open positions at Hike\">\n",
       "<img alt=\"Hike logo\" class=\"mx-auto my-1 d-block\" height=\"48\" loading=\"lazy\" src=\"/media/cache/23/97/2397c81f88a3f78198cc2c91ca65c648.jpg\" width=\"48\"/>\n",
       "</a>\n",
       "<div class=\"d-flex justify-content-center mt-3\">\n",
       "<a class=\"btn-direct-apply text-dark p-1\" href=\"/J30502/apply/\" id=\"30502\" rel=\"nofollow noopener\" target=\"_blank\" title=\"Apply for this job directly on Hike's career site\"><i class=\"fas fa-edit\"></i></a>\n",
       "<a class=\"btn-direct-apply text-dark p-1\" href=\"/job/mark/30502/create/\" rel=\"nofollow\" title=\"Save this job for later application\"><i class=\"fas fa-list-ol\"></i></a>\n",
       "</div>\n",
       "</div>\n",
       "<a class=\"col list-group-item-action px-2 py-3\" href=\"/job/30502-data-analyst-full-time-remote/\" title=\"View full details of `Data Analyst (Full Time, Remote)` vacancy\">\n",
       "<div class=\"float-right text-right d-inline-block w-25 ml-2\">\n",
       "<span class=\"d-block d-md-none text-break job-list-item-location\">Delhi, India - Remote</span>\n",
       "<span class=\"d-none d-md-block text-break job-list-item-location\">Delhi, India - Remote</span>\n",
       "<span class=\"badge badge-secondary badge-pill my-md-1\">Full Time</span>\n",
       "<div class=\"d-block\">\n",
       "<span class=\"badge badge-info badge-pill my-md-1 d-md-none\">Mid</span>\n",
       "<span class=\"badge badge-info badge-pill my-md-1 d-none d-md-inline-block\">Mid-level</span>\n",
       "</div>\n",
       "<div class=\"d-block\">\n",
       "<span class=\"badge badge-success badge-pill d-none d-md-inline-block\">USD 51K - 90K *</span>\n",
       "<span class=\"badge badge-success badge-pill d-md-none\">USD 51K+ *</span>\n",
       "</div>\n",
       "</div>\n",
       "<p class=\"m-0 text-muted job-list-item-company\">Hike</p>\n",
       "<h2 class=\"h4 mb-1\">Data Analyst (Full Time, Remote)</h2>\n",
       "<span class=\"badge badge-light badge-pill\">Data analysis</span>\n",
       "<span class=\"badge badge-light badge-pill\">Data visualization</span>\n",
       "<span class=\"badge badge-light badge-pill\">Engineering</span>\n",
       "<span class=\"badge badge-light badge-pill\">Python</span>\n",
       "<span class=\"badge badge-light badge-pill\">SQL</span>\n",
       "<span class=\"badge badge-light badge-pill\">Statistics</span>\n",
       "<span class=\"badge badge-light badge-pill\">Tableau</span>\n",
       "<br/>\n",
       "</a>\n",
       "</div>\n",
       "</div>\n",
       "<div class=\"list-group-item px-2 px-lg-3 py-0\">\n",
       "<div class=\"row\">\n",
       "<div class=\"col-2 col-sm-1 px-2 py-3\">\n",
       "<a href=\"/jobs-at-trusting-social/\" title=\"Show all open positions at Trusting Social\">\n",
       "<img alt=\"Trusting Social logo\" class=\"mx-auto my-1 d-block\" height=\"48\" loading=\"lazy\" src=\"/media/cache/bf/c3/bfc32f67a72ee5dbb7fe022213ce7187.jpg\" width=\"48\"/>\n",
       "</a>\n",
       "<div class=\"d-flex justify-content-center mt-3\">\n",
       "<a class=\"btn-direct-apply text-dark p-1\" href=\"/J30487/apply/\" id=\"30487\" rel=\"nofollow noopener\" target=\"_blank\" title=\"Apply for this job directly on Trusting Social's career site\"><i class=\"fas fa-edit\"></i></a>\n",
       "<a class=\"btn-direct-apply text-dark p-1\" href=\"/job/mark/30487/create/\" rel=\"nofollow\" title=\"Save this job for later application\"><i class=\"fas fa-list-ol\"></i></a>\n",
       "</div>\n",
       "</div>\n",
       "<a class=\"col list-group-item-action px-2 py-3\" href=\"/job/30487-data-analytics-manager-fintech/\" title=\"View full details of `Data Analytics Manager - Fintech` vacancy\">\n",
       "<div class=\"float-right text-right d-inline-block w-25 ml-2\">\n",
       "<span class=\"d-block d-md-none text-break job-list-item-location\">Ho Chi Minh City, …</span>\n",
       "<span class=\"d-none d-md-block text-break job-list-item-location\">Ho Chi Minh City, Ho Chi Minh …</span>\n",
       "<span class=\"badge badge-secondary badge-pill my-md-1\">Full Time</span>\n",
       "<div class=\"d-block\">\n",
       "<span class=\"badge badge-info badge-pill my-md-1 d-md-none\">Executive</span>\n",
       "<span class=\"badge badge-info badge-pill my-md-1 d-none d-md-inline-block\">Executive-level</span>\n",
       "</div>\n",
       "</div>\n",
       "<p class=\"m-0 text-muted job-list-item-company\">Trusting Social</p>\n",
       "<h2 class=\"h4 mb-1\">Data Analytics Manager - Fintech</h2>\n",
       "<span class=\"badge badge-light badge-pill\">Banking</span>\n",
       "<span class=\"badge badge-light badge-pill\">Big Data</span>\n",
       "<span class=\"badge badge-light badge-pill\">Consulting</span>\n",
       "<span class=\"badge badge-light badge-pill\">Data Analytics</span>\n",
       "<span class=\"badge badge-light badge-pill\">FinTech</span>\n",
       "<br/>\n",
       "<span class=\"badge badge-success badge-pill\">Career development</span>\n",
       "<span class=\"badge badge-success badge-pill\">Competitive pay</span>\n",
       "<span class=\"badge badge-success badge-pill\">Startup environment</span>\n",
       "</a>\n",
       "</div>\n",
       "</div>\n",
       "<div class=\"list-group-item px-2 px-lg-3 py-0\">\n",
       "<div class=\"row\">\n",
       "<div class=\"col-2 col-sm-1 px-2 py-3\">\n",
       "<a href=\"/jobs-at-cit/\" title=\"Show all open positions at CI&amp;T\">\n",
       "<img alt=\"CI&amp;T logo\" class=\"mx-auto my-1 d-block\" height=\"48\" loading=\"lazy\" src=\"/media/cache/b5/77/b577ff940774b3f080e3474357474902.jpg\" width=\"48\"/>\n",
       "</a>\n",
       "<div class=\"d-flex justify-content-center mt-3\">\n",
       "<a class=\"btn-direct-apply text-dark p-1\" href=\"/J30491/apply/\" id=\"30491\" rel=\"nofollow noopener\" target=\"_blank\" title=\"Apply for this job directly on CI&amp;T's career site\"><i class=\"fas fa-edit\"></i></a>\n",
       "<a class=\"btn-direct-apply text-dark p-1\" href=\"/job/mark/30491/create/\" rel=\"nofollow\" title=\"Save this job for later application\"><i class=\"fas fa-list-ol\"></i></a>\n",
       "</div>\n",
       "</div>\n",
       "<a class=\"col list-group-item-action px-2 py-3\" href=\"/job/30491-job-8858-data-analyst-mid-level/\" title=\"View full details of `[Job-8858] Data Analyst Mid Level` vacancy\">\n",
       "<div class=\"float-right text-right d-inline-block w-25 ml-2\">\n",
       "<span class=\"d-block d-md-none text-break job-list-item-location\">Brazil</span>\n",
       "<span class=\"d-none d-md-block text-break job-list-item-location\">Brazil</span>\n",
       "<span class=\"badge badge-secondary badge-pill my-md-1\">Full Time</span>\n",
       "<div class=\"d-block\">\n",
       "<span class=\"badge badge-info badge-pill my-md-1 d-md-none\">Mid</span>\n",
       "<span class=\"badge badge-info badge-pill my-md-1 d-none d-md-inline-block\">Mid-level</span>\n",
       "</div>\n",
       "<div class=\"d-block\">\n",
       "<span class=\"badge badge-success badge-pill d-none d-md-inline-block\">USD 51K - 90K *</span>\n",
       "<span class=\"badge badge-success badge-pill d-md-none\">USD 51K+ *</span>\n",
       "</div>\n",
       "</div>\n",
       "<p class=\"m-0 text-muted job-list-item-company\">CI&amp;T</p>\n",
       "<h2 class=\"h4 mb-1\">[Job-8858] Data Analyst Mid Level</h2>\n",
       "<span class=\"badge badge-light badge-pill\">Data management</span>\n",
       "<span class=\"badge badge-light badge-pill\">Engineering</span>\n",
       "<span class=\"badge badge-light badge-pill\">Excel</span>\n",
       "<span class=\"badge badge-light badge-pill\">Research</span>\n",
       "<br/>\n",
       "<span class=\"badge badge-success badge-pill\">Startup environment</span>\n",
       "</a>\n",
       "</div>\n",
       "</div>\n",
       "<div class=\"list-group-item px-2 px-lg-3 py-0\">\n",
       "<div class=\"row\">\n",
       "<div class=\"col-2 col-sm-1 px-2 py-3\">\n",
       "<a href=\"/jobs-at-oscar/\" title=\"Show all open positions at Oscar\">\n",
       "<img alt=\"Oscar logo\" class=\"mx-auto my-1 d-block\" height=\"48\" loading=\"lazy\" src=\"/media/cache/ef/c1/efc15f88249ac9b509d8732cfca0cea2.jpg\" width=\"48\"/>\n",
       "</a>\n",
       "<div class=\"d-flex justify-content-center mt-3\">\n",
       "<a class=\"btn-direct-apply text-dark p-1\" href=\"/J30433/apply/\" id=\"30433\" rel=\"nofollow noopener\" target=\"_blank\" title=\"Apply for this job directly on Oscar's career site\"><i class=\"fas fa-edit\"></i></a>\n",
       "<a class=\"btn-direct-apply text-dark p-1\" href=\"/job/mark/30433/create/\" rel=\"nofollow\" title=\"Save this job for later application\"><i class=\"fas fa-list-ol\"></i></a>\n",
       "</div>\n",
       "</div>\n",
       "<a class=\"col list-group-item-action px-2 py-3\" href=\"/job/30433-data-scientist-i-risk-analytics/\" title=\"View full details of `Data Scientist I, Risk Analytics` vacancy\">\n",
       "<div class=\"float-right text-right d-inline-block w-25 ml-2\">\n",
       "<span class=\"d-block d-md-none text-break job-list-item-location\">United States</span>\n",
       "<span class=\"d-none d-md-block text-break job-list-item-location\">United States</span>\n",
       "<span class=\"badge badge-secondary badge-pill my-md-1\">Full Time</span>\n",
       "<div class=\"d-block\">\n",
       "<span class=\"badge badge-info badge-pill my-md-1 d-md-none\">Mid</span>\n",
       "<span class=\"badge badge-info badge-pill my-md-1 d-none d-md-inline-block\">Mid-level</span>\n",
       "</div>\n",
       "<div class=\"d-block\">\n",
       "<span class=\"badge badge-success badge-pill d-none d-md-inline-block\">USD 115K - 144K</span>\n",
       "<span class=\"badge badge-success badge-pill d-md-none\">USD 115K+</span>\n",
       "</div>\n",
       "</div>\n",
       "<p class=\"m-0 text-muted job-list-item-company\">Oscar</p>\n",
       "<h2 class=\"h4 mb-1\">Data Scientist I, Risk Analytics</h2>\n",
       "<span class=\"badge badge-light badge-pill\">Economics</span>\n",
       "<span class=\"badge badge-light badge-pill\">Python</span>\n",
       "<span class=\"badge badge-light badge-pill\">SQL</span>\n",
       "<span class=\"badge badge-light badge-pill\">Statistics</span>\n",
       "<br/>\n",
       "<span class=\"badge badge-success badge-pill\">Equity</span>\n",
       "<span class=\"badge badge-success badge-pill\">Health care</span>\n",
       "<span class=\"badge badge-success badge-pill\">Insurance</span>\n",
       "<span class=\"badge badge-success badge-pill\">Medical leave</span>\n",
       "<span class=\"badge badge-success badge-pill\">Parental leave</span>\n",
       "<span class=\"badge badge-success badge-pill\">+3</span>\n",
       "</a>\n",
       "</div>\n",
       "</div>\n",
       "<div class=\"list-group-item px-2 px-lg-3 py-0\">\n",
       "<div class=\"row\">\n",
       "<div class=\"col-2 col-sm-1 px-2 py-3\">\n",
       "<a href=\"/jobs-at-visa/\" title=\"Show all open positions at Visa\">\n",
       "<img alt=\"Visa logo\" class=\"mx-auto my-1 d-block\" height=\"48\" loading=\"lazy\" src=\"/media/cache/e6/27/e627d409d52ccd3453ce2d0439dc59d6.jpg\" width=\"48\"/>\n",
       "</a>\n",
       "<div class=\"d-flex justify-content-center mt-3\">\n",
       "<a class=\"btn-direct-apply text-dark p-1\" href=\"/J30522/apply/\" id=\"30522\" rel=\"nofollow noopener\" target=\"_blank\" title=\"Apply for this job directly on Visa's career site\"><i class=\"fas fa-edit\"></i></a>\n",
       "<a class=\"btn-direct-apply text-dark p-1\" href=\"/job/mark/30522/create/\" rel=\"nofollow\" title=\"Save this job for later application\"><i class=\"fas fa-list-ol\"></i></a>\n",
       "</div>\n",
       "</div>\n",
       "<a class=\"col list-group-item-action px-2 py-3\" href=\"/job/30522-staff-data-engineer-analytics/\" title=\"View full details of `Staff Data Engineer – Analytics` vacancy\">\n",
       "<div class=\"float-right text-right d-inline-block w-25 ml-2\">\n",
       "<span class=\"d-block d-md-none text-break job-list-item-location\">Bengaluru, India</span>\n",
       "<span class=\"d-none d-md-block text-break job-list-item-location\">Bengaluru, India</span>\n",
       "<span class=\"badge badge-secondary badge-pill my-md-1\">Full Time</span>\n",
       "<div class=\"d-block\">\n",
       "<span class=\"badge badge-info badge-pill my-md-1 d-md-none\">Senior</span>\n",
       "<span class=\"badge badge-info badge-pill my-md-1 d-none d-md-inline-block\">Senior-level</span>\n",
       "</div>\n",
       "<div class=\"d-block\">\n",
       "<span class=\"badge badge-success badge-pill d-none d-md-inline-block\">USD 76K - 150K *</span>\n",
       "<span class=\"badge badge-success badge-pill d-md-none\">USD 76K+ *</span>\n",
       "</div>\n",
       "</div>\n",
       "<p class=\"m-0 text-muted job-list-item-company\">Visa</p>\n",
       "<h2 class=\"h4 mb-1\">Staff Data Engineer – Analytics</h2>\n",
       "<span class=\"badge badge-light badge-pill\">Azure</span>\n",
       "<span class=\"badge badge-light badge-pill\">Business Intelligence</span>\n",
       "<span class=\"badge badge-light badge-pill\">Data analysis</span>\n",
       "<span class=\"badge badge-light badge-pill\">Data Mining</span>\n",
       "<span class=\"badge badge-light badge-pill\">Data pipelines</span>\n",
       "<span class=\"badge badge-light badge-pill\">Data visualization</span>\n",
       "<span class=\"badge badge-light badge-pill\">Engineering</span>\n",
       "<span class=\"badge badge-light badge-pill\">+9</span>\n",
       "<br/>\n",
       "<span class=\"badge badge-success badge-pill\">Career development</span>\n",
       "<span class=\"badge badge-success badge-pill\">Flex hours</span>\n",
       "</a>\n",
       "</div>\n",
       "</div>\n",
       "<div class=\"list-group-item px-2 px-lg-3 py-0\">\n",
       "<div class=\"row\">\n",
       "<div class=\"col-2 col-sm-1 px-2 py-3\">\n",
       "<a href=\"/jobs-at-mercedes-benz-rd-north-america/\" title=\"Show all open positions at Mercedes-Benz R&amp;D North America\">\n",
       "<img alt=\"Mercedes-Benz R&amp;D North America logo\" class=\"mx-auto my-1 d-block\" height=\"48\" loading=\"lazy\" src=\"/media/cache/58/7c/587c5c79d2a9292a54ea3a85a652985c.jpg\" width=\"48\"/>\n",
       "</a>\n",
       "<div class=\"d-flex justify-content-center mt-3\">\n",
       "<a class=\"btn-direct-apply text-dark p-1\" href=\"/J30490/apply/\" id=\"30490\" rel=\"nofollow noopener\" target=\"_blank\" title=\"Apply for this job directly on Mercedes-Benz R&amp;D North America's career site\"><i class=\"fas fa-edit\"></i></a>\n",
       "<a class=\"btn-direct-apply text-dark p-1\" href=\"/job/mark/30490/create/\" rel=\"nofollow\" title=\"Save this job for later application\"><i class=\"fas fa-list-ol\"></i></a>\n",
       "</div>\n",
       "</div>\n",
       "<a class=\"col list-group-item-action px-2 py-3\" href=\"/job/30490-automated-driving-and-advanced-driver-assistance-data-analyst-contract/\" title=\"View full details of `Automated Driving and Advanced Driver Assistance Data Analyst (Contract)` vacancy\">\n",
       "<div class=\"float-right text-right d-inline-block w-25 ml-2\">\n",
       "<span class=\"d-block d-md-none text-break job-list-item-location\">Long Beach, CA</span>\n",
       "<span class=\"d-none d-md-block text-break job-list-item-location\">Long Beach, CA</span>\n",
       "<span class=\"badge badge-secondary badge-pill my-md-1\">Full Time</span>\n",
       "<span class=\"badge badge-secondary badge-pill my-md-1\">Contract</span>\n",
       "<div class=\"d-block\">\n",
       "<span class=\"badge badge-info badge-pill my-md-1 d-md-none\">Senior</span>\n",
       "<span class=\"badge badge-info badge-pill my-md-1 d-none d-md-inline-block\">Senior-level</span>\n",
       "</div>\n",
       "<div class=\"d-block\">\n",
       "<span class=\"badge badge-success badge-pill d-none d-md-inline-block\">USD 46K - 85K *</span>\n",
       "<span class=\"badge badge-success badge-pill d-md-none\">USD 46K+ *</span>\n",
       "</div>\n",
       "</div>\n",
       "<p class=\"m-0 text-muted job-list-item-company\">Mercedes-Benz R&amp;D North America</p>\n",
       "<h2 class=\"h4 mb-1\">Automated Driving and Advanced Driver Assistance Data Analyst (Contract)</h2>\n",
       "<span class=\"badge badge-light badge-pill\">ANN</span>\n",
       "<span class=\"badge badge-light badge-pill\">Autonomous Driving</span>\n",
       "<span class=\"badge badge-light badge-pill\">Engineering</span>\n",
       "<span class=\"badge badge-light badge-pill\">Machine Learning</span>\n",
       "<span class=\"badge badge-light badge-pill\">R&amp;D</span>\n",
       "<span class=\"badge badge-light badge-pill\">Research</span>\n",
       "<span class=\"badge badge-light badge-pill\">Testing</span>\n",
       "<br/>\n",
       "<span class=\"badge badge-success badge-pill\">401(k) matching</span>\n",
       "<span class=\"badge badge-success badge-pill\">Career development</span>\n",
       "<span class=\"badge badge-success badge-pill\">Fitness / gym</span>\n",
       "<span class=\"badge badge-success badge-pill\">Health care</span>\n",
       "<span class=\"badge badge-success badge-pill\">Team events</span>\n",
       "</a>\n",
       "</div>\n",
       "</div>\n",
       "<div class=\"list-group-item px-2 px-lg-3 py-0\">\n",
       "<div class=\"row\">\n",
       "<div class=\"col-2 col-sm-1 px-2 py-3\">\n",
       "<a href=\"/jobs-at-peloton/\" title=\"Show all open positions at Peloton\">\n",
       "<img alt=\"Peloton logo\" class=\"mx-auto my-1 d-block\" height=\"48\" loading=\"lazy\" src=\"/media/cache/25/b0/25b00beb4223a9de5298ba466c1d0cf5.jpg\" width=\"48\"/>\n",
       "</a>\n",
       "<div class=\"d-flex justify-content-center mt-3\">\n",
       "<a class=\"btn-direct-apply text-dark p-1\" href=\"/J30493/apply/\" id=\"30493\" rel=\"nofollow noopener\" target=\"_blank\" title=\"Apply for this job directly on Peloton's career site\"><i class=\"fas fa-edit\"></i></a>\n",
       "<a class=\"btn-direct-apply text-dark p-1\" href=\"/job/mark/30493/create/\" rel=\"nofollow\" title=\"Save this job for later application\"><i class=\"fas fa-list-ol\"></i></a>\n",
       "</div>\n",
       "</div>\n",
       "<a class=\"col list-group-item-action px-2 py-3\" href=\"/job/30493-data-analyst/\" title=\"View full details of `Data Analyst` vacancy\">\n",
       "<div class=\"float-right text-right d-inline-block w-25 ml-2\">\n",
       "<span class=\"d-block d-md-none text-break job-list-item-location\">New York City</span>\n",
       "<span class=\"d-none d-md-block text-break job-list-item-location\">New York City</span>\n",
       "<span class=\"badge badge-secondary badge-pill my-md-1\">Full Time</span>\n",
       "<div class=\"d-block\">\n",
       "<span class=\"badge badge-info badge-pill my-md-1 d-md-none\">Senior</span>\n",
       "<span class=\"badge badge-info badge-pill my-md-1 d-none d-md-inline-block\">Senior-level</span>\n",
       "</div>\n",
       "<div class=\"d-block\">\n",
       "<span class=\"badge badge-success badge-pill d-none d-md-inline-block\">USD 46K - 85K *</span>\n",
       "<span class=\"badge badge-success badge-pill d-md-none\">USD 46K+ *</span>\n",
       "</div>\n",
       "</div>\n",
       "<p class=\"m-0 text-muted job-list-item-company\">Peloton</p>\n",
       "<h2 class=\"h4 mb-1\">Data Analyst</h2>\n",
       "<span class=\"badge badge-light badge-pill\">Consulting</span>\n",
       "<span class=\"badge badge-light badge-pill\">Data analysis</span>\n",
       "<span class=\"badge badge-light badge-pill\">E-commerce</span>\n",
       "<span class=\"badge badge-light badge-pill\">Excel</span>\n",
       "<span class=\"badge badge-light badge-pill\">KPIs</span>\n",
       "<span class=\"badge badge-light badge-pill\">Looker</span>\n",
       "<span class=\"badge badge-light badge-pill\">Power BI</span>\n",
       "<span class=\"badge badge-light badge-pill\">+4</span>\n",
       "<br/>\n",
       "<span class=\"badge badge-success badge-pill\">Flex hours</span>\n",
       "<span class=\"badge badge-success badge-pill\">Startup environment</span>\n",
       "<span class=\"badge badge-success badge-pill\">Team events</span>\n",
       "</a>\n",
       "</div>\n",
       "</div>\n",
       "<div class=\"list-group-item px-2 px-lg-3 py-0\">\n",
       "<div class=\"row\">\n",
       "<div class=\"col-2 col-sm-1 px-2 py-3\">\n",
       "<a href=\"/jobs-at-6sense-insights-inc/\" title=\"Show all open positions at 6sense Insights, Inc.\">\n",
       "<img alt=\"6sense Insights, Inc. logo\" class=\"mx-auto my-1 d-block\" height=\"48\" loading=\"lazy\" src=\"/media/cache/3b/58/3b58249cf8addc78fee1f3234a14e46f.jpg\" width=\"48\"/>\n",
       "</a>\n",
       "<div class=\"d-flex justify-content-center mt-3\">\n",
       "<a class=\"btn-direct-apply text-dark p-1\" href=\"/J30497/apply/\" id=\"30497\" rel=\"nofollow noopener\" target=\"_blank\" title=\"Apply for this job directly on 6sense Insights, Inc.'s career site\"><i class=\"fas fa-edit\"></i></a>\n",
       "<a class=\"btn-direct-apply text-dark p-1\" href=\"/job/mark/30497/create/\" rel=\"nofollow\" title=\"Save this job for later application\"><i class=\"fas fa-list-ol\"></i></a>\n",
       "</div>\n",
       "</div>\n",
       "<a class=\"col list-group-item-action px-2 py-3\" href=\"/job/30497-people-data-analyst/\" title=\"View full details of `People Data Analyst` vacancy\">\n",
       "<div class=\"float-right text-right d-inline-block w-25 ml-2\">\n",
       "<span class=\"d-block d-md-none text-break job-list-item-location\">Costa Rica, Limón, Costa …</span>\n",
       "<span class=\"d-none d-md-block text-break job-list-item-location\">Costa Rica, Limón, Costa Rica</span>\n",
       "<span class=\"badge badge-secondary badge-pill my-md-1\">Full Time</span>\n",
       "<div class=\"d-block\">\n",
       "<span class=\"badge badge-success badge-pill d-none d-md-inline-block\">USD 46K - 85K *</span>\n",
       "<span class=\"badge badge-success badge-pill d-md-none\">USD 46K+ *</span>\n",
       "</div>\n",
       "</div>\n",
       "<p class=\"m-0 text-muted job-list-item-company\">6sense Insights, Inc.</p>\n",
       "<h2 class=\"h4 mb-1\">People Data Analyst</h2>\n",
       "<span class=\"badge badge-light badge-pill\">Data Analytics</span>\n",
       "<span class=\"badge badge-light badge-pill\">Data visualization</span>\n",
       "<span class=\"badge badge-light badge-pill\">Excel</span>\n",
       "<span class=\"badge badge-light badge-pill\">R</span>\n",
       "<span class=\"badge badge-light badge-pill\">Tableau</span>\n",
       "<span class=\"badge badge-light badge-pill\">Testing</span>\n",
       "<br/>\n",
       "<span class=\"badge badge-success badge-pill\">Gear</span>\n",
       "<span class=\"badge badge-success badge-pill\">Health care</span>\n",
       "<span class=\"badge badge-success badge-pill\">Home office stipend</span>\n",
       "<span class=\"badge badge-success badge-pill\">Medical leave</span>\n",
       "<span class=\"badge badge-success badge-pill\">Parental leave</span>\n",
       "<span class=\"badge badge-success badge-pill\">+1</span>\n",
       "</a>\n",
       "</div>\n",
       "</div>\n",
       "<div class=\"list-group-item px-2 px-lg-3 py-0\">\n",
       "<div class=\"row\">\n",
       "<div class=\"col-2 col-sm-1 px-2 py-3\">\n",
       "<a href=\"/jobs-at-cit/\" title=\"Show all open positions at CI&amp;T\">\n",
       "<img alt=\"CI&amp;T logo\" class=\"mx-auto my-1 d-block\" height=\"48\" loading=\"lazy\" src=\"/media/cache/b5/77/b577ff940774b3f080e3474357474902.jpg\" width=\"48\"/>\n",
       "</a>\n",
       "<div class=\"d-flex justify-content-center mt-3\">\n",
       "<a class=\"btn-direct-apply text-dark p-1\" href=\"/J30488/apply/\" id=\"30488\" rel=\"nofollow noopener\" target=\"_blank\" title=\"Apply for this job directly on CI&amp;T's career site\"><i class=\"fas fa-edit\"></i></a>\n",
       "<a class=\"btn-direct-apply text-dark p-1\" href=\"/job/mark/30488/create/\" rel=\"nofollow\" title=\"Save this job for later application\"><i class=\"fas fa-list-ol\"></i></a>\n",
       "</div>\n",
       "</div>\n",
       "<a class=\"col list-group-item-action px-2 py-3\" href=\"/job/30488-job-8869-data-analytics-specialist-senior/\" title=\"View full details of `[Job-8869] Data Analytics Specialist Senior` vacancy\">\n",
       "<div class=\"float-right text-right d-inline-block w-25 ml-2\">\n",
       "<span class=\"d-block d-md-none text-break job-list-item-location\">Brazil</span>\n",
       "<span class=\"d-none d-md-block text-break job-list-item-location\">Brazil</span>\n",
       "<span class=\"badge badge-secondary badge-pill my-md-1\">Full Time</span>\n",
       "<div class=\"d-block\">\n",
       "<span class=\"badge badge-info badge-pill my-md-1 d-md-none\">Senior</span>\n",
       "<span class=\"badge badge-info badge-pill my-md-1 d-none d-md-inline-block\">Senior-level</span>\n",
       "</div>\n",
       "</div>\n",
       "<p class=\"m-0 text-muted job-list-item-company\">CI&amp;T</p>\n",
       "<h2 class=\"h4 mb-1\">[Job-8869] Data Analytics Specialist Senior</h2>\n",
       "<span class=\"badge badge-light badge-pill\">Data Analytics</span>\n",
       "<span class=\"badge badge-light badge-pill\">Data Studio</span>\n",
       "<span class=\"badge badge-light badge-pill\">JavaScript</span>\n",
       "<span class=\"badge badge-light badge-pill\">Kanban</span>\n",
       "<span class=\"badge badge-light badge-pill\">Python</span>\n",
       "<span class=\"badge badge-light badge-pill\">Scrum</span>\n",
       "<br/>\n",
       "</a>\n",
       "</div>\n",
       "</div>\n",
       "<div class=\"list-group-item px-2 px-lg-3 py-0\">\n",
       "<div class=\"row\">\n",
       "<div class=\"col-2 col-sm-1 px-2 py-3\">\n",
       "<a href=\"/jobs-at-parkoursc/\" title=\"Show all open positions at ParkourSC\">\n",
       "<img alt=\"ParkourSC logo\" class=\"mx-auto my-1 d-block\" height=\"48\" loading=\"lazy\" src=\"/media/cache/2e/23/2e233879aa03e8953af91ae15158be5b.jpg\" width=\"48\"/>\n",
       "</a>\n",
       "<div class=\"d-flex justify-content-center mt-3\">\n",
       "<a class=\"btn-direct-apply text-dark p-1\" href=\"/J30500/apply/\" id=\"30500\" rel=\"nofollow noopener\" target=\"_blank\" title=\"Apply for this job directly on ParkourSC's career site\"><i class=\"fas fa-edit\"></i></a>\n",
       "<a class=\"btn-direct-apply text-dark p-1\" href=\"/job/mark/30500/create/\" rel=\"nofollow\" title=\"Save this job for later application\"><i class=\"fas fa-list-ol\"></i></a>\n",
       "</div>\n",
       "</div>\n",
       "<a class=\"col list-group-item-action px-2 py-3\" href=\"/job/30500-bi-engineer-data-analyst/\" title=\"View full details of `BI Engineer/ Data Analyst` vacancy\">\n",
       "<div class=\"float-right text-right d-inline-block w-25 ml-2\">\n",
       "<span class=\"d-block d-md-none text-break job-list-item-location\">Belgrade (Hybrid)</span>\n",
       "<span class=\"d-none d-md-block text-break job-list-item-location\">Belgrade (Hybrid)</span>\n",
       "<span class=\"badge badge-secondary badge-pill my-md-1\">Full Time</span>\n",
       "<div class=\"d-block\">\n",
       "<span class=\"badge badge-info badge-pill my-md-1 d-md-none\">Senior</span>\n",
       "<span class=\"badge badge-info badge-pill my-md-1 d-none d-md-inline-block\">Senior-level</span>\n",
       "</div>\n",
       "<div class=\"d-block\">\n",
       "<span class=\"badge badge-success badge-pill d-none d-md-inline-block\">USD 46K - 85K *</span>\n",
       "<span class=\"badge badge-success badge-pill d-md-none\">USD 46K+ *</span>\n",
       "</div>\n",
       "</div>\n",
       "<p class=\"m-0 text-muted job-list-item-company\">ParkourSC</p>\n",
       "<h2 class=\"h4 mb-1\">BI Engineer/ Data Analyst</h2>\n",
       "<span class=\"badge badge-light badge-pill\">Data Warehousing</span>\n",
       "<span class=\"badge badge-light badge-pill\">Engineering</span>\n",
       "<span class=\"badge badge-light badge-pill\">Machine Learning</span>\n",
       "<span class=\"badge badge-light badge-pill\">Power BI</span>\n",
       "<span class=\"badge badge-light badge-pill\">Research</span>\n",
       "<span class=\"badge badge-light badge-pill\">SQL</span>\n",
       "<span class=\"badge badge-light badge-pill\">Tableau</span>\n",
       "<br/>\n",
       "<span class=\"badge badge-success badge-pill\">Career development</span>\n",
       "<span class=\"badge badge-success badge-pill\">Startup environment</span>\n",
       "</a>\n",
       "</div>\n",
       "</div>\n",
       "<div class=\"list-group-item px-2 px-lg-3 py-0\">\n",
       "<div class=\"row\">\n",
       "<div class=\"col-2 col-sm-1 px-2 py-3\">\n",
       "<a href=\"/jobs-at-agriaku/\" title=\"Show all open positions at Agriaku\">\n",
       "<img alt=\"Agriaku logo\" class=\"mx-auto my-1 d-block\" height=\"48\" loading=\"lazy\" src=\"/media/cache/b5/21/b5210a37235eb2d5bd201c3cf90544fe.jpg\" width=\"48\"/>\n",
       "</a>\n",
       "<div class=\"d-flex justify-content-center mt-3\">\n",
       "<a class=\"btn-direct-apply text-dark p-1\" href=\"/J30513/apply/\" id=\"30513\" rel=\"nofollow noopener\" target=\"_blank\" title=\"Apply for this job directly on Agriaku's career site\"><i class=\"fas fa-edit\"></i></a>\n",
       "<a class=\"btn-direct-apply text-dark p-1\" href=\"/job/mark/30513/create/\" rel=\"nofollow\" title=\"Save this job for later application\"><i class=\"fas fa-list-ol\"></i></a>\n",
       "</div>\n",
       "</div>\n",
       "<a class=\"col list-group-item-action px-2 py-3\" href=\"/job/30513-senior-data-analyst/\" title=\"View full details of `Senior Data Analyst` vacancy\">\n",
       "<div class=\"float-right text-right d-inline-block w-25 ml-2\">\n",
       "<span class=\"d-block d-md-none text-break job-list-item-location\">Jakarta, Indonesia</span>\n",
       "<span class=\"d-none d-md-block text-break job-list-item-location\">Jakarta, Indonesia</span>\n",
       "<span class=\"badge badge-secondary badge-pill my-md-1\">Full Time</span>\n",
       "<div class=\"d-block\">\n",
       "<span class=\"badge badge-info badge-pill my-md-1 d-md-none\">Senior</span>\n",
       "<span class=\"badge badge-info badge-pill my-md-1 d-none d-md-inline-block\">Senior-level</span>\n",
       "</div>\n",
       "<div class=\"d-block\">\n",
       "<span class=\"badge badge-success badge-pill d-none d-md-inline-block\">USD 46K - 85K *</span>\n",
       "<span class=\"badge badge-success badge-pill d-md-none\">USD 46K+ *</span>\n",
       "</div>\n",
       "</div>\n",
       "<p class=\"m-0 text-muted job-list-item-company\">Agriaku</p>\n",
       "<h2 class=\"h4 mb-1\">Senior Data Analyst</h2>\n",
       "<span class=\"badge badge-light badge-pill\">Computer Science</span>\n",
       "<span class=\"badge badge-light badge-pill\">Data Studio</span>\n",
       "<span class=\"badge badge-light badge-pill\">Data visualization</span>\n",
       "<span class=\"badge badge-light badge-pill\">Looker</span>\n",
       "<span class=\"badge badge-light badge-pill\">Mathematics</span>\n",
       "<span class=\"badge badge-light badge-pill\">Metabase</span>\n",
       "<span class=\"badge badge-light badge-pill\">SQL</span>\n",
       "<span class=\"badge badge-light badge-pill\">+1</span>\n",
       "<br/>\n",
       "</a>\n",
       "</div>\n",
       "</div>\n",
       "<div class=\"list-group-item px-2 px-lg-3 py-0\">\n",
       "<div class=\"row\">\n",
       "<div class=\"col-2 col-sm-1 px-2 py-3\">\n",
       "<a href=\"/jobs-at-moonpig/\" title=\"Show all open positions at Moonpig\">\n",
       "<img alt=\"Moonpig logo\" class=\"mx-auto my-1 d-block\" height=\"48\" loading=\"lazy\" src=\"/media/cache/4b/52/4b526c413dcbeba65777fdcfb3af7fc5.jpg\" width=\"48\"/>\n",
       "</a>\n",
       "<div class=\"d-flex justify-content-center mt-3\">\n",
       "<a class=\"btn-direct-apply text-dark p-1\" href=\"/J30499/apply/\" id=\"30499\" rel=\"nofollow noopener\" target=\"_blank\" title=\"Apply for this job directly on Moonpig's career site\"><i class=\"fas fa-edit\"></i></a>\n",
       "<a class=\"btn-direct-apply text-dark p-1\" href=\"/job/mark/30499/create/\" rel=\"nofollow\" title=\"Save this job for later application\"><i class=\"fas fa-list-ol\"></i></a>\n",
       "</div>\n",
       "</div>\n",
       "<a class=\"col list-group-item-action px-2 py-3\" href=\"/job/30499-people-data-analyst/\" title=\"View full details of `People Data Analyst` vacancy\">\n",
       "<div class=\"float-right text-right d-inline-block w-25 ml-2\">\n",
       "<span class=\"d-block d-md-none text-break job-list-item-location\">Amsterdam, London, or Manchester …</span>\n",
       "<span class=\"d-none d-md-block text-break job-list-item-location\">Amsterdam, London, or Manchester (Hybrid)</span>\n",
       "<span class=\"badge badge-secondary badge-pill my-md-1\">Full Time</span>\n",
       "<div class=\"d-block\">\n",
       "<span class=\"badge badge-info badge-pill my-md-1 d-md-none\">Senior</span>\n",
       "<span class=\"badge badge-info badge-pill my-md-1 d-none d-md-inline-block\">Senior-level</span>\n",
       "</div>\n",
       "<div class=\"d-block\">\n",
       "<span class=\"badge badge-success badge-pill d-none d-md-inline-block\">USD 46K - 85K *</span>\n",
       "<span class=\"badge badge-success badge-pill d-md-none\">USD 46K+ *</span>\n",
       "</div>\n",
       "</div>\n",
       "<p class=\"m-0 text-muted job-list-item-company\">Moonpig</p>\n",
       "<h2 class=\"h4 mb-1\">People Data Analyst</h2>\n",
       "<span class=\"badge badge-light badge-pill\">Data analysis</span>\n",
       "<span class=\"badge badge-light badge-pill\">Excel</span>\n",
       "<span class=\"badge badge-light badge-pill\">Market research</span>\n",
       "<span class=\"badge badge-light badge-pill\">Research</span>\n",
       "<span class=\"badge badge-light badge-pill\">Tableau</span>\n",
       "<br/>\n",
       "<span class=\"badge badge-success badge-pill\">Competitive pay</span>\n",
       "<span class=\"badge badge-success badge-pill\">Equity</span>\n",
       "</a>\n",
       "</div>\n",
       "</div>\n",
       "<div class=\"list-group-item px-2 px-lg-3 py-0\">\n",
       "<div class=\"row\">\n",
       "<div class=\"col-2 col-sm-1 px-2 py-3\">\n",
       "<a href=\"/jobs-at-carerev/\" title=\"Show all open positions at CareRev\">\n",
       "<img alt=\"CareRev logo\" class=\"mx-auto my-1 d-block\" height=\"48\" loading=\"lazy\" src=\"/media/cache/76/b8/76b8b5e2469c7caad53bf976bd201582.jpg\" width=\"48\"/>\n",
       "</a>\n",
       "<div class=\"d-flex justify-content-center mt-3\">\n",
       "<a class=\"btn-direct-apply text-dark p-1\" href=\"/J30494/apply/\" id=\"30494\" rel=\"nofollow noopener\" target=\"_blank\" title=\"Apply for this job directly on CareRev's career site\"><i class=\"fas fa-edit\"></i></a>\n",
       "<a class=\"btn-direct-apply text-dark p-1\" href=\"/job/mark/30494/create/\" rel=\"nofollow\" title=\"Save this job for later application\"><i class=\"fas fa-list-ol\"></i></a>\n",
       "</div>\n",
       "</div>\n",
       "<a class=\"col list-group-item-action px-2 py-3\" href=\"/job/30494-senior-data-analyst/\" title=\"View full details of `Senior Data Analyst` vacancy\">\n",
       "<div class=\"float-right text-right d-inline-block w-25 ml-2\">\n",
       "<span class=\"d-block d-md-none text-break job-list-item-location\">Remote- United States</span>\n",
       "<span class=\"d-none d-md-block text-break job-list-item-location\">Remote- United States</span>\n",
       "<span class=\"badge badge-secondary badge-pill my-md-1\">Full Time</span>\n",
       "<div class=\"d-block\">\n",
       "<span class=\"badge badge-info badge-pill my-md-1 d-md-none\">Senior</span>\n",
       "<span class=\"badge badge-info badge-pill my-md-1 d-none d-md-inline-block\">Senior-level</span>\n",
       "</div>\n",
       "<div class=\"d-block\">\n",
       "<span class=\"badge badge-success badge-pill d-none d-md-inline-block\">USD 46K - 85K *</span>\n",
       "<span class=\"badge badge-success badge-pill d-md-none\">USD 46K+ *</span>\n",
       "</div>\n",
       "</div>\n",
       "<p class=\"m-0 text-muted job-list-item-company\">CareRev</p>\n",
       "<h2 class=\"h4 mb-1\">Senior Data Analyst</h2>\n",
       "<span class=\"badge badge-light badge-pill\">A/B testing</span>\n",
       "<span class=\"badge badge-light badge-pill\">Agile</span>\n",
       "<span class=\"badge badge-light badge-pill\">Amplitude</span>\n",
       "<span class=\"badge badge-light badge-pill\">Finance</span>\n",
       "<span class=\"badge badge-light badge-pill\">Kanban</span>\n",
       "<span class=\"badge badge-light badge-pill\">React</span>\n",
       "<span class=\"badge badge-light badge-pill\">Scrum</span>\n",
       "<span class=\"badge badge-light badge-pill\">+3</span>\n",
       "<br/>\n",
       "<span class=\"badge badge-success badge-pill\">401(k) matching</span>\n",
       "<span class=\"badge badge-success badge-pill\">Career development</span>\n",
       "<span class=\"badge badge-success badge-pill\">Flex hours</span>\n",
       "<span class=\"badge badge-success badge-pill\">Flex vacation</span>\n",
       "<span class=\"badge badge-success badge-pill\">Gear</span>\n",
       "<span class=\"badge badge-success badge-pill\">+6</span>\n",
       "</a>\n",
       "</div>\n",
       "</div>\n",
       "<div class=\"list-group-item px-2 px-lg-3 py-0\">\n",
       "<div class=\"row\">\n",
       "<div class=\"col-2 col-sm-1 px-2 py-3\">\n",
       "<a href=\"/jobs-at-mediamonks/\" title=\"Show all open positions at Media.Monks\">\n",
       "<img alt=\"Media.Monks logo\" class=\"mx-auto my-1 d-block\" height=\"48\" loading=\"lazy\" src=\"/media/cache/51/f9/51f93020398428700fb9197db374eca0.jpg\" width=\"48\"/>\n",
       "</a>\n",
       "<div class=\"d-flex justify-content-center mt-3\">\n",
       "<a class=\"btn-direct-apply text-dark p-1\" href=\"/J30505/apply/\" id=\"30505\" rel=\"nofollow noopener\" target=\"_blank\" title=\"Apply for this job directly on Media.Monks's career site\"><i class=\"fas fa-edit\"></i></a>\n",
       "<a class=\"btn-direct-apply text-dark p-1\" href=\"/job/mark/30505/create/\" rel=\"nofollow\" title=\"Save this job for later application\"><i class=\"fas fa-list-ol\"></i></a>\n",
       "</div>\n",
       "</div>\n",
       "<a class=\"col list-group-item-action px-2 py-3\" href=\"/job/30505-digital-data-analyst-freelance/\" title=\"View full details of `Digital Data Analyst - Freelance` vacancy\">\n",
       "<div class=\"float-right text-right d-inline-block w-25 ml-2\">\n",
       "<span class=\"d-block d-md-none text-break job-list-item-location\">Indonesia</span>\n",
       "<span class=\"d-none d-md-block text-break job-list-item-location\">Indonesia</span>\n",
       "<span class=\"badge badge-secondary badge-pill my-md-1\">Full Time</span>\n",
       "<span class=\"badge badge-secondary badge-pill my-md-1\">Freelance</span>\n",
       "<div class=\"d-block\">\n",
       "<span class=\"badge badge-success badge-pill d-none d-md-inline-block\">USD 46K - 85K *</span>\n",
       "<span class=\"badge badge-success badge-pill d-md-none\">USD 46K+ *</span>\n",
       "</div>\n",
       "</div>\n",
       "<p class=\"m-0 text-muted job-list-item-company\">Media.Monks</p>\n",
       "<h2 class=\"h4 mb-1\">Digital Data Analyst - Freelance</h2>\n",
       "<span class=\"badge badge-light badge-pill\">Data Analytics</span>\n",
       "<br/>\n",
       "<span class=\"badge badge-success badge-pill\">Startup environment</span>\n",
       "</a>\n",
       "</div>\n",
       "</div>\n",
       "<div class=\"list-group-item px-2 px-lg-3 py-0\">\n",
       "<div class=\"row\">\n",
       "<div class=\"col-2 col-sm-1 px-2 py-3\">\n",
       "<a href=\"/jobs-at-3cloud/\" title=\"Show all open positions at 3Cloud\">\n",
       "<img alt=\"3Cloud logo\" class=\"mx-auto my-1 d-block\" height=\"48\" loading=\"lazy\" src=\"/media/cache/88/53/885356ef4f7f3b7b877c64fe4ca5c329.jpg\" width=\"48\"/>\n",
       "</a>\n",
       "<div class=\"d-flex justify-content-center mt-3\">\n",
       "<a class=\"btn-direct-apply text-dark p-1\" href=\"/J30426/apply/\" id=\"30426\" rel=\"nofollow noopener\" target=\"_blank\" title=\"Apply for this job directly on 3Cloud's career site\"><i class=\"fas fa-edit\"></i></a>\n",
       "<a class=\"btn-direct-apply text-dark p-1\" href=\"/job/mark/30426/create/\" rel=\"nofollow\" title=\"Save this job for later application\"><i class=\"fas fa-list-ol\"></i></a>\n",
       "</div>\n",
       "</div>\n",
       "<a class=\"col list-group-item-action px-2 py-3\" href=\"/job/30426-project-manager-data-analytics/\" title=\"View full details of `Project Manager - Data &amp; Analytics` vacancy\">\n",
       "<div class=\"float-right text-right d-inline-block w-25 ml-2\">\n",
       "<span class=\"d-block d-md-none text-break job-list-item-location\">Remote</span>\n",
       "<span class=\"d-none d-md-block text-break job-list-item-location\">Remote</span>\n",
       "<span class=\"badge badge-secondary badge-pill my-md-1\">Full Time</span>\n",
       "<div class=\"d-block\">\n",
       "<span class=\"badge badge-info badge-pill my-md-1 d-md-none\">Senior</span>\n",
       "<span class=\"badge badge-info badge-pill my-md-1 d-none d-md-inline-block\">Senior-level</span>\n",
       "</div>\n",
       "</div>\n",
       "<p class=\"m-0 text-muted job-list-item-company\">3Cloud</p>\n",
       "<h2 class=\"h4 mb-1\">Project Manager - Data &amp; Analytics</h2>\n",
       "<span class=\"badge badge-light badge-pill\">Agile</span>\n",
       "<span class=\"badge badge-light badge-pill\">Azure</span>\n",
       "<span class=\"badge badge-light badge-pill\">Consulting</span>\n",
       "<span class=\"badge badge-light badge-pill\">DevOps</span>\n",
       "<span class=\"badge badge-light badge-pill\">Scrum</span>\n",
       "<br/>\n",
       "</a>\n",
       "</div>\n",
       "</div>\n",
       "<div class=\"list-group-item px-2 px-lg-3 py-0\">\n",
       "<div class=\"row\">\n",
       "<div class=\"col-2 col-sm-1 px-2 py-3\">\n",
       "<a href=\"/jobs-at-disqo/\" title=\"Show all open positions at DISQO\">\n",
       "<img alt=\"DISQO logo\" class=\"mx-auto my-1 d-block\" height=\"48\" loading=\"lazy\" src=\"/media/cache/6b/3e/6b3eb2b2df5304955fc9655abc7bb3d6.jpg\" width=\"48\"/>\n",
       "</a>\n",
       "<div class=\"d-flex justify-content-center mt-3\">\n",
       "<a class=\"btn-direct-apply text-dark p-1\" href=\"/J30486/apply/\" id=\"30486\" rel=\"nofollow noopener\" target=\"_blank\" title=\"Apply for this job directly on DISQO's career site\"><i class=\"fas fa-edit\"></i></a>\n",
       "<a class=\"btn-direct-apply text-dark p-1\" href=\"/job/mark/30486/create/\" rel=\"nofollow\" title=\"Save this job for later application\"><i class=\"fas fa-list-ol\"></i></a>\n",
       "</div>\n",
       "</div>\n",
       "<a class=\"col list-group-item-action px-2 py-3\" href=\"/job/30486-data-analyst/\" title=\"View full details of `Data Analyst` vacancy\">\n",
       "<div class=\"float-right text-right d-inline-block w-25 ml-2\">\n",
       "<span class=\"d-block d-md-none text-break job-list-item-location\">Glendale, CA</span>\n",
       "<span class=\"d-none d-md-block text-break job-list-item-location\">Glendale, CA</span>\n",
       "<span class=\"badge badge-secondary badge-pill my-md-1\">Full Time</span>\n",
       "<div class=\"d-block\">\n",
       "<span class=\"badge badge-info badge-pill my-md-1 d-md-none\">Mid</span>\n",
       "<span class=\"badge badge-info badge-pill my-md-1 d-none d-md-inline-block\">Mid-level</span>\n",
       "</div>\n",
       "<div class=\"d-block\">\n",
       "<span class=\"badge badge-success badge-pill d-none d-md-inline-block\">USD 51K - 90K *</span>\n",
       "<span class=\"badge badge-success badge-pill d-md-none\">USD 51K+ *</span>\n",
       "</div>\n",
       "</div>\n",
       "<p class=\"m-0 text-muted job-list-item-company\">DISQO</p>\n",
       "<h2 class=\"h4 mb-1\">Data Analyst</h2>\n",
       "<span class=\"badge badge-light badge-pill\">Agile</span>\n",
       "<span class=\"badge badge-light badge-pill\">Business Analytics</span>\n",
       "<span class=\"badge badge-light badge-pill\">Business Intelligence</span>\n",
       "<span class=\"badge badge-light badge-pill\">CX</span>\n",
       "<span class=\"badge badge-light badge-pill\">Data Analytics</span>\n",
       "<span class=\"badge badge-light badge-pill\">Data visualization</span>\n",
       "<span class=\"badge badge-light badge-pill\">Machine Learning</span>\n",
       "<span class=\"badge badge-light badge-pill\">+8</span>\n",
       "<br/>\n",
       "<span class=\"badge badge-success badge-pill\">Career development</span>\n",
       "<span class=\"badge badge-success badge-pill\">Competitive pay</span>\n",
       "<span class=\"badge badge-success badge-pill\">Health care</span>\n",
       "<span class=\"badge badge-success badge-pill\">Parental leave</span>\n",
       "<span class=\"badge badge-success badge-pill\">Startup environment</span>\n",
       "</a>\n",
       "</div>\n",
       "</div>\n",
       "<div class=\"list-group-item px-2 px-lg-3 py-0\">\n",
       "<div class=\"row\">\n",
       "<div class=\"col-2 col-sm-1 px-2 py-3\">\n",
       "<a href=\"/jobs-at-wayfair-inc/\" title=\"Show all open positions at Wayfair Inc.\">\n",
       "<img alt=\"Wayfair Inc. logo\" class=\"mx-auto my-1 d-block\" height=\"48\" loading=\"lazy\" src=\"/media/cache/41/fc/41fc855fc34414e1134f1663ab662d69.jpg\" width=\"48\"/>\n",
       "</a>\n",
       "<div class=\"d-flex justify-content-center mt-3\">\n",
       "<a class=\"btn-direct-apply text-dark p-1\" href=\"/J30495/apply/\" id=\"30495\" rel=\"nofollow noopener\" target=\"_blank\" title=\"Apply for this job directly on Wayfair Inc.'s career site\"><i class=\"fas fa-edit\"></i></a>\n",
       "<a class=\"btn-direct-apply text-dark p-1\" href=\"/job/mark/30495/create/\" rel=\"nofollow\" title=\"Save this job for later application\"><i class=\"fas fa-list-ol\"></i></a>\n",
       "</div>\n",
       "</div>\n",
       "<a class=\"col list-group-item-action px-2 py-3\" href=\"/job/30495-senior-data-analyst-paid-social/\" title=\"View full details of `Senior Data Analyst-Paid Social` vacancy\">\n",
       "<div class=\"float-right text-right d-inline-block w-25 ml-2\">\n",
       "<span class=\"d-block d-md-none text-break job-list-item-location\">Boston, MA</span>\n",
       "<span class=\"d-none d-md-block text-break job-list-item-location\">Boston, MA</span>\n",
       "<span class=\"badge badge-secondary badge-pill my-md-1\">Full Time</span>\n",
       "<div class=\"d-block\">\n",
       "<span class=\"badge badge-info badge-pill my-md-1 d-md-none\">Senior</span>\n",
       "<span class=\"badge badge-info badge-pill my-md-1 d-none d-md-inline-block\">Senior-level</span>\n",
       "</div>\n",
       "<div class=\"d-block\">\n",
       "<span class=\"badge badge-success badge-pill d-none d-md-inline-block\">USD 46K - 85K *</span>\n",
       "<span class=\"badge badge-success badge-pill d-md-none\">USD 46K+ *</span>\n",
       "</div>\n",
       "</div>\n",
       "<p class=\"m-0 text-muted job-list-item-company\">Wayfair Inc.</p>\n",
       "<h2 class=\"h4 mb-1\">Senior Data Analyst-Paid Social</h2>\n",
       "<span class=\"badge badge-light badge-pill\">Business Intelligence</span>\n",
       "<span class=\"badge badge-light badge-pill\">Consulting</span>\n",
       "<span class=\"badge badge-light badge-pill\">Engineering</span>\n",
       "<span class=\"badge badge-light badge-pill\">Finance</span>\n",
       "<span class=\"badge badge-light badge-pill\">React</span>\n",
       "<br/>\n",
       "<span class=\"badge badge-success badge-pill\">Career development</span>\n",
       "<span class=\"badge badge-success badge-pill\">Startup environment</span>\n",
       "</a>\n",
       "</div>\n",
       "</div>\n",
       "<div class=\"list-group-item px-2 px-lg-3 py-0\">\n",
       "<div class=\"row\">\n",
       "<div class=\"col-2 col-sm-1 px-2 py-3\">\n",
       "<a href=\"/jobs-at-ginkgo-bioworks/\" title=\"Show all open positions at Ginkgo Bioworks\">\n",
       "<img alt=\"Ginkgo Bioworks logo\" class=\"mx-auto my-1 d-block\" height=\"48\" loading=\"lazy\" src=\"/media/cache/89/54/895499bb7f47109a81d6a0e582a3ec43.jpg\" width=\"48\"/>\n",
       "</a>\n",
       "<div class=\"d-flex justify-content-center mt-3\">\n",
       "<a class=\"btn-direct-apply text-dark p-1\" href=\"/J30492/apply/\" id=\"30492\" rel=\"nofollow noopener\" target=\"_blank\" title=\"Apply for this job directly on Ginkgo Bioworks's career site\"><i class=\"fas fa-edit\"></i></a>\n",
       "<a class=\"btn-direct-apply text-dark p-1\" href=\"/job/mark/30492/create/\" rel=\"nofollow\" title=\"Save this job for later application\"><i class=\"fas fa-list-ol\"></i></a>\n",
       "</div>\n",
       "</div>\n",
       "<a class=\"col list-group-item-action px-2 py-3\" href=\"/job/30492-data-analyst/\" title=\"View full details of `Data Analyst` vacancy\">\n",
       "<div class=\"float-right text-right d-inline-block w-25 ml-2\">\n",
       "<span class=\"d-block d-md-none text-break job-list-item-location\">Remote</span>\n",
       "<span class=\"d-none d-md-block text-break job-list-item-location\">Remote</span>\n",
       "<span class=\"badge badge-secondary badge-pill my-md-1\">Full Time</span>\n",
       "<div class=\"d-block\">\n",
       "<span class=\"badge badge-info badge-pill my-md-1 d-md-none\">Senior</span>\n",
       "<span class=\"badge badge-info badge-pill my-md-1 d-none d-md-inline-block\">Senior-level</span>\n",
       "</div>\n",
       "<div class=\"d-block\">\n",
       "<span class=\"badge badge-success badge-pill d-none d-md-inline-block\">USD 46K - 85K *</span>\n",
       "<span class=\"badge badge-success badge-pill d-md-none\">USD 46K+ *</span>\n",
       "</div>\n",
       "</div>\n",
       "<p class=\"m-0 text-muted job-list-item-company\">Ginkgo Bioworks</p>\n",
       "<h2 class=\"h4 mb-1\">Data Analyst</h2>\n",
       "<span class=\"badge badge-light badge-pill\">Agile</span>\n",
       "<span class=\"badge badge-light badge-pill\">AWS</span>\n",
       "<span class=\"badge badge-light badge-pill\">Biology</span>\n",
       "<span class=\"badge badge-light badge-pill\">Data analysis</span>\n",
       "<span class=\"badge badge-light badge-pill\">Data Analytics</span>\n",
       "<span class=\"badge badge-light badge-pill\">Data visualization</span>\n",
       "<span class=\"badge badge-light badge-pill\">Docker</span>\n",
       "<span class=\"badge badge-light badge-pill\">+15</span>\n",
       "<br/>\n",
       "<span class=\"badge badge-success badge-pill\">Startup environment</span>\n",
       "</a>\n",
       "</div>\n",
       "</div>\n",
       "<div class=\"list-group-item px-2 px-lg-3 py-0\">\n",
       "<div class=\"row\">\n",
       "<div class=\"col-2 col-sm-1 px-2 py-3\">\n",
       "<a href=\"/jobs-at-lumanity/\" title=\"Show all open positions at Lumanity\">\n",
       "<img alt=\"Lumanity logo\" class=\"mx-auto my-1 d-block\" height=\"48\" loading=\"lazy\" src=\"/media/cache/7c/44/7c447df327c6fac124086a2c7082c1f4.jpg\" width=\"48\"/>\n",
       "</a>\n",
       "<div class=\"d-flex justify-content-center mt-3\">\n",
       "<a class=\"btn-direct-apply text-dark p-1\" href=\"/J30503/apply/\" id=\"30503\" rel=\"nofollow noopener\" target=\"_blank\" title=\"Apply for this job directly on Lumanity's career site\"><i class=\"fas fa-edit\"></i></a>\n",
       "<a class=\"btn-direct-apply text-dark p-1\" href=\"/job/mark/30503/create/\" rel=\"nofollow\" title=\"Save this job for later application\"><i class=\"fas fa-list-ol\"></i></a>\n",
       "</div>\n",
       "</div>\n",
       "<a class=\"col list-group-item-action px-2 py-3\" href=\"/job/30503-data-analyst-real-world-evidence/\" title=\"View full details of `Data Analyst-Real World Evidence` vacancy\">\n",
       "<div class=\"float-right text-right d-inline-block w-25 ml-2\">\n",
       "<span class=\"d-block d-md-none text-break job-list-item-location\">Las Vegas, Nevada, United …</span>\n",
       "<span class=\"d-none d-md-block text-break job-list-item-location\">Las Vegas, Nevada, United States - Remote</span>\n",
       "<span class=\"badge badge-secondary badge-pill my-md-1\">Full Time</span>\n",
       "<div class=\"d-block\">\n",
       "<span class=\"badge badge-info badge-pill my-md-1 d-md-none\">Mid</span>\n",
       "<span class=\"badge badge-info badge-pill my-md-1 d-none d-md-inline-block\">Mid-level</span>\n",
       "</div>\n",
       "<div class=\"d-block\">\n",
       "<span class=\"badge badge-success badge-pill d-none d-md-inline-block\">USD 51K - 90K *</span>\n",
       "<span class=\"badge badge-success badge-pill d-md-none\">USD 51K+ *</span>\n",
       "</div>\n",
       "</div>\n",
       "<p class=\"m-0 text-muted job-list-item-company\">Lumanity</p>\n",
       "<h2 class=\"h4 mb-1\">Data Analyst-Real World Evidence</h2>\n",
       "<span class=\"badge badge-light badge-pill\">Computer Science</span>\n",
       "<span class=\"badge badge-light badge-pill\">Consulting</span>\n",
       "<span class=\"badge badge-light badge-pill\">Data Analytics</span>\n",
       "<span class=\"badge badge-light badge-pill\">Data Mining</span>\n",
       "<span class=\"badge badge-light badge-pill\">Economics</span>\n",
       "<span class=\"badge badge-light badge-pill\">ETL</span>\n",
       "<span class=\"badge badge-light badge-pill\">Excel</span>\n",
       "<span class=\"badge badge-light badge-pill\">+7</span>\n",
       "<br/>\n",
       "<span class=\"badge badge-success badge-pill\">Competitive pay</span>\n",
       "<span class=\"badge badge-success badge-pill\">Health care</span>\n",
       "<span class=\"badge badge-success badge-pill\">Medical leave</span>\n",
       "</a>\n",
       "</div>\n",
       "</div>\n",
       "<div class=\"list-group-item px-2 px-lg-3 py-0\">\n",
       "<div class=\"row\">\n",
       "<div class=\"col-2 col-sm-1 px-2 py-3\">\n",
       "<a href=\"/jobs-at-cit/\" title=\"Show all open positions at CI&amp;T\">\n",
       "<img alt=\"CI&amp;T logo\" class=\"mx-auto my-1 d-block\" height=\"48\" loading=\"lazy\" src=\"/media/cache/b5/77/b577ff940774b3f080e3474357474902.jpg\" width=\"48\"/>\n",
       "</a>\n",
       "<div class=\"d-flex justify-content-center mt-3\">\n",
       "<a class=\"btn-direct-apply text-dark p-1\" href=\"/J30489/apply/\" id=\"30489\" rel=\"nofollow noopener\" target=\"_blank\" title=\"Apply for this job directly on CI&amp;T's career site\"><i class=\"fas fa-edit\"></i></a>\n",
       "<a class=\"btn-direct-apply text-dark p-1\" href=\"/job/mark/30489/create/\" rel=\"nofollow\" title=\"Save this job for later application\"><i class=\"fas fa-list-ol\"></i></a>\n",
       "</div>\n",
       "</div>\n",
       "<a class=\"col list-group-item-action px-2 py-3\" href=\"/job/30489-job-8863-data-analytics-specialist-mid-level/\" title=\"View full details of `[Job-8863] Data Analytics Specialist Mid-Level` vacancy\">\n",
       "<div class=\"float-right text-right d-inline-block w-25 ml-2\">\n",
       "<span class=\"d-block d-md-none text-break job-list-item-location\">Brazil</span>\n",
       "<span class=\"d-none d-md-block text-break job-list-item-location\">Brazil</span>\n",
       "<span class=\"badge badge-secondary badge-pill my-md-1\">Full Time</span>\n",
       "<div class=\"d-block\">\n",
       "<span class=\"badge badge-info badge-pill my-md-1 d-md-none\">Mid</span>\n",
       "<span class=\"badge badge-info badge-pill my-md-1 d-none d-md-inline-block\">Mid-level</span>\n",
       "</div>\n",
       "</div>\n",
       "<p class=\"m-0 text-muted job-list-item-company\">CI&amp;T</p>\n",
       "<h2 class=\"h4 mb-1\">[Job-8863] Data Analytics Specialist Mid-Level</h2>\n",
       "<span class=\"badge badge-light badge-pill\">Data Analytics</span>\n",
       "<span class=\"badge badge-light badge-pill\">Data Studio</span>\n",
       "<span class=\"badge badge-light badge-pill\">JavaScript</span>\n",
       "<span class=\"badge badge-light badge-pill\">Kanban</span>\n",
       "<span class=\"badge badge-light badge-pill\">Python</span>\n",
       "<span class=\"badge badge-light badge-pill\">Scrum</span>\n",
       "<br/>\n",
       "</a>\n",
       "</div>\n",
       "</div>\n",
       "<div class=\"list-group-item px-2 px-lg-3 py-0\">\n",
       "<div class=\"row\">\n",
       "<div class=\"col-2 col-sm-1 px-2 py-3\">\n",
       "<a href=\"/jobs-at-netflix/\" title=\"Show all open positions at Netflix\">\n",
       "<img alt=\"Netflix logo\" class=\"mx-auto my-1 d-block\" height=\"48\" loading=\"lazy\" src=\"/media/cache/fb/da/fbda382930d55bd7839e38f7a3e3e181.jpg\" width=\"48\"/>\n",
       "</a>\n",
       "<div class=\"d-flex justify-content-center mt-3\">\n",
       "<a class=\"btn-direct-apply text-dark p-1\" href=\"/J30440/apply/\" id=\"30440\" rel=\"nofollow noopener\" target=\"_blank\" title=\"Apply for this job directly on Netflix's career site\"><i class=\"fas fa-edit\"></i></a>\n",
       "<a class=\"btn-direct-apply text-dark p-1\" href=\"/job/mark/30440/create/\" rel=\"nofollow\" title=\"Save this job for later application\"><i class=\"fas fa-list-ol\"></i></a>\n",
       "</div>\n",
       "</div>\n",
       "<a class=\"col list-group-item-action px-2 py-3\" href=\"/job/30440-analytics-engineer-l5/\" title=\"View full details of `Analytics Engineer (L5)` vacancy\">\n",
       "<div class=\"float-right text-right d-inline-block w-25 ml-2\">\n",
       "<span class=\"d-block d-md-none text-break job-list-item-location\">Remote, United States</span>\n",
       "<span class=\"d-none d-md-block text-break job-list-item-location\">Remote, United States</span>\n",
       "<span class=\"badge badge-secondary badge-pill my-md-1\">Full Time</span>\n",
       "<div class=\"d-block\">\n",
       "<span class=\"badge badge-info badge-pill my-md-1 d-md-none\">Senior</span>\n",
       "<span class=\"badge badge-info badge-pill my-md-1 d-none d-md-inline-block\">Senior-level</span>\n",
       "</div>\n",
       "</div>\n",
       "<p class=\"m-0 text-muted job-list-item-company\">Netflix</p>\n",
       "<h2 class=\"h4 mb-1\">Analytics Engineer (L5)</h2>\n",
       "<span class=\"badge badge-light badge-pill\">Agile</span>\n",
       "<span class=\"badge badge-light badge-pill\">Data pipelines</span>\n",
       "<span class=\"badge badge-light badge-pill\">Data Warehousing</span>\n",
       "<span class=\"badge badge-light badge-pill\">Engineering</span>\n",
       "<span class=\"badge badge-light badge-pill\">Looker</span>\n",
       "<span class=\"badge badge-light badge-pill\">Pipelines</span>\n",
       "<span class=\"badge badge-light badge-pill\">Power BI</span>\n",
       "<span class=\"badge badge-light badge-pill\">+3</span>\n",
       "<br/>\n",
       "<span class=\"badge badge-success badge-pill\">Flex vacation</span>\n",
       "<span class=\"badge badge-success badge-pill\">Team events</span>\n",
       "</a>\n",
       "</div>\n",
       "</div>\n",
       "<div class=\"list-group-item px-2 px-lg-3 py-0\">\n",
       "<div class=\"row\">\n",
       "<div class=\"col-2 col-sm-1 px-2 py-3\">\n",
       "<a href=\"/jobs-at-eurowag/\" title=\"Show all open positions at Eurowag\">\n",
       "<img alt=\"Eurowag logo\" class=\"mx-auto my-1 d-block\" height=\"48\" loading=\"lazy\" src=\"/media/cache/8f/fc/8ffc1066bef0a7359fcebf4bc225e3f3.jpg\" width=\"48\"/>\n",
       "</a>\n",
       "<div class=\"d-flex justify-content-center mt-3\">\n",
       "<a class=\"btn-direct-apply text-dark p-1\" href=\"/J30408/apply/\" id=\"30408\" rel=\"nofollow noopener\" target=\"_blank\" title=\"Apply for this job directly on Eurowag's career site\"><i class=\"fas fa-edit\"></i></a>\n",
       "<a class=\"btn-direct-apply text-dark p-1\" href=\"/job/mark/30408/create/\" rel=\"nofollow\" title=\"Save this job for later application\"><i class=\"fas fa-list-ol\"></i></a>\n",
       "</div>\n",
       "</div>\n",
       "<a class=\"col list-group-item-action px-2 py-3\" href=\"/job/30408-data-analyst/\" title=\"View full details of `Data Analyst` vacancy\">\n",
       "<div class=\"float-right text-right d-inline-block w-25 ml-2\">\n",
       "<span class=\"d-block d-md-none text-break job-list-item-location\">Praha 4, Czech republic</span>\n",
       "<span class=\"d-none d-md-block text-break job-list-item-location\">Praha 4, Czech republic</span>\n",
       "<span class=\"badge badge-secondary badge-pill my-md-1\">Full Time</span>\n",
       "<div class=\"d-block\">\n",
       "<span class=\"badge badge-info badge-pill my-md-1 d-md-none\">Mid</span>\n",
       "<span class=\"badge badge-info badge-pill my-md-1 d-none d-md-inline-block\">Mid-level</span>\n",
       "</div>\n",
       "<div class=\"d-block\">\n",
       "<span class=\"badge badge-success badge-pill d-none d-md-inline-block\">USD 51K - 90K *</span>\n",
       "<span class=\"badge badge-success badge-pill d-md-none\">USD 51K+ *</span>\n",
       "</div>\n",
       "</div>\n",
       "<p class=\"m-0 text-muted job-list-item-company\">Eurowag</p>\n",
       "<h2 class=\"h4 mb-1\">Data Analyst</h2>\n",
       "<span class=\"badge badge-light badge-pill\">Agile</span>\n",
       "<span class=\"badge badge-light badge-pill\">Data analysis</span>\n",
       "<span class=\"badge badge-light badge-pill\">Data Mining</span>\n",
       "<span class=\"badge badge-light badge-pill\">Economics</span>\n",
       "<span class=\"badge badge-light badge-pill\">Excel</span>\n",
       "<span class=\"badge badge-light badge-pill\">Finance</span>\n",
       "<span class=\"badge badge-light badge-pill\">Market research</span>\n",
       "<span class=\"badge badge-light badge-pill\">+5</span>\n",
       "<br/>\n",
       "<span class=\"badge badge-success badge-pill\">Flex hours</span>\n",
       "<span class=\"badge badge-success badge-pill\">Health care</span>\n",
       "<span class=\"badge badge-success badge-pill\">Home office stipend</span>\n",
       "<span class=\"badge badge-success badge-pill\">Pet friendly</span>\n",
       "<span class=\"badge badge-success badge-pill\">Startup environment</span>\n",
       "</a>\n",
       "</div>\n",
       "</div>\n",
       "<div class=\"list-group-item px-2 px-lg-3 py-0\">\n",
       "<div class=\"row\">\n",
       "<div class=\"col-2 col-sm-1 px-2 py-3\">\n",
       "<a href=\"/jobs-at-renaissance/\" title=\"Show all open positions at Renaissance\">\n",
       "<img alt=\"Renaissance logo\" class=\"mx-auto my-1 d-block\" height=\"48\" loading=\"lazy\" src=\"/media/cache/48/58/48589c6d55cc41c5d82c251ee7c87b88.jpg\" width=\"48\"/>\n",
       "</a>\n",
       "<div class=\"d-flex justify-content-center mt-3\">\n",
       "<a class=\"btn-direct-apply text-dark p-1\" href=\"/J30406/apply/\" id=\"30406\" rel=\"nofollow noopener\" target=\"_blank\" title=\"Apply for this job directly on Renaissance's career site\"><i class=\"fas fa-edit\"></i></a>\n",
       "<a class=\"btn-direct-apply text-dark p-1\" href=\"/job/mark/30406/create/\" rel=\"nofollow\" title=\"Save this job for later application\"><i class=\"fas fa-list-ol\"></i></a>\n",
       "</div>\n",
       "</div>\n",
       "<a class=\"col list-group-item-action px-2 py-3\" href=\"/job/30406-data-analyst/\" title=\"View full details of `Data Analyst` vacancy\">\n",
       "<div class=\"float-right text-right d-inline-block w-25 ml-2\">\n",
       "<span class=\"d-block d-md-none text-break job-list-item-location\">United States, REMOTE, United …</span>\n",
       "<span class=\"d-none d-md-block text-break job-list-item-location\">United States, REMOTE, United States</span>\n",
       "<span class=\"badge badge-secondary badge-pill my-md-1\">Full Time</span>\n",
       "<div class=\"d-block\">\n",
       "<span class=\"badge badge-info badge-pill my-md-1 d-md-none\">Senior</span>\n",
       "<span class=\"badge badge-info badge-pill my-md-1 d-none d-md-inline-block\">Senior-level</span>\n",
       "</div>\n",
       "<div class=\"d-block\">\n",
       "<span class=\"badge badge-success badge-pill d-none d-md-inline-block\">USD 46K - 85K *</span>\n",
       "<span class=\"badge badge-success badge-pill d-md-none\">USD 46K+ *</span>\n",
       "</div>\n",
       "</div>\n",
       "<p class=\"m-0 text-muted job-list-item-company\">Renaissance</p>\n",
       "<h2 class=\"h4 mb-1\">Data Analyst</h2>\n",
       "<span class=\"badge badge-light badge-pill\">Business Analytics</span>\n",
       "<span class=\"badge badge-light badge-pill\">Data analysis</span>\n",
       "<span class=\"badge badge-light badge-pill\">Economics</span>\n",
       "<span class=\"badge badge-light badge-pill\">Excel</span>\n",
       "<span class=\"badge badge-light badge-pill\">Finance</span>\n",
       "<span class=\"badge badge-light badge-pill\">KPIs</span>\n",
       "<span class=\"badge badge-light badge-pill\">SQL</span>\n",
       "<span class=\"badge badge-light badge-pill\">+2</span>\n",
       "<br/>\n",
       "<span class=\"badge badge-success badge-pill\">Career development</span>\n",
       "<span class=\"badge badge-success badge-pill\">Flex hours</span>\n",
       "</a>\n",
       "</div>\n",
       "</div>\n",
       "<div class=\"list-group-item px-2 px-lg-3 py-0\">\n",
       "<div class=\"row\">\n",
       "<div class=\"col-2 col-sm-1 px-2 py-3\">\n",
       "<a href=\"/jobs-at-motorway/\" title=\"Show all open positions at Motorway\">\n",
       "<img alt=\"Motorway logo\" class=\"mx-auto my-1 d-block\" height=\"48\" loading=\"lazy\" src=\"/media/cache/36/6e/366ec11ec2981b75f408bec0f16a9271.jpg\" width=\"48\"/>\n",
       "</a>\n",
       "<div class=\"d-flex justify-content-center mt-3\">\n",
       "<a class=\"btn-direct-apply text-dark p-1\" href=\"/J30501/apply/\" id=\"30501\" rel=\"nofollow noopener\" target=\"_blank\" title=\"Apply for this job directly on Motorway's career site\"><i class=\"fas fa-edit\"></i></a>\n",
       "<a class=\"btn-direct-apply text-dark p-1\" href=\"/job/mark/30501/create/\" rel=\"nofollow\" title=\"Save this job for later application\"><i class=\"fas fa-list-ol\"></i></a>\n",
       "</div>\n",
       "</div>\n",
       "<a class=\"col list-group-item-action px-2 py-3\" href=\"/job/30501-senior-data-analyst-marketing/\" title=\"View full details of `Senior Data Analyst (Marketing)` vacancy\">\n",
       "<div class=\"float-right text-right d-inline-block w-25 ml-2\">\n",
       "<span class=\"d-block d-md-none text-break job-list-item-location\">London, England, United Kingdom</span>\n",
       "<span class=\"d-none d-md-block text-break job-list-item-location\">London, England, United Kingdom</span>\n",
       "<span class=\"badge badge-secondary badge-pill my-md-1\">Full Time</span>\n",
       "<div class=\"d-block\">\n",
       "<span class=\"badge badge-info badge-pill my-md-1 d-md-none\">Mid</span>\n",
       "<span class=\"badge badge-info badge-pill my-md-1 d-none d-md-inline-block\">Mid-level</span>\n",
       "</div>\n",
       "<div class=\"d-block\">\n",
       "<span class=\"badge badge-success badge-pill d-none d-md-inline-block\">USD 51K - 90K *</span>\n",
       "<span class=\"badge badge-success badge-pill d-md-none\">USD 51K+ *</span>\n",
       "</div>\n",
       "</div>\n",
       "<p class=\"m-0 text-muted job-list-item-company\">Motorway</p>\n",
       "<h2 class=\"h4 mb-1\">Senior Data Analyst (Marketing)</h2>\n",
       "<span class=\"badge badge-light badge-pill\">BigQuery</span>\n",
       "<span class=\"badge badge-light badge-pill\">Data Studio</span>\n",
       "<span class=\"badge badge-light badge-pill\">Jupyter</span>\n",
       "<span class=\"badge badge-light badge-pill\">Looker</span>\n",
       "<span class=\"badge badge-light badge-pill\">SQL</span>\n",
       "<br/>\n",
       "<span class=\"badge badge-success badge-pill\">Career development</span>\n",
       "<span class=\"badge badge-success badge-pill\">Competitive pay</span>\n",
       "<span class=\"badge badge-success badge-pill\">Health care</span>\n",
       "<span class=\"badge badge-success badge-pill\">Insurance</span>\n",
       "<span class=\"badge badge-success badge-pill\">Parental leave</span>\n",
       "<span class=\"badge badge-success badge-pill\">+2</span>\n",
       "</a>\n",
       "</div>\n",
       "</div>\n",
       "<div class=\"list-group-item px-2 px-lg-3 py-0\">\n",
       "<div class=\"row\">\n",
       "<div class=\"col-2 col-sm-1 px-2 py-3\">\n",
       "<a href=\"/jobs-at-margera/\" title=\"Show all open positions at Margera\">\n",
       "<img alt=\"Margera logo\" class=\"mx-auto my-1 d-block\" height=\"48\" loading=\"lazy\" src=\"/media/cache/ef/4d/ef4d35f4cbeaa609c09e00a23cd4843c.jpg\" width=\"48\"/>\n",
       "</a>\n",
       "<div class=\"d-flex justify-content-center mt-3\">\n",
       "<a class=\"btn-direct-apply text-dark p-1\" href=\"/J30498/apply/\" id=\"30498\" rel=\"nofollow noopener\" target=\"_blank\" title=\"Apply for this job directly on Margera's career site\"><i class=\"fas fa-edit\"></i></a>\n",
       "<a class=\"btn-direct-apply text-dark p-1\" href=\"/job/mark/30498/create/\" rel=\"nofollow\" title=\"Save this job for later application\"><i class=\"fas fa-list-ol\"></i></a>\n",
       "</div>\n",
       "</div>\n",
       "<a class=\"col list-group-item-action px-2 py-3\" href=\"/job/30498-mid-level-data-analyst-remote/\" title=\"View full details of `Mid-Level Data Analyst (remote)` vacancy\">\n",
       "<div class=\"float-right text-right d-inline-block w-25 ml-2\">\n",
       "<span class=\"d-block d-md-none text-break job-list-item-location\">Remote job</span>\n",
       "<span class=\"d-none d-md-block text-break job-list-item-location\">Remote job</span>\n",
       "<span class=\"badge badge-secondary badge-pill my-md-1\">Full Time</span>\n",
       "<div class=\"d-block\">\n",
       "<span class=\"badge badge-info badge-pill my-md-1 d-md-none\">Senior</span>\n",
       "<span class=\"badge badge-info badge-pill my-md-1 d-none d-md-inline-block\">Senior-level</span>\n",
       "</div>\n",
       "<div class=\"d-block\">\n",
       "<span class=\"badge badge-success badge-pill d-none d-md-inline-block\">USD 46K - 85K *</span>\n",
       "<span class=\"badge badge-success badge-pill d-md-none\">USD 46K+ *</span>\n",
       "</div>\n",
       "</div>\n",
       "<p class=\"m-0 text-muted job-list-item-company\">Margera</p>\n",
       "<h2 class=\"h4 mb-1\">Mid-Level Data Analyst (remote)</h2>\n",
       "<span class=\"badge badge-light badge-pill\">Data Analytics</span>\n",
       "<span class=\"badge badge-light badge-pill\">Data Warehousing</span>\n",
       "<span class=\"badge badge-light badge-pill\">Economics</span>\n",
       "<span class=\"badge badge-light badge-pill\">Excel</span>\n",
       "<span class=\"badge badge-light badge-pill\">Machine Learning</span>\n",
       "<span class=\"badge badge-light badge-pill\">Mathematics</span>\n",
       "<span class=\"badge badge-light badge-pill\">Power BI</span>\n",
       "<span class=\"badge badge-light badge-pill\">+4</span>\n",
       "<br/>\n",
       "<span class=\"badge badge-success badge-pill\">Career development</span>\n",
       "<span class=\"badge badge-success badge-pill\">Competitive pay</span>\n",
       "<span class=\"badge badge-success badge-pill\">Gear</span>\n",
       "<span class=\"badge badge-success badge-pill\">Salary bonus</span>\n",
       "</a>\n",
       "</div>\n",
       "</div>\n",
       "<div class=\"list-group-item px-2 px-lg-3 py-0\">\n",
       "<div class=\"row\">\n",
       "<div class=\"col-2 col-sm-1 px-2 py-3\">\n",
       "<a href=\"/jobs-at-smartsheet/\" title=\"Show all open positions at Smartsheet\">\n",
       "<img alt=\"Smartsheet logo\" class=\"mx-auto my-1 d-block\" height=\"48\" loading=\"lazy\" src=\"/media/cache/cf/03/cf031dae79ee34e71d5bc6c584935652.jpg\" width=\"48\"/>\n",
       "</a>\n",
       "<div class=\"d-flex justify-content-center mt-3\">\n",
       "<a class=\"btn-direct-apply text-dark p-1\" href=\"/J30439/apply/\" id=\"30439\" rel=\"nofollow noopener\" target=\"_blank\" title=\"Apply for this job directly on Smartsheet's career site\"><i class=\"fas fa-edit\"></i></a>\n",
       "<a class=\"btn-direct-apply text-dark p-1\" href=\"/job/mark/30439/create/\" rel=\"nofollow\" title=\"Save this job for later application\"><i class=\"fas fa-list-ol\"></i></a>\n",
       "</div>\n",
       "</div>\n",
       "<a class=\"col list-group-item-action px-2 py-3\" href=\"/job/30439-data-analytics-engineer/\" title=\"View full details of `Data Analytics Engineer` vacancy\">\n",
       "<div class=\"float-right text-right d-inline-block w-25 ml-2\">\n",
       "<span class=\"d-block d-md-none text-break job-list-item-location\">Bellevue, WA, USA</span>\n",
       "<span class=\"d-none d-md-block text-break job-list-item-location\">Bellevue, WA, USA</span>\n",
       "<span class=\"badge badge-secondary badge-pill my-md-1\">Full Time</span>\n",
       "<div class=\"d-block\">\n",
       "<span class=\"badge badge-info badge-pill my-md-1 d-md-none\">Senior</span>\n",
       "<span class=\"badge badge-info badge-pill my-md-1 d-none d-md-inline-block\">Senior-level</span>\n",
       "</div>\n",
       "</div>\n",
       "<p class=\"m-0 text-muted job-list-item-company\">Smartsheet</p>\n",
       "<h2 class=\"h4 mb-1\">Data Analytics Engineer</h2>\n",
       "<span class=\"badge badge-light badge-pill\">Airflow</span>\n",
       "<span class=\"badge badge-light badge-pill\">AWS</span>\n",
       "<span class=\"badge badge-light badge-pill\">BigQuery</span>\n",
       "<span class=\"badge badge-light badge-pill\">Data Analytics</span>\n",
       "<span class=\"badge badge-light badge-pill\">Data pipelines</span>\n",
       "<span class=\"badge badge-light badge-pill\">EC2</span>\n",
       "<span class=\"badge badge-light badge-pill\">Engineering</span>\n",
       "<span class=\"badge badge-light badge-pill\">+6</span>\n",
       "<br/>\n",
       "<span class=\"badge badge-success badge-pill\">401(k) matching</span>\n",
       "<span class=\"badge badge-success badge-pill\">Career development</span>\n",
       "<span class=\"badge badge-success badge-pill\">Equity</span>\n",
       "<span class=\"badge badge-success badge-pill\">Flex hours</span>\n",
       "<span class=\"badge badge-success badge-pill\">Health care</span>\n",
       "<span class=\"badge badge-success badge-pill\">+3</span>\n",
       "</a>\n",
       "</div>\n",
       "</div>\n",
       "<div class=\"list-group-item px-2 px-lg-3 py-0\">\n",
       "<div class=\"row\">\n",
       "<div class=\"col-2 col-sm-1 px-2 py-3\">\n",
       "<a href=\"/jobs-at-lakeshore-learning-materials-llc/\" title=\"Show all open positions at Lakeshore Learning Materials, LLC\">\n",
       "<img alt=\"Lakeshore Learning Materials, LLC logo\" class=\"mx-auto my-1 d-block\" height=\"48\" loading=\"lazy\" src=\"/media/cache/7f/15/7f151c1003e5484550aa74cdfcb6f927.jpg\" width=\"48\"/>\n",
       "</a>\n",
       "<div class=\"d-flex justify-content-center mt-3\">\n",
       "<a class=\"btn-direct-apply text-dark p-1\" href=\"/J30403/apply/\" id=\"30403\" rel=\"nofollow noopener\" target=\"_blank\" title=\"Apply for this job directly on Lakeshore Learning Materials, LLC's career site\"><i class=\"fas fa-edit\"></i></a>\n",
       "<a class=\"btn-direct-apply text-dark p-1\" href=\"/job/mark/30403/create/\" rel=\"nofollow\" title=\"Save this job for later application\"><i class=\"fas fa-list-ol\"></i></a>\n",
       "</div>\n",
       "</div>\n",
       "<a class=\"col list-group-item-action px-2 py-3\" href=\"/job/30403-retail-data-analyst-merchandising-remote/\" title=\"View full details of `Retail Data Analyst – Merchandising (Remote)` vacancy\">\n",
       "<div class=\"float-right text-right d-inline-block w-25 ml-2\">\n",
       "<span class=\"d-block d-md-none text-break job-list-item-location\">Long Beach, CA, United …</span>\n",
       "<span class=\"d-none d-md-block text-break job-list-item-location\">Long Beach, CA, United States</span>\n",
       "<span class=\"badge badge-secondary badge-pill my-md-1\">Full Time</span>\n",
       "<div class=\"d-block\">\n",
       "<span class=\"badge badge-info badge-pill my-md-1 d-md-none\">Senior</span>\n",
       "<span class=\"badge badge-info badge-pill my-md-1 d-none d-md-inline-block\">Senior-level</span>\n",
       "</div>\n",
       "<div class=\"d-block\">\n",
       "<span class=\"badge badge-success badge-pill d-none d-md-inline-block\">USD 46K - 85K *</span>\n",
       "<span class=\"badge badge-success badge-pill d-md-none\">USD 46K+ *</span>\n",
       "</div>\n",
       "</div>\n",
       "<p class=\"m-0 text-muted job-list-item-company\">Lakeshore Learning Materials, LLC</p>\n",
       "<h2 class=\"h4 mb-1\">Retail Data Analyst – Merchandising (Remote)</h2>\n",
       "<span class=\"badge badge-light badge-pill\">Computer Science</span>\n",
       "<span class=\"badge badge-light badge-pill\">Data analysis</span>\n",
       "<span class=\"badge badge-light badge-pill\">Data Mining</span>\n",
       "<span class=\"badge badge-light badge-pill\">E-commerce</span>\n",
       "<span class=\"badge badge-light badge-pill\">Economics</span>\n",
       "<span class=\"badge badge-light badge-pill\">Excel</span>\n",
       "<span class=\"badge badge-light badge-pill\">SQL</span>\n",
       "<br/>\n",
       "<span class=\"badge badge-success badge-pill\">Career development</span>\n",
       "<span class=\"badge badge-success badge-pill\">Competitive pay</span>\n",
       "<span class=\"badge badge-success badge-pill\">Fitness / gym</span>\n",
       "<span class=\"badge badge-success badge-pill\">Flex hours</span>\n",
       "<span class=\"badge badge-success badge-pill\">Health care</span>\n",
       "<span class=\"badge badge-success badge-pill\">+2</span>\n",
       "</a>\n",
       "</div>\n",
       "</div>\n",
       "<div class=\"list-group-item px-2 px-lg-3 py-0\">\n",
       "<div class=\"row\">\n",
       "<div class=\"col-2 col-sm-1 px-2 py-3\">\n",
       "<a href=\"/jobs-at-riiid-labs/\" title=\"Show all open positions at Riiid Labs\">\n",
       "<img alt=\"Riiid Labs logo\" class=\"mx-auto my-1 d-block\" height=\"48\" loading=\"lazy\" src=\"/media/cache/72/d5/72d5fd456caaee8a23b62480a883a12f.jpg\" width=\"48\"/>\n",
       "</a>\n",
       "<div class=\"d-flex justify-content-center mt-3\">\n",
       "<a class=\"btn-direct-apply text-dark p-1\" href=\"/J30504/apply/\" id=\"30504\" rel=\"nofollow noopener\" target=\"_blank\" title=\"Apply for this job directly on Riiid Labs's career site\"><i class=\"fas fa-edit\"></i></a>\n",
       "<a class=\"btn-direct-apply text-dark p-1\" href=\"/job/mark/30504/create/\" rel=\"nofollow\" title=\"Save this job for later application\"><i class=\"fas fa-list-ol\"></i></a>\n",
       "</div>\n",
       "</div>\n",
       "<a class=\"col list-group-item-action px-2 py-3\" href=\"/job/30504-data-analyst-intern/\" title=\"View full details of `Data Analyst Intern (전환형)` vacancy\">\n",
       "<div class=\"float-right text-right d-inline-block w-25 ml-2\">\n",
       "<span class=\"d-block d-md-none text-break job-list-item-location\">Seoul</span>\n",
       "<span class=\"d-none d-md-block text-break job-list-item-location\">Seoul</span>\n",
       "<span class=\"badge badge-secondary badge-pill my-md-1\">Internship</span>\n",
       "<div class=\"d-block\">\n",
       "<span class=\"badge badge-success badge-pill d-none d-md-inline-block\">USD 46K - 85K *</span>\n",
       "<span class=\"badge badge-success badge-pill d-md-none\">USD 46K+ *</span>\n",
       "</div>\n",
       "</div>\n",
       "<p class=\"m-0 text-muted job-list-item-company\">Riiid Labs</p>\n",
       "<h2 class=\"h4 mb-1\">Data Analyst Intern (전환형)</h2>\n",
       "<span class=\"badge badge-light badge-pill\">Data strategy</span>\n",
       "<br/>\n",
       "</a>\n",
       "</div>\n",
       "</div>\n",
       "<div class=\"list-group-item px-2 px-lg-3 py-0\">\n",
       "<div class=\"row\">\n",
       "<div class=\"col-2 col-sm-1 px-2 py-3\">\n",
       "<a href=\"/jobs-at-exiger/\" title=\"Show all open positions at Exiger\">\n",
       "<img alt=\"Exiger logo\" class=\"mx-auto my-1 d-block\" height=\"48\" loading=\"lazy\" src=\"/media/cache/db/97/db97c17a61cf24eb1e787fafd58d37ee.jpg\" width=\"48\"/>\n",
       "</a>\n",
       "<div class=\"d-flex justify-content-center mt-3\">\n",
       "<a class=\"btn-direct-apply text-dark p-1\" href=\"/J30496/apply/\" id=\"30496\" rel=\"nofollow noopener\" target=\"_blank\" title=\"Apply for this job directly on Exiger's career site\"><i class=\"fas fa-edit\"></i></a>\n",
       "<a class=\"btn-direct-apply text-dark p-1\" href=\"/job/mark/30496/create/\" rel=\"nofollow\" title=\"Save this job for later application\"><i class=\"fas fa-list-ol\"></i></a>\n",
       "</div>\n",
       "</div>\n",
       "<a class=\"col list-group-item-action px-2 py-3\" href=\"/job/30496-senior-analyst-data-analytics/\" title=\"View full details of `Senior Analyst, Data Analytics` vacancy\">\n",
       "<div class=\"float-right text-right d-inline-block w-25 ml-2\">\n",
       "<span class=\"d-block d-md-none text-break job-list-item-location\">Arlington, Virginia</span>\n",
       "<span class=\"d-none d-md-block text-break job-list-item-location\">Arlington, Virginia</span>\n",
       "<span class=\"badge badge-secondary badge-pill my-md-1\">Full Time</span>\n",
       "<div class=\"d-block\">\n",
       "<span class=\"badge badge-info badge-pill my-md-1 d-md-none\">Senior</span>\n",
       "<span class=\"badge badge-info badge-pill my-md-1 d-none d-md-inline-block\">Senior-level</span>\n",
       "</div>\n",
       "</div>\n",
       "<p class=\"m-0 text-muted job-list-item-company\">Exiger</p>\n",
       "<h2 class=\"h4 mb-1\">Senior Analyst, Data Analytics</h2>\n",
       "<span class=\"badge badge-light badge-pill\">AWS</span>\n",
       "<span class=\"badge badge-light badge-pill\">Data analysis</span>\n",
       "<span class=\"badge badge-light badge-pill\">Data Analytics</span>\n",
       "<span class=\"badge badge-light badge-pill\">Data management</span>\n",
       "<span class=\"badge badge-light badge-pill\">Data visualization</span>\n",
       "<span class=\"badge badge-light badge-pill\">Excel</span>\n",
       "<span class=\"badge badge-light badge-pill\">GCP</span>\n",
       "<span class=\"badge badge-light badge-pill\">+8</span>\n",
       "<br/>\n",
       "<span class=\"badge badge-success badge-pill\">Career development</span>\n",
       "</a>\n",
       "</div>\n",
       "</div>\n",
       "<div class=\"list-group-item px-2 px-lg-3 py-0\">\n",
       "<div class=\"row\">\n",
       "<div class=\"col-2 col-sm-1 px-2 py-3\">\n",
       "<a href=\"/jobs-at-eurowag/\" title=\"Show all open positions at Eurowag\">\n",
       "<img alt=\"Eurowag logo\" class=\"mx-auto my-1 d-block\" height=\"48\" loading=\"lazy\" src=\"/media/cache/8f/fc/8ffc1066bef0a7359fcebf4bc225e3f3.jpg\" width=\"48\"/>\n",
       "</a>\n",
       "<div class=\"d-flex justify-content-center mt-3\">\n",
       "<a class=\"btn-direct-apply text-dark p-1\" href=\"/J30407/apply/\" id=\"30407\" rel=\"nofollow noopener\" target=\"_blank\" title=\"Apply for this job directly on Eurowag's career site\"><i class=\"fas fa-edit\"></i></a>\n",
       "<a class=\"btn-direct-apply text-dark p-1\" href=\"/job/mark/30407/create/\" rel=\"nofollow\" title=\"Save this job for later application\"><i class=\"fas fa-list-ol\"></i></a>\n",
       "</div>\n",
       "</div>\n",
       "<a class=\"col list-group-item-action px-2 py-3\" href=\"/job/30407-hr-data-analyst/\" title=\"View full details of `HR Data Analyst` vacancy\">\n",
       "<div class=\"float-right text-right d-inline-block w-25 ml-2\">\n",
       "<span class=\"d-block d-md-none text-break job-list-item-location\">Praha 4, Czech republic</span>\n",
       "<span class=\"d-none d-md-block text-break job-list-item-location\">Praha 4, Czech republic</span>\n",
       "<span class=\"badge badge-secondary badge-pill my-md-1\">Full Time</span>\n",
       "<div class=\"d-block\">\n",
       "<span class=\"badge badge-success badge-pill d-none d-md-inline-block\">USD 46K - 85K *</span>\n",
       "<span class=\"badge badge-success badge-pill d-md-none\">USD 46K+ *</span>\n",
       "</div>\n",
       "</div>\n",
       "<p class=\"m-0 text-muted job-list-item-company\">Eurowag</p>\n",
       "<h2 class=\"h4 mb-1\">HR Data Analyst</h2>\n",
       "<span class=\"badge badge-light badge-pill\">Data Analytics</span>\n",
       "<span class=\"badge badge-light badge-pill\">Excel</span>\n",
       "<span class=\"badge badge-light badge-pill\">KPIs</span>\n",
       "<span class=\"badge badge-light badge-pill\">Power BI</span>\n",
       "<br/>\n",
       "<span class=\"badge badge-success badge-pill\">Flex hours</span>\n",
       "<span class=\"badge badge-success badge-pill\">Flex vacation</span>\n",
       "<span class=\"badge badge-success badge-pill\">Pet friendly</span>\n",
       "<span class=\"badge badge-success badge-pill\">Startup environment</span>\n",
       "</a>\n",
       "</div>\n",
       "</div>\n",
       "<div class=\"list-group-item px-2 px-lg-3 py-0\">\n",
       "<div class=\"row\">\n",
       "<div class=\"col-2 col-sm-1 px-2 py-3\">\n",
       "<a href=\"/jobs-at-points/\" title=\"Show all open positions at Points\">\n",
       "<img alt=\"Points logo\" class=\"mx-auto my-1 d-block\" height=\"48\" loading=\"lazy\" src=\"/media/cache/bc/25/bc2561cab19c5e3eb11a49dbf1cdb8ae.jpg\" width=\"48\"/>\n",
       "</a>\n",
       "<div class=\"d-flex justify-content-center mt-3\">\n",
       "<a class=\"btn-direct-apply text-dark p-1\" href=\"/J30405/apply/\" id=\"30405\" rel=\"nofollow noopener\" target=\"_blank\" title=\"Apply for this job directly on Points's career site\"><i class=\"fas fa-edit\"></i></a>\n",
       "<a class=\"btn-direct-apply text-dark p-1\" href=\"/job/mark/30405/create/\" rel=\"nofollow\" title=\"Save this job for later application\"><i class=\"fas fa-list-ol\"></i></a>\n",
       "</div>\n",
       "</div>\n",
       "<a class=\"col list-group-item-action px-2 py-3\" href=\"/job/30405-risk-and-payments-data-analyst/\" title=\"View full details of `Risk and Payments Data Analyst` vacancy\">\n",
       "<div class=\"float-right text-right d-inline-block w-25 ml-2\">\n",
       "<span class=\"d-block d-md-none text-break job-list-item-location\">Toronto, ON, Canada</span>\n",
       "<span class=\"d-none d-md-block text-break job-list-item-location\">Toronto, ON, Canada</span>\n",
       "<span class=\"badge badge-secondary badge-pill my-md-1\">Full Time</span>\n",
       "<div class=\"d-block\">\n",
       "<span class=\"badge badge-info badge-pill my-md-1 d-md-none\">Mid</span>\n",
       "<span class=\"badge badge-info badge-pill my-md-1 d-none d-md-inline-block\">Mid-level</span>\n",
       "</div>\n",
       "<div class=\"d-block\">\n",
       "<span class=\"badge badge-success badge-pill d-none d-md-inline-block\">USD 51K - 90K *</span>\n",
       "<span class=\"badge badge-success badge-pill d-md-none\">USD 51K+ *</span>\n",
       "</div>\n",
       "</div>\n",
       "<p class=\"m-0 text-muted job-list-item-company\">Points</p>\n",
       "<h2 class=\"h4 mb-1\">Risk and Payments Data Analyst</h2>\n",
       "<span class=\"badge badge-light badge-pill\">Excel</span>\n",
       "<span class=\"badge badge-light badge-pill\">Jira</span>\n",
       "<span class=\"badge badge-light badge-pill\">Research</span>\n",
       "<span class=\"badge badge-light badge-pill\">SQL</span>\n",
       "<span class=\"badge badge-light badge-pill\">Tableau</span>\n",
       "<br/>\n",
       "<span class=\"badge badge-success badge-pill\">Career development</span>\n",
       "<span class=\"badge badge-success badge-pill\">Flex hours</span>\n",
       "<span class=\"badge badge-success badge-pill\">Flex vacation</span>\n",
       "<span class=\"badge badge-success badge-pill\">Parental leave</span>\n",
       "<span class=\"badge badge-success badge-pill\">Startup environment</span>\n",
       "</a>\n",
       "</div>\n",
       "</div>\n",
       "<div class=\"list-group-item px-2 px-lg-3 py-0\">\n",
       "<div class=\"row\">\n",
       "<div class=\"col-2 col-sm-1 px-2 py-3\">\n",
       "<a href=\"/jobs-at-blend360/\" title=\"Show all open positions at Blend360\">\n",
       "<img alt=\"Blend360 logo\" class=\"mx-auto my-1 d-block\" height=\"48\" loading=\"lazy\" src=\"/media/cache/dd/f7/ddf709fac435613d11a1e48f6b4c64f1.jpg\" width=\"48\"/>\n",
       "</a>\n",
       "<div class=\"d-flex justify-content-center mt-3\">\n",
       "<a class=\"btn-direct-apply text-dark p-1\" href=\"/J30401/apply/\" id=\"30401\" rel=\"nofollow noopener\" target=\"_blank\" title=\"Apply for this job directly on Blend360's career site\"><i class=\"fas fa-edit\"></i></a>\n",
       "<a class=\"btn-direct-apply text-dark p-1\" href=\"/job/mark/30401/create/\" rel=\"nofollow\" title=\"Save this job for later application\"><i class=\"fas fa-list-ol\"></i></a>\n",
       "</div>\n",
       "</div>\n",
       "<a class=\"col list-group-item-action px-2 py-3\" href=\"/job/30401-bi-analyst/\" title=\"View full details of `BI Analyst` vacancy\">\n",
       "<div class=\"float-right text-right d-inline-block w-25 ml-2\">\n",
       "<span class=\"d-block d-md-none text-break job-list-item-location\">Columbia, MD, United States</span>\n",
       "<span class=\"d-none d-md-block text-break job-list-item-location\">Columbia, MD, United States</span>\n",
       "<span class=\"badge badge-secondary badge-pill my-md-1\">Full Time</span>\n",
       "<div class=\"d-block\">\n",
       "<span class=\"badge badge-info badge-pill my-md-1 d-md-none\">Mid</span>\n",
       "<span class=\"badge badge-info badge-pill my-md-1 d-none d-md-inline-block\">Mid-level</span>\n",
       "</div>\n",
       "</div>\n",
       "<p class=\"m-0 text-muted job-list-item-company\">Blend360</p>\n",
       "<h2 class=\"h4 mb-1\">BI Analyst</h2>\n",
       "<span class=\"badge badge-light badge-pill\">Computer Science</span>\n",
       "<span class=\"badge badge-light badge-pill\">Data analysis</span>\n",
       "<span class=\"badge badge-light badge-pill\">Data Analytics</span>\n",
       "<span class=\"badge badge-light badge-pill\">Data visualization</span>\n",
       "<span class=\"badge badge-light badge-pill\">Data Warehousing</span>\n",
       "<span class=\"badge badge-light badge-pill\">ETL</span>\n",
       "<span class=\"badge badge-light badge-pill\">Excel</span>\n",
       "<span class=\"badge badge-light badge-pill\">+10</span>\n",
       "<br/>\n",
       "<span class=\"badge badge-success badge-pill\">Career development</span>\n",
       "</a>\n",
       "</div>\n",
       "</div>\n",
       "<div class=\"list-group-item px-2 px-lg-3 py-0\">\n",
       "<div class=\"row\">\n",
       "<div class=\"col-2 col-sm-1 px-2 py-3\">\n",
       "<a href=\"/jobs-at-gameloft/\" title=\"Show all open positions at Gameloft\">\n",
       "<img alt=\"Gameloft logo\" class=\"mx-auto my-1 d-block\" height=\"48\" loading=\"lazy\" src=\"/media/cache/f2/52/f252260b060dc1239bfa54691151d91a.jpg\" width=\"48\"/>\n",
       "</a>\n",
       "<div class=\"d-flex justify-content-center mt-3\">\n",
       "<a class=\"btn-direct-apply text-dark p-1\" href=\"/J30402/apply/\" id=\"30402\" rel=\"nofollow noopener\" target=\"_blank\" title=\"Apply for this job directly on Gameloft's career site\"><i class=\"fas fa-edit\"></i></a>\n",
       "<a class=\"btn-direct-apply text-dark p-1\" href=\"/job/mark/30402/create/\" rel=\"nofollow\" title=\"Save this job for later application\"><i class=\"fas fa-list-ol\"></i></a>\n",
       "</div>\n",
       "</div>\n",
       "<a class=\"col list-group-item-action px-2 py-3\" href=\"/job/30402-data-analyst/\" title=\"View full details of `Data Analyst` vacancy\">\n",
       "<div class=\"float-right text-right d-inline-block w-25 ml-2\">\n",
       "<span class=\"d-block d-md-none text-break job-list-item-location\">Toronto, ON, Canada</span>\n",
       "<span class=\"d-none d-md-block text-break job-list-item-location\">Toronto, ON, Canada</span>\n",
       "<span class=\"badge badge-secondary badge-pill my-md-1\">Full Time</span>\n",
       "<div class=\"d-block\">\n",
       "<span class=\"badge badge-success badge-pill d-none d-md-inline-block\">USD 46K - 85K *</span>\n",
       "<span class=\"badge badge-success badge-pill d-md-none\">USD 46K+ *</span>\n",
       "</div>\n",
       "</div>\n",
       "<p class=\"m-0 text-muted job-list-item-company\">Gameloft</p>\n",
       "<h2 class=\"h4 mb-1\">Data Analyst</h2>\n",
       "<span class=\"badge badge-light badge-pill\">Data visualization</span>\n",
       "<span class=\"badge badge-light badge-pill\">Economics</span>\n",
       "<span class=\"badge badge-light badge-pill\">Engineering</span>\n",
       "<span class=\"badge badge-light badge-pill\">Looker</span>\n",
       "<span class=\"badge badge-light badge-pill\">SQL</span>\n",
       "<span class=\"badge badge-light badge-pill\">Statistics</span>\n",
       "<br/>\n",
       "<span class=\"badge badge-success badge-pill\">Career development</span>\n",
       "<span class=\"badge badge-success badge-pill\">Flex hours</span>\n",
       "<span class=\"badge badge-success badge-pill\">Flexible spending account</span>\n",
       "<span class=\"badge badge-success badge-pill\">Flex vacation</span>\n",
       "<span class=\"badge badge-success badge-pill\">Health care</span>\n",
       "<span class=\"badge badge-success badge-pill\">+2</span>\n",
       "</a>\n",
       "</div>\n",
       "</div>\n",
       "<div class=\"list-group-item px-2 px-lg-3 py-0\">\n",
       "<div class=\"row\">\n",
       "<div class=\"col-2 col-sm-1 px-2 py-3\">\n",
       "<a href=\"/jobs-at-lakeshore-learning-materials-llc/\" title=\"Show all open positions at Lakeshore Learning Materials, LLC\">\n",
       "<img alt=\"Lakeshore Learning Materials, LLC logo\" class=\"mx-auto my-1 d-block\" height=\"48\" loading=\"lazy\" src=\"/media/cache/7f/15/7f151c1003e5484550aa74cdfcb6f927.jpg\" width=\"48\"/>\n",
       "</a>\n",
       "<div class=\"d-flex justify-content-center mt-3\">\n",
       "<a class=\"btn-direct-apply text-dark p-1\" href=\"/J30397/apply/\" id=\"30397\" rel=\"nofollow noopener\" target=\"_blank\" title=\"Apply for this job directly on Lakeshore Learning Materials, LLC's career site\"><i class=\"fas fa-edit\"></i></a>\n",
       "<a class=\"btn-direct-apply text-dark p-1\" href=\"/job/mark/30397/create/\" rel=\"nofollow\" title=\"Save this job for later application\"><i class=\"fas fa-list-ol\"></i></a>\n",
       "</div>\n",
       "</div>\n",
       "<a class=\"col list-group-item-action px-2 py-3\" href=\"/job/30397-product-data-management-analyst-hybrid/\" title=\"View full details of `Product Data Management Analyst (Hybrid)` vacancy\">\n",
       "<div class=\"float-right text-right d-inline-block w-25 ml-2\">\n",
       "<span class=\"d-block d-md-none text-break job-list-item-location\">Long Beach, CA, United …</span>\n",
       "<span class=\"d-none d-md-block text-break job-list-item-location\">Long Beach, CA, United States</span>\n",
       "<span class=\"badge badge-secondary badge-pill my-md-1\">Full Time</span>\n",
       "<div class=\"d-block\">\n",
       "<span class=\"badge badge-info badge-pill my-md-1 d-md-none\">Mid</span>\n",
       "<span class=\"badge badge-info badge-pill my-md-1 d-none d-md-inline-block\">Mid-level</span>\n",
       "</div>\n",
       "</div>\n",
       "<p class=\"m-0 text-muted job-list-item-company\">Lakeshore Learning Materials, LLC</p>\n",
       "<h2 class=\"h4 mb-1\">Product Data Management Analyst (Hybrid)</h2>\n",
       "<span class=\"badge badge-light badge-pill\">Data management</span>\n",
       "<span class=\"badge badge-light badge-pill\">Data Mining</span>\n",
       "<span class=\"badge badge-light badge-pill\">E-commerce</span>\n",
       "<span class=\"badge badge-light badge-pill\">Excel</span>\n",
       "<br/>\n",
       "<span class=\"badge badge-success badge-pill\">Career development</span>\n",
       "<span class=\"badge badge-success badge-pill\">Competitive pay</span>\n",
       "<span class=\"badge badge-success badge-pill\">Fitness / gym</span>\n",
       "<span class=\"badge badge-success badge-pill\">Flex hours</span>\n",
       "<span class=\"badge badge-success badge-pill\">Health care</span>\n",
       "<span class=\"badge badge-success badge-pill\">+2</span>\n",
       "</a>\n",
       "</div>\n",
       "</div>\n",
       "<div class=\"list-group-item px-2 px-lg-3 py-0\">\n",
       "<div class=\"row\">\n",
       "<div class=\"col-2 col-sm-1 px-2 py-3\">\n",
       "<a href=\"/jobs-at-nielseniq/\" title=\"Show all open positions at NielsenIQ\">\n",
       "<img alt=\"NielsenIQ logo\" class=\"mx-auto my-1 d-block\" height=\"48\" loading=\"lazy\" src=\"/media/cache/70/20/7020b443d43b2a3c9938bfc7b0b51245.jpg\" width=\"48\"/>\n",
       "</a>\n",
       "<div class=\"d-flex justify-content-center mt-3\">\n",
       "<a class=\"btn-direct-apply text-dark p-1\" href=\"/J30259/apply/\" id=\"30259\" rel=\"nofollow noopener\" target=\"_blank\" title=\"Apply for this job directly on NielsenIQ's career site\"><i class=\"fas fa-edit\"></i></a>\n",
       "<a class=\"btn-direct-apply text-dark p-1\" href=\"/job/mark/30259/create/\" rel=\"nofollow\" title=\"Save this job for later application\"><i class=\"fas fa-list-ol\"></i></a>\n",
       "</div>\n",
       "</div>\n",
       "<a class=\"col list-group-item-action px-2 py-3\" href=\"/job/30259-data-analyst/\" title=\"View full details of `Data Analyst` vacancy\">\n",
       "<div class=\"float-right text-right d-inline-block w-25 ml-2\">\n",
       "<span class=\"d-block d-md-none text-break job-list-item-location\">Vadodara, India</span>\n",
       "<span class=\"d-none d-md-block text-break job-list-item-location\">Vadodara, India</span>\n",
       "<span class=\"badge badge-secondary badge-pill my-md-1\">Full Time</span>\n",
       "<div class=\"d-block\">\n",
       "<span class=\"badge badge-info badge-pill my-md-1 d-md-none\">Entry</span>\n",
       "<span class=\"badge badge-info badge-pill my-md-1 d-none d-md-inline-block\">Entry-level</span>\n",
       "</div>\n",
       "<div class=\"d-block\">\n",
       "<span class=\"badge badge-success badge-pill d-none d-md-inline-block\">USD 30K - 80K *</span>\n",
       "<span class=\"badge badge-success badge-pill d-md-none\">USD 30K+ *</span>\n",
       "</div>\n",
       "</div>\n",
       "<p class=\"m-0 text-muted job-list-item-company\">NielsenIQ</p>\n",
       "<h2 class=\"h4 mb-1\">Data Analyst</h2>\n",
       "<span class=\"badge badge-light badge-pill\">Computer Science</span>\n",
       "<span class=\"badge badge-light badge-pill\">Data Analytics</span>\n",
       "<span class=\"badge badge-light badge-pill\">Excel</span>\n",
       "<span class=\"badge badge-light badge-pill\">Market research</span>\n",
       "<span class=\"badge badge-light badge-pill\">Mathematics</span>\n",
       "<span class=\"badge badge-light badge-pill\">Python</span>\n",
       "<span class=\"badge badge-light badge-pill\">R</span>\n",
       "<span class=\"badge badge-light badge-pill\">+3</span>\n",
       "<br/>\n",
       "<span class=\"badge badge-success badge-pill\">Flex hours</span>\n",
       "<span class=\"badge badge-success badge-pill\">Health care</span>\n",
       "<span class=\"badge badge-success badge-pill\">Insurance</span>\n",
       "<span class=\"badge badge-success badge-pill\">Parental leave</span>\n",
       "</a>\n",
       "</div>\n",
       "</div>\n",
       "<div class=\"list-group-item px-2 px-lg-3 py-0\">\n",
       "<div class=\"row\">\n",
       "<div class=\"col-2 col-sm-1 px-2 py-3\">\n",
       "<a href=\"/jobs-at-adevinta/\" title=\"Show all open positions at Adevinta\">\n",
       "<img alt=\"Adevinta logo\" class=\"mx-auto my-1 d-block\" height=\"48\" loading=\"lazy\" src=\"/media/cache/26/1f/261ff1dae3fedb624936ba3c73987851.jpg\" width=\"48\"/>\n",
       "</a>\n",
       "<div class=\"d-flex justify-content-center mt-3\">\n",
       "<a class=\"btn-direct-apply text-dark p-1\" href=\"/J30264/apply/\" id=\"30264\" rel=\"nofollow noopener\" target=\"_blank\" title=\"Apply for this job directly on Adevinta's career site\"><i class=\"fas fa-edit\"></i></a>\n",
       "<a class=\"btn-direct-apply text-dark p-1\" href=\"/job/mark/30264/create/\" rel=\"nofollow\" title=\"Save this job for later application\"><i class=\"fas fa-list-ol\"></i></a>\n",
       "</div>\n",
       "</div>\n",
       "<a class=\"col list-group-item-action px-2 py-3\" href=\"/job/30264-product-data-analyst-infojobs/\" title=\"View full details of `Product Data Analyst - Infojobs` vacancy\">\n",
       "<div class=\"float-right text-right d-inline-block w-25 ml-2\">\n",
       "<span class=\"d-block d-md-none text-break job-list-item-location\">Barcelona, Spain</span>\n",
       "<span class=\"d-none d-md-block text-break job-list-item-location\">Barcelona, Spain</span>\n",
       "<span class=\"badge badge-secondary badge-pill my-md-1\">Full Time</span>\n",
       "<div class=\"d-block\">\n",
       "<span class=\"badge badge-info badge-pill my-md-1 d-md-none\">Senior</span>\n",
       "<span class=\"badge badge-info badge-pill my-md-1 d-none d-md-inline-block\">Senior-level</span>\n",
       "</div>\n",
       "<div class=\"d-block\">\n",
       "<span class=\"badge badge-success badge-pill d-none d-md-inline-block\">USD 50K - 85K *</span>\n",
       "<span class=\"badge badge-success badge-pill d-md-none\">USD 50K+ *</span>\n",
       "</div>\n",
       "</div>\n",
       "<p class=\"m-0 text-muted job-list-item-company\">Adevinta</p>\n",
       "<h2 class=\"h4 mb-1\">Product Data Analyst - Infojobs</h2>\n",
       "<span class=\"badge badge-light badge-pill\">Data analysis</span>\n",
       "<span class=\"badge badge-light badge-pill\">E-commerce</span>\n",
       "<span class=\"badge badge-light badge-pill\">KPIs</span>\n",
       "<span class=\"badge badge-light badge-pill\">.NET</span>\n",
       "<span class=\"badge badge-light badge-pill\">Python</span>\n",
       "<span class=\"badge badge-light badge-pill\">R</span>\n",
       "<span class=\"badge badge-light badge-pill\">Research</span>\n",
       "<span class=\"badge badge-light badge-pill\">+2</span>\n",
       "<br/>\n",
       "<span class=\"badge badge-success badge-pill\">Competitive pay</span>\n",
       "<span class=\"badge badge-success badge-pill\">Fitness / gym</span>\n",
       "<span class=\"badge badge-success badge-pill\">Gear</span>\n",
       "<span class=\"badge badge-success badge-pill\">Health care</span>\n",
       "</a>\n",
       "</div>\n",
       "</div>\n",
       "<div class=\"list-group-item px-2 px-lg-3 py-0\">\n",
       "<div class=\"row\">\n",
       "<div class=\"col-2 col-sm-1 px-2 py-3\">\n",
       "<a href=\"/jobs-at-publicis-groupe/\" title=\"Show all open positions at Publicis Groupe\">\n",
       "<img alt=\"Publicis Groupe logo\" class=\"mx-auto my-1 d-block\" height=\"48\" loading=\"lazy\" src=\"/media/cache/a6/53/a653b278988cd1beaecb466acc29b1fc.jpg\" width=\"48\"/>\n",
       "</a>\n",
       "<div class=\"d-flex justify-content-center mt-3\">\n",
       "<a class=\"btn-direct-apply text-dark p-1\" href=\"/J30246/apply/\" id=\"30246\" rel=\"nofollow noopener\" target=\"_blank\" title=\"Apply for this job directly on Publicis Groupe's career site\"><i class=\"fas fa-edit\"></i></a>\n",
       "<a class=\"btn-direct-apply text-dark p-1\" href=\"/job/mark/30246/create/\" rel=\"nofollow\" title=\"Save this job for later application\"><i class=\"fas fa-list-ol\"></i></a>\n",
       "</div>\n",
       "</div>\n",
       "<a class=\"col list-group-item-action px-2 py-3\" href=\"/job/30246-senior-analyst-data-analytics/\" title=\"View full details of `Senior Analyst, Data Analytics` vacancy\">\n",
       "<div class=\"float-right text-right d-inline-block w-25 ml-2\">\n",
       "<span class=\"d-block d-md-none text-break job-list-item-location\">New York City, United …</span>\n",
       "<span class=\"d-none d-md-block text-break job-list-item-location\">New York City, United States</span>\n",
       "<span class=\"badge badge-secondary badge-pill my-md-1\">Full Time</span>\n",
       "<div class=\"d-block\">\n",
       "<span class=\"badge badge-info badge-pill my-md-1 d-md-none\">Senior</span>\n",
       "<span class=\"badge badge-info badge-pill my-md-1 d-none d-md-inline-block\">Senior-level</span>\n",
       "</div>\n",
       "</div>\n",
       "<p class=\"m-0 text-muted job-list-item-company\">Publicis Groupe</p>\n",
       "<h2 class=\"h4 mb-1\">Senior Analyst, Data Analytics</h2>\n",
       "<span class=\"badge badge-light badge-pill\">Business Intelligence</span>\n",
       "<span class=\"badge badge-light badge-pill\">Data Analytics</span>\n",
       "<span class=\"badge badge-light badge-pill\">Data strategy</span>\n",
       "<span class=\"badge badge-light badge-pill\">Excel</span>\n",
       "<span class=\"badge badge-light badge-pill\">Oracle</span>\n",
       "<span class=\"badge badge-light badge-pill\">Research</span>\n",
       "<span class=\"badge badge-light badge-pill\">SQL</span>\n",
       "<span class=\"badge badge-light badge-pill\">+1</span>\n",
       "<br/>\n",
       "</a>\n",
       "</div>\n",
       "</div>\n",
       "<div class=\"list-group-item px-2 px-lg-3 py-0\">\n",
       "<div class=\"row\">\n",
       "<div class=\"col-2 col-sm-1 px-2 py-3\">\n",
       "<a href=\"/jobs-at-itw/\" title=\"Show all open positions at ITW\">\n",
       "<img alt=\"ITW logo\" class=\"mx-auto my-1 d-block\" height=\"48\" loading=\"lazy\" src=\"/media/cache/f9/78/f978bab6e3fd35efd90da5c6a7b3daa5.jpg\" width=\"48\"/>\n",
       "</a>\n",
       "<div class=\"d-flex justify-content-center mt-3\">\n",
       "<a class=\"btn-direct-apply text-dark p-1\" href=\"/J30404/apply/\" id=\"30404\" rel=\"nofollow noopener\" target=\"_blank\" title=\"Apply for this job directly on ITW's career site\"><i class=\"fas fa-edit\"></i></a>\n",
       "<a class=\"btn-direct-apply text-dark p-1\" href=\"/job/mark/30404/create/\" rel=\"nofollow\" title=\"Save this job for later application\"><i class=\"fas fa-list-ol\"></i></a>\n",
       "</div>\n",
       "</div>\n",
       "<a class=\"col list-group-item-action px-2 py-3\" href=\"/job/30404-marketing-data-analyst/\" title=\"View full details of `Marketing Data Analyst` vacancy\">\n",
       "<div class=\"float-right text-right d-inline-block w-25 ml-2\">\n",
       "<span class=\"d-block d-md-none text-break job-list-item-location\">Carol Stream, IL, United …</span>\n",
       "<span class=\"d-none d-md-block text-break job-list-item-location\">Carol Stream, IL, United States</span>\n",
       "<span class=\"badge badge-secondary badge-pill my-md-1\">Full Time</span>\n",
       "<div class=\"d-block\">\n",
       "<span class=\"badge badge-info badge-pill my-md-1 d-md-none\">Senior</span>\n",
       "<span class=\"badge badge-info badge-pill my-md-1 d-none d-md-inline-block\">Senior-level</span>\n",
       "</div>\n",
       "</div>\n",
       "<p class=\"m-0 text-muted job-list-item-company\">ITW</p>\n",
       "<h2 class=\"h4 mb-1\">Marketing Data Analyst</h2>\n",
       "<span class=\"badge badge-light badge-pill\">Computer Science</span>\n",
       "<span class=\"badge badge-light badge-pill\">Data analysis</span>\n",
       "<span class=\"badge badge-light badge-pill\">Data management</span>\n",
       "<span class=\"badge badge-light badge-pill\">Data visualization</span>\n",
       "<span class=\"badge badge-light badge-pill\">Excel</span>\n",
       "<span class=\"badge badge-light badge-pill\">Machine Learning</span>\n",
       "<span class=\"badge badge-light badge-pill\">Mathematics</span>\n",
       "<span class=\"badge badge-light badge-pill\">+2</span>\n",
       "<br/>\n",
       "<span class=\"badge badge-success badge-pill\">Flex hours</span>\n",
       "</a>\n",
       "</div>\n",
       "</div>\n",
       "<div class=\"list-group-item px-2 px-lg-3 py-0\">\n",
       "<div class=\"row\">\n",
       "<div class=\"col-2 col-sm-1 px-2 py-3\">\n",
       "<a href=\"/jobs-at-deloitte/\" title=\"Show all open positions at Deloitte\">\n",
       "<img alt=\"Deloitte logo\" class=\"mx-auto my-1 d-block\" height=\"48\" loading=\"lazy\" src=\"/media/cache/f8/e9/f8e903c7fbee744d53ba390b4f87c7a8.jpg\" width=\"48\"/>\n",
       "</a>\n",
       "<div class=\"d-flex justify-content-center mt-3\">\n",
       "<a class=\"btn-direct-apply text-dark p-1\" href=\"/J30267/apply/\" id=\"30267\" rel=\"nofollow noopener\" target=\"_blank\" title=\"Apply for this job directly on Deloitte's career site\"><i class=\"fas fa-edit\"></i></a>\n",
       "<a class=\"btn-direct-apply text-dark p-1\" href=\"/job/mark/30267/create/\" rel=\"nofollow\" title=\"Save this job for later application\"><i class=\"fas fa-list-ol\"></i></a>\n",
       "</div>\n",
       "</div>\n",
       "<a class=\"col list-group-item-action px-2 py-3\" href=\"/job/30267-audit-analytics-centre-of-excellence-data-analyst/\" title=\"View full details of `Audit Analytics Centre of Excellence - Data Analyst` vacancy\">\n",
       "<div class=\"float-right text-right d-inline-block w-25 ml-2\">\n",
       "<span class=\"d-block d-md-none text-break job-list-item-location\">Midrand, South Africa</span>\n",
       "<span class=\"d-none d-md-block text-break job-list-item-location\">Midrand, South Africa</span>\n",
       "<span class=\"badge badge-secondary badge-pill my-md-1\">Full Time</span>\n",
       "<div class=\"d-block\">\n",
       "<span class=\"badge badge-info badge-pill my-md-1 d-md-none\">Senior</span>\n",
       "<span class=\"badge badge-info badge-pill my-md-1 d-none d-md-inline-block\">Senior-level</span>\n",
       "</div>\n",
       "<div class=\"d-block\">\n",
       "<span class=\"badge badge-success badge-pill d-none d-md-inline-block\">USD 50K - 85K *</span>\n",
       "<span class=\"badge badge-success badge-pill d-md-none\">USD 50K+ *</span>\n",
       "</div>\n",
       "</div>\n",
       "<p class=\"m-0 text-muted job-list-item-company\">Deloitte</p>\n",
       "<h2 class=\"h4 mb-1\">Audit Analytics Centre of Excellence - Data Analyst</h2>\n",
       "<span class=\"badge badge-light badge-pill\">Accounting concepts</span>\n",
       "<span class=\"badge badge-light badge-pill\">Consulting</span>\n",
       "<span class=\"badge badge-light badge-pill\">Excel</span>\n",
       "<span class=\"badge badge-light badge-pill\">Finance</span>\n",
       "<span class=\"badge badge-light badge-pill\">Security</span>\n",
       "<span class=\"badge badge-light badge-pill\">SQL</span>\n",
       "<span class=\"badge badge-light badge-pill\">Testing</span>\n",
       "<br/>\n",
       "<span class=\"badge badge-success badge-pill\">Career development</span>\n",
       "<span class=\"badge badge-success badge-pill\">Startup environment</span>\n",
       "</a>\n",
       "</div>\n",
       "</div>\n",
       "<div class=\"list-group-item px-2 px-lg-3 py-0\">\n",
       "<div class=\"row\">\n",
       "<div class=\"col-2 col-sm-1 px-2 py-3\">\n",
       "<a href=\"/jobs-at-boskalis/\" title=\"Show all open positions at Boskalis\">\n",
       "<img alt=\"Boskalis logo\" class=\"mx-auto my-1 d-block\" height=\"48\" loading=\"lazy\" src=\"/media/cache/3c/d4/3cd4794e4f05f3571513915161bb2038.jpg\" width=\"48\"/>\n",
       "</a>\n",
       "<div class=\"d-flex justify-content-center mt-3\">\n",
       "<a class=\"btn-direct-apply text-dark p-1\" href=\"/J30234/apply/\" id=\"30234\" rel=\"nofollow noopener\" target=\"_blank\" title=\"Apply for this job directly on Boskalis's career site\"><i class=\"fas fa-edit\"></i></a>\n",
       "<a class=\"btn-direct-apply text-dark p-1\" href=\"/job/mark/30234/create/\" rel=\"nofollow\" title=\"Save this job for later application\"><i class=\"fas fa-list-ol\"></i></a>\n",
       "</div>\n",
       "</div>\n",
       "<a class=\"col list-group-item-action px-2 py-3\" href=\"/job/30234-data-analytics-engineer/\" title=\"View full details of `Data analytics engineer` vacancy\">\n",
       "<div class=\"float-right text-right d-inline-block w-25 ml-2\">\n",
       "<span class=\"d-block d-md-none text-break job-list-item-location\">Papendrecht, Netherlands</span>\n",
       "<span class=\"d-none d-md-block text-break job-list-item-location\">Papendrecht, Netherlands</span>\n",
       "<span class=\"badge badge-secondary badge-pill my-md-1\">Full Time</span>\n",
       "<div class=\"d-block\">\n",
       "<span class=\"badge badge-info badge-pill my-md-1 d-md-none\">Mid</span>\n",
       "<span class=\"badge badge-info badge-pill my-md-1 d-none d-md-inline-block\">Mid-level</span>\n",
       "</div>\n",
       "</div>\n",
       "<p class=\"m-0 text-muted job-list-item-company\">Boskalis</p>\n",
       "<h2 class=\"h4 mb-1\">Data analytics engineer</h2>\n",
       "<span class=\"badge badge-light badge-pill\">Azure</span>\n",
       "<span class=\"badge badge-light badge-pill\">Business Analytics</span>\n",
       "<span class=\"badge badge-light badge-pill\">Data Analytics</span>\n",
       "<span class=\"badge badge-light badge-pill\">Data management</span>\n",
       "<span class=\"badge badge-light badge-pill\">ETL</span>\n",
       "<span class=\"badge badge-light badge-pill\">Excel</span>\n",
       "<span class=\"badge badge-light badge-pill\">Power BI</span>\n",
       "<span class=\"badge badge-light badge-pill\">+1</span>\n",
       "<br/>\n",
       "<span class=\"badge badge-success badge-pill\">Career development</span>\n",
       "<span class=\"badge badge-success badge-pill\">Competitive pay</span>\n",
       "<span class=\"badge badge-success badge-pill\">Startup environment</span>\n",
       "<span class=\"badge badge-success badge-pill\">Team events</span>\n",
       "<span class=\"badge badge-success badge-pill\">Yoga</span>\n",
       "</a>\n",
       "</div>\n",
       "</div>\n",
       "<div class=\"list-group-item px-2 px-lg-3 py-0\">\n",
       "<div class=\"row\">\n",
       "<div class=\"col-2 col-sm-1 px-2 py-3\">\n",
       "<a href=\"/jobs-at-experian/\" title=\"Show all open positions at Experian\">\n",
       "<img alt=\"Experian logo\" class=\"mx-auto my-1 d-block\" height=\"48\" loading=\"lazy\" src=\"/media/cache/79/f7/79f795c1b4ebbcfb4c60d3948721a210.jpg\" width=\"48\"/>\n",
       "</a>\n",
       "<div class=\"d-flex justify-content-center mt-3\">\n",
       "<a class=\"btn-direct-apply text-dark p-1\" href=\"/J30268/apply/\" id=\"30268\" rel=\"nofollow noopener\" target=\"_blank\" title=\"Apply for this job directly on Experian's career site\"><i class=\"fas fa-edit\"></i></a>\n",
       "<a class=\"btn-direct-apply text-dark p-1\" href=\"/job/mark/30268/create/\" rel=\"nofollow\" title=\"Save this job for later application\"><i class=\"fas fa-list-ol\"></i></a>\n",
       "</div>\n",
       "</div>\n",
       "<a class=\"col list-group-item-action px-2 py-3\" href=\"/job/30268-data-analyst-industrial-placement-student-nottingham/\" title=\"View full details of `Data Analyst  Industrial Placement Student (Nottingham)` vacancy\">\n",
       "<div class=\"float-right text-right d-inline-block w-25 ml-2\">\n",
       "<span class=\"d-block d-md-none text-break job-list-item-location\">Nottingham, United Kingdom</span>\n",
       "<span class=\"d-none d-md-block text-break job-list-item-location\">Nottingham, United Kingdom</span>\n",
       "<span class=\"badge badge-secondary badge-pill my-md-1\">Full Time</span>\n",
       "<div class=\"d-block\">\n",
       "<span class=\"badge badge-info badge-pill my-md-1 d-md-none\">Entry</span>\n",
       "<span class=\"badge badge-info badge-pill my-md-1 d-none d-md-inline-block\">Entry-level</span>\n",
       "</div>\n",
       "<div class=\"d-block\">\n",
       "<span class=\"badge badge-success badge-pill d-none d-md-inline-block\">USD 30K - 80K *</span>\n",
       "<span class=\"badge badge-success badge-pill d-md-none\">USD 30K+ *</span>\n",
       "</div>\n",
       "</div>\n",
       "<p class=\"m-0 text-muted job-list-item-company\">Experian</p>\n",
       "<h2 class=\"h4 mb-1\">Data Analyst  Industrial Placement Student (Nottingham)</h2>\n",
       "<span class=\"badge badge-light badge-pill\">Computer Science</span>\n",
       "<span class=\"badge badge-light badge-pill\">Data Analytics</span>\n",
       "<span class=\"badge badge-light badge-pill\">Economics</span>\n",
       "<span class=\"badge badge-light badge-pill\">Engineering</span>\n",
       "<span class=\"badge badge-light badge-pill\">Industrial</span>\n",
       "<span class=\"badge badge-light badge-pill\">Machine Learning</span>\n",
       "<span class=\"badge badge-light badge-pill\">Mathematics</span>\n",
       "<span class=\"badge badge-light badge-pill\">+7</span>\n",
       "<br/>\n",
       "<span class=\"badge badge-success badge-pill\">Career development</span>\n",
       "<span class=\"badge badge-success badge-pill\">Equity</span>\n",
       "<span class=\"badge badge-success badge-pill\">Flex hours</span>\n",
       "<span class=\"badge badge-success badge-pill\">Health care</span>\n",
       "<span class=\"badge badge-success badge-pill\">Wellness</span>\n",
       "</a>\n",
       "</div>\n",
       "</div>\n",
       "<div class=\"list-group-item px-2 px-lg-3 py-0\">\n",
       "<div class=\"row\">\n",
       "<div class=\"col-2 col-sm-1 px-2 py-3\">\n",
       "<a href=\"/jobs-at-2nd-watch/\" title=\"Show all open positions at 2nd Watch\">\n",
       "<img alt=\"2nd Watch logo\" class=\"mx-auto my-1 d-block\" height=\"48\" loading=\"lazy\" src=\"/media/cache/7a/7c/7a7cc33a2efd126bdb0ea956e38e9fa8.jpg\" width=\"48\"/>\n",
       "</a>\n",
       "<div class=\"d-flex justify-content-center mt-3\">\n",
       "<a class=\"btn-direct-apply text-dark p-1\" href=\"/J30261/apply/\" id=\"30261\" rel=\"nofollow noopener\" target=\"_blank\" title=\"Apply for this job directly on 2nd Watch's career site\"><i class=\"fas fa-edit\"></i></a>\n",
       "<a class=\"btn-direct-apply text-dark p-1\" href=\"/job/mark/30261/create/\" rel=\"nofollow\" title=\"Save this job for later application\"><i class=\"fas fa-list-ol\"></i></a>\n",
       "</div>\n",
       "</div>\n",
       "<a class=\"col list-group-item-action px-2 py-3\" href=\"/job/30261-sr-technical-data-analyst/\" title=\"View full details of `Sr. Technical Data Analyst` vacancy\">\n",
       "<div class=\"float-right text-right d-inline-block w-25 ml-2\">\n",
       "<span class=\"d-block d-md-none text-break job-list-item-location\">Liberty Lake, WA, United …</span>\n",
       "<span class=\"d-none d-md-block text-break job-list-item-location\">Liberty Lake, WA, United States</span>\n",
       "<span class=\"badge badge-secondary badge-pill my-md-1\">Full Time</span>\n",
       "<div class=\"d-block\">\n",
       "<span class=\"badge badge-info badge-pill my-md-1 d-md-none\">Senior</span>\n",
       "<span class=\"badge badge-info badge-pill my-md-1 d-none d-md-inline-block\">Senior-level</span>\n",
       "</div>\n",
       "<div class=\"d-block\">\n",
       "<span class=\"badge badge-success badge-pill d-none d-md-inline-block\">USD 50K - 85K *</span>\n",
       "<span class=\"badge badge-success badge-pill d-md-none\">USD 50K+ *</span>\n",
       "</div>\n",
       "</div>\n",
       "<p class=\"m-0 text-muted job-list-item-company\">2nd Watch</p>\n",
       "<h2 class=\"h4 mb-1\">Sr. Technical Data Analyst</h2>\n",
       "<span class=\"badge badge-light badge-pill\">AWS</span>\n",
       "<span class=\"badge badge-light badge-pill\">Azure</span>\n",
       "<span class=\"badge badge-light badge-pill\">Consulting</span>\n",
       "<span class=\"badge badge-light badge-pill\">Data management</span>\n",
       "<span class=\"badge badge-light badge-pill\">Data pipelines</span>\n",
       "<span class=\"badge badge-light badge-pill\">Data Warehousing</span>\n",
       "<span class=\"badge badge-light badge-pill\">DevOps</span>\n",
       "<span class=\"badge badge-light badge-pill\">+12</span>\n",
       "<br/>\n",
       "<span class=\"badge badge-success badge-pill\">Health care</span>\n",
       "<span class=\"badge badge-success badge-pill\">Salary bonus</span>\n",
       "</a>\n",
       "</div>\n",
       "</div>\n",
       "<div class=\"list-group-item px-2 px-lg-3 py-0\">\n",
       "<div class=\"row\">\n",
       "<div class=\"col-2 col-sm-1 px-2 py-3\">\n",
       "<a href=\"/jobs-at-ubisoft/\" title=\"Show all open positions at Ubisoft\">\n",
       "<img alt=\"Ubisoft logo\" class=\"mx-auto my-1 d-block\" height=\"48\" loading=\"lazy\" src=\"/media/cache/a7/72/a772f0d7f3e0e153e2dd4f12c3fad0ad.jpg\" width=\"48\"/>\n",
       "</a>\n",
       "<div class=\"d-flex justify-content-center mt-3\">\n",
       "<a class=\"btn-direct-apply text-dark p-1\" href=\"/J30189/apply/\" id=\"30189\" rel=\"nofollow noopener\" target=\"_blank\" title=\"Apply for this job directly on Ubisoft's career site\"><i class=\"fas fa-edit\"></i></a>\n",
       "<a class=\"btn-direct-apply text-dark p-1\" href=\"/job/mark/30189/create/\" rel=\"nofollow\" title=\"Save this job for later application\"><i class=\"fas fa-list-ol\"></i></a>\n",
       "</div>\n",
       "</div>\n",
       "<a class=\"col list-group-item-action px-2 py-3\" href=\"/job/30189-data-analyst/\" title=\"View full details of `Data Analyst` vacancy\">\n",
       "<div class=\"float-right text-right d-inline-block w-25 ml-2\">\n",
       "<span class=\"d-block d-md-none text-break job-list-item-location\">Singapore, Singapore</span>\n",
       "<span class=\"d-none d-md-block text-break job-list-item-location\">Singapore, Singapore</span>\n",
       "<span class=\"badge badge-secondary badge-pill my-md-1\">Full Time</span>\n",
       "<div class=\"d-block\">\n",
       "<span class=\"badge badge-info badge-pill my-md-1 d-md-none\">Senior</span>\n",
       "<span class=\"badge badge-info badge-pill my-md-1 d-none d-md-inline-block\">Senior-level</span>\n",
       "</div>\n",
       "<div class=\"d-block\">\n",
       "<span class=\"badge badge-success badge-pill d-none d-md-inline-block\">USD 50K - 85K *</span>\n",
       "<span class=\"badge badge-success badge-pill d-md-none\">USD 50K+ *</span>\n",
       "</div>\n",
       "</div>\n",
       "<p class=\"m-0 text-muted job-list-item-company\">Ubisoft</p>\n",
       "<h2 class=\"h4 mb-1\">Data Analyst</h2>\n",
       "<span class=\"badge badge-light badge-pill\">APIs</span>\n",
       "<span class=\"badge badge-light badge-pill\">Business Analytics</span>\n",
       "<span class=\"badge badge-light badge-pill\">Computer Science</span>\n",
       "<span class=\"badge badge-light badge-pill\">Economics</span>\n",
       "<span class=\"badge badge-light badge-pill\">Engineering</span>\n",
       "<span class=\"badge badge-light badge-pill\">ETL</span>\n",
       "<span class=\"badge badge-light badge-pill\">GitHub</span>\n",
       "<span class=\"badge badge-light badge-pill\">+10</span>\n",
       "<br/>\n",
       "<span class=\"badge badge-success badge-pill\">Career development</span>\n",
       "<span class=\"badge badge-success badge-pill\">Flex hours</span>\n",
       "</a>\n",
       "</div>\n",
       "</div>\n",
       "<div class=\"list-group-item px-2 px-lg-3 py-0\">\n",
       "<div class=\"row\">\n",
       "<div class=\"col-2 col-sm-1 px-2 py-3\">\n",
       "<a href=\"/jobs-at-verisk/\" title=\"Show all open positions at Verisk\">\n",
       "<img alt=\"Verisk logo\" class=\"mx-auto my-1 d-block\" height=\"48\" loading=\"lazy\" src=\"/media/cache/93/58/9358175a0844de0c02467cebdabd28f7.jpg\" width=\"48\"/>\n",
       "</a>\n",
       "<div class=\"d-flex justify-content-center mt-3\">\n",
       "<a class=\"btn-direct-apply text-dark p-1\" href=\"/J30190/apply/\" id=\"30190\" rel=\"nofollow noopener\" target=\"_blank\" title=\"Apply for this job directly on Verisk's career site\"><i class=\"fas fa-edit\"></i></a>\n",
       "<a class=\"btn-direct-apply text-dark p-1\" href=\"/job/mark/30190/create/\" rel=\"nofollow\" title=\"Save this job for later application\"><i class=\"fas fa-list-ol\"></i></a>\n",
       "</div>\n",
       "</div>\n",
       "<a class=\"col list-group-item-action px-2 py-3\" href=\"/job/30190-lead-pc-industry-financial-data-analyst/\" title=\"View full details of `Lead, P&amp;C Industry Financial Data Analyst` vacancy\">\n",
       "<div class=\"float-right text-right d-inline-block w-25 ml-2\">\n",
       "<span class=\"d-block d-md-none text-break job-list-item-location\">Jersey City, NJ, United …</span>\n",
       "<span class=\"d-none d-md-block text-break job-list-item-location\">Jersey City, NJ, United States</span>\n",
       "<span class=\"badge badge-secondary badge-pill my-md-1\">Full Time</span>\n",
       "<div class=\"d-block\">\n",
       "<span class=\"badge badge-success badge-pill d-none d-md-inline-block\">USD 50K - 85K *</span>\n",
       "<span class=\"badge badge-success badge-pill d-md-none\">USD 50K+ *</span>\n",
       "</div>\n",
       "</div>\n",
       "<p class=\"m-0 text-muted job-list-item-company\">Verisk</p>\n",
       "<h2 class=\"h4 mb-1\">Lead, P&amp;C Industry Financial Data Analyst</h2>\n",
       "<span class=\"badge badge-light badge-pill\">Data analysis</span>\n",
       "<span class=\"badge badge-light badge-pill\">Economics</span>\n",
       "<span class=\"badge badge-light badge-pill\">Excel</span>\n",
       "<span class=\"badge badge-light badge-pill\">Machine Learning</span>\n",
       "<br/>\n",
       "<span class=\"badge badge-success badge-pill\">Career development</span>\n",
       "<span class=\"badge badge-success badge-pill\">Equity</span>\n",
       "<span class=\"badge badge-success badge-pill\">Insurance</span>\n",
       "<span class=\"badge badge-success badge-pill\">Team events</span>\n",
       "</a>\n",
       "</div>\n",
       "</div>\n",
       "<div class=\"list-group-item px-2 px-lg-3 py-0\">\n",
       "<div class=\"row\">\n",
       "<div class=\"col-2 col-sm-1 px-2 py-3\">\n",
       "<a href=\"/jobs-at-nielseniq/\" title=\"Show all open positions at NielsenIQ\">\n",
       "<img alt=\"NielsenIQ logo\" class=\"mx-auto my-1 d-block\" height=\"48\" loading=\"lazy\" src=\"/media/cache/70/20/7020b443d43b2a3c9938bfc7b0b51245.jpg\" width=\"48\"/>\n",
       "</a>\n",
       "<div class=\"d-flex justify-content-center mt-3\">\n",
       "<a class=\"btn-direct-apply text-dark p-1\" href=\"/J30272/apply/\" id=\"30272\" rel=\"nofollow noopener\" target=\"_blank\" title=\"Apply for this job directly on NielsenIQ's career site\"><i class=\"fas fa-edit\"></i></a>\n",
       "<a class=\"btn-direct-apply text-dark p-1\" href=\"/job/mark/30272/create/\" rel=\"nofollow\" title=\"Save this job for later application\"><i class=\"fas fa-list-ol\"></i></a>\n",
       "</div>\n",
       "</div>\n",
       "<a class=\"col list-group-item-action px-2 py-3\" href=\"/job/30272-bi-analyst/\" title=\"View full details of `BI Analyst` vacancy\">\n",
       "<div class=\"float-right text-right d-inline-block w-25 ml-2\">\n",
       "<span class=\"d-block d-md-none text-break job-list-item-location\">Woking, United Kingdom</span>\n",
       "<span class=\"d-none d-md-block text-break job-list-item-location\">Woking, United Kingdom</span>\n",
       "<span class=\"badge badge-secondary badge-pill my-md-1\">Full Time</span>\n",
       "<div class=\"d-block\">\n",
       "<span class=\"badge badge-info badge-pill my-md-1 d-md-none\">Entry</span>\n",
       "<span class=\"badge badge-info badge-pill my-md-1 d-none d-md-inline-block\">Entry-level</span>\n",
       "</div>\n",
       "</div>\n",
       "<p class=\"m-0 text-muted job-list-item-company\">NielsenIQ</p>\n",
       "<h2 class=\"h4 mb-1\">BI Analyst</h2>\n",
       "<span class=\"badge badge-light badge-pill\">Data Analytics</span>\n",
       "<span class=\"badge badge-light badge-pill\">Dataflow</span>\n",
       "<span class=\"badge badge-light badge-pill\">Excel</span>\n",
       "<span class=\"badge badge-light badge-pill\">Linux</span>\n",
       "<span class=\"badge badge-light badge-pill\">Market research</span>\n",
       "<span class=\"badge badge-light badge-pill\">Power BI</span>\n",
       "<span class=\"badge badge-light badge-pill\">Research</span>\n",
       "<span class=\"badge badge-light badge-pill\">+2</span>\n",
       "<br/>\n",
       "<span class=\"badge badge-success badge-pill\">Flex hours</span>\n",
       "<span class=\"badge badge-success badge-pill\">Health care</span>\n",
       "<span class=\"badge badge-success badge-pill\">Insurance</span>\n",
       "<span class=\"badge badge-success badge-pill\">Parental leave</span>\n",
       "</a>\n",
       "</div>\n",
       "</div>\n",
       "<div class=\"list-group-item px-2 px-lg-3 py-0\">\n",
       "<div class=\"row\">\n",
       "<div class=\"col-2 col-sm-1 px-2 py-3\">\n",
       "<a href=\"/jobs-at-bosch-group/\" title=\"Show all open positions at Bosch Group\">\n",
       "<img alt=\"Bosch Group logo\" class=\"mx-auto my-1 d-block\" height=\"48\" loading=\"lazy\" src=\"/media/cache/60/3c/603c8e150099e49ae5fa9f34a6b64fab.jpg\" width=\"48\"/>\n",
       "</a>\n",
       "<div class=\"d-flex justify-content-center mt-3\">\n",
       "<a class=\"btn-direct-apply text-dark p-1\" href=\"/J30195/apply/\" id=\"30195\" rel=\"nofollow noopener\" target=\"_blank\" title=\"Apply for this job directly on Bosch Group's career site\"><i class=\"fas fa-edit\"></i></a>\n",
       "<a class=\"btn-direct-apply text-dark p-1\" href=\"/job/mark/30195/create/\" rel=\"nofollow\" title=\"Save this job for later application\"><i class=\"fas fa-list-ol\"></i></a>\n",
       "</div>\n",
       "</div>\n",
       "<a class=\"col list-group-item-action px-2 py-3\" href=\"/job/30195-strategy-manager-for-bosch-data-analytics-and-ai/\" title=\"View full details of `Strategy Manager for Bosch Data Analytics and AI` vacancy\">\n",
       "<div class=\"float-right text-right d-inline-block w-25 ml-2\">\n",
       "<span class=\"d-block d-md-none text-break job-list-item-location\">Bengaluru, India</span>\n",
       "<span class=\"d-none d-md-block text-break job-list-item-location\">Bengaluru, India</span>\n",
       "<span class=\"badge badge-secondary badge-pill my-md-1\">Full Time</span>\n",
       "<div class=\"d-block\">\n",
       "<span class=\"badge badge-info badge-pill my-md-1 d-md-none\">Executive</span>\n",
       "<span class=\"badge badge-info badge-pill my-md-1 d-none d-md-inline-block\">Executive-level</span>\n",
       "</div>\n",
       "</div>\n",
       "<p class=\"m-0 text-muted job-list-item-company\">Bosch Group</p>\n",
       "<h2 class=\"h4 mb-1\">Strategy Manager for Bosch Data Analytics and AI</h2>\n",
       "<span class=\"badge badge-light badge-pill\">Computer Science</span>\n",
       "<span class=\"badge badge-light badge-pill\">Computer Vision</span>\n",
       "<span class=\"badge badge-light badge-pill\">Data Analytics</span>\n",
       "<span class=\"badge badge-light badge-pill\">Engineering</span>\n",
       "<span class=\"badge badge-light badge-pill\">Industrial</span>\n",
       "<span class=\"badge badge-light badge-pill\">Machine Learning</span>\n",
       "<span class=\"badge badge-light badge-pill\">NLP</span>\n",
       "<br/>\n",
       "<span class=\"badge badge-success badge-pill\">Career development</span>\n",
       "<span class=\"badge badge-success badge-pill\">Startup environment</span>\n",
       "</a>\n",
       "</div>\n",
       "</div>\n",
       "<div class=\"list-group-item px-2 px-lg-3 py-0\">\n",
       "<div class=\"row\">\n",
       "<div class=\"col-2 col-sm-1 px-2 py-3\">\n",
       "<a href=\"/jobs-at-necsws/\" title=\"Show all open positions at NECSWS\">\n",
       "<img alt=\"NECSWS logo\" class=\"mx-auto my-1 d-block\" height=\"48\" loading=\"lazy\" src=\"/media/cache/6b/aa/6baa95371e44b9e3e835a06dfcf14777.jpg\" width=\"48\"/>\n",
       "</a>\n",
       "<div class=\"d-flex justify-content-center mt-3\">\n",
       "<a class=\"btn-direct-apply text-dark p-1\" href=\"/J30191/apply/\" id=\"30191\" rel=\"nofollow noopener\" target=\"_blank\" title=\"Apply for this job directly on NECSWS's career site\"><i class=\"fas fa-edit\"></i></a>\n",
       "<a class=\"btn-direct-apply text-dark p-1\" href=\"/job/mark/30191/create/\" rel=\"nofollow\" title=\"Save this job for later application\"><i class=\"fas fa-list-ol\"></i></a>\n",
       "</div>\n",
       "</div>\n",
       "<a class=\"col list-group-item-action px-2 py-3\" href=\"/job/30191-healthcare-data-analyst/\" title=\"View full details of `Healthcare Data Analyst` vacancy\">\n",
       "<div class=\"float-right text-right d-inline-block w-25 ml-2\">\n",
       "<span class=\"d-block d-md-none text-break job-list-item-location\">Hemel Hempstead, United Kingdom</span>\n",
       "<span class=\"d-none d-md-block text-break job-list-item-location\">Hemel Hempstead, United Kingdom</span>\n",
       "<span class=\"badge badge-secondary badge-pill my-md-1\">Full Time</span>\n",
       "<div class=\"d-block\">\n",
       "<span class=\"badge badge-info badge-pill my-md-1 d-md-none\">Mid</span>\n",
       "<span class=\"badge badge-info badge-pill my-md-1 d-none d-md-inline-block\">Mid-level</span>\n",
       "</div>\n",
       "<div class=\"d-block\">\n",
       "<span class=\"badge badge-success badge-pill d-none d-md-inline-block\">USD 51K - 90K *</span>\n",
       "<span class=\"badge badge-success badge-pill d-md-none\">USD 51K+ *</span>\n",
       "</div>\n",
       "</div>\n",
       "<p class=\"m-0 text-muted job-list-item-company\">NECSWS</p>\n",
       "<h2 class=\"h4 mb-1\">Healthcare Data Analyst</h2>\n",
       "<span class=\"badge badge-light badge-pill\">Business Intelligence</span>\n",
       "<span class=\"badge badge-light badge-pill\">SQL</span>\n",
       "<br/>\n",
       "<span class=\"badge badge-success badge-pill\">Career development</span>\n",
       "<span class=\"badge badge-success badge-pill\">Flex hours</span>\n",
       "</a>\n",
       "</div>\n",
       "</div>\n",
       "<div class=\"list-group-item px-2 px-lg-3 py-0\">\n",
       "<div class=\"row\">\n",
       "<div class=\"col-2 col-sm-1 px-2 py-3\">\n",
       "<a href=\"/jobs-at-zscaler/\" title=\"Show all open positions at Zscaler\">\n",
       "<img alt=\"Zscaler logo\" class=\"mx-auto my-1 d-block\" height=\"48\" loading=\"lazy\" src=\"/media/cache/b8/36/b836f42e3a639686b22da55087e3026a.jpg\" width=\"48\"/>\n",
       "</a>\n",
       "<div class=\"d-flex justify-content-center mt-3\">\n",
       "<a class=\"btn-direct-apply text-dark p-1\" href=\"/J30193/apply/\" id=\"30193\" rel=\"nofollow noopener\" target=\"_blank\" title=\"Apply for this job directly on Zscaler's career site\"><i class=\"fas fa-edit\"></i></a>\n",
       "<a class=\"btn-direct-apply text-dark p-1\" href=\"/job/mark/30193/create/\" rel=\"nofollow\" title=\"Save this job for later application\"><i class=\"fas fa-list-ol\"></i></a>\n",
       "</div>\n",
       "</div>\n",
       "<a class=\"col list-group-item-action px-2 py-3\" href=\"/job/30193-financial-data-analyst/\" title=\"View full details of `Financial Data Analyst` vacancy\">\n",
       "<div class=\"float-right text-right d-inline-block w-25 ml-2\">\n",
       "<span class=\"d-block d-md-none text-break job-list-item-location\">Sahibzada Ajit Singh Nagar, …</span>\n",
       "<span class=\"d-none d-md-block text-break job-list-item-location\">Sahibzada Ajit Singh Nagar, India</span>\n",
       "<span class=\"badge badge-secondary badge-pill my-md-1\">Full Time</span>\n",
       "<div class=\"d-block\">\n",
       "<span class=\"badge badge-info badge-pill my-md-1 d-md-none\">Senior</span>\n",
       "<span class=\"badge badge-info badge-pill my-md-1 d-none d-md-inline-block\">Senior-level</span>\n",
       "</div>\n",
       "</div>\n",
       "<p class=\"m-0 text-muted job-list-item-company\">Zscaler</p>\n",
       "<h2 class=\"h4 mb-1\">Financial Data Analyst</h2>\n",
       "<span class=\"badge badge-light badge-pill\">Data Analytics</span>\n",
       "<span class=\"badge badge-light badge-pill\">Data management</span>\n",
       "<span class=\"badge badge-light badge-pill\">Data strategy</span>\n",
       "<span class=\"badge badge-light badge-pill\">Data visualization</span>\n",
       "<span class=\"badge badge-light badge-pill\">Economics</span>\n",
       "<span class=\"badge badge-light badge-pill\">Engineering</span>\n",
       "<span class=\"badge badge-light badge-pill\">Excel</span>\n",
       "<span class=\"badge badge-light badge-pill\">+6</span>\n",
       "<br/>\n",
       "</a>\n",
       "</div>\n",
       "</div>\n",
       "<div class=\"list-group-item px-2 px-lg-3 py-0\">\n",
       "<div class=\"row\">\n",
       "<div class=\"col-2 col-sm-1 px-2 py-3\">\n",
       "<a href=\"/jobs-at-syngenta-group/\" title=\"Show all open positions at Syngenta Group\">\n",
       "<img alt=\"Syngenta Group logo\" class=\"mx-auto my-1 d-block\" height=\"48\" loading=\"lazy\" src=\"/media/cache/f0/88/f088f00d0383308c0470312a100b2f60.jpg\" width=\"48\"/>\n",
       "</a>\n",
       "<div class=\"d-flex justify-content-center mt-3\">\n",
       "<a class=\"btn-direct-apply text-dark p-1\" href=\"/J30251/apply/\" id=\"30251\" rel=\"nofollow noopener\" target=\"_blank\" title=\"Apply for this job directly on Syngenta Group's career site\"><i class=\"fas fa-edit\"></i></a>\n",
       "<a class=\"btn-direct-apply text-dark p-1\" href=\"/job/mark/30251/create/\" rel=\"nofollow\" title=\"Save this job for later application\"><i class=\"fas fa-list-ol\"></i></a>\n",
       "</div>\n",
       "</div>\n",
       "<a class=\"col list-group-item-action px-2 py-3\" href=\"/job/30251-logistics-data-analyst-fixed-term-position-12-months/\" title=\"View full details of `Logistics Data Analyst (Fixed term position 12 months)` vacancy\">\n",
       "<div class=\"float-right text-right d-inline-block w-25 ml-2\">\n",
       "<span class=\"d-block d-md-none text-break job-list-item-location\">Montevideo, Uruguay</span>\n",
       "<span class=\"d-none d-md-block text-break job-list-item-location\">Montevideo, Uruguay</span>\n",
       "<span class=\"badge badge-secondary badge-pill my-md-1\">Full Time</span>\n",
       "<span class=\"badge badge-secondary badge-pill my-md-1\">Contract</span>\n",
       "<div class=\"d-block\">\n",
       "<span class=\"badge badge-info badge-pill my-md-1 d-md-none\">Entry</span>\n",
       "<span class=\"badge badge-info badge-pill my-md-1 d-none d-md-inline-block\">Entry-level</span>\n",
       "</div>\n",
       "<div class=\"d-block\">\n",
       "<span class=\"badge badge-success badge-pill d-none d-md-inline-block\">USD 30K - 80K *</span>\n",
       "<span class=\"badge badge-success badge-pill d-md-none\">USD 30K+ *</span>\n",
       "</div>\n",
       "</div>\n",
       "<p class=\"m-0 text-muted job-list-item-company\">Syngenta Group</p>\n",
       "<h2 class=\"h4 mb-1\">Logistics Data Analyst (Fixed term position 12 months)</h2>\n",
       "<span class=\"badge badge-light badge-pill\">Data Analytics</span>\n",
       "<span class=\"badge badge-light badge-pill\">Data management</span>\n",
       "<span class=\"badge badge-light badge-pill\">Engineering</span>\n",
       "<span class=\"badge badge-light badge-pill\">Finance</span>\n",
       "<span class=\"badge badge-light badge-pill\">KPIs</span>\n",
       "<span class=\"badge badge-light badge-pill\">Power BI</span>\n",
       "<span class=\"badge badge-light badge-pill\">Qlik</span>\n",
       "<br/>\n",
       "<span class=\"badge badge-success badge-pill\">Career development</span>\n",
       "<span class=\"badge badge-success badge-pill\">Competitive pay</span>\n",
       "<span class=\"badge badge-success badge-pill\">Relocation support</span>\n",
       "<span class=\"badge badge-success badge-pill\">Team events</span>\n",
       "</a>\n",
       "</div>\n",
       "</div>\n",
       "<div class=\"list-group-item px-2 px-lg-3 py-0\">\n",
       "<div class=\"row\">\n",
       "<div class=\"col-2 col-sm-1 px-2 py-3\">\n",
       "<a href=\"/jobs-at-boskalis/\" title=\"Show all open positions at Boskalis\">\n",
       "<img alt=\"Boskalis logo\" class=\"mx-auto my-1 d-block\" height=\"48\" loading=\"lazy\" src=\"/media/cache/3c/d4/3cd4794e4f05f3571513915161bb2038.jpg\" width=\"48\"/>\n",
       "</a>\n",
       "<div class=\"d-flex justify-content-center mt-3\">\n",
       "<a class=\"btn-direct-apply text-dark p-1\" href=\"/J30236/apply/\" id=\"30236\" rel=\"nofollow noopener\" target=\"_blank\" title=\"Apply for this job directly on Boskalis's career site\"><i class=\"fas fa-edit\"></i></a>\n",
       "<a class=\"btn-direct-apply text-dark p-1\" href=\"/job/mark/30236/create/\" rel=\"nofollow\" title=\"Save this job for later application\"><i class=\"fas fa-list-ol\"></i></a>\n",
       "</div>\n",
       "</div>\n",
       "<a class=\"col list-group-item-action px-2 py-3\" href=\"/job/30236-data-analytics-engineer-abu-dhabi/\" title=\"View full details of `Data Analytics Engineer Abu Dhabi` vacancy\">\n",
       "<div class=\"float-right text-right d-inline-block w-25 ml-2\">\n",
       "<span class=\"d-block d-md-none text-break job-list-item-location\">Abu Dhabi, United Arab …</span>\n",
       "<span class=\"d-none d-md-block text-break job-list-item-location\">Abu Dhabi, United Arab Emirates</span>\n",
       "<span class=\"badge badge-secondary badge-pill my-md-1\">Full Time</span>\n",
       "<div class=\"d-block\">\n",
       "<span class=\"badge badge-info badge-pill my-md-1 d-md-none\">Senior</span>\n",
       "<span class=\"badge badge-info badge-pill my-md-1 d-none d-md-inline-block\">Senior-level</span>\n",
       "</div>\n",
       "</div>\n",
       "<p class=\"m-0 text-muted job-list-item-company\">Boskalis</p>\n",
       "<h2 class=\"h4 mb-1\">Data Analytics Engineer Abu Dhabi</h2>\n",
       "<span class=\"badge badge-light badge-pill\">Azure</span>\n",
       "<span class=\"badge badge-light badge-pill\">Data Analytics</span>\n",
       "<span class=\"badge badge-light badge-pill\">Engineering</span>\n",
       "<span class=\"badge badge-light badge-pill\">ETL</span>\n",
       "<span class=\"badge badge-light badge-pill\">Excel</span>\n",
       "<span class=\"badge badge-light badge-pill\">Power BI</span>\n",
       "<span class=\"badge badge-light badge-pill\">SQL</span>\n",
       "<br/>\n",
       "<span class=\"badge badge-success badge-pill\">Career development</span>\n",
       "<span class=\"badge badge-success badge-pill\">Competitive pay</span>\n",
       "<span class=\"badge badge-success badge-pill\">Flex vacation</span>\n",
       "</a>\n",
       "</div>\n",
       "</div>\n",
       "<div class=\"list-group-item px-2 px-lg-3 py-0\">\n",
       "<div class=\"row\">\n",
       "<div class=\"col-2 col-sm-1 px-2 py-3\">\n",
       "<a href=\"/jobs-at-sutherland/\" title=\"Show all open positions at Sutherland\">\n",
       "<img alt=\"Sutherland logo\" class=\"mx-auto my-1 d-block\" height=\"48\" loading=\"lazy\" src=\"/media/cache/9b/de/9bdebf6baf5c563666b6690f5214b868.jpg\" width=\"48\"/>\n",
       "</a>\n",
       "<div class=\"d-flex justify-content-center mt-3\">\n",
       "<a class=\"btn-direct-apply text-dark p-1\" href=\"/J30253/apply/\" id=\"30253\" rel=\"nofollow noopener\" target=\"_blank\" title=\"Apply for this job directly on Sutherland's career site\"><i class=\"fas fa-edit\"></i></a>\n",
       "<a class=\"btn-direct-apply text-dark p-1\" href=\"/job/mark/30253/create/\" rel=\"nofollow\" title=\"Save this job for later application\"><i class=\"fas fa-list-ol\"></i></a>\n",
       "</div>\n",
       "</div>\n",
       "<a class=\"col list-group-item-action px-2 py-3\" href=\"/job/30253-sr-associate-data-analytics/\" title=\"View full details of `Sr Associate - Data Analytics` vacancy\">\n",
       "<div class=\"float-right text-right d-inline-block w-25 ml-2\">\n",
       "<span class=\"d-block d-md-none text-break job-list-item-location\">Hyderabad, India</span>\n",
       "<span class=\"d-none d-md-block text-break job-list-item-location\">Hyderabad, India</span>\n",
       "<span class=\"badge badge-secondary badge-pill my-md-1\">Full Time</span>\n",
       "<div class=\"d-block\">\n",
       "<span class=\"badge badge-info badge-pill my-md-1 d-md-none\">Entry</span>\n",
       "<span class=\"badge badge-info badge-pill my-md-1 d-none d-md-inline-block\">Entry-level</span>\n",
       "</div>\n",
       "</div>\n",
       "<p class=\"m-0 text-muted job-list-item-company\">Sutherland</p>\n",
       "<h2 class=\"h4 mb-1\">Sr Associate - Data Analytics</h2>\n",
       "<span class=\"badge badge-light badge-pill\">Data Analytics</span>\n",
       "<span class=\"badge badge-light badge-pill\">Mathematics</span>\n",
       "<span class=\"badge badge-light badge-pill\">Power BI</span>\n",
       "<span class=\"badge badge-light badge-pill\">Qlik</span>\n",
       "<span class=\"badge badge-light badge-pill\">SQL</span>\n",
       "<span class=\"badge badge-light badge-pill\">Statistics</span>\n",
       "<span class=\"badge badge-light badge-pill\">Tableau</span>\n",
       "<br/>\n",
       "</a>\n",
       "</div>\n",
       "</div>\n",
       "<div class=\"list-group-item px-2 px-lg-3 py-0\">\n",
       "<div class=\"row\">\n",
       "<div class=\"col-2 col-sm-1 px-2 py-3\">\n",
       "<a href=\"/jobs-at-visa/\" title=\"Show all open positions at Visa\">\n",
       "<img alt=\"Visa logo\" class=\"mx-auto my-1 d-block\" height=\"48\" loading=\"lazy\" src=\"/media/cache/e6/27/e627d409d52ccd3453ce2d0439dc59d6.jpg\" width=\"48\"/>\n",
       "</a>\n",
       "<div class=\"d-flex justify-content-center mt-3\">\n",
       "<a class=\"btn-direct-apply text-dark p-1\" href=\"/J30252/apply/\" id=\"30252\" rel=\"nofollow noopener\" target=\"_blank\" title=\"Apply for this job directly on Visa's career site\"><i class=\"fas fa-edit\"></i></a>\n",
       "<a class=\"btn-direct-apply text-dark p-1\" href=\"/job/mark/30252/create/\" rel=\"nofollow\" title=\"Save this job for later application\"><i class=\"fas fa-list-ol\"></i></a>\n",
       "</div>\n",
       "</div>\n",
       "<a class=\"col list-group-item-action px-2 py-3\" href=\"/job/30252-sr-data-analyst-onsitehybrid/\" title=\"View full details of `Sr. Data Analyst (Onsite/Hybrid)` vacancy\">\n",
       "<div class=\"float-right text-right d-inline-block w-25 ml-2\">\n",
       "<span class=\"d-block d-md-none text-break job-list-item-location\">Foster City, CA, United …</span>\n",
       "<span class=\"d-none d-md-block text-break job-list-item-location\">Foster City, CA, United States</span>\n",
       "<span class=\"badge badge-secondary badge-pill my-md-1\">Full Time</span>\n",
       "<div class=\"d-block\">\n",
       "<span class=\"badge badge-info badge-pill my-md-1 d-md-none\">Senior</span>\n",
       "<span class=\"badge badge-info badge-pill my-md-1 d-none d-md-inline-block\">Senior-level</span>\n",
       "</div>\n",
       "<div class=\"d-block\">\n",
       "<span class=\"badge badge-success badge-pill d-none d-md-inline-block\">USD 50K - 85K *</span>\n",
       "<span class=\"badge badge-success badge-pill d-md-none\">USD 50K+ *</span>\n",
       "</div>\n",
       "</div>\n",
       "<p class=\"m-0 text-muted job-list-item-company\">Visa</p>\n",
       "<h2 class=\"h4 mb-1\">Sr. Data Analyst (Onsite/Hybrid)</h2>\n",
       "<span class=\"badge badge-light badge-pill\">Banking</span>\n",
       "<span class=\"badge badge-light badge-pill\">Consulting</span>\n",
       "<span class=\"badge badge-light badge-pill\">Data analysis</span>\n",
       "<span class=\"badge badge-light badge-pill\">Data management</span>\n",
       "<span class=\"badge badge-light badge-pill\">Finance</span>\n",
       "<span class=\"badge badge-light badge-pill\">MS SQL</span>\n",
       "<span class=\"badge badge-light badge-pill\">PhD</span>\n",
       "<span class=\"badge badge-light badge-pill\">+2</span>\n",
       "<br/>\n",
       "</a>\n",
       "</div>\n",
       "</div>\n",
       "<div class=\"list-group-item px-2 px-lg-3 py-0\">\n",
       "<div class=\"row\">\n",
       "<div class=\"col-2 col-sm-1 px-2 py-3\">\n",
       "<a href=\"/jobs-at-zscaler/\" title=\"Show all open positions at Zscaler\">\n",
       "<img alt=\"Zscaler logo\" class=\"mx-auto my-1 d-block\" height=\"48\" loading=\"lazy\" src=\"/media/cache/b8/36/b836f42e3a639686b22da55087e3026a.jpg\" width=\"48\"/>\n",
       "</a>\n",
       "<div class=\"d-flex justify-content-center mt-3\">\n",
       "<a class=\"btn-direct-apply text-dark p-1\" href=\"/J30194/apply/\" id=\"30194\" rel=\"nofollow noopener\" target=\"_blank\" title=\"Apply for this job directly on Zscaler's career site\"><i class=\"fas fa-edit\"></i></a>\n",
       "<a class=\"btn-direct-apply text-dark p-1\" href=\"/job/mark/30194/create/\" rel=\"nofollow\" title=\"Save this job for later application\"><i class=\"fas fa-list-ol\"></i></a>\n",
       "</div>\n",
       "</div>\n",
       "<a class=\"col list-group-item-action px-2 py-3\" href=\"/job/30194-sr-business-data-analyst/\" title=\"View full details of `Sr. Business Data Analyst` vacancy\">\n",
       "<div class=\"float-right text-right d-inline-block w-25 ml-2\">\n",
       "<span class=\"d-block d-md-none text-break job-list-item-location\">New York City, United …</span>\n",
       "<span class=\"d-none d-md-block text-break job-list-item-location\">New York City, United States</span>\n",
       "<span class=\"badge badge-secondary badge-pill my-md-1\">Full Time</span>\n",
       "<div class=\"d-block\">\n",
       "<span class=\"badge badge-info badge-pill my-md-1 d-md-none\">Senior</span>\n",
       "<span class=\"badge badge-info badge-pill my-md-1 d-none d-md-inline-block\">Senior-level</span>\n",
       "</div>\n",
       "</div>\n",
       "<p class=\"m-0 text-muted job-list-item-company\">Zscaler</p>\n",
       "<h2 class=\"h4 mb-1\">Sr. Business Data Analyst</h2>\n",
       "<span class=\"badge badge-light badge-pill\">Agile</span>\n",
       "<span class=\"badge badge-light badge-pill\">Data analysis</span>\n",
       "<span class=\"badge badge-light badge-pill\">Excel</span>\n",
       "<span class=\"badge badge-light badge-pill\">Finance</span>\n",
       "<span class=\"badge badge-light badge-pill\">Python</span>\n",
       "<span class=\"badge badge-light badge-pill\">R</span>\n",
       "<span class=\"badge badge-light badge-pill\">Security</span>\n",
       "<span class=\"badge badge-light badge-pill\">+3</span>\n",
       "<br/>\n",
       "<span class=\"badge badge-success badge-pill\">Competitive pay</span>\n",
       "<span class=\"badge badge-success badge-pill\">Equity</span>\n",
       "</a>\n",
       "</div>\n",
       "</div>\n",
       "<div class=\"list-group-item px-2 px-lg-3 py-0\">\n",
       "<div class=\"row\">\n",
       "<div class=\"col-2 col-sm-1 px-2 py-3\">\n",
       "<a href=\"/jobs-at-nbcuniversal/\" title=\"Show all open positions at NBCUniversal\">\n",
       "<img alt=\"NBCUniversal logo\" class=\"mx-auto my-1 d-block\" height=\"48\" loading=\"lazy\" src=\"/media/cache/23/17/2317508daebd92bf0d372fac39c1319c.jpg\" width=\"48\"/>\n",
       "</a>\n",
       "<div class=\"d-flex justify-content-center mt-3\">\n",
       "<a class=\"btn-direct-apply text-dark p-1\" href=\"/J30186/apply/\" id=\"30186\" rel=\"nofollow noopener\" target=\"_blank\" title=\"Apply for this job directly on NBCUniversal's career site\"><i class=\"fas fa-edit\"></i></a>\n",
       "<a class=\"btn-direct-apply text-dark p-1\" href=\"/job/mark/30186/create/\" rel=\"nofollow\" title=\"Save this job for later application\"><i class=\"fas fa-list-ol\"></i></a>\n",
       "</div>\n",
       "</div>\n",
       "<a class=\"col list-group-item-action px-2 py-3\" href=\"/job/30186-technical-data-analyst-peacock/\" title=\"View full details of `Technical Data Analyst, Peacock` vacancy\">\n",
       "<div class=\"float-right text-right d-inline-block w-25 ml-2\">\n",
       "<span class=\"d-block d-md-none text-break job-list-item-location\">Stamford, CT, United States</span>\n",
       "<span class=\"d-none d-md-block text-break job-list-item-location\">Stamford, CT, United States</span>\n",
       "<span class=\"badge badge-secondary badge-pill my-md-1\">Full Time</span>\n",
       "<div class=\"d-block\">\n",
       "<span class=\"badge badge-info badge-pill my-md-1 d-md-none\">Senior</span>\n",
       "<span class=\"badge badge-info badge-pill my-md-1 d-none d-md-inline-block\">Senior-level</span>\n",
       "</div>\n",
       "<div class=\"d-block\">\n",
       "<span class=\"badge badge-success badge-pill d-none d-md-inline-block\">USD 50K - 85K *</span>\n",
       "<span class=\"badge badge-success badge-pill d-md-none\">USD 50K+ *</span>\n",
       "</div>\n",
       "</div>\n",
       "<p class=\"m-0 text-muted job-list-item-company\">NBCUniversal</p>\n",
       "<h2 class=\"h4 mb-1\">Technical Data Analyst, Peacock</h2>\n",
       "<span class=\"badge badge-light badge-pill\">Computer Science</span>\n",
       "<span class=\"badge badge-light badge-pill\">Data analysis</span>\n",
       "<span class=\"badge badge-light badge-pill\">Data Analytics</span>\n",
       "<span class=\"badge badge-light badge-pill\">Engineering</span>\n",
       "<span class=\"badge badge-light badge-pill\">KPIs</span>\n",
       "<span class=\"badge badge-light badge-pill\">Machine Learning</span>\n",
       "<span class=\"badge badge-light badge-pill\">PhD</span>\n",
       "<span class=\"badge badge-light badge-pill\">+3</span>\n",
       "<br/>\n",
       "</a>\n",
       "</div>\n",
       "</div>\n",
       "<div class=\"list-group-item px-2 px-lg-3 py-0\">\n",
       "<div class=\"row\">\n",
       "<div class=\"col-2 col-sm-1 px-2 py-3\">\n",
       "<a href=\"/jobs-at-mcdonalds-corporation/\" title=\"Show all open positions at McDonald's Corporation\">\n",
       "<img alt=\"McDonald's Corporation logo\" class=\"mx-auto my-1 d-block\" height=\"48\" loading=\"lazy\" src=\"/media/cache/0f/e7/0fe74673e45e78507fa7db7ce8cda85a.jpg\" width=\"48\"/>\n",
       "</a>\n",
       "<div class=\"d-flex justify-content-center mt-3\">\n",
       "<a class=\"btn-direct-apply text-dark p-1\" href=\"/J30257/apply/\" id=\"30257\" rel=\"nofollow noopener\" target=\"_blank\" title=\"Apply for this job directly on McDonald's Corporation's career site\"><i class=\"fas fa-edit\"></i></a>\n",
       "<a class=\"btn-direct-apply text-dark p-1\" href=\"/job/mark/30257/create/\" rel=\"nofollow\" title=\"Save this job for later application\"><i class=\"fas fa-list-ol\"></i></a>\n",
       "</div>\n",
       "</div>\n",
       "<a class=\"col list-group-item-action px-2 py-3\" href=\"/job/30257-data-analytics-manager-pricing-science/\" title=\"View full details of `Data Analytics Manager, Pricing Science` vacancy\">\n",
       "<div class=\"float-right text-right d-inline-block w-25 ml-2\">\n",
       "<span class=\"d-block d-md-none text-break job-list-item-location\">Chicago, IL, United States</span>\n",
       "<span class=\"d-none d-md-block text-break job-list-item-location\">Chicago, IL, United States</span>\n",
       "<span class=\"badge badge-secondary badge-pill my-md-1\">Full Time</span>\n",
       "</div>\n",
       "<p class=\"m-0 text-muted job-list-item-company\">McDonald's Corporation</p>\n",
       "<h2 class=\"h4 mb-1\">Data Analytics Manager, Pricing Science</h2>\n",
       "<span class=\"badge badge-light badge-pill\">Big Data</span>\n",
       "<span class=\"badge badge-light badge-pill\">Data Analytics</span>\n",
       "<span class=\"badge badge-light badge-pill\">Economics</span>\n",
       "<span class=\"badge badge-light badge-pill\">Machine Learning</span>\n",
       "<span class=\"badge badge-light badge-pill\">Python</span>\n",
       "<span class=\"badge badge-light badge-pill\">SAS</span>\n",
       "<span class=\"badge badge-light badge-pill\">Statistics</span>\n",
       "<br/>\n",
       "<span class=\"badge badge-success badge-pill\">Career development</span>\n",
       "<span class=\"badge badge-success badge-pill\">Competitive pay</span>\n",
       "<span class=\"badge badge-success badge-pill\">Flex hours</span>\n",
       "<span class=\"badge badge-success badge-pill\">Startup environment</span>\n",
       "</a>\n",
       "</div>\n",
       "</div>\n",
       "<div class=\"list-group-item px-2 px-lg-3 py-0\">\n",
       "<div class=\"row\">\n",
       "<div class=\"col-2 col-sm-1 px-2 py-3\">\n",
       "<a href=\"/jobs-at-abcam-plc/\" title=\"Show all open positions at Abcam Plc\">\n",
       "<img alt=\"Abcam Plc logo\" class=\"mx-auto my-1 d-block\" height=\"48\" loading=\"lazy\" src=\"/media/cache/6c/ee/6ceee48712d319a2ab73478dc02c1492.jpg\" width=\"48\"/>\n",
       "</a>\n",
       "<div class=\"d-flex justify-content-center mt-3\">\n",
       "<a class=\"btn-direct-apply text-dark p-1\" href=\"/J30367/apply/\" id=\"30367\" rel=\"nofollow noopener\" target=\"_blank\" title=\"Apply for this job directly on Abcam Plc's career site\"><i class=\"fas fa-edit\"></i></a>\n",
       "<a class=\"btn-direct-apply text-dark p-1\" href=\"/job/mark/30367/create/\" rel=\"nofollow\" title=\"Save this job for later application\"><i class=\"fas fa-list-ol\"></i></a>\n",
       "</div>\n",
       "</div>\n",
       "<a class=\"col list-group-item-action px-2 py-3\" href=\"/job/30367-apprentice-associate-insight-analyst/\" title=\"View full details of `Apprentice Associate Insight Analyst` vacancy\">\n",
       "<div class=\"float-right text-right d-inline-block w-25 ml-2\">\n",
       "<span class=\"d-block d-md-none text-break job-list-item-location\">Trumpington, United Kingdom</span>\n",
       "<span class=\"d-none d-md-block text-break job-list-item-location\">Trumpington, United Kingdom</span>\n",
       "<span class=\"badge badge-secondary badge-pill my-md-1\">Full Time</span>\n",
       "<div class=\"d-block\">\n",
       "<span class=\"badge badge-info badge-pill my-md-1 d-md-none\">Entry</span>\n",
       "<span class=\"badge badge-info badge-pill my-md-1 d-none d-md-inline-block\">Entry-level</span>\n",
       "</div>\n",
       "</div>\n",
       "<p class=\"m-0 text-muted job-list-item-company\">Abcam Plc</p>\n",
       "<h2 class=\"h4 mb-1\">Apprentice Associate Insight Analyst</h2>\n",
       "<span class=\"badge badge-light badge-pill\">Agile</span>\n",
       "<span class=\"badge badge-light badge-pill\">Research</span>\n",
       "<span class=\"badge badge-light badge-pill\">Tableau</span>\n",
       "<br/>\n",
       "<span class=\"badge badge-success badge-pill\">Career development</span>\n",
       "<span class=\"badge badge-success badge-pill\">Flex hours</span>\n",
       "<span class=\"badge badge-success badge-pill\">Parental leave</span>\n",
       "</a>\n",
       "</div>\n",
       "</div>\n",
       "<div class=\"list-group-item px-2 px-lg-3 py-0\">\n",
       "<div class=\"row\">\n",
       "<div class=\"col-2 col-sm-1 px-2 py-3\">\n",
       "<a href=\"/jobs-at-nielseniq/\" title=\"Show all open positions at NielsenIQ\">\n",
       "<img alt=\"NielsenIQ logo\" class=\"mx-auto my-1 d-block\" height=\"48\" loading=\"lazy\" src=\"/media/cache/70/20/7020b443d43b2a3c9938bfc7b0b51245.jpg\" width=\"48\"/>\n",
       "</a>\n",
       "<div class=\"d-flex justify-content-center mt-3\">\n",
       "<a class=\"btn-direct-apply text-dark p-1\" href=\"/J30260/apply/\" id=\"30260\" rel=\"nofollow noopener\" target=\"_blank\" title=\"Apply for this job directly on NielsenIQ's career site\"><i class=\"fas fa-edit\"></i></a>\n",
       "<a class=\"btn-direct-apply text-dark p-1\" href=\"/job/mark/30260/create/\" rel=\"nofollow\" title=\"Save this job for later application\"><i class=\"fas fa-list-ol\"></i></a>\n",
       "</div>\n",
       "</div>\n",
       "<a class=\"col list-group-item-action px-2 py-3\" href=\"/job/30260-operations-data-analyst-ecomm-focus/\" title=\"View full details of `Operations Data Analyst (eComm Focus)` vacancy\">\n",
       "<div class=\"float-right text-right d-inline-block w-25 ml-2\">\n",
       "<span class=\"d-block d-md-none text-break job-list-item-location\">Chicago, IL, United States</span>\n",
       "<span class=\"d-none d-md-block text-break job-list-item-location\">Chicago, IL, United States</span>\n",
       "<span class=\"badge badge-secondary badge-pill my-md-1\">Full Time</span>\n",
       "<div class=\"d-block\">\n",
       "<span class=\"badge badge-info badge-pill my-md-1 d-md-none\">Mid</span>\n",
       "<span class=\"badge badge-info badge-pill my-md-1 d-none d-md-inline-block\">Mid-level</span>\n",
       "</div>\n",
       "<div class=\"d-block\">\n",
       "<span class=\"badge badge-success badge-pill d-none d-md-inline-block\">USD 51K - 90K *</span>\n",
       "<span class=\"badge badge-success badge-pill d-md-none\">USD 51K+ *</span>\n",
       "</div>\n",
       "</div>\n",
       "<p class=\"m-0 text-muted job-list-item-company\">NielsenIQ</p>\n",
       "<h2 class=\"h4 mb-1\">Operations Data Analyst (eComm Focus)</h2>\n",
       "<span class=\"badge badge-light badge-pill\">Data Analytics</span>\n",
       "<span class=\"badge badge-light badge-pill\">E-commerce</span>\n",
       "<span class=\"badge badge-light badge-pill\">Economics</span>\n",
       "<span class=\"badge badge-light badge-pill\">Engineering</span>\n",
       "<span class=\"badge badge-light badge-pill\">Machine Learning</span>\n",
       "<span class=\"badge badge-light badge-pill\">Python</span>\n",
       "<span class=\"badge badge-light badge-pill\">Research</span>\n",
       "<span class=\"badge badge-light badge-pill\">+2</span>\n",
       "<br/>\n",
       "<span class=\"badge badge-success badge-pill\">Career development</span>\n",
       "<span class=\"badge badge-success badge-pill\">Flex hours</span>\n",
       "<span class=\"badge badge-success badge-pill\">Health care</span>\n",
       "<span class=\"badge badge-success badge-pill\">Insurance</span>\n",
       "<span class=\"badge badge-success badge-pill\">Parental leave</span>\n",
       "</a>\n",
       "</div>\n",
       "</div>\n",
       "<div class=\"list-group-item px-2 px-lg-3 py-0\">\n",
       "<div class=\"row\">\n",
       "<div class=\"col-2 col-sm-1 px-2 py-3\">\n",
       "<a href=\"/jobs-at-mangopay/\" title=\"Show all open positions at MANGOPAY\">\n",
       "<img alt=\"MANGOPAY logo\" class=\"mx-auto my-1 d-block\" height=\"48\" loading=\"lazy\" src=\"/media/cache/91/d3/91d3684365a31787156170146f47b465.jpg\" width=\"48\"/>\n",
       "</a>\n",
       "<div class=\"d-flex justify-content-center mt-3\">\n",
       "<a class=\"btn-direct-apply text-dark p-1\" href=\"/J30248/apply/\" id=\"30248\" rel=\"nofollow noopener\" target=\"_blank\" title=\"Apply for this job directly on MANGOPAY's career site\"><i class=\"fas fa-edit\"></i></a>\n",
       "<a class=\"btn-direct-apply text-dark p-1\" href=\"/job/mark/30248/create/\" rel=\"nofollow\" title=\"Save this job for later application\"><i class=\"fas fa-list-ol\"></i></a>\n",
       "</div>\n",
       "</div>\n",
       "<a class=\"col list-group-item-action px-2 py-3\" href=\"/job/30248-senior-data-analyst/\" title=\"View full details of `Senior Data Analyst` vacancy\">\n",
       "<div class=\"float-right text-right d-inline-block w-25 ml-2\">\n",
       "<span class=\"d-block d-md-none text-break job-list-item-location\">Paris, France</span>\n",
       "<span class=\"d-none d-md-block text-break job-list-item-location\">Paris, France</span>\n",
       "<span class=\"badge badge-secondary badge-pill my-md-1\">Full Time</span>\n",
       "<div class=\"d-block\">\n",
       "<span class=\"badge badge-info badge-pill my-md-1 d-md-none\">Senior</span>\n",
       "<span class=\"badge badge-info badge-pill my-md-1 d-none d-md-inline-block\">Senior-level</span>\n",
       "</div>\n",
       "<div class=\"d-block\">\n",
       "<span class=\"badge badge-success badge-pill d-none d-md-inline-block\">USD 50K - 85K *</span>\n",
       "<span class=\"badge badge-success badge-pill d-md-none\">USD 50K+ *</span>\n",
       "</div>\n",
       "</div>\n",
       "<p class=\"m-0 text-muted job-list-item-company\">MANGOPAY</p>\n",
       "<h2 class=\"h4 mb-1\">Senior Data Analyst</h2>\n",
       "<span class=\"badge badge-light badge-pill\">AWS</span>\n",
       "<span class=\"badge badge-light badge-pill\">Azure</span>\n",
       "<span class=\"badge badge-light badge-pill\">Big Data</span>\n",
       "<span class=\"badge badge-light badge-pill\">Data analysis</span>\n",
       "<span class=\"badge badge-light badge-pill\">Data Analytics</span>\n",
       "<span class=\"badge badge-light badge-pill\">Databricks</span>\n",
       "<span class=\"badge badge-light badge-pill\">Data strategy</span>\n",
       "<span class=\"badge badge-light badge-pill\">+12</span>\n",
       "<br/>\n",
       "<span class=\"badge badge-success badge-pill\">Flex hours</span>\n",
       "</a>\n",
       "</div>\n",
       "</div>\n",
       "<div class=\"list-group-item px-2 px-lg-3 py-0\">\n",
       "<div class=\"row\">\n",
       "<div class=\"col-2 col-sm-1 px-2 py-3\">\n",
       "<a href=\"/jobs-at-block/\" title=\"Show all open positions at Block\">\n",
       "<img alt=\"Block logo\" class=\"mx-auto my-1 d-block\" height=\"48\" loading=\"lazy\" src=\"/media/cache/09/c4/09c40183f4bb68a56430b109c3af4e29.jpg\" width=\"48\"/>\n",
       "</a>\n",
       "<div class=\"d-flex justify-content-center mt-3\">\n",
       "<a class=\"btn-direct-apply text-dark p-1\" href=\"/J30256/apply/\" id=\"30256\" rel=\"nofollow noopener\" target=\"_blank\" title=\"Apply for this job directly on Block's career site\"><i class=\"fas fa-edit\"></i></a>\n",
       "<a class=\"btn-direct-apply text-dark p-1\" href=\"/job/mark/30256/create/\" rel=\"nofollow\" title=\"Save this job for later application\"><i class=\"fas fa-list-ol\"></i></a>\n",
       "</div>\n",
       "</div>\n",
       "<a class=\"col list-group-item-action px-2 py-3\" href=\"/job/30256-senior-data-analyst/\" title=\"View full details of `Senior Data Analyst` vacancy\">\n",
       "<div class=\"float-right text-right d-inline-block w-25 ml-2\">\n",
       "<span class=\"d-block d-md-none text-break job-list-item-location\">San Francisco, CA, United …</span>\n",
       "<span class=\"d-none d-md-block text-break job-list-item-location\">San Francisco, CA, United States</span>\n",
       "<span class=\"badge badge-secondary badge-pill my-md-1\">Full Time</span>\n",
       "<div class=\"d-block\">\n",
       "<span class=\"badge badge-info badge-pill my-md-1 d-md-none\">Senior</span>\n",
       "<span class=\"badge badge-info badge-pill my-md-1 d-none d-md-inline-block\">Senior-level</span>\n",
       "</div>\n",
       "<div class=\"d-block\">\n",
       "<span class=\"badge badge-success badge-pill d-none d-md-inline-block\">USD 50K - 85K *</span>\n",
       "<span class=\"badge badge-success badge-pill d-md-none\">USD 50K+ *</span>\n",
       "</div>\n",
       "</div>\n",
       "<p class=\"m-0 text-muted job-list-item-company\">Block</p>\n",
       "<h2 class=\"h4 mb-1\">Senior Data Analyst</h2>\n",
       "<span class=\"badge badge-light badge-pill\">Banking</span>\n",
       "<span class=\"badge badge-light badge-pill\">Blockchain</span>\n",
       "<span class=\"badge badge-light badge-pill\">Crypto</span>\n",
       "<span class=\"badge badge-light badge-pill\">Data visualization</span>\n",
       "<span class=\"badge badge-light badge-pill\">Engineering</span>\n",
       "<span class=\"badge badge-light badge-pill\">Excel</span>\n",
       "<span class=\"badge badge-light badge-pill\">Looker</span>\n",
       "<span class=\"badge badge-light badge-pill\">+2</span>\n",
       "<br/>\n",
       "<span class=\"badge badge-success badge-pill\">Career development</span>\n",
       "<span class=\"badge badge-success badge-pill\">Flex vacation</span>\n",
       "<span class=\"badge badge-success badge-pill\">Parental leave</span>\n",
       "<span class=\"badge badge-success badge-pill\">Wellness</span>\n",
       "</a>\n",
       "</div>\n",
       "</div>\n",
       "<div class=\"list-group-item px-2 px-lg-3 py-0\">\n",
       "<div class=\"row\">\n",
       "<div class=\"col-2 col-sm-1 px-2 py-3\">\n",
       "<a href=\"/jobs-at-zscaler/\" title=\"Show all open positions at Zscaler\">\n",
       "<img alt=\"Zscaler logo\" class=\"mx-auto my-1 d-block\" height=\"48\" loading=\"lazy\" src=\"/media/cache/b8/36/b836f42e3a639686b22da55087e3026a.jpg\" width=\"48\"/>\n",
       "</a>\n",
       "<div class=\"d-flex justify-content-center mt-3\">\n",
       "<a class=\"btn-direct-apply text-dark p-1\" href=\"/J30192/apply/\" id=\"30192\" rel=\"nofollow noopener\" target=\"_blank\" title=\"Apply for this job directly on Zscaler's career site\"><i class=\"fas fa-edit\"></i></a>\n",
       "<a class=\"btn-direct-apply text-dark p-1\" href=\"/job/mark/30192/create/\" rel=\"nofollow\" title=\"Save this job for later application\"><i class=\"fas fa-list-ol\"></i></a>\n",
       "</div>\n",
       "</div>\n",
       "<a class=\"col list-group-item-action px-2 py-3\" href=\"/job/30192-sr-data-analyst/\" title=\"View full details of `Sr. Data Analyst` vacancy\">\n",
       "<div class=\"float-right text-right d-inline-block w-25 ml-2\">\n",
       "<span class=\"d-block d-md-none text-break job-list-item-location\">Mohali, India</span>\n",
       "<span class=\"d-none d-md-block text-break job-list-item-location\">Mohali, India</span>\n",
       "<span class=\"badge badge-secondary badge-pill my-md-1\">Full Time</span>\n",
       "<div class=\"d-block\">\n",
       "<span class=\"badge badge-info badge-pill my-md-1 d-md-none\">Senior</span>\n",
       "<span class=\"badge badge-info badge-pill my-md-1 d-none d-md-inline-block\">Senior-level</span>\n",
       "</div>\n",
       "<div class=\"d-block\">\n",
       "<span class=\"badge badge-success badge-pill d-none d-md-inline-block\">USD 50K - 85K *</span>\n",
       "<span class=\"badge badge-success badge-pill d-md-none\">USD 50K+ *</span>\n",
       "</div>\n",
       "</div>\n",
       "<p class=\"m-0 text-muted job-list-item-company\">Zscaler</p>\n",
       "<h2 class=\"h4 mb-1\">Sr. Data Analyst</h2>\n",
       "<span class=\"badge badge-light badge-pill\">Data management</span>\n",
       "<span class=\"badge badge-light badge-pill\">Data Mining</span>\n",
       "<span class=\"badge badge-light badge-pill\">Data strategy</span>\n",
       "<span class=\"badge badge-light badge-pill\">Data visualization</span>\n",
       "<span class=\"badge badge-light badge-pill\">Engineering</span>\n",
       "<span class=\"badge badge-light badge-pill\">ETL</span>\n",
       "<span class=\"badge badge-light badge-pill\">Excel</span>\n",
       "<span class=\"badge badge-light badge-pill\">+8</span>\n",
       "<br/>\n",
       "</a>\n",
       "</div>\n",
       "</div>\n",
       "<div class=\"list-group-item px-2 px-lg-3 py-0\">\n",
       "<div class=\"row\">\n",
       "<div class=\"col-2 col-sm-1 px-2 py-3\">\n",
       "<a href=\"/jobs-at-kipp/\" title=\"Show all open positions at KIPP\">\n",
       "<img alt=\"KIPP logo\" class=\"mx-auto my-1 d-block\" height=\"48\" loading=\"lazy\" src=\"/media/cache/28/aa/28aa227ecb0807c3cee8a8f275843cc1.jpg\" width=\"48\"/>\n",
       "</a>\n",
       "<div class=\"d-flex justify-content-center mt-3\">\n",
       "<a class=\"btn-direct-apply text-dark p-1\" href=\"/J30247/apply/\" id=\"30247\" rel=\"nofollow noopener\" target=\"_blank\" title=\"Apply for this job directly on KIPP's career site\"><i class=\"fas fa-edit\"></i></a>\n",
       "<a class=\"btn-direct-apply text-dark p-1\" href=\"/job/mark/30247/create/\" rel=\"nofollow\" title=\"Save this job for later application\"><i class=\"fas fa-list-ol\"></i></a>\n",
       "</div>\n",
       "</div>\n",
       "<a class=\"col list-group-item-action px-2 py-3\" href=\"/job/30247-associate-director-of-data-analysis/\" title=\"View full details of `Associate Director of Data Analysis` vacancy\">\n",
       "<div class=\"float-right text-right d-inline-block w-25 ml-2\">\n",
       "<span class=\"d-block d-md-none text-break job-list-item-location\">Washington, DC, United States</span>\n",
       "<span class=\"d-none d-md-block text-break job-list-item-location\">Washington, DC, United States</span>\n",
       "<span class=\"badge badge-secondary badge-pill my-md-1\">Full Time</span>\n",
       "<div class=\"d-block\">\n",
       "<span class=\"badge badge-info badge-pill my-md-1 d-md-none\">Mid</span>\n",
       "<span class=\"badge badge-info badge-pill my-md-1 d-none d-md-inline-block\">Mid-level</span>\n",
       "</div>\n",
       "<div class=\"d-block\">\n",
       "<span class=\"badge badge-success badge-pill d-none d-md-inline-block\">USD 84K - 103K</span>\n",
       "<span class=\"badge badge-success badge-pill d-md-none\">USD 84K+</span>\n",
       "</div>\n",
       "</div>\n",
       "<p class=\"m-0 text-muted job-list-item-company\">KIPP</p>\n",
       "<h2 class=\"h4 mb-1\">Associate Director of Data Analysis</h2>\n",
       "<span class=\"badge badge-light badge-pill\">Data analysis</span>\n",
       "<span class=\"badge badge-light badge-pill\">Data strategy</span>\n",
       "<span class=\"badge badge-light badge-pill\">Data visualization</span>\n",
       "<span class=\"badge badge-light badge-pill\">Excel</span>\n",
       "<span class=\"badge badge-light badge-pill\">Finance</span>\n",
       "<span class=\"badge badge-light badge-pill\">R</span>\n",
       "<span class=\"badge badge-light badge-pill\">SQL</span>\n",
       "<span class=\"badge badge-light badge-pill\">+1</span>\n",
       "<br/>\n",
       "<span class=\"badge badge-success badge-pill\">Career development</span>\n",
       "<span class=\"badge badge-success badge-pill\">Competitive pay</span>\n",
       "<span class=\"badge badge-success badge-pill\">Equity</span>\n",
       "</a>\n",
       "</div>\n",
       "</div>\n",
       "<div class=\"list-group-item px-2 px-lg-3 py-0\">\n",
       "<div class=\"row\">\n",
       "<div class=\"col-2 col-sm-1 px-2 py-3\">\n",
       "<a href=\"/jobs-at-experian/\" title=\"Show all open positions at Experian\">\n",
       "<img alt=\"Experian logo\" class=\"mx-auto my-1 d-block\" height=\"48\" loading=\"lazy\" src=\"/media/cache/79/f7/79f795c1b4ebbcfb4c60d3948721a210.jpg\" width=\"48\"/>\n",
       "</a>\n",
       "<div class=\"d-flex justify-content-center mt-3\">\n",
       "<a class=\"btn-direct-apply text-dark p-1\" href=\"/J30242/apply/\" id=\"30242\" rel=\"nofollow noopener\" target=\"_blank\" title=\"Apply for this job directly on Experian's career site\"><i class=\"fas fa-edit\"></i></a>\n",
       "<a class=\"btn-direct-apply text-dark p-1\" href=\"/job/mark/30242/create/\" rel=\"nofollow\" title=\"Save this job for later application\"><i class=\"fas fa-list-ol\"></i></a>\n",
       "</div>\n",
       "</div>\n",
       "<a class=\"col list-group-item-action px-2 py-3\" href=\"/job/30242-junior-data-modelling-analyst/\" title=\"View full details of `Junior Data Modelling Analyst` vacancy\">\n",
       "<div class=\"float-right text-right d-inline-block w-25 ml-2\">\n",
       "<span class=\"d-block d-md-none text-break job-list-item-location\">Sofia, Bulgaria</span>\n",
       "<span class=\"d-none d-md-block text-break job-list-item-location\">Sofia, Bulgaria</span>\n",
       "<span class=\"badge badge-secondary badge-pill my-md-1\">Full Time</span>\n",
       "<div class=\"d-block\">\n",
       "<span class=\"badge badge-info badge-pill my-md-1 d-md-none\">Entry</span>\n",
       "<span class=\"badge badge-info badge-pill my-md-1 d-none d-md-inline-block\">Entry-level</span>\n",
       "</div>\n",
       "</div>\n",
       "<p class=\"m-0 text-muted job-list-item-company\">Experian</p>\n",
       "<h2 class=\"h4 mb-1\">Junior Data Modelling Analyst</h2>\n",
       "<span class=\"badge badge-light badge-pill\">Big Data</span>\n",
       "<span class=\"badge badge-light badge-pill\">Data analysis</span>\n",
       "<span class=\"badge badge-light badge-pill\">Economics</span>\n",
       "<span class=\"badge badge-light badge-pill\">Mathematics</span>\n",
       "<span class=\"badge badge-light badge-pill\">Physics</span>\n",
       "<span class=\"badge badge-light badge-pill\">Python</span>\n",
       "<span class=\"badge badge-light badge-pill\">R</span>\n",
       "<span class=\"badge badge-light badge-pill\">+3</span>\n",
       "<br/>\n",
       "<span class=\"badge badge-success badge-pill\">Career development</span>\n",
       "<span class=\"badge badge-success badge-pill\">Equity</span>\n",
       "<span class=\"badge badge-success badge-pill\">Flex hours</span>\n",
       "<span class=\"badge badge-success badge-pill\">Flex vacation</span>\n",
       "<span class=\"badge badge-success badge-pill\">Team events</span>\n",
       "<span class=\"badge badge-success badge-pill\">+1</span>\n",
       "</a>\n",
       "</div>\n",
       "</div>\n",
       "<div class=\"list-group-item px-2 px-lg-3 py-0\">\n",
       "<div class=\"row\">\n",
       "<div class=\"col-2 col-sm-1 px-2 py-3\">\n",
       "<a href=\"/jobs-at-wolt/\" title=\"Show all open positions at Wolt\">\n",
       "<img alt=\"Wolt logo\" class=\"mx-auto my-1 d-block\" height=\"48\" loading=\"lazy\" src=\"/media/cache/75/24/75240afed4ecd36e98bb19fe1862502a.jpg\" width=\"48\"/>\n",
       "</a>\n",
       "<div class=\"d-flex justify-content-center mt-3\">\n",
       "<a class=\"btn-direct-apply text-dark p-1\" href=\"/J30235/apply/\" id=\"30235\" rel=\"nofollow noopener\" target=\"_blank\" title=\"Apply for this job directly on Wolt's career site\"><i class=\"fas fa-edit\"></i></a>\n",
       "<a class=\"btn-direct-apply text-dark p-1\" href=\"/job/mark/30235/create/\" rel=\"nofollow\" title=\"Save this job for later application\"><i class=\"fas fa-list-ol\"></i></a>\n",
       "</div>\n",
       "</div>\n",
       "<a class=\"col list-group-item-action px-2 py-3\" href=\"/job/30235-analytics-engineer-merchantwolt-market/\" title=\"View full details of `Analytics Engineer (Merchant/Wolt Market)` vacancy\">\n",
       "<div class=\"float-right text-right d-inline-block w-25 ml-2\">\n",
       "<span class=\"d-block d-md-none text-break job-list-item-location\">Berlin, Germany</span>\n",
       "<span class=\"d-none d-md-block text-break job-list-item-location\">Berlin, Germany</span>\n",
       "<span class=\"badge badge-secondary badge-pill my-md-1\">Full Time</span>\n",
       "<div class=\"d-block\">\n",
       "<span class=\"badge badge-info badge-pill my-md-1 d-md-none\">Senior</span>\n",
       "<span class=\"badge badge-info badge-pill my-md-1 d-none d-md-inline-block\">Senior-level</span>\n",
       "</div>\n",
       "</div>\n",
       "<p class=\"m-0 text-muted job-list-item-company\">Wolt</p>\n",
       "<h2 class=\"h4 mb-1\">Analytics Engineer (Merchant/Wolt Market)</h2>\n",
       "<span class=\"badge badge-light badge-pill\">Airflow</span>\n",
       "<span class=\"badge badge-light badge-pill\">AWS</span>\n",
       "<span class=\"badge badge-light badge-pill\">Azkaban</span>\n",
       "<span class=\"badge badge-light badge-pill\">Business Intelligence</span>\n",
       "<span class=\"badge badge-light badge-pill\">Data Analytics</span>\n",
       "<span class=\"badge badge-light badge-pill\">Data pipelines</span>\n",
       "<span class=\"badge badge-light badge-pill\">Economics</span>\n",
       "<span class=\"badge badge-light badge-pill\">+10</span>\n",
       "<br/>\n",
       "<span class=\"badge badge-success badge-pill\">Career development</span>\n",
       "<span class=\"badge badge-success badge-pill\">Flex vacation</span>\n",
       "<span class=\"badge badge-success badge-pill\">Home office stipend</span>\n",
       "</a>\n",
       "</div>\n",
       "</div>\n",
       "<div class=\"list-group-item px-2 px-lg-3 py-0\">\n",
       "<div class=\"row\">\n",
       "<div class=\"col-2 col-sm-1 px-2 py-3\">\n",
       "<a href=\"/jobs-at-visa/\" title=\"Show all open positions at Visa\">\n",
       "<img alt=\"Visa logo\" class=\"mx-auto my-1 d-block\" height=\"48\" loading=\"lazy\" src=\"/media/cache/e6/27/e627d409d52ccd3453ce2d0439dc59d6.jpg\" width=\"48\"/>\n",
       "</a>\n",
       "<div class=\"d-flex justify-content-center mt-3\">\n",
       "<a class=\"btn-direct-apply text-dark p-1\" href=\"/J30329/apply/\" id=\"30329\" rel=\"nofollow noopener\" target=\"_blank\" title=\"Apply for this job directly on Visa's career site\"><i class=\"fas fa-edit\"></i></a>\n",
       "<a class=\"btn-direct-apply text-dark p-1\" href=\"/job/mark/30329/create/\" rel=\"nofollow\" title=\"Save this job for later application\"><i class=\"fas fa-list-ol\"></i></a>\n",
       "</div>\n",
       "</div>\n",
       "<a class=\"col list-group-item-action px-2 py-3\" href=\"/job/30329-graduate-data-science-visa-consulting-analytics-aunzsp/\" title=\"View full details of `Graduate - Data Science, Visa Consulting &amp; Analytics, AUNZSP` vacancy\">\n",
       "<div class=\"float-right text-right d-inline-block w-25 ml-2\">\n",
       "<span class=\"d-block d-md-none text-break job-list-item-location\">Sydney, Australia</span>\n",
       "<span class=\"d-none d-md-block text-break job-list-item-location\">Sydney, Australia</span>\n",
       "<span class=\"badge badge-secondary badge-pill my-md-1\">Full Time</span>\n",
       "<div class=\"d-block\">\n",
       "<span class=\"badge badge-info badge-pill my-md-1 d-md-none\">Entry</span>\n",
       "<span class=\"badge badge-info badge-pill my-md-1 d-none d-md-inline-block\">Entry-level</span>\n",
       "</div>\n",
       "</div>\n",
       "<p class=\"m-0 text-muted job-list-item-company\">Visa</p>\n",
       "<h2 class=\"h4 mb-1\">Graduate - Data Science, Visa Consulting &amp; Analytics, AUNZSP</h2>\n",
       "<span class=\"badge badge-light badge-pill\">Airflow</span>\n",
       "<span class=\"badge badge-light badge-pill\">Big Data</span>\n",
       "<span class=\"badge badge-light badge-pill\">Bitbucket</span>\n",
       "<span class=\"badge badge-light badge-pill\">Computer Science</span>\n",
       "<span class=\"badge badge-light badge-pill\">Consulting</span>\n",
       "<span class=\"badge badge-light badge-pill\">Data analysis</span>\n",
       "<span class=\"badge badge-light badge-pill\">Data Analytics</span>\n",
       "<span class=\"badge badge-light badge-pill\">+16</span>\n",
       "<br/>\n",
       "<span class=\"badge badge-success badge-pill\">Flex hours</span>\n",
       "<span class=\"badge badge-success badge-pill\">Startup environment</span>\n",
       "</a>\n",
       "</div>\n",
       "</div>\n",
       "<div class=\"list-group-item px-2 px-lg-3 py-0\">\n",
       "<div class=\"row\">\n",
       "<div class=\"col-2 col-sm-1 px-2 py-3\">\n",
       "<a href=\"/jobs-at-deezer/\" title=\"Show all open positions at Deezer\">\n",
       "<img alt=\"Deezer logo\" class=\"mx-auto my-1 d-block\" height=\"48\" loading=\"lazy\" src=\"/media/cache/0b/2e/0b2eb8f6e25ee4a60403e5a5d66c7331.jpg\" width=\"48\"/>\n",
       "</a>\n",
       "<div class=\"d-flex justify-content-center mt-3\">\n",
       "<a class=\"btn-direct-apply text-dark p-1\" href=\"/J30255/apply/\" id=\"30255\" rel=\"nofollow noopener\" target=\"_blank\" title=\"Apply for this job directly on Deezer's career site\"><i class=\"fas fa-edit\"></i></a>\n",
       "<a class=\"btn-direct-apply text-dark p-1\" href=\"/job/mark/30255/create/\" rel=\"nofollow\" title=\"Save this job for later application\"><i class=\"fas fa-list-ol\"></i></a>\n",
       "</div>\n",
       "</div>\n",
       "<a class=\"col list-group-item-action px-2 py-3\" href=\"/job/30255-senior-data-analyst-marketing-mwd/\" title=\"View full details of `Senior Data Analyst - Marketing, m/w/d` vacancy\">\n",
       "<div class=\"float-right text-right d-inline-block w-25 ml-2\">\n",
       "<span class=\"d-block d-md-none text-break job-list-item-location\">Paris, France</span>\n",
       "<span class=\"d-none d-md-block text-break job-list-item-location\">Paris, France</span>\n",
       "<span class=\"badge badge-secondary badge-pill my-md-1\">Full Time</span>\n",
       "<div class=\"d-block\">\n",
       "<span class=\"badge badge-info badge-pill my-md-1 d-md-none\">Senior</span>\n",
       "<span class=\"badge badge-info badge-pill my-md-1 d-none d-md-inline-block\">Senior-level</span>\n",
       "</div>\n",
       "<div class=\"d-block\">\n",
       "<span class=\"badge badge-success badge-pill d-none d-md-inline-block\">USD 50K - 85K *</span>\n",
       "<span class=\"badge badge-success badge-pill d-md-none\">USD 50K+ *</span>\n",
       "</div>\n",
       "</div>\n",
       "<p class=\"m-0 text-muted job-list-item-company\">Deezer</p>\n",
       "<h2 class=\"h4 mb-1\">Senior Data Analyst - Marketing, m/w/d</h2>\n",
       "<span class=\"badge badge-light badge-pill\">Data pipelines</span>\n",
       "<span class=\"badge badge-light badge-pill\">Market research</span>\n",
       "<span class=\"badge badge-light badge-pill\">Pipelines</span>\n",
       "<span class=\"badge badge-light badge-pill\">Python</span>\n",
       "<span class=\"badge badge-light badge-pill\">Research</span>\n",
       "<span class=\"badge badge-light badge-pill\">SQL</span>\n",
       "<span class=\"badge badge-light badge-pill\">Streaming</span>\n",
       "<span class=\"badge badge-light badge-pill\">+1</span>\n",
       "<br/>\n",
       "<span class=\"badge badge-success badge-pill\">Career development</span>\n",
       "<span class=\"badge badge-success badge-pill\">Health care</span>\n",
       "<span class=\"badge badge-success badge-pill\">Insurance</span>\n",
       "<span class=\"badge badge-success badge-pill\">Startup environment</span>\n",
       "</a>\n",
       "</div>\n",
       "</div>\n",
       "<div class=\"list-group-item px-2 px-lg-3 py-0\">\n",
       "<div class=\"row\">\n",
       "<div class=\"col-2 col-sm-1 px-2 py-3\">\n",
       "<a href=\"/jobs-at-visa/\" title=\"Show all open positions at Visa\">\n",
       "<img alt=\"Visa logo\" class=\"mx-auto my-1 d-block\" height=\"48\" loading=\"lazy\" src=\"/media/cache/e6/27/e627d409d52ccd3453ce2d0439dc59d6.jpg\" width=\"48\"/>\n",
       "</a>\n",
       "<div class=\"d-flex justify-content-center mt-3\">\n",
       "<a class=\"btn-direct-apply text-dark p-1\" href=\"/J30258/apply/\" id=\"30258\" rel=\"nofollow noopener\" target=\"_blank\" title=\"Apply for this job directly on Visa's career site\"><i class=\"fas fa-edit\"></i></a>\n",
       "<a class=\"btn-direct-apply text-dark p-1\" href=\"/job/mark/30258/create/\" rel=\"nofollow\" title=\"Save this job for later application\"><i class=\"fas fa-list-ol\"></i></a>\n",
       "</div>\n",
       "</div>\n",
       "<a class=\"col list-group-item-action px-2 py-3\" href=\"/job/30258-senior-manager-data-analytics-internal-audit/\" title=\"View full details of `Senior Manager, Data Analytics – Internal Audit` vacancy\">\n",
       "<div class=\"float-right text-right d-inline-block w-25 ml-2\">\n",
       "<span class=\"d-block d-md-none text-break job-list-item-location\">New York City, United …</span>\n",
       "<span class=\"d-none d-md-block text-break job-list-item-location\">New York City, United States</span>\n",
       "<span class=\"badge badge-secondary badge-pill my-md-1\">Full Time</span>\n",
       "<div class=\"d-block\">\n",
       "<span class=\"badge badge-info badge-pill my-md-1 d-md-none\">Senior</span>\n",
       "<span class=\"badge badge-info badge-pill my-md-1 d-none d-md-inline-block\">Senior-level</span>\n",
       "</div>\n",
       "</div>\n",
       "<p class=\"m-0 text-muted job-list-item-company\">Visa</p>\n",
       "<h2 class=\"h4 mb-1\">Senior Manager, Data Analytics – Internal Audit</h2>\n",
       "<span class=\"badge badge-light badge-pill\">Computer Science</span>\n",
       "<span class=\"badge badge-light badge-pill\">Data analysis</span>\n",
       "<span class=\"badge badge-light badge-pill\">Data Analytics</span>\n",
       "<span class=\"badge badge-light badge-pill\">Engineering</span>\n",
       "<span class=\"badge badge-light badge-pill\">Oracle</span>\n",
       "<span class=\"badge badge-light badge-pill\">PhD</span>\n",
       "<span class=\"badge badge-light badge-pill\">Power BI</span>\n",
       "<span class=\"badge badge-light badge-pill\">+4</span>\n",
       "<br/>\n",
       "<span class=\"badge badge-success badge-pill\">Career development</span>\n",
       "</a>\n",
       "</div>\n",
       "</div>\n",
       "<div class=\"list-group-item px-2 px-lg-3 py-0\">\n",
       "<div class=\"row\">\n",
       "<div class=\"col-2 col-sm-1 px-2 py-3\">\n",
       "<a href=\"/jobs-at-experian/\" title=\"Show all open positions at Experian\">\n",
       "<img alt=\"Experian logo\" class=\"mx-auto my-1 d-block\" height=\"48\" loading=\"lazy\" src=\"/media/cache/79/f7/79f795c1b4ebbcfb4c60d3948721a210.jpg\" width=\"48\"/>\n",
       "</a>\n",
       "<div class=\"d-flex justify-content-center mt-3\">\n",
       "<a class=\"btn-direct-apply text-dark p-1\" href=\"/J30291/apply/\" id=\"30291\" rel=\"nofollow noopener\" target=\"_blank\" title=\"Apply for this job directly on Experian's career site\"><i class=\"fas fa-edit\"></i></a>\n",
       "<a class=\"btn-direct-apply text-dark p-1\" href=\"/job/mark/30291/create/\" rel=\"nofollow\" title=\"Save this job for later application\"><i class=\"fas fa-list-ol\"></i></a>\n",
       "</div>\n",
       "</div>\n",
       "<a class=\"col list-group-item-action px-2 py-3\" href=\"/job/30291-data-engineer-analyst-lead/\" title=\"View full details of `Data Engineer Analyst Lead` vacancy\">\n",
       "<div class=\"float-right text-right d-inline-block w-25 ml-2\">\n",
       "<span class=\"d-block d-md-none text-break job-list-item-location\">Costa Mesa, CA, United …</span>\n",
       "<span class=\"d-none d-md-block text-break job-list-item-location\">Costa Mesa, CA, United States</span>\n",
       "<span class=\"badge badge-secondary badge-pill my-md-1\">Full Time</span>\n",
       "<div class=\"d-block\">\n",
       "<span class=\"badge badge-info badge-pill my-md-1 d-md-none\">Executive</span>\n",
       "<span class=\"badge badge-info badge-pill my-md-1 d-none d-md-inline-block\">Executive-level</span>\n",
       "</div>\n",
       "<div class=\"d-block\">\n",
       "<span class=\"badge badge-success badge-pill d-none d-md-inline-block\">USD 33K - 112K *</span>\n",
       "<span class=\"badge badge-success badge-pill d-md-none\">USD 33K+ *</span>\n",
       "</div>\n",
       "</div>\n",
       "<p class=\"m-0 text-muted job-list-item-company\">Experian</p>\n",
       "<h2 class=\"h4 mb-1\">Data Engineer Analyst Lead</h2>\n",
       "<span class=\"badge badge-light badge-pill\">Computer Science</span>\n",
       "<span class=\"badge badge-light badge-pill\">Economics</span>\n",
       "<span class=\"badge badge-light badge-pill\">Engineering</span>\n",
       "<span class=\"badge badge-light badge-pill\">Python</span>\n",
       "<span class=\"badge badge-light badge-pill\">R</span>\n",
       "<span class=\"badge badge-light badge-pill\">SAS</span>\n",
       "<span class=\"badge badge-light badge-pill\">SQL</span>\n",
       "<span class=\"badge badge-light badge-pill\">+2</span>\n",
       "<br/>\n",
       "<span class=\"badge badge-success badge-pill\">401(k) matching</span>\n",
       "<span class=\"badge badge-success badge-pill\">Career development</span>\n",
       "<span class=\"badge badge-success badge-pill\">Competitive pay</span>\n",
       "<span class=\"badge badge-success badge-pill\">Equity</span>\n",
       "<span class=\"badge badge-success badge-pill\">Health care</span>\n",
       "<span class=\"badge badge-success badge-pill\">+2</span>\n",
       "</a>\n",
       "</div>\n",
       "</div>\n",
       "<div class=\"list-group-item px-2 px-lg-3 py-0\">\n",
       "<div class=\"row\">\n",
       "<div class=\"col-2 col-sm-1 px-2 py-3\">\n",
       "<a href=\"/jobs-at-bosch-group/\" title=\"Show all open positions at Bosch Group\">\n",
       "<img alt=\"Bosch Group logo\" class=\"mx-auto my-1 d-block\" height=\"48\" loading=\"lazy\" src=\"/media/cache/60/3c/603c8e150099e49ae5fa9f34a6b64fab.jpg\" width=\"48\"/>\n",
       "</a>\n",
       "<div class=\"d-flex justify-content-center mt-3\">\n",
       "<a class=\"btn-direct-apply text-dark p-1\" href=\"/J30250/apply/\" id=\"30250\" rel=\"nofollow noopener\" target=\"_blank\" title=\"Apply for this job directly on Bosch Group's career site\"><i class=\"fas fa-edit\"></i></a>\n",
       "<a class=\"btn-direct-apply text-dark p-1\" href=\"/job/mark/30250/create/\" rel=\"nofollow\" title=\"Save this job for later application\"><i class=\"fas fa-list-ol\"></i></a>\n",
       "</div>\n",
       "</div>\n",
       "<a class=\"col list-group-item-action px-2 py-3\" href=\"/job/30250-data-analyst-im-internen-auditing-wmdiv/\" title=\"View full details of `Data Analyst im internen Auditing (w/m/div)` vacancy\">\n",
       "<div class=\"float-right text-right d-inline-block w-25 ml-2\">\n",
       "<span class=\"d-block d-md-none text-break job-list-item-location\">Stuttgart, Germany</span>\n",
       "<span class=\"d-none d-md-block text-break job-list-item-location\">Stuttgart, Germany</span>\n",
       "<span class=\"badge badge-secondary badge-pill my-md-1\">Full Time</span>\n",
       "<div class=\"d-block\">\n",
       "<span class=\"badge badge-info badge-pill my-md-1 d-md-none\">Senior</span>\n",
       "<span class=\"badge badge-info badge-pill my-md-1 d-none d-md-inline-block\">Senior-level</span>\n",
       "</div>\n",
       "<div class=\"d-block\">\n",
       "<span class=\"badge badge-success badge-pill d-none d-md-inline-block\">USD 50K - 85K *</span>\n",
       "<span class=\"badge badge-success badge-pill d-md-none\">USD 50K+ *</span>\n",
       "</div>\n",
       "</div>\n",
       "<p class=\"m-0 text-muted job-list-item-company\">Bosch Group</p>\n",
       "<h2 class=\"h4 mb-1\">Data Analyst im internen Auditing (w/m/div)</h2>\n",
       "<span class=\"badge badge-light badge-pill\">Big Data</span>\n",
       "<span class=\"badge badge-light badge-pill\">Industrial</span>\n",
       "<span class=\"badge badge-light badge-pill\">Power BI</span>\n",
       "<span class=\"badge badge-light badge-pill\">Python</span>\n",
       "<span class=\"badge badge-light badge-pill\">SQL</span>\n",
       "<br/>\n",
       "</a>\n",
       "</div>\n",
       "</div>\n",
       "<div class=\"list-group-item px-2 px-lg-3 py-0\">\n",
       "<div class=\"row\">\n",
       "<div class=\"col-2 col-sm-1 px-2 py-3\">\n",
       "<a href=\"/jobs-at-bosch-group/\" title=\"Show all open positions at Bosch Group\">\n",
       "<img alt=\"Bosch Group logo\" class=\"mx-auto my-1 d-block\" height=\"48\" loading=\"lazy\" src=\"/media/cache/60/3c/603c8e150099e49ae5fa9f34a6b64fab.jpg\" width=\"48\"/>\n",
       "</a>\n",
       "<div class=\"d-flex justify-content-center mt-3\">\n",
       "<a class=\"btn-direct-apply text-dark p-1\" href=\"/J30249/apply/\" id=\"30249\" rel=\"nofollow noopener\" target=\"_blank\" title=\"Apply for this job directly on Bosch Group's career site\"><i class=\"fas fa-edit\"></i></a>\n",
       "<a class=\"btn-direct-apply text-dark p-1\" href=\"/job/mark/30249/create/\" rel=\"nofollow\" title=\"Save this job for later application\"><i class=\"fas fa-list-ol\"></i></a>\n",
       "</div>\n",
       "</div>\n",
       "<a class=\"col list-group-item-action px-2 py-3\" href=\"/job/30249-premaster-programm-data-analytics-und-business-intelligence-wmdiv/\" title=\"View full details of `PreMaster Programm Data Analytics und Business Intelligence (w/m/div)` vacancy\">\n",
       "<div class=\"float-right text-right d-inline-block w-25 ml-2\">\n",
       "<span class=\"d-block d-md-none text-break job-list-item-location\">Reutlingen, Germany</span>\n",
       "<span class=\"d-none d-md-block text-break job-list-item-location\">Reutlingen, Germany</span>\n",
       "<span class=\"badge badge-secondary badge-pill my-md-1\">Full Time</span>\n",
       "<div class=\"d-block\">\n",
       "<span class=\"badge badge-info badge-pill my-md-1 d-md-none\">Entry</span>\n",
       "<span class=\"badge badge-info badge-pill my-md-1 d-none d-md-inline-block\">Entry-level</span>\n",
       "</div>\n",
       "</div>\n",
       "<p class=\"m-0 text-muted job-list-item-company\">Bosch Group</p>\n",
       "<h2 class=\"h4 mb-1\">PreMaster Programm Data Analytics und Business Intelligence (w/m/div)</h2>\n",
       "<span class=\"badge badge-light badge-pill\">Big Data</span>\n",
       "<span class=\"badge badge-light badge-pill\">Business Intelligence</span>\n",
       "<span class=\"badge badge-light badge-pill\">Data Analytics</span>\n",
       "<span class=\"badge badge-light badge-pill\">Industrial</span>\n",
       "<span class=\"badge badge-light badge-pill\">KNIME</span>\n",
       "<span class=\"badge badge-light badge-pill\">Python</span>\n",
       "<span class=\"badge badge-light badge-pill\">SQL</span>\n",
       "<span class=\"badge badge-light badge-pill\">+1</span>\n",
       "<br/>\n",
       "</a>\n",
       "</div>\n",
       "</div>\n",
       "<div class=\"list-group-item px-2 px-lg-3 py-0\">\n",
       "<div class=\"row\">\n",
       "<div class=\"col-2 col-sm-1 px-2 py-3\">\n",
       "<a href=\"/jobs-at-vantiva/\" title=\"Show all open positions at Vantiva\">\n",
       "<img alt=\"Vantiva logo\" class=\"mx-auto my-1 d-block\" height=\"48\" loading=\"lazy\" src=\"/media/cache/16/85/1685c4e4a9259413922b35bd2e6658ac.jpg\" width=\"48\"/>\n",
       "</a>\n",
       "<div class=\"d-flex justify-content-center mt-3\">\n",
       "<a class=\"btn-direct-apply text-dark p-1\" href=\"/J30262/apply/\" id=\"30262\" rel=\"nofollow noopener\" target=\"_blank\" title=\"Apply for this job directly on Vantiva's career site\"><i class=\"fas fa-edit\"></i></a>\n",
       "<a class=\"btn-direct-apply text-dark p-1\" href=\"/job/mark/30262/create/\" rel=\"nofollow\" title=\"Save this job for later application\"><i class=\"fas fa-list-ol\"></i></a>\n",
       "</div>\n",
       "</div>\n",
       "<a class=\"col list-group-item-action px-2 py-3\" href=\"/job/30262-product-owner-logistics-and-transportation-data-analyst/\" title=\"View full details of `Product Owner - Logistics and Transportation Data Analyst` vacancy\">\n",
       "<div class=\"float-right text-right d-inline-block w-25 ml-2\">\n",
       "<span class=\"d-block d-md-none text-break job-list-item-location\">Paris, France</span>\n",
       "<span class=\"d-none d-md-block text-break job-list-item-location\">Paris, France</span>\n",
       "<span class=\"badge badge-secondary badge-pill my-md-1\">Full Time</span>\n",
       "<div class=\"d-block\">\n",
       "<span class=\"badge badge-info badge-pill my-md-1 d-md-none\">Entry</span>\n",
       "<span class=\"badge badge-info badge-pill my-md-1 d-none d-md-inline-block\">Entry-level</span>\n",
       "</div>\n",
       "<div class=\"d-block\">\n",
       "<span class=\"badge badge-success badge-pill d-none d-md-inline-block\">USD 30K - 80K *</span>\n",
       "<span class=\"badge badge-success badge-pill d-md-none\">USD 30K+ *</span>\n",
       "</div>\n",
       "</div>\n",
       "<p class=\"m-0 text-muted job-list-item-company\">Vantiva</p>\n",
       "<h2 class=\"h4 mb-1\">Product Owner - Logistics and Transportation Data Analyst</h2>\n",
       "<span class=\"badge badge-light badge-pill\">Data analysis</span>\n",
       "<span class=\"badge badge-light badge-pill\">Power BI</span>\n",
       "<span class=\"badge badge-light badge-pill\">Testing</span>\n",
       "<br/>\n",
       "</a>\n",
       "</div>\n",
       "</div>\n",
       "<div class=\"list-group-item px-2 px-lg-3 py-0\">\n",
       "<div class=\"row\">\n",
       "<div class=\"col-2 col-sm-1 px-2 py-3\">\n",
       "<a href=\"/jobs-at-allegro/\" title=\"Show all open positions at Allegro\">\n",
       "<img alt=\"Allegro logo\" class=\"mx-auto my-1 d-block\" height=\"48\" loading=\"lazy\" src=\"/media/cache/a6/3c/a63caf2837e72b8e9c5f214e21cc5b3b.jpg\" width=\"48\"/>\n",
       "</a>\n",
       "<div class=\"d-flex justify-content-center mt-3\">\n",
       "<a class=\"btn-direct-apply text-dark p-1\" href=\"/J30263/apply/\" id=\"30263\" rel=\"nofollow noopener\" target=\"_blank\" title=\"Apply for this job directly on Allegro's career site\"><i class=\"fas fa-edit\"></i></a>\n",
       "<a class=\"btn-direct-apply text-dark p-1\" href=\"/job/mark/30263/create/\" rel=\"nofollow\" title=\"Save this job for later application\"><i class=\"fas fa-list-ol\"></i></a>\n",
       "</div>\n",
       "</div>\n",
       "<a class=\"col list-group-item-action px-2 py-3\" href=\"/job/30263-senior-data-analyst/\" title=\"View full details of `Senior Data Analyst` vacancy\">\n",
       "<div class=\"float-right text-right d-inline-block w-25 ml-2\">\n",
       "<span class=\"d-block d-md-none text-break job-list-item-location\">Warszawa, Poznań, Poland</span>\n",
       "<span class=\"d-none d-md-block text-break job-list-item-location\">Warszawa, Poznań, Poland</span>\n",
       "<span class=\"badge badge-secondary badge-pill my-md-1\">Full Time</span>\n",
       "<div class=\"d-block\">\n",
       "<span class=\"badge badge-info badge-pill my-md-1 d-md-none\">Senior</span>\n",
       "<span class=\"badge badge-info badge-pill my-md-1 d-none d-md-inline-block\">Senior-level</span>\n",
       "</div>\n",
       "<div class=\"d-block\">\n",
       "<span class=\"badge badge-success badge-pill d-none d-md-inline-block\">USD 50K - 85K *</span>\n",
       "<span class=\"badge badge-success badge-pill d-md-none\">USD 50K+ *</span>\n",
       "</div>\n",
       "</div>\n",
       "<p class=\"m-0 text-muted job-list-item-company\">Allegro</p>\n",
       "<h2 class=\"h4 mb-1\">Senior Data Analyst</h2>\n",
       "<span class=\"badge badge-light badge-pill\">Data analysis</span>\n",
       "<span class=\"badge badge-light badge-pill\">Data visualization</span>\n",
       "<span class=\"badge badge-light badge-pill\">E-commerce</span>\n",
       "<span class=\"badge badge-light badge-pill\">Power BI</span>\n",
       "<span class=\"badge badge-light badge-pill\">SQL</span>\n",
       "<span class=\"badge badge-light badge-pill\">Tableau</span>\n",
       "<br/>\n",
       "<span class=\"badge badge-success badge-pill\">Career development</span>\n",
       "<span class=\"badge badge-success badge-pill\">Competitive pay</span>\n",
       "<span class=\"badge badge-success badge-pill\">Fitness / gym</span>\n",
       "<span class=\"badge badge-success badge-pill\">Health care</span>\n",
       "</a>\n",
       "</div>\n",
       "</div>\n",
       "<div class=\"list-group-item px-2 px-lg-3 py-0\">\n",
       "<div class=\"row\">\n",
       "<div class=\"col-2 col-sm-1 px-2 py-3\">\n",
       "<a href=\"/jobs-at-biogen/\" title=\"Show all open positions at Biogen\">\n",
       "<img alt=\"Biogen logo\" class=\"mx-auto my-1 d-block\" height=\"48\" loading=\"lazy\" src=\"/media/cache/e8/de/e8debbcb2bf359620e644e64de7ddb63.jpg\" width=\"48\"/>\n",
       "</a>\n",
       "<div class=\"d-flex justify-content-center mt-3\">\n",
       "<a class=\"btn-direct-apply text-dark p-1\" href=\"/J30217/apply/\" id=\"30217\" rel=\"nofollow noopener\" target=\"_blank\" title=\"Apply for this job directly on Biogen's career site\"><i class=\"fas fa-edit\"></i></a>\n",
       "<a class=\"btn-direct-apply text-dark p-1\" href=\"/job/mark/30217/create/\" rel=\"nofollow\" title=\"Save this job for later application\"><i class=\"fas fa-list-ol\"></i></a>\n",
       "</div>\n",
       "</div>\n",
       "<a class=\"col list-group-item-action px-2 py-3\" href=\"/job/30217-manager-gcp-quality-analytics-and-data-sciences/\" title=\"View full details of `Manager, GCP Quality, Analytics and Data Sciences` vacancy\">\n",
       "<div class=\"float-right text-right d-inline-block w-25 ml-2\">\n",
       "<span class=\"d-block d-md-none text-break job-list-item-location\">Remote, UNITED STATES, United …</span>\n",
       "<span class=\"d-none d-md-block text-break job-list-item-location\">Remote, UNITED STATES, United States</span>\n",
       "<span class=\"badge badge-secondary badge-pill my-md-1\">Full Time</span>\n",
       "<div class=\"d-block\">\n",
       "<span class=\"badge badge-info badge-pill my-md-1 d-md-none\">Senior</span>\n",
       "<span class=\"badge badge-info badge-pill my-md-1 d-none d-md-inline-block\">Senior-level</span>\n",
       "</div>\n",
       "</div>\n",
       "<p class=\"m-0 text-muted job-list-item-company\">Biogen</p>\n",
       "<h2 class=\"h4 mb-1\">Manager, GCP Quality, Analytics and Data Sciences</h2>\n",
       "<span class=\"badge badge-light badge-pill\">Data management</span>\n",
       "<span class=\"badge badge-light badge-pill\">ECS</span>\n",
       "<span class=\"badge badge-light badge-pill\">GCP</span>\n",
       "<span class=\"badge badge-light badge-pill\">KPIs</span>\n",
       "<span class=\"badge badge-light badge-pill\">R</span>\n",
       "<span class=\"badge badge-light badge-pill\">R&amp;D</span>\n",
       "<span class=\"badge badge-light badge-pill\">Research</span>\n",
       "<span class=\"badge badge-light badge-pill\">+1</span>\n",
       "<br/>\n",
       "</a>\n",
       "</div>\n",
       "</div>\n",
       "<div class=\"list-group-item px-2 px-lg-3 py-0\">\n",
       "<div class=\"row\">\n",
       "<div class=\"col-2 col-sm-1 px-2 py-3\">\n",
       "<a href=\"/jobs-at-deezer/\" title=\"Show all open positions at Deezer\">\n",
       "<img alt=\"Deezer logo\" class=\"mx-auto my-1 d-block\" height=\"48\" loading=\"lazy\" src=\"/media/cache/0b/2e/0b2eb8f6e25ee4a60403e5a5d66c7331.jpg\" width=\"48\"/>\n",
       "</a>\n",
       "<div class=\"d-flex justify-content-center mt-3\">\n",
       "<a class=\"btn-direct-apply text-dark p-1\" href=\"/J30254/apply/\" id=\"30254\" rel=\"nofollow noopener\" target=\"_blank\" title=\"Apply for this job directly on Deezer's career site\"><i class=\"fas fa-edit\"></i></a>\n",
       "<a class=\"btn-direct-apply text-dark p-1\" href=\"/job/mark/30254/create/\" rel=\"nofollow\" title=\"Save this job for later application\"><i class=\"fas fa-list-ol\"></i></a>\n",
       "</div>\n",
       "</div>\n",
       "<a class=\"col list-group-item-action px-2 py-3\" href=\"/job/30254-data-analyst-intern-mwd/\" title=\"View full details of `Data Analyst Intern m/w/d` vacancy\">\n",
       "<div class=\"float-right text-right d-inline-block w-25 ml-2\">\n",
       "<span class=\"d-block d-md-none text-break job-list-item-location\">Paris, France</span>\n",
       "<span class=\"d-none d-md-block text-break job-list-item-location\">Paris, France</span>\n",
       "<span class=\"badge badge-secondary badge-pill my-md-1\">Internship</span>\n",
       "<div class=\"d-block\">\n",
       "<span class=\"badge badge-info badge-pill my-md-1 d-md-none\">Entry</span>\n",
       "<span class=\"badge badge-info badge-pill my-md-1 d-none d-md-inline-block\">Entry-level</span>\n",
       "</div>\n",
       "<div class=\"d-block\">\n",
       "<span class=\"badge badge-success badge-pill d-none d-md-inline-block\">USD 30K - 80K *</span>\n",
       "<span class=\"badge badge-success badge-pill d-md-none\">USD 30K+ *</span>\n",
       "</div>\n",
       "</div>\n",
       "<p class=\"m-0 text-muted job-list-item-company\">Deezer</p>\n",
       "<h2 class=\"h4 mb-1\">Data Analyst Intern m/w/d</h2>\n",
       "<span class=\"badge badge-light badge-pill\">Data analysis</span>\n",
       "<span class=\"badge badge-light badge-pill\">Data pipelines</span>\n",
       "<span class=\"badge badge-light badge-pill\">Data visualization</span>\n",
       "<span class=\"badge badge-light badge-pill\">KPIs</span>\n",
       "<span class=\"badge badge-light badge-pill\">Pipelines</span>\n",
       "<span class=\"badge badge-light badge-pill\">Python</span>\n",
       "<span class=\"badge badge-light badge-pill\">Research</span>\n",
       "<span class=\"badge badge-light badge-pill\">+4</span>\n",
       "<br/>\n",
       "<span class=\"badge badge-success badge-pill\">Career development</span>\n",
       "<span class=\"badge badge-success badge-pill\">Health care</span>\n",
       "<span class=\"badge badge-success badge-pill\">Insurance</span>\n",
       "<span class=\"badge badge-success badge-pill\">Startup environment</span>\n",
       "</a>\n",
       "</div>\n",
       "</div>\n",
       "<div class=\"list-group-item px-2 px-lg-3 py-0\">\n",
       "<div class=\"row\">\n",
       "<div class=\"col-2 col-sm-1 px-2 py-3\">\n",
       "<a href=\"/jobs-at-biogen/\" title=\"Show all open positions at Biogen\">\n",
       "<img alt=\"Biogen logo\" class=\"mx-auto my-1 d-block\" height=\"48\" loading=\"lazy\" src=\"/media/cache/e8/de/e8debbcb2bf359620e644e64de7ddb63.jpg\" width=\"48\"/>\n",
       "</a>\n",
       "<div class=\"d-flex justify-content-center mt-3\">\n",
       "<a class=\"btn-direct-apply text-dark p-1\" href=\"/J30187/apply/\" id=\"30187\" rel=\"nofollow noopener\" target=\"_blank\" title=\"Apply for this job directly on Biogen's career site\"><i class=\"fas fa-edit\"></i></a>\n",
       "<a class=\"btn-direct-apply text-dark p-1\" href=\"/job/mark/30187/create/\" rel=\"nofollow\" title=\"Save this job for later application\"><i class=\"fas fa-list-ol\"></i></a>\n",
       "</div>\n",
       "</div>\n",
       "<a class=\"col list-group-item-action px-2 py-3\" href=\"/job/30187-portfolio-and-partnership-insights-data-analytics-sr-managerassoc-director/\" title=\"View full details of `Portfolio and Partnership Insights &amp; Data Analytics , Sr Manager/Assoc. Director` vacancy\">\n",
       "<div class=\"float-right text-right d-inline-block w-25 ml-2\">\n",
       "<span class=\"d-block d-md-none text-break job-list-item-location\">Cambridge, MA, United States</span>\n",
       "<span class=\"d-none d-md-block text-break job-list-item-location\">Cambridge, MA, United States</span>\n",
       "<span class=\"badge badge-secondary badge-pill my-md-1\">Full Time</span>\n",
       "<div class=\"d-block\">\n",
       "<span class=\"badge badge-info badge-pill my-md-1 d-md-none\">Senior</span>\n",
       "<span class=\"badge badge-info badge-pill my-md-1 d-none d-md-inline-block\">Senior-level</span>\n",
       "</div>\n",
       "</div>\n",
       "<p class=\"m-0 text-muted job-list-item-company\">Biogen</p>\n",
       "<h2 class=\"h4 mb-1\">Portfolio and Partnership Insights &amp; Data Analytics , Sr Manager/Assoc. Director</h2>\n",
       "<span class=\"badge badge-light badge-pill\">Data Analytics</span>\n",
       "<span class=\"badge badge-light badge-pill\">Data visualization</span>\n",
       "<span class=\"badge badge-light badge-pill\">Excel</span>\n",
       "<span class=\"badge badge-light badge-pill\">Finance</span>\n",
       "<span class=\"badge badge-light badge-pill\">Market research</span>\n",
       "<span class=\"badge badge-light badge-pill\">Research</span>\n",
       "<br/>\n",
       "<span class=\"badge badge-success badge-pill\">Career development</span>\n",
       "</a>\n",
       "</div>\n",
       "</div>\n",
       "<div class=\"list-group-item px-2 px-lg-3 py-0\">\n",
       "<div class=\"row\">\n",
       "<div class=\"col-2 col-sm-1 px-2 py-3\">\n",
       "<a href=\"/jobs-at-analygence-inc/\" title=\"Show all open positions at ANALYGENCE, Inc.\">\n",
       "<img alt=\"ANALYGENCE, Inc. logo\" class=\"mx-auto my-1 d-block\" height=\"48\" loading=\"lazy\" src=\"/media/cache/24/de/24de4accec6dee650d1e4b0f966f44b0.jpg\" width=\"48\"/>\n",
       "</a>\n",
       "<div class=\"d-flex justify-content-center mt-3\">\n",
       "<a class=\"btn-direct-apply text-dark p-1\" href=\"/J30245/apply/\" id=\"30245\" rel=\"nofollow noopener\" target=\"_blank\" title=\"Apply for this job directly on ANALYGENCE, Inc.'s career site\"><i class=\"fas fa-edit\"></i></a>\n",
       "<a class=\"btn-direct-apply text-dark p-1\" href=\"/job/mark/30245/create/\" rel=\"nofollow\" title=\"Save this job for later application\"><i class=\"fas fa-list-ol\"></i></a>\n",
       "</div>\n",
       "</div>\n",
       "<a class=\"col list-group-item-action px-2 py-3\" href=\"/job/30245-dco-data-analytics-manager/\" title=\"View full details of `DCO Data Analytics Manager` vacancy\">\n",
       "<div class=\"float-right text-right d-inline-block w-25 ml-2\">\n",
       "<span class=\"d-block d-md-none text-break job-list-item-location\">Hampton, VA, United States</span>\n",
       "<span class=\"d-none d-md-block text-break job-list-item-location\">Hampton, VA, United States</span>\n",
       "<span class=\"badge badge-secondary badge-pill my-md-1\">Full Time</span>\n",
       "</div>\n",
       "<p class=\"m-0 text-muted job-list-item-company\">ANALYGENCE, Inc.</p>\n",
       "<h2 class=\"h4 mb-1\">DCO Data Analytics Manager</h2>\n",
       "<span class=\"badge badge-light badge-pill\">Agile</span>\n",
       "<span class=\"badge badge-light badge-pill\">Big Data</span>\n",
       "<span class=\"badge badge-light badge-pill\">Data Analytics</span>\n",
       "<span class=\"badge badge-light badge-pill\">Statistics</span>\n",
       "<span class=\"badge badge-light badge-pill\">Testing</span>\n",
       "<br/>\n",
       "<span class=\"badge badge-success badge-pill\">Career development</span>\n",
       "<span class=\"badge badge-success badge-pill\">Conferences</span>\n",
       "<span class=\"badge badge-success badge-pill\">Team events</span>\n",
       "</a>\n",
       "</div>\n",
       "</div>\n",
       "<div class=\"list-group-item px-2 px-lg-3 py-0\">\n",
       "<div class=\"row\">\n",
       "<div class=\"col-2 col-sm-1 px-2 py-3\">\n",
       "<a href=\"/jobs-at-captech-consulting/\" title=\"Show all open positions at CapTech Consulting\">\n",
       "<img alt=\"CapTech Consulting logo\" class=\"mx-auto my-1 d-block\" height=\"48\" loading=\"lazy\" src=\"/media/cache/fe/04/fe046b61caacac30e38523076e6d5584.jpg\" width=\"48\"/>\n",
       "</a>\n",
       "<div class=\"d-flex justify-content-center mt-3\">\n",
       "<a class=\"btn-direct-apply text-dark p-1\" href=\"/J30198/apply/\" id=\"30198\" rel=\"nofollow noopener\" target=\"_blank\" title=\"Apply for this job directly on CapTech Consulting's career site\"><i class=\"fas fa-edit\"></i></a>\n",
       "<a class=\"btn-direct-apply text-dark p-1\" href=\"/job/mark/30198/create/\" rel=\"nofollow\" title=\"Save this job for later application\"><i class=\"fas fa-list-ol\"></i></a>\n",
       "</div>\n",
       "</div>\n",
       "<a class=\"col list-group-item-action px-2 py-3\" href=\"/job/30198-consulting-internship-data-analysisdata-engineer-summer-2023/\" title=\"View full details of `Consulting Internship: Data Analysis/Data Engineer (Summer 2023)` vacancy\">\n",
       "<div class=\"float-right text-right d-inline-block w-25 ml-2\">\n",
       "<span class=\"d-block d-md-none text-break job-list-item-location\">Richmond, VA, United States</span>\n",
       "<span class=\"d-none d-md-block text-break job-list-item-location\">Richmond, VA, United States</span>\n",
       "<span class=\"badge badge-secondary badge-pill my-md-1\">Internship</span>\n",
       "<div class=\"d-block\">\n",
       "<span class=\"badge badge-info badge-pill my-md-1 d-md-none\">Entry</span>\n",
       "<span class=\"badge badge-info badge-pill my-md-1 d-none d-md-inline-block\">Entry-level</span>\n",
       "</div>\n",
       "<div class=\"d-block\">\n",
       "<span class=\"badge badge-success badge-pill d-none d-md-inline-block\">USD 30K - 65K *</span>\n",
       "<span class=\"badge badge-success badge-pill d-md-none\">USD 30K+ *</span>\n",
       "</div>\n",
       "</div>\n",
       "<p class=\"m-0 text-muted job-list-item-company\">CapTech Consulting</p>\n",
       "<h2 class=\"h4 mb-1\">Consulting Internship: Data Analysis/Data Engineer (Summer 2023)</h2>\n",
       "<span class=\"badge badge-light badge-pill\">Business Analytics</span>\n",
       "<span class=\"badge badge-light badge-pill\">Computer Science</span>\n",
       "<span class=\"badge badge-light badge-pill\">Consulting</span>\n",
       "<span class=\"badge badge-light badge-pill\">Data analysis</span>\n",
       "<span class=\"badge badge-light badge-pill\">Engineering</span>\n",
       "<br/>\n",
       "<span class=\"badge badge-success badge-pill\">Career development</span>\n",
       "</a>\n",
       "</div>\n",
       "</div>\n",
       "<div class=\"list-group-item px-2 px-lg-3 py-0\">\n",
       "<div class=\"row\">\n",
       "<div class=\"col-2 col-sm-1 px-2 py-3\">\n",
       "<a href=\"/jobs-at-auto1-group/\" title=\"Show all open positions at AUTO1 Group\">\n",
       "<img alt=\"AUTO1 Group logo\" class=\"mx-auto my-1 d-block\" height=\"48\" loading=\"lazy\" src=\"/media/cache/57/42/574220f816a5dcc6be0ea9c177353128.jpg\" width=\"48\"/>\n",
       "</a>\n",
       "<div class=\"d-flex justify-content-center mt-3\">\n",
       "<a class=\"btn-direct-apply text-dark p-1\" href=\"/J30199/apply/\" id=\"30199\" rel=\"nofollow noopener\" target=\"_blank\" title=\"Apply for this job directly on AUTO1 Group's career site\"><i class=\"fas fa-edit\"></i></a>\n",
       "<a class=\"btn-direct-apply text-dark p-1\" href=\"/job/mark/30199/create/\" rel=\"nofollow\" title=\"Save this job for later application\"><i class=\"fas fa-list-ol\"></i></a>\n",
       "</div>\n",
       "</div>\n",
       "<a class=\"col list-group-item-action px-2 py-3\" href=\"/job/30199-data-analyst-accounting/\" title=\"View full details of `DATA ANALYST - ACCOUNTING` vacancy\">\n",
       "<div class=\"float-right text-right d-inline-block w-25 ml-2\">\n",
       "<span class=\"d-block d-md-none text-break job-list-item-location\">Milan, Italy</span>\n",
       "<span class=\"d-none d-md-block text-break job-list-item-location\">Milan, Italy</span>\n",
       "<span class=\"badge badge-secondary badge-pill my-md-1\">Full Time</span>\n",
       "<div class=\"d-block\">\n",
       "<span class=\"badge badge-info badge-pill my-md-1 d-md-none\">Entry</span>\n",
       "<span class=\"badge badge-info badge-pill my-md-1 d-none d-md-inline-block\">Entry-level</span>\n",
       "</div>\n",
       "<div class=\"d-block\">\n",
       "<span class=\"badge badge-success badge-pill d-none d-md-inline-block\">USD 30K - 80K *</span>\n",
       "<span class=\"badge badge-success badge-pill d-md-none\">USD 30K+ *</span>\n",
       "</div>\n",
       "</div>\n",
       "<p class=\"m-0 text-muted job-list-item-company\">AUTO1 Group</p>\n",
       "<h2 class=\"h4 mb-1\">DATA ANALYST - ACCOUNTING</h2>\n",
       "<span class=\"badge badge-light badge-pill\">Business Intelligence</span>\n",
       "<span class=\"badge badge-light badge-pill\">Data analysis</span>\n",
       "<span class=\"badge badge-light badge-pill\">Data Studio</span>\n",
       "<span class=\"badge badge-light badge-pill\">Data visualization</span>\n",
       "<span class=\"badge badge-light badge-pill\">Excel</span>\n",
       "<span class=\"badge badge-light badge-pill\">Finance</span>\n",
       "<span class=\"badge badge-light badge-pill\">Python</span>\n",
       "<span class=\"badge badge-light badge-pill\">+3</span>\n",
       "<br/>\n",
       "</a>\n",
       "</div>\n",
       "</div>\n",
       "<div class=\"list-group-item px-2 px-lg-3 py-0\">\n",
       "<div class=\"row\">\n",
       "<div class=\"col-2 col-sm-1 px-2 py-3\">\n",
       "<a href=\"/jobs-at-bosch-group/\" title=\"Show all open positions at Bosch Group\">\n",
       "<img alt=\"Bosch Group logo\" class=\"mx-auto my-1 d-block\" height=\"48\" loading=\"lazy\" src=\"/media/cache/60/3c/603c8e150099e49ae5fa9f34a6b64fab.jpg\" width=\"48\"/>\n",
       "</a>\n",
       "<div class=\"d-flex justify-content-center mt-3\">\n",
       "<a class=\"btn-direct-apply text-dark p-1\" href=\"/J30188/apply/\" id=\"30188\" rel=\"nofollow noopener\" target=\"_blank\" title=\"Apply for this job directly on Bosch Group's career site\"><i class=\"fas fa-edit\"></i></a>\n",
       "<a class=\"btn-direct-apply text-dark p-1\" href=\"/job/mark/30188/create/\" rel=\"nofollow\" title=\"Save this job for later application\"><i class=\"fas fa-list-ol\"></i></a>\n",
       "</div>\n",
       "</div>\n",
       "<a class=\"col list-group-item-action px-2 py-3\" href=\"/job/30188-data-analytics-intern-3-months/\" title=\"View full details of `DATA ANALYTICS INTERN (3 months)` vacancy\">\n",
       "<div class=\"float-right text-right d-inline-block w-25 ml-2\">\n",
       "<span class=\"d-block d-md-none text-break job-list-item-location\">San Francisco, Costa Rica</span>\n",
       "<span class=\"d-none d-md-block text-break job-list-item-location\">San Francisco, Costa Rica</span>\n",
       "<span class=\"badge badge-secondary badge-pill my-md-1\">Full Time</span>\n",
       "<span class=\"badge badge-secondary badge-pill my-md-1\">Internship</span>\n",
       "<div class=\"d-block\">\n",
       "<span class=\"badge badge-info badge-pill my-md-1 d-md-none\">Entry</span>\n",
       "<span class=\"badge badge-info badge-pill my-md-1 d-none d-md-inline-block\">Entry-level</span>\n",
       "</div>\n",
       "</div>\n",
       "<p class=\"m-0 text-muted job-list-item-company\">Bosch Group</p>\n",
       "<h2 class=\"h4 mb-1\">DATA ANALYTICS INTERN (3 months)</h2>\n",
       "<span class=\"badge badge-light badge-pill\">Computer Science</span>\n",
       "<span class=\"badge badge-light badge-pill\">Data Analytics</span>\n",
       "<span class=\"badge badge-light badge-pill\">Engineering</span>\n",
       "<span class=\"badge badge-light badge-pill\">Excel</span>\n",
       "<span class=\"badge badge-light badge-pill\">Power BI</span>\n",
       "<span class=\"badge badge-light badge-pill\">Statistics</span>\n",
       "<span class=\"badge badge-light badge-pill\">Tableau</span>\n",
       "<br/>\n",
       "</a>\n",
       "</div>\n",
       "</div>\n",
       "<div class=\"list-group-item px-2 px-lg-3 py-0\">\n",
       "<div class=\"row\">\n",
       "<div class=\"col-2 col-sm-1 px-2 py-3\">\n",
       "<a href=\"/jobs-at-take-two-interactive-software-inc/\" title=\"Show all open positions at Take-Two Interactive Software, Inc.\">\n",
       "<img alt=\"Take-Two Interactive Software, Inc. logo\" class=\"mx-auto my-1 d-block\" height=\"48\" loading=\"lazy\" src=\"/media/cache/d2/0a/d20aea4c5d86e8caa3c48c3d89f628f6.jpg\" width=\"48\"/>\n",
       "</a>\n",
       "<div class=\"d-flex justify-content-center mt-3\">\n",
       "<a class=\"btn-direct-apply text-dark p-1\" href=\"/J30131/apply/\" id=\"30131\" rel=\"nofollow noopener\" target=\"_blank\" title=\"Apply for this job directly on Take-Two Interactive Software, Inc.'s career site\"><i class=\"fas fa-edit\"></i></a>\n",
       "<a class=\"btn-direct-apply text-dark p-1\" href=\"/job/mark/30131/create/\" rel=\"nofollow\" title=\"Save this job for later application\"><i class=\"fas fa-list-ol\"></i></a>\n",
       "</div>\n",
       "</div>\n",
       "<a class=\"col list-group-item-action px-2 py-3\" href=\"/job/30131-data-analyst/\" title=\"View full details of `Data Analyst` vacancy\">\n",
       "<div class=\"float-right text-right d-inline-block w-25 ml-2\">\n",
       "<span class=\"d-block d-md-none text-break job-list-item-location\">New York City, United …</span>\n",
       "<span class=\"d-none d-md-block text-break job-list-item-location\">New York City, United States</span>\n",
       "<span class=\"badge badge-secondary badge-pill my-md-1\">Full Time</span>\n",
       "<div class=\"d-block\">\n",
       "<span class=\"badge badge-info badge-pill my-md-1 d-md-none\">Senior</span>\n",
       "<span class=\"badge badge-info badge-pill my-md-1 d-none d-md-inline-block\">Senior-level</span>\n",
       "</div>\n",
       "<div class=\"d-block\">\n",
       "<span class=\"badge badge-success badge-pill d-none d-md-inline-block\">USD 50K - 85K *</span>\n",
       "<span class=\"badge badge-success badge-pill d-md-none\">USD 50K+ *</span>\n",
       "</div>\n",
       "</div>\n",
       "<p class=\"m-0 text-muted job-list-item-company\">Take-Two Interactive Software, Inc.</p>\n",
       "<h2 class=\"h4 mb-1\">Data Analyst</h2>\n",
       "<span class=\"badge badge-light badge-pill\">Data management</span>\n",
       "<span class=\"badge badge-light badge-pill\">ETL</span>\n",
       "<span class=\"badge badge-light badge-pill\">Excel</span>\n",
       "<span class=\"badge badge-light badge-pill\">SQL</span>\n",
       "<span class=\"badge badge-light badge-pill\">Tableau</span>\n",
       "<br/>\n",
       "<span class=\"badge badge-success badge-pill\">Team events</span>\n",
       "</a>\n",
       "</div>\n",
       "</div>\n",
       "<div class=\"list-group-item px-2 px-lg-3 py-0\">\n",
       "<div class=\"row\">\n",
       "<div class=\"col-2 col-sm-1 px-2 py-3\">\n",
       "<a href=\"/jobs-at-ad-hoc/\" title=\"Show all open positions at Ad Hoc\">\n",
       "<img alt=\"Ad Hoc logo\" class=\"mx-auto my-1 d-block\" height=\"48\" loading=\"lazy\" src=\"/media/cache/49/2a/492a25c3732dbd234312f10ac92524df.jpg\" width=\"48\"/>\n",
       "</a>\n",
       "<div class=\"d-flex justify-content-center mt-3\">\n",
       "<a class=\"btn-direct-apply text-dark p-1\" href=\"/J30132/apply/\" id=\"30132\" rel=\"nofollow noopener\" target=\"_blank\" title=\"Apply for this job directly on Ad Hoc's career site\"><i class=\"fas fa-edit\"></i></a>\n",
       "<a class=\"btn-direct-apply text-dark p-1\" href=\"/job/mark/30132/create/\" rel=\"nofollow\" title=\"Save this job for later application\"><i class=\"fas fa-list-ol\"></i></a>\n",
       "</div>\n",
       "</div>\n",
       "<a class=\"col list-group-item-action px-2 py-3\" href=\"/job/30132-data-analyst-federal-civilian-remote/\" title=\"View full details of `Data Analyst, Federal Civilian (remote)` vacancy\">\n",
       "<div class=\"float-right text-right d-inline-block w-25 ml-2\">\n",
       "<span class=\"d-block d-md-none text-break job-list-item-location\">Washington, DC</span>\n",
       "<span class=\"d-none d-md-block text-break job-list-item-location\">Washington, DC</span>\n",
       "<span class=\"badge badge-secondary badge-pill my-md-1\">Full Time</span>\n",
       "<div class=\"d-block\">\n",
       "<span class=\"badge badge-info badge-pill my-md-1 d-md-none\">Senior</span>\n",
       "<span class=\"badge badge-info badge-pill my-md-1 d-none d-md-inline-block\">Senior-level</span>\n",
       "</div>\n",
       "<div class=\"d-block\">\n",
       "<span class=\"badge badge-success badge-pill d-none d-md-inline-block\">USD 81K - 115K</span>\n",
       "<span class=\"badge badge-success badge-pill d-md-none\">USD 81K+</span>\n",
       "</div>\n",
       "</div>\n",
       "<p class=\"m-0 text-muted job-list-item-company\">Ad Hoc</p>\n",
       "<h2 class=\"h4 mb-1\">Data Analyst, Federal Civilian (remote)</h2>\n",
       "<span class=\"badge badge-light badge-pill\">Data analysis</span>\n",
       "<span class=\"badge badge-light badge-pill\">Python</span>\n",
       "<span class=\"badge badge-light badge-pill\">R</span>\n",
       "<span class=\"badge badge-light badge-pill\">Security</span>\n",
       "<span class=\"badge badge-light badge-pill\">SQL</span>\n",
       "<span class=\"badge badge-light badge-pill\">UX</span>\n",
       "<br/>\n",
       "<span class=\"badge badge-success badge-pill\">401(k) matching</span>\n",
       "<span class=\"badge badge-success badge-pill\">Career development</span>\n",
       "<span class=\"badge badge-success badge-pill\">Health care</span>\n",
       "<span class=\"badge badge-success badge-pill\">Insurance</span>\n",
       "<span class=\"badge badge-success badge-pill\">Unlimited paid time off</span>\n",
       "</a>\n",
       "</div>\n",
       "</div>\n",
       "<div class=\"list-group-item px-2 px-lg-3 py-0\">\n",
       "<div class=\"row\">\n",
       "<div class=\"col-2 col-sm-1 px-2 py-3\">\n",
       "<a href=\"/jobs-at-guidewire-software/\" title=\"Show all open positions at Guidewire Software\">\n",
       "<img alt=\"Guidewire Software logo\" class=\"mx-auto my-1 d-block\" height=\"48\" loading=\"lazy\" src=\"/media/cache/58/55/5855ada8c07ad015ad509223e3c7531d.jpg\" width=\"48\"/>\n",
       "</a>\n",
       "<div class=\"d-flex justify-content-center mt-3\">\n",
       "<a class=\"btn-direct-apply text-dark p-1\" href=\"/J30138/apply/\" id=\"30138\" rel=\"nofollow noopener\" target=\"_blank\" title=\"Apply for this job directly on Guidewire Software's career site\"><i class=\"fas fa-edit\"></i></a>\n",
       "<a class=\"btn-direct-apply text-dark p-1\" href=\"/job/mark/30138/create/\" rel=\"nofollow\" title=\"Save this job for later application\"><i class=\"fas fa-list-ol\"></i></a>\n",
       "</div>\n",
       "</div>\n",
       "<a class=\"col list-group-item-action px-2 py-3\" href=\"/job/30138-global-data-analyst-people-hr-night-shifts-contract/\" title=\"View full details of `Global Data Analyst - People HR - Night Shifts - Contract` vacancy\">\n",
       "<div class=\"float-right text-right d-inline-block w-25 ml-2\">\n",
       "<span class=\"d-block d-md-none text-break job-list-item-location\">India - Bengaluru</span>\n",
       "<span class=\"d-none d-md-block text-break job-list-item-location\">India - Bengaluru</span>\n",
       "<span class=\"badge badge-secondary badge-pill my-md-1\">Full Time</span>\n",
       "<div class=\"d-block\">\n",
       "<span class=\"badge badge-success badge-pill d-none d-md-inline-block\">USD 50K - 85K *</span>\n",
       "<span class=\"badge badge-success badge-pill d-md-none\">USD 50K+ *</span>\n",
       "</div>\n",
       "</div>\n",
       "<p class=\"m-0 text-muted job-list-item-company\">Guidewire Software</p>\n",
       "<h2 class=\"h4 mb-1\">Global Data Analyst - People HR - Night Shifts - Contract</h2>\n",
       "<span class=\"badge badge-light badge-pill\">Data analysis</span>\n",
       "<span class=\"badge badge-light badge-pill\">Data Analytics</span>\n",
       "<span class=\"badge badge-light badge-pill\">Data management</span>\n",
       "<span class=\"badge badge-light badge-pill\">Data visualization</span>\n",
       "<span class=\"badge badge-light badge-pill\">Excel</span>\n",
       "<span class=\"badge badge-light badge-pill\">Power BI</span>\n",
       "<span class=\"badge badge-light badge-pill\">R</span>\n",
       "<span class=\"badge badge-light badge-pill\">+5</span>\n",
       "<br/>\n",
       "<span class=\"badge badge-success badge-pill\">Career development</span>\n",
       "</a>\n",
       "</div>\n",
       "</div>\n",
       "<div class=\"list-group-item px-2 px-lg-3 py-0\">\n",
       "<div class=\"row\">\n",
       "<div class=\"col-2 col-sm-1 px-2 py-3\">\n",
       "<a href=\"/jobs-at-gympass/\" title=\"Show all open positions at Gympass\">\n",
       "<img alt=\"Gympass logo\" class=\"mx-auto my-1 d-block\" height=\"48\" loading=\"lazy\" src=\"/media/cache/ef/9e/ef9eb19f067a1be6d24327a6c30fbff6.jpg\" width=\"48\"/>\n",
       "</a>\n",
       "<div class=\"d-flex justify-content-center mt-3\">\n",
       "<a class=\"btn-direct-apply text-dark p-1\" href=\"/J30133/apply/\" id=\"30133\" rel=\"nofollow noopener\" target=\"_blank\" title=\"Apply for this job directly on Gympass's career site\"><i class=\"fas fa-edit\"></i></a>\n",
       "<a class=\"btn-direct-apply text-dark p-1\" href=\"/job/mark/30133/create/\" rel=\"nofollow\" title=\"Save this job for later application\"><i class=\"fas fa-list-ol\"></i></a>\n",
       "</div>\n",
       "</div>\n",
       "<a class=\"col list-group-item-action px-2 py-3\" href=\"/job/30133-data-analyst-global-analytics-team/\" title=\"View full details of `Data Analyst | Global Analytics Team` vacancy\">\n",
       "<div class=\"float-right text-right d-inline-block w-25 ml-2\">\n",
       "<span class=\"d-block d-md-none text-break job-list-item-location\">New York, US (remote)</span>\n",
       "<span class=\"d-none d-md-block text-break job-list-item-location\">New York, US (remote)</span>\n",
       "<span class=\"badge badge-secondary badge-pill my-md-1\">Full Time</span>\n",
       "<div class=\"d-block\">\n",
       "<span class=\"badge badge-info badge-pill my-md-1 d-md-none\">Senior</span>\n",
       "<span class=\"badge badge-info badge-pill my-md-1 d-none d-md-inline-block\">Senior-level</span>\n",
       "</div>\n",
       "<div class=\"d-block\">\n",
       "<span class=\"badge badge-success badge-pill d-none d-md-inline-block\">USD 50K - 85K *</span>\n",
       "<span class=\"badge badge-success badge-pill d-md-none\">USD 50K+ *</span>\n",
       "</div>\n",
       "</div>\n",
       "<p class=\"m-0 text-muted job-list-item-company\">Gympass</p>\n",
       "<h2 class=\"h4 mb-1\">Data Analyst | Global Analytics Team</h2>\n",
       "<span class=\"badge badge-light badge-pill\">Airflow</span>\n",
       "<span class=\"badge badge-light badge-pill\">SQL</span>\n",
       "<br/>\n",
       "<span class=\"badge badge-success badge-pill\">Career development</span>\n",
       "<span class=\"badge badge-success badge-pill\">Fitness / gym</span>\n",
       "<span class=\"badge badge-success badge-pill\">Flex hours</span>\n",
       "<span class=\"badge badge-success badge-pill\">Flex vacation</span>\n",
       "<span class=\"badge badge-success badge-pill\">Health care</span>\n",
       "<span class=\"badge badge-success badge-pill\">+6</span>\n",
       "</a>\n",
       "</div>\n",
       "</div>\n",
       "<div class=\"list-group-item px-2 px-lg-3 py-0\">\n",
       "<div class=\"row\">\n",
       "<div class=\"col-2 col-sm-1 px-2 py-3\">\n",
       "<a href=\"/jobs-at-sumup/\" title=\"Show all open positions at SumUp\">\n",
       "<img alt=\"SumUp logo\" class=\"mx-auto my-1 d-block\" height=\"48\" loading=\"lazy\" src=\"/media/cache/d6/10/d6108320480ca9939c4221b9b8e50f30.jpg\" width=\"48\"/>\n",
       "</a>\n",
       "<div class=\"d-flex justify-content-center mt-3\">\n",
       "<a class=\"btn-direct-apply text-dark p-1\" href=\"/J30136/apply/\" id=\"30136\" rel=\"nofollow noopener\" target=\"_blank\" title=\"Apply for this job directly on SumUp's career site\"><i class=\"fas fa-edit\"></i></a>\n",
       "<a class=\"btn-direct-apply text-dark p-1\" href=\"/job/mark/30136/create/\" rel=\"nofollow\" title=\"Save this job for later application\"><i class=\"fas fa-list-ol\"></i></a>\n",
       "</div>\n",
       "</div>\n",
       "<a class=\"col list-group-item-action px-2 py-3\" href=\"/job/30136-data-analyst/\" title=\"View full details of `Data Analyst` vacancy\">\n",
       "<div class=\"float-right text-right d-inline-block w-25 ml-2\">\n",
       "<span class=\"d-block d-md-none text-break job-list-item-location\">Berlin, Germany</span>\n",
       "<span class=\"d-none d-md-block text-break job-list-item-location\">Berlin, Germany</span>\n",
       "<span class=\"badge badge-secondary badge-pill my-md-1\">Full Time</span>\n",
       "<div class=\"d-block\">\n",
       "<span class=\"badge badge-info badge-pill my-md-1 d-md-none\">Senior</span>\n",
       "<span class=\"badge badge-info badge-pill my-md-1 d-none d-md-inline-block\">Senior-level</span>\n",
       "</div>\n",
       "<div class=\"d-block\">\n",
       "<span class=\"badge badge-success badge-pill d-none d-md-inline-block\">USD 50K - 85K *</span>\n",
       "<span class=\"badge badge-success badge-pill d-md-none\">USD 50K+ *</span>\n",
       "</div>\n",
       "</div>\n",
       "<p class=\"m-0 text-muted job-list-item-company\">SumUp</p>\n",
       "<h2 class=\"h4 mb-1\">Data Analyst</h2>\n",
       "<span class=\"badge badge-light badge-pill\">Airflow</span>\n",
       "<span class=\"badge badge-light badge-pill\">AWS</span>\n",
       "<span class=\"badge badge-light badge-pill\">Data pipelines</span>\n",
       "<span class=\"badge badge-light badge-pill\">FinTech</span>\n",
       "<span class=\"badge badge-light badge-pill\">FiveTran</span>\n",
       "<span class=\"badge badge-light badge-pill\">KPIs</span>\n",
       "<span class=\"badge badge-light badge-pill\">Metabase</span>\n",
       "<span class=\"badge badge-light badge-pill\">+5</span>\n",
       "<br/>\n",
       "<span class=\"badge badge-success badge-pill\">Flex vacation</span>\n",
       "<span class=\"badge badge-success badge-pill\">Startup environment</span>\n",
       "<span class=\"badge badge-success badge-pill\">Team events</span>\n",
       "</a>\n",
       "</div>\n",
       "</div>\n",
       "<div class=\"list-group-item px-2 px-lg-3 py-0\">\n",
       "<div class=\"row\">\n",
       "<div class=\"col-2 col-sm-1 px-2 py-3\">\n",
       "<a href=\"/jobs-at-capco/\" title=\"Show all open positions at Capco\">\n",
       "<img alt=\"Capco logo\" class=\"mx-auto my-1 d-block\" height=\"48\" loading=\"lazy\" src=\"/media/cache/62/e1/62e1bbc89c2b525b2b768dbd916a528d.jpg\" width=\"48\"/>\n",
       "</a>\n",
       "<div class=\"d-flex justify-content-center mt-3\">\n",
       "<a class=\"btn-direct-apply text-dark p-1\" href=\"/J30140/apply/\" id=\"30140\" rel=\"nofollow noopener\" target=\"_blank\" title=\"Apply for this job directly on Capco's career site\"><i class=\"fas fa-edit\"></i></a>\n",
       "<a class=\"btn-direct-apply text-dark p-1\" href=\"/job/mark/30140/create/\" rel=\"nofollow\" title=\"Save this job for later application\"><i class=\"fas fa-list-ol\"></i></a>\n",
       "</div>\n",
       "</div>\n",
       "<a class=\"col list-group-item-action px-2 py-3\" href=\"/job/30140-senior-data-analyst/\" title=\"View full details of `Senior Data Analyst` vacancy\">\n",
       "<div class=\"float-right text-right d-inline-block w-25 ml-2\">\n",
       "<span class=\"d-block d-md-none text-break job-list-item-location\">India - Bengaluru</span>\n",
       "<span class=\"d-none d-md-block text-break job-list-item-location\">India - Bengaluru</span>\n",
       "<span class=\"badge badge-secondary badge-pill my-md-1\">Full Time</span>\n",
       "<div class=\"d-block\">\n",
       "<span class=\"badge badge-info badge-pill my-md-1 d-md-none\">Senior</span>\n",
       "<span class=\"badge badge-info badge-pill my-md-1 d-none d-md-inline-block\">Senior-level</span>\n",
       "</div>\n",
       "<div class=\"d-block\">\n",
       "<span class=\"badge badge-success badge-pill d-none d-md-inline-block\">USD 50K - 85K *</span>\n",
       "<span class=\"badge badge-success badge-pill d-md-none\">USD 50K+ *</span>\n",
       "</div>\n",
       "</div>\n",
       "<p class=\"m-0 text-muted job-list-item-company\">Capco</p>\n",
       "<h2 class=\"h4 mb-1\">Senior Data Analyst</h2>\n",
       "<span class=\"badge badge-light badge-pill\">Agile</span>\n",
       "<span class=\"badge badge-light badge-pill\">Banking</span>\n",
       "<span class=\"badge badge-light badge-pill\">Big Data</span>\n",
       "<span class=\"badge badge-light badge-pill\">Data analysis</span>\n",
       "<span class=\"badge badge-light badge-pill\">Data Analytics</span>\n",
       "<span class=\"badge badge-light badge-pill\">ETL</span>\n",
       "<span class=\"badge badge-light badge-pill\">Finance</span>\n",
       "<span class=\"badge badge-light badge-pill\">+4</span>\n",
       "<br/>\n",
       "<span class=\"badge badge-success badge-pill\">Career development</span>\n",
       "<span class=\"badge badge-success badge-pill\">Flat hierarchy</span>\n",
       "</a>\n",
       "</div>\n",
       "</div>\n",
       "<div class=\"list-group-item px-2 px-lg-3 py-0\">\n",
       "<div class=\"row\">\n",
       "<div class=\"col-2 col-sm-1 px-2 py-3\">\n",
       "<a href=\"/jobs-at-collectors/\" title=\"Show all open positions at Collectors\">\n",
       "<img alt=\"Collectors logo\" class=\"mx-auto my-1 d-block\" height=\"48\" loading=\"lazy\" src=\"/media/cache/25/eb/25ebe12a9784112e6beac02b52fcd621.jpg\" width=\"48\"/>\n",
       "</a>\n",
       "<div class=\"d-flex justify-content-center mt-3\">\n",
       "<a class=\"btn-direct-apply text-dark p-1\" href=\"/J30130/apply/\" id=\"30130\" rel=\"nofollow noopener\" target=\"_blank\" title=\"Apply for this job directly on Collectors's career site\"><i class=\"fas fa-edit\"></i></a>\n",
       "<a class=\"btn-direct-apply text-dark p-1\" href=\"/job/mark/30130/create/\" rel=\"nofollow\" title=\"Save this job for later application\"><i class=\"fas fa-list-ol\"></i></a>\n",
       "</div>\n",
       "</div>\n",
       "<a class=\"col list-group-item-action px-2 py-3\" href=\"/job/30130-senior-data-analyst/\" title=\"View full details of `Senior Data Analyst` vacancy\">\n",
       "<div class=\"float-right text-right d-inline-block w-25 ml-2\">\n",
       "<span class=\"d-block d-md-none text-break job-list-item-location\">US Remote</span>\n",
       "<span class=\"d-none d-md-block text-break job-list-item-location\">US Remote</span>\n",
       "<span class=\"badge badge-secondary badge-pill my-md-1\">Full Time</span>\n",
       "<div class=\"d-block\">\n",
       "<span class=\"badge badge-info badge-pill my-md-1 d-md-none\">Senior</span>\n",
       "<span class=\"badge badge-info badge-pill my-md-1 d-none d-md-inline-block\">Senior-level</span>\n",
       "</div>\n",
       "<div class=\"d-block\">\n",
       "<span class=\"badge badge-success badge-pill d-none d-md-inline-block\">USD 50K - 85K *</span>\n",
       "<span class=\"badge badge-success badge-pill d-md-none\">USD 50K+ *</span>\n",
       "</div>\n",
       "</div>\n",
       "<p class=\"m-0 text-muted job-list-item-company\">Collectors</p>\n",
       "<h2 class=\"h4 mb-1\">Senior Data Analyst</h2>\n",
       "<span class=\"badge badge-light badge-pill\">Data Warehousing</span>\n",
       "<span class=\"badge badge-light badge-pill\">Engineering</span>\n",
       "<span class=\"badge badge-light badge-pill\">Security</span>\n",
       "<span class=\"badge badge-light badge-pill\">SQL</span>\n",
       "<span class=\"badge badge-light badge-pill\">Testing</span>\n",
       "<br/>\n",
       "<span class=\"badge badge-success badge-pill\">401(k) matching</span>\n",
       "<span class=\"badge badge-success badge-pill\">Competitive pay</span>\n",
       "<span class=\"badge badge-success badge-pill\">Flex hours</span>\n",
       "<span class=\"badge badge-success badge-pill\">Flex vacation</span>\n",
       "<span class=\"badge badge-success badge-pill\">Health care</span>\n",
       "<span class=\"badge badge-success badge-pill\">+2</span>\n",
       "</a>\n",
       "</div>\n",
       "</div>\n",
       "<div class=\"list-group-item px-2 px-lg-3 py-0\">\n",
       "<div class=\"row\">\n",
       "<div class=\"col-2 col-sm-1 px-2 py-3\">\n",
       "<a href=\"/jobs-at-free-now/\" title=\"Show all open positions at FREE NOW\">\n",
       "<img alt=\"FREE NOW logo\" class=\"mx-auto my-1 d-block\" height=\"48\" loading=\"lazy\" src=\"/media/cache/f8/d0/f8d0ca8c5812fded368c791e5642e6e9.jpg\" width=\"48\"/>\n",
       "</a>\n",
       "<div class=\"d-flex justify-content-center mt-3\">\n",
       "<a class=\"btn-direct-apply text-dark p-1\" href=\"/J30135/apply/\" id=\"30135\" rel=\"nofollow noopener\" target=\"_blank\" title=\"Apply for this job directly on FREE NOW's career site\"><i class=\"fas fa-edit\"></i></a>\n",
       "<a class=\"btn-direct-apply text-dark p-1\" href=\"/job/mark/30135/create/\" rel=\"nofollow\" title=\"Save this job for later application\"><i class=\"fas fa-list-ol\"></i></a>\n",
       "</div>\n",
       "</div>\n",
       "<a class=\"col list-group-item-action px-2 py-3\" href=\"/job/30135-data-analyst-data-governance-specialist-remote-in-eu-or-onsite/\" title=\"View full details of `Data Analyst - Data Governance Specialist (Remote in EU or onsite)` vacancy\">\n",
       "<div class=\"float-right text-right d-inline-block w-25 ml-2\">\n",
       "<span class=\"d-block d-md-none text-break job-list-item-location\">Barcelona</span>\n",
       "<span class=\"d-none d-md-block text-break job-list-item-location\">Barcelona</span>\n",
       "<span class=\"badge badge-secondary badge-pill my-md-1\">Full Time</span>\n",
       "<div class=\"d-block\">\n",
       "<span class=\"badge badge-info badge-pill my-md-1 d-md-none\">Senior</span>\n",
       "<span class=\"badge badge-info badge-pill my-md-1 d-none d-md-inline-block\">Senior-level</span>\n",
       "</div>\n",
       "<div class=\"d-block\">\n",
       "<span class=\"badge badge-success badge-pill d-none d-md-inline-block\">USD 50K - 85K *</span>\n",
       "<span class=\"badge badge-success badge-pill d-md-none\">USD 50K+ *</span>\n",
       "</div>\n",
       "</div>\n",
       "<p class=\"m-0 text-muted job-list-item-company\">FREE NOW</p>\n",
       "<h2 class=\"h4 mb-1\">Data Analyst - Data Governance Specialist (Remote in EU or onsite)</h2>\n",
       "<span class=\"badge badge-light badge-pill\">Computer Science</span>\n",
       "<span class=\"badge badge-light badge-pill\">Data management</span>\n",
       "<span class=\"badge badge-light badge-pill\">Engineering</span>\n",
       "<span class=\"badge badge-light badge-pill\">ETL</span>\n",
       "<span class=\"badge badge-light badge-pill\">Python</span>\n",
       "<span class=\"badge badge-light badge-pill\">Research</span>\n",
       "<span class=\"badge badge-light badge-pill\">SQL</span>\n",
       "<br/>\n",
       "<span class=\"badge badge-success badge-pill\">Career development</span>\n",
       "<span class=\"badge badge-success badge-pill\">Equity</span>\n",
       "<span class=\"badge badge-success badge-pill\">Fitness / gym</span>\n",
       "<span class=\"badge badge-success badge-pill\">Flex hours</span>\n",
       "<span class=\"badge badge-success badge-pill\">Home office stipend</span>\n",
       "<span class=\"badge badge-success badge-pill\">+4</span>\n",
       "</a>\n",
       "</div>\n",
       "</div>\n",
       "<div class=\"list-group-item px-2 px-lg-3 py-0\">\n",
       "<div class=\"row\">\n",
       "<div class=\"col-2 col-sm-1 px-2 py-3\">\n",
       "<a href=\"/jobs-at-phonepe/\" title=\"Show all open positions at PhonePe\">\n",
       "<img alt=\"PhonePe logo\" class=\"mx-auto my-1 d-block\" height=\"48\" loading=\"lazy\" src=\"/media/cache/a0/97/a097523c791984524fa8c95659e0a9f0.jpg\" width=\"48\"/>\n",
       "</a>\n",
       "<div class=\"d-flex justify-content-center mt-3\">\n",
       "<a class=\"btn-direct-apply text-dark p-1\" href=\"/J30137/apply/\" id=\"30137\" rel=\"nofollow noopener\" target=\"_blank\" title=\"Apply for this job directly on PhonePe's career site\"><i class=\"fas fa-edit\"></i></a>\n",
       "<a class=\"btn-direct-apply text-dark p-1\" href=\"/job/mark/30137/create/\" rel=\"nofollow\" title=\"Save this job for later application\"><i class=\"fas fa-list-ol\"></i></a>\n",
       "</div>\n",
       "</div>\n",
       "<a class=\"col list-group-item-action px-2 py-3\" href=\"/job/30137-data-analyst-compliance/\" title=\"View full details of `Data Analyst -  Compliance` vacancy\">\n",
       "<div class=\"float-right text-right d-inline-block w-25 ml-2\">\n",
       "<span class=\"d-block d-md-none text-break job-list-item-location\">Bengaluru</span>\n",
       "<span class=\"d-none d-md-block text-break job-list-item-location\">Bengaluru</span>\n",
       "<span class=\"badge badge-secondary badge-pill my-md-1\">Full Time</span>\n",
       "<div class=\"d-block\">\n",
       "<span class=\"badge badge-success badge-pill d-none d-md-inline-block\">USD 50K - 85K *</span>\n",
       "<span class=\"badge badge-success badge-pill d-md-none\">USD 50K+ *</span>\n",
       "</div>\n",
       "</div>\n",
       "<p class=\"m-0 text-muted job-list-item-company\">PhonePe</p>\n",
       "<h2 class=\"h4 mb-1\">Data Analyst -  Compliance</h2>\n",
       "<span class=\"badge badge-light badge-pill\">Banking</span>\n",
       "<span class=\"badge badge-light badge-pill\">Data Analytics</span>\n",
       "<span class=\"badge badge-light badge-pill\">Data visualization</span>\n",
       "<span class=\"badge badge-light badge-pill\">Excel</span>\n",
       "<span class=\"badge badge-light badge-pill\">FinTech</span>\n",
       "<span class=\"badge badge-light badge-pill\">SQL</span>\n",
       "<span class=\"badge badge-light badge-pill\">Testing</span>\n",
       "<br/>\n",
       "<span class=\"badge badge-success badge-pill\">Career development</span>\n",
       "<span class=\"badge badge-success badge-pill\">Flex hours</span>\n",
       "<span class=\"badge badge-success badge-pill\">Medical leave</span>\n",
       "<span class=\"badge badge-success badge-pill\">Parental leave</span>\n",
       "<span class=\"badge badge-success badge-pill\">Relocation support</span>\n",
       "<span class=\"badge badge-success badge-pill\">+3</span>\n",
       "</a>\n",
       "</div>\n",
       "</div>\n",
       "<div class=\"list-group-item px-2 px-lg-3 py-0\">\n",
       "<div class=\"row\">\n",
       "<div class=\"col-2 col-sm-1 px-2 py-3\">\n",
       "<a href=\"/jobs-at-multiverse/\" title=\"Show all open positions at Multiverse\">\n",
       "<img alt=\"Multiverse logo\" class=\"mx-auto my-1 d-block\" height=\"48\" loading=\"lazy\" src=\"/media/cache/64/2b/642b5f526920ba7032f11b05c5c6fb94.jpg\" width=\"48\"/>\n",
       "</a>\n",
       "<div class=\"d-flex justify-content-center mt-3\">\n",
       "<a class=\"btn-direct-apply text-dark p-1\" href=\"/J30139/apply/\" id=\"30139\" rel=\"nofollow noopener\" target=\"_blank\" title=\"Apply for this job directly on Multiverse's career site\"><i class=\"fas fa-edit\"></i></a>\n",
       "<a class=\"btn-direct-apply text-dark p-1\" href=\"/job/mark/30139/create/\" rel=\"nofollow\" title=\"Save this job for later application\"><i class=\"fas fa-list-ol\"></i></a>\n",
       "</div>\n",
       "</div>\n",
       "<a class=\"col list-group-item-action px-2 py-3\" href=\"/job/30139-data-analytics-coach/\" title=\"View full details of `Data Analytics Coach` vacancy\">\n",
       "<div class=\"float-right text-right d-inline-block w-25 ml-2\">\n",
       "<span class=\"d-block d-md-none text-break job-list-item-location\">London, England, United Kingdom …</span>\n",
       "<span class=\"d-none d-md-block text-break job-list-item-location\">London, England, United Kingdom - Remote</span>\n",
       "<span class=\"badge badge-secondary badge-pill my-md-1\">Full Time</span>\n",
       "<div class=\"d-block\">\n",
       "<span class=\"badge badge-info badge-pill my-md-1 d-md-none\">Mid</span>\n",
       "<span class=\"badge badge-info badge-pill my-md-1 d-none d-md-inline-block\">Mid-level</span>\n",
       "</div>\n",
       "</div>\n",
       "<p class=\"m-0 text-muted job-list-item-company\">Multiverse</p>\n",
       "<h2 class=\"h4 mb-1\">Data Analytics Coach</h2>\n",
       "<span class=\"badge badge-light badge-pill\">Data Analytics</span>\n",
       "<span class=\"badge badge-light badge-pill\">Excel</span>\n",
       "<span class=\"badge badge-light badge-pill\">PhD</span>\n",
       "<span class=\"badge badge-light badge-pill\">Power BI</span>\n",
       "<span class=\"badge badge-light badge-pill\">Python</span>\n",
       "<span class=\"badge badge-light badge-pill\">SQL</span>\n",
       "<br/>\n",
       "<span class=\"badge badge-success badge-pill\">Career development</span>\n",
       "<span class=\"badge badge-success badge-pill\">Equity</span>\n",
       "<span class=\"badge badge-success badge-pill\">Health care</span>\n",
       "<span class=\"badge badge-success badge-pill\">Insurance</span>\n",
       "<span class=\"badge badge-success badge-pill\">Startup environment</span>\n",
       "<span class=\"badge badge-success badge-pill\">+1</span>\n",
       "</a>\n",
       "</div>\n",
       "</div>\n",
       "<div class=\"list-group-item px-2 px-lg-3 py-0\">\n",
       "<div class=\"row\">\n",
       "<div class=\"col-2 col-sm-1 px-2 py-3\">\n",
       "<a href=\"/jobs-at-rockstar-games/\" title=\"Show all open positions at Rockstar Games\">\n",
       "<img alt=\"Rockstar Games logo\" class=\"mx-auto my-1 d-block\" height=\"48\" loading=\"lazy\" src=\"/media/cache/bc/a2/bca2fbc7e823217bbe46ad0e83a2424b.jpg\" width=\"48\"/>\n",
       "</a>\n",
       "<div class=\"d-flex justify-content-center mt-3\">\n",
       "<a class=\"btn-direct-apply text-dark p-1\" href=\"/J30114/apply/\" id=\"30114\" rel=\"nofollow noopener\" target=\"_blank\" title=\"Apply for this job directly on Rockstar Games's career site\"><i class=\"fas fa-edit\"></i></a>\n",
       "<a class=\"btn-direct-apply text-dark p-1\" href=\"/job/mark/30114/create/\" rel=\"nofollow\" title=\"Save this job for later application\"><i class=\"fas fa-list-ol\"></i></a>\n",
       "</div>\n",
       "</div>\n",
       "<a class=\"col list-group-item-action px-2 py-3\" href=\"/job/30114-senior-data-scientist-machine-learning-game-analytics/\" title=\"View full details of `Senior Data Scientist, Machine Learning - Game Analytics` vacancy\">\n",
       "<div class=\"float-right text-right d-inline-block w-25 ml-2\">\n",
       "<span class=\"d-block d-md-none text-break job-list-item-location\">Manhattan, New York, United …</span>\n",
       "<span class=\"d-none d-md-block text-break job-list-item-location\">Manhattan, New York, United States</span>\n",
       "<span class=\"badge badge-secondary badge-pill my-md-1\">Full Time</span>\n",
       "<div class=\"d-block\">\n",
       "<span class=\"badge badge-info badge-pill my-md-1 d-md-none\">Senior</span>\n",
       "<span class=\"badge badge-info badge-pill my-md-1 d-none d-md-inline-block\">Senior-level</span>\n",
       "</div>\n",
       "<div class=\"d-block\">\n",
       "<span class=\"badge badge-success badge-pill d-none d-md-inline-block\">USD 68K - 135K *</span>\n",
       "<span class=\"badge badge-success badge-pill d-md-none\">USD 68K+ *</span>\n",
       "</div>\n",
       "</div>\n",
       "<p class=\"m-0 text-muted job-list-item-company\">Rockstar Games</p>\n",
       "<h2 class=\"h4 mb-1\">Senior Data Scientist, Machine Learning - Game Analytics</h2>\n",
       "<span class=\"badge badge-light badge-pill\">Big Data</span>\n",
       "<span class=\"badge badge-light badge-pill\">Classification</span>\n",
       "<span class=\"badge badge-light badge-pill\">Computer Science</span>\n",
       "<span class=\"badge badge-light badge-pill\">Data Mining</span>\n",
       "<span class=\"badge badge-light badge-pill\">Data pipelines</span>\n",
       "<span class=\"badge badge-light badge-pill\">Hadoop</span>\n",
       "<span class=\"badge badge-light badge-pill\">Machine Learning</span>\n",
       "<span class=\"badge badge-light badge-pill\">+8</span>\n",
       "<br/>\n",
       "<span class=\"badge badge-success badge-pill\">Career development</span>\n",
       "</a>\n",
       "</div>\n",
       "</div>\n",
       "<div class=\"list-group-item px-2 px-lg-3 py-0\">\n",
       "<div class=\"row\">\n",
       "<div class=\"col-2 col-sm-1 px-2 py-3\">\n",
       "<a href=\"/jobs-at-darrow/\" title=\"Show all open positions at Darrow\">\n",
       "<img alt=\"Darrow logo\" class=\"mx-auto my-1 d-block\" height=\"48\" loading=\"lazy\" src=\"/media/cache/ac/40/ac40b523e0c7400dcf5fdf843a5b6952.jpg\" width=\"48\"/>\n",
       "</a>\n",
       "<div class=\"d-flex justify-content-center mt-3\">\n",
       "<a class=\"btn-direct-apply text-dark p-1\" href=\"/J30129/apply/\" id=\"30129\" rel=\"nofollow noopener\" target=\"_blank\" title=\"Apply for this job directly on Darrow's career site\"><i class=\"fas fa-edit\"></i></a>\n",
       "<a class=\"btn-direct-apply text-dark p-1\" href=\"/job/mark/30129/create/\" rel=\"nofollow\" title=\"Save this job for later application\"><i class=\"fas fa-list-ol\"></i></a>\n",
       "</div>\n",
       "</div>\n",
       "<a class=\"col list-group-item-action px-2 py-3\" href=\"/job/30129-bi-analyst/\" title=\"View full details of `BI Analyst` vacancy\">\n",
       "<div class=\"float-right text-right d-inline-block w-25 ml-2\">\n",
       "<span class=\"d-block d-md-none text-break job-list-item-location\">Tel Aviv</span>\n",
       "<span class=\"d-none d-md-block text-break job-list-item-location\">Tel Aviv</span>\n",
       "<span class=\"badge badge-secondary badge-pill my-md-1\">Full Time</span>\n",
       "<div class=\"d-block\">\n",
       "<span class=\"badge badge-info badge-pill my-md-1 d-md-none\">Senior</span>\n",
       "<span class=\"badge badge-info badge-pill my-md-1 d-none d-md-inline-block\">Senior-level</span>\n",
       "</div>\n",
       "</div>\n",
       "<p class=\"m-0 text-muted job-list-item-company\">Darrow</p>\n",
       "<h2 class=\"h4 mb-1\">BI Analyst</h2>\n",
       "<span class=\"badge badge-light badge-pill\">Business Intelligence</span>\n",
       "<span class=\"badge badge-light badge-pill\">Data analysis</span>\n",
       "<span class=\"badge badge-light badge-pill\">Data management</span>\n",
       "<span class=\"badge badge-light badge-pill\">Machine Learning</span>\n",
       "<span class=\"badge badge-light badge-pill\">SQL</span>\n",
       "<span class=\"badge badge-light badge-pill\">Statistics</span>\n",
       "<br/>\n",
       "<span class=\"badge badge-success badge-pill\">Career development</span>\n",
       "<span class=\"badge badge-success badge-pill\">Startup environment</span>\n",
       "</a>\n",
       "</div>\n",
       "</div>\n",
       "<div class=\"list-group-item px-2 px-lg-3 py-0\">\n",
       "<div class=\"row\">\n",
       "<div class=\"col-2 col-sm-1 px-2 py-3\">\n",
       "<a href=\"/jobs-at-digitalocean/\" title=\"Show all open positions at DigitalOcean\">\n",
       "<img alt=\"DigitalOcean logo\" class=\"mx-auto my-1 d-block\" height=\"48\" loading=\"lazy\" src=\"/media/cache/1c/a4/1ca46db3f82a16e715a6c586dd18b5b9.jpg\" width=\"48\"/>\n",
       "</a>\n",
       "<div class=\"d-flex justify-content-center mt-3\">\n",
       "<a class=\"btn-direct-apply text-dark p-1\" href=\"/J30134/apply/\" id=\"30134\" rel=\"nofollow noopener\" target=\"_blank\" title=\"Apply for this job directly on DigitalOcean's career site\"><i class=\"fas fa-edit\"></i></a>\n",
       "<a class=\"btn-direct-apply text-dark p-1\" href=\"/job/mark/30134/create/\" rel=\"nofollow\" title=\"Save this job for later application\"><i class=\"fas fa-list-ol\"></i></a>\n",
       "</div>\n",
       "</div>\n",
       "<a class=\"col list-group-item-action px-2 py-3\" href=\"/job/30134-senior-data-analyst/\" title=\"View full details of `Senior Data Analyst` vacancy\">\n",
       "<div class=\"float-right text-right d-inline-block w-25 ml-2\">\n",
       "<span class=\"d-block d-md-none text-break job-list-item-location\">United States and Canada</span>\n",
       "<span class=\"d-none d-md-block text-break job-list-item-location\">United States and Canada</span>\n",
       "<span class=\"badge badge-secondary badge-pill my-md-1\">Full Time</span>\n",
       "<div class=\"d-block\">\n",
       "<span class=\"badge badge-info badge-pill my-md-1 d-md-none\">Senior</span>\n",
       "<span class=\"badge badge-info badge-pill my-md-1 d-none d-md-inline-block\">Senior-level</span>\n",
       "</div>\n",
       "<div class=\"d-block\">\n",
       "<span class=\"badge badge-success badge-pill d-none d-md-inline-block\">USD 50K - 85K *</span>\n",
       "<span class=\"badge badge-success badge-pill d-md-none\">USD 50K+ *</span>\n",
       "</div>\n",
       "</div>\n",
       "<p class=\"m-0 text-muted job-list-item-company\">DigitalOcean</p>\n",
       "<h2 class=\"h4 mb-1\">Senior Data Analyst</h2>\n",
       "<span class=\"badge badge-light badge-pill\">Computer Science</span>\n",
       "<span class=\"badge badge-light badge-pill\">Economics</span>\n",
       "<span class=\"badge badge-light badge-pill\">Engineering</span>\n",
       "<span class=\"badge badge-light badge-pill\">Excel</span>\n",
       "<span class=\"badge badge-light badge-pill\">Finance</span>\n",
       "<span class=\"badge badge-light badge-pill\">KPIs</span>\n",
       "<span class=\"badge badge-light badge-pill\">Looker</span>\n",
       "<span class=\"badge badge-light badge-pill\">+4</span>\n",
       "<br/>\n",
       "<span class=\"badge badge-success badge-pill\">Competitive pay</span>\n",
       "<span class=\"badge badge-success badge-pill\">Conferences</span>\n",
       "<span class=\"badge badge-success badge-pill\">Equity</span>\n",
       "<span class=\"badge badge-success badge-pill\">Health care</span>\n",
       "<span class=\"badge badge-success badge-pill\">Insurance</span>\n",
       "<span class=\"badge badge-success badge-pill\">+4</span>\n",
       "</a>\n",
       "</div>\n",
       "</div>\n",
       "<a class=\"list-group-item list-group-item-action text-center\" data-offset=\"100\" href=\"#\" id=\"load-more-jobs\">\n",
       "<p class=\"lead text-primary mt-2\">Load more</p>\n",
       "</a>\n",
       "</div>\n",
       "<span class=\"d-none\" id=\"jobs-count\">593</span>\n",
       "<script>\n",
       "$(function(){\n",
       "  // direct apply\n",
       "  var countApplyClick = function(id) {\n",
       "    $.post({\n",
       "      headers: { \"X-CSRFToken\": \"DszIhTu8XAvQXnjyBqocL8nSQl1gX3WVX25ql9iq0FnLoHsPvyS50Cy2stozt3BV\" },\n",
       "      url: \"/stats/event/\",\n",
       "      data: { evt: \"c\", app: \"jobs\", mdl: \"job\", oid: id }\n",
       "    });\n",
       "  }\n",
       "  $(\".btn-direct-apply\").click(function(ev) {\n",
       "    countApplyClick(ev.currentTarget.id)\n",
       "  });\n",
       "});\n",
       "</script>\n",
       "</div>\n",
       "</div>\n",
       "<div class=\"row\">\n",
       "<div class=\"col-lg-10 mx-auto mb-4 px-2\">\n",
       "<i>* Salary range is an estimate based on our salary survey at <a href=\"https://salaries.ai-jobs.net/\" rel=\"noopener nofollow\" target=\"_blank\">salaries.ai-jobs.net</a></i>\n",
       "</div>\n",
       "<div class=\"col-lg-10 mx-auto px-2 mt-4 text-center\">\n",
       "<h2>Welcome to ai-jobs.net! 🎉</h2>\n",
       "<p class=\"lead my-4\">We aim to provide the most comprehensive, lean and clean, no-nonsense  job site related to all things <strong>Artificial Intelligence (AI), Machine Learning (ML), Natural Language Processing (NLP), Computer Vision (CV), Data Engineering, Data Analytics, Big Data, and Data Science in general</strong>. Our goal is to help <a href=\"/post-a-job/\">hiring the best candidates</a> and <a href=\"/\">finding the most attractive positions</a> worldwide.</p>\n",
       "<p class=\"lead my-4\">If you want to <strong>get fresh jobs delivered right into your inbox</strong>, create your <a href=\"/job/email/create/\">job email alert here</a>. You can also follow us around the web on\n",
       "    <a href=\"https://twitter.com/ai_jobsNET\" rel=\"noopener\" target=\"_blank\">Twitter</a>,\n",
       "    <a href=\"https://www.linkedin.com/company/ai-jobs-net/\" rel=\"noopener\" target=\"_blank\">LinkedIn</a>,\n",
       "    and via our <a href=\"/feed/\">RSS feed</a>.</p>\n",
       "</div>\n",
       "</div>\n",
       "<div class=\"row px-2 my-4\">\n",
       "<div class=\"col-md-10 mx-auto px-2\">\n",
       "<h2 class=\"h3\">Explore AI/ML/Data Science jobs globally</h2>\n",
       "<p>Search for vacancies in metropolitan areas with the highest demand for AI/ML/Data Science professionals worldwide.</p>\n",
       "</div>\n",
       "<div class=\"col-md-10 mx-auto px-2 my-2\">\n",
       "<div class=\"row\">\n",
       "<div class=\"col-6 col-md-3 pb-1\"><a href=\"/jobs-in-england/london/\" title=\"Find AI/ML/Data Science Jobs in London\">Jobs in <strong>London</strong></a></div><div class=\"col-6 col-md-3 pb-1\"><a href=\"/jobs-in-california/san-francisco/\" title=\"Find AI/ML/Data Science Jobs in San Francisco\">Jobs in <strong>San Francisco</strong></a></div><div class=\"col-6 col-md-3 pb-1\"><a href=\"/jobs-in-new-york/new-york-city/\" title=\"Find AI/ML/Data Science Jobs in New York City\">Jobs in <strong>New York City</strong></a></div><div class=\"col-6 col-md-3 pb-1\"><a href=\"/jobs-in-washington/seattle/\" title=\"Find AI/ML/Data Science Jobs in Seattle\">Jobs in <strong>Seattle</strong></a></div><div class=\"col-6 col-md-3 pb-1\"><a href=\"/jobs-in-maryland/california/\" title=\"Find AI/ML/Data Science Jobs in California\">Jobs in <strong>California</strong></a></div><div class=\"col-6 col-md-3 pb-1\"><a href=\"/jobs-in-washington-dc/washington/\" title=\"Find AI/ML/Data Science Jobs in Washington\">Jobs in <strong>Washington</strong></a></div><div class=\"col-6 col-md-3 pb-1\"><a href=\"/jobs-in-ontario/toronto/\" title=\"Find AI/ML/Data Science Jobs in Toronto\">Jobs in <strong>Toronto</strong></a></div><div class=\"col-6 col-md-3 pb-1\"><a href=\"/jobs-in-karnataka/bengaluru/\" title=\"Find AI/ML/Data Science Jobs in Bengaluru\">Jobs in <strong>Bengaluru</strong></a></div><div class=\"col-6 col-md-3 pb-1\"><a href=\"/jobs-in-bangkok/bangkok/\" title=\"Find AI/ML/Data Science Jobs in Bangkok\">Jobs in <strong>Bangkok</strong></a></div><div class=\"col-6 col-md-3 pb-1\"><a href=\"/jobs-in-illinois/chicago/\" title=\"Find AI/ML/Data Science Jobs in Chicago\">Jobs in <strong>Chicago</strong></a></div><div class=\"col-6 col-md-3 pb-1\"><a href=\"/jobs-in-ile-de-france/paris/\" title=\"Find AI/ML/Data Science Jobs in Paris\">Jobs in <strong>Paris</strong></a></div><div class=\"col-6 col-md-3 pb-1\"><a href=\"/jobs-in-texas/austin/\" title=\"Find AI/ML/Data Science Jobs in Austin\">Jobs in <strong>Austin</strong></a></div><div class=\"col-6 col-md-3 pb-1\"><a href=\"/jobs-in-singapore/singapore/\" title=\"Find AI/ML/Data Science Jobs in Singapore\">Jobs in <strong>Singapore</strong></a></div><div class=\"col-6 col-md-3 pb-1\"><a href=\"/jobs-in-massachusetts/boston/\" title=\"Find AI/ML/Data Science Jobs in Boston\">Jobs in <strong>Boston</strong></a></div><div class=\"col-6 col-md-3 pb-1\"><a href=\"/jobs-in-california/mountain-view/\" title=\"Find AI/ML/Data Science Jobs in Mountain View\">Jobs in <strong>Mountain View</strong></a></div><div class=\"col-6 col-md-3 pb-1\"><a href=\"/jobs-in-california/palo-alto/\" title=\"Find AI/ML/Data Science Jobs in Palo Alto\">Jobs in <strong>Palo Alto</strong></a></div><div class=\"col-6 col-md-3 pb-1\"><a href=\"/jobs-in-california/los-angeles/\" title=\"Find AI/ML/Data Science Jobs in Los Angeles\">Jobs in <strong>Los Angeles</strong></a></div><div class=\"col-6 col-md-3 pb-1\"><a href=\"/jobs-in-california/san-diego/\" title=\"Find AI/ML/Data Science Jobs in San Diego\">Jobs in <strong>San Diego</strong></a></div><div class=\"col-6 col-md-3 pb-1\"><a href=\"/jobs-in-virginia/arlington/\" title=\"Find AI/ML/Data Science Jobs in Arlington\">Jobs in <strong>Arlington</strong></a></div><div class=\"col-6 col-md-3 pb-1\"><a href=\"/jobs-in-massachusetts/cambridge/\" title=\"Find AI/ML/Data Science Jobs in Cambridge\">Jobs in <strong>Cambridge</strong></a></div><div class=\"col-6 col-md-3 pb-1\"><a href=\"/jobs-in-berlin/berlin/\" title=\"Find AI/ML/Data Science Jobs in Berlin\">Jobs in <strong>Berlin</strong></a></div><div class=\"col-6 col-md-3 pb-1\"><a href=\"/jobs-in-seoul/seoul/\" title=\"Find AI/ML/Data Science Jobs in Seoul\">Jobs in <strong>Seoul</strong></a></div><div class=\"col-6 col-md-3 pb-1\"><a href=\"/jobs-in-pennsylvania/pittsburgh/\" title=\"Find AI/ML/Data Science Jobs in Pittsburgh\">Jobs in <strong>Pittsburgh</strong></a></div><div class=\"col-6 col-md-3 pb-1\"><a href=\"/jobs-in-telangana/hyderabad/\" title=\"Find AI/ML/Data Science Jobs in Hyderābād\">Jobs in <strong>Hyderābād</strong></a></div><div class=\"col-6 col-md-3 pb-1\"><a href=\"/jobs-in-texas/dallas/\" title=\"Find AI/ML/Data Science Jobs in Dallas\">Jobs in <strong>Dallas</strong></a></div><div class=\"col-6 col-md-3 pb-1\"><a href=\"/jobs-in-california/south-san-francisco/\" title=\"Find AI/ML/Data Science Jobs in South San Francisco\">Jobs in <strong>South San Francisco</strong></a></div><div class=\"col-6 col-md-3 pb-1\"><a href=\"/jobs-in-british-columbia/vancouver/\" title=\"Find AI/ML/Data Science Jobs in Vancouver\">Jobs in <strong>Vancouver</strong></a></div><div class=\"col-6 col-md-3 pb-1\"><a href=\"/jobs-in-north-holland/amsterdam/\" title=\"Find AI/ML/Data Science Jobs in Amsterdam\">Jobs in <strong>Amsterdam</strong></a></div><div class=\"col-6 col-md-3 pb-1\"><a href=\"/jobs-in-north-carolina/charlotte/\" title=\"Find AI/ML/Data Science Jobs in Charlotte\">Jobs in <strong>Charlotte</strong></a></div><div class=\"col-6 col-md-3 pb-1\"><a href=\"/jobs-in-washington/bellevue/\" title=\"Find AI/ML/Data Science Jobs in Bellevue\">Jobs in <strong>Bellevue</strong></a></div><div class=\"col-6 col-md-3 pb-1\"><a href=\"/jobs-in-maharashtra/pune/\" title=\"Find AI/ML/Data Science Jobs in Pune\">Jobs in <strong>Pune</strong></a></div><div class=\"col-6 col-md-3 pb-1\"><a href=\"/jobs-in-catalonia/barcelona/\" title=\"Find AI/ML/Data Science Jobs in Barcelona\">Jobs in <strong>Barcelona</strong></a></div><div class=\"col-6 col-md-3 pb-1\"><a href=\"/jobs-in-california/sunnyvale/\" title=\"Find AI/ML/Data Science Jobs in Sunnyvale\">Jobs in <strong>Sunnyvale</strong></a></div><div class=\"col-6 col-md-3 pb-1\"><a href=\"/jobs-in-tel-aviv/tel-aviv/\" title=\"Find AI/ML/Data Science Jobs in Tel Aviv\">Jobs in <strong>Tel Aviv</strong></a></div><div class=\"col-6 col-md-3 pb-1\"><a href=\"/jobs-in-tamil-nadu/chennai/\" title=\"Find AI/ML/Data Science Jobs in Chennai\">Jobs in <strong>Chennai</strong></a></div><div class=\"col-6 col-md-3 pb-1\"><a href=\"/jobs-in-lesser-poland/krakow/\" title=\"Find AI/ML/Data Science Jobs in Kraków\">Jobs in <strong>Kraków</strong></a></div><div class=\"col-6 col-md-3 pb-1\"><a href=\"/jobs-in-leinster/dublin/\" title=\"Find AI/ML/Data Science Jobs in Dublin\">Jobs in <strong>Dublin</strong></a></div><div class=\"col-6 col-md-3 pb-1\"><a href=\"/jobs-in-georgia/atlanta/\" title=\"Find AI/ML/Data Science Jobs in Atlanta\">Jobs in <strong>Atlanta</strong></a></div><div class=\"col-6 col-md-3 pb-1\"><a href=\"/jobs-in-attica/athens/\" title=\"Find AI/ML/Data Science Jobs in Athens\">Jobs in <strong>Athens</strong></a></div><div class=\"col-6 col-md-3 pb-1\"><a href=\"/jobs-in-mazovia/warsaw/\" title=\"Find AI/ML/Data Science Jobs in Warsaw\">Jobs in <strong>Warsaw</strong></a></div><div class=\"col-6 col-md-3 pb-1\"><a href=\"/jobs-in-new-south-wales/sydney/\" title=\"Find AI/ML/Data Science Jobs in Sydney\">Jobs in <strong>Sydney</strong></a></div><div class=\"col-6 col-md-3 pb-1\"><a href=\"/jobs-in-scotland/edinburgh/\" title=\"Find AI/ML/Data Science Jobs in Edinburgh\">Jobs in <strong>Edinburgh</strong></a></div><div class=\"col-6 col-md-3 pb-1\"><a href=\"/jobs-in-england/cambridge/\" title=\"Find AI/ML/Data Science Jobs in Cambridge\">Jobs in <strong>Cambridge</strong></a></div><div class=\"col-6 col-md-3 pb-1\"><a href=\"/jobs-in-massachusetts/somerville/\" title=\"Find AI/ML/Data Science Jobs in Somerville\">Jobs in <strong>Somerville</strong></a></div><div class=\"col-6 col-md-3 pb-1\"><a href=\"/jobs-in-sofia-capital/sofia/\" title=\"Find AI/ML/Data Science Jobs in Sofia\">Jobs in <strong>Sofia</strong></a></div><div class=\"col-6 col-md-3 pb-1\"><a href=\"/jobs-in-bavaria/munich/\" title=\"Find AI/ML/Data Science Jobs in Munich\">Jobs in <strong>Munich</strong></a></div><div class=\"col-6 col-md-3 pb-1\"><a href=\"/jobs-in-greater-poland/poznan/\" title=\"Find AI/ML/Data Science Jobs in Poznań\">Jobs in <strong>Poznań</strong></a></div><div class=\"col-6 col-md-3 pb-1\"><a href=\"/jobs-in-madrid/madrid/\" title=\"Find AI/ML/Data Science Jobs in Madrid\">Jobs in <strong>Madrid</strong></a></div><div class=\"col-6 col-md-3 pb-1\"><a href=\"/jobs-in-texas/houston/\" title=\"Find AI/ML/Data Science Jobs in Houston\">Jobs in <strong>Houston</strong></a></div><div class=\"col-6 col-md-3 pb-1\"><a href=\"/jobs-in-california/newark/\" title=\"Find AI/ML/Data Science Jobs in Newark\">Jobs in <strong>Newark</strong></a></div><div class=\"col-6 col-md-3 pb-1\"><a href=\"/jobs-in-california/san-carlos/\" title=\"Find AI/ML/Data Science Jobs in San Carlos\">Jobs in <strong>San Carlos</strong></a></div><div class=\"col-6 col-md-3 pb-1\"><a href=\"/jobs-in-alberta/edmonton/\" title=\"Find AI/ML/Data Science Jobs in Edmonton\">Jobs in <strong>Edmonton</strong></a></div><div class=\"col-6 col-md-3 pb-1\"><a href=\"/jobs-in-tel-aviv/herzliya/\" title=\"Find AI/ML/Data Science Jobs in Herzliya\">Jobs in <strong>Herzliya</strong></a></div><div class=\"col-6 col-md-3 pb-1\"><a href=\"/jobs-in-delhi/delhi/\" title=\"Find AI/ML/Data Science Jobs in Delhi\">Jobs in <strong>Delhi</strong></a></div><div class=\"col-6 col-md-3 pb-1\"><a href=\"/jobs-in-lisbon/lisbon/\" title=\"Find AI/ML/Data Science Jobs in Lisbon\">Jobs in <strong>Lisbon</strong></a></div><div class=\"col-6 col-md-3 pb-1\"><a href=\"/jobs-in-england/manchester/\" title=\"Find AI/ML/Data Science Jobs in Manchester\">Jobs in <strong>Manchester</strong></a></div><div class=\"col-6 col-md-3 pb-1\"><a href=\"/jobs-in-lodz-voivodeship/lodz/\" title=\"Find AI/ML/Data Science Jobs in Łódź\">Jobs in <strong>Łódź</strong></a></div><div class=\"col-6 col-md-3 pb-1\"><a href=\"/jobs-in-north-carolina/raleigh/\" title=\"Find AI/ML/Data Science Jobs in Raleigh\">Jobs in <strong>Raleigh</strong></a></div><div class=\"col-6 col-md-3 pb-1\"><a href=\"/jobs-in-california/santa-clara/\" title=\"Find AI/ML/Data Science Jobs in Santa Clara\">Jobs in <strong>Santa Clara</strong></a></div><div class=\"col-6 col-md-3 pb-1\"><a href=\"/jobs-in-quebec/montreal/\" title=\"Find AI/ML/Data Science Jobs in Montréal\">Jobs in <strong>Montréal</strong></a></div>\n",
       "</div>\n",
       "</div>\n",
       "</div>\n",
       "<div class=\"row px-2 my-4\">\n",
       "<div class=\"col-md-10 mx-auto px-2\">\n",
       "<h2 class=\"h3\">Explore more AI/ML/Data Science career opportunities</h2>\n",
       "<p>Find open roles in Artificial Intelligence (AI), Machine Learning (ML), Natural Language Processing (NLP), Computer Vision (CV), Data Engineering, Data Analytics, Big Data, and Data Science in general, filtered by job title or popular skill, toolset and products used.</p>\n",
       "</div>\n",
       "<div class=\"col-sm-5 offset-md-1 my-2 px-2\">\n",
       "<ul class=\"list-unstyled\">\n",
       "<li class=\"my-1\"><a href=\"/list/data-engineer-jobs/\" title=\"Find Data Engineer Jobs\">Open <strong>Data Engineer</strong> jobs</a></li><li class=\"my-1\"><a href=\"/list/senior-data-engineer-jobs/\" title=\"Find Senior Data Engineer Jobs\">Open <strong>Senior Data Engineer</strong> jobs</a></li><li class=\"my-1\"><a href=\"/list/data-analyst-jobs/\" title=\"Find Data Analyst Jobs\">Open <strong>Data Analyst</strong> jobs</a></li><li class=\"my-1\"><a href=\"/list/data-scientist-jobs/\" title=\"Find Data Scientist Jobs\">Open <strong>Data Scientist</strong> jobs</a></li><li class=\"my-1\"><a href=\"/list/senior-data-scientist-jobs/\" title=\"Find Senior Data Scientist Jobs\">Open <strong>Senior Data Scientist</strong> jobs</a></li><li class=\"my-1\"><a href=\"/list/senior-data-analyst-jobs/\" title=\"Find Senior Data Analyst Jobs\">Open <strong>Senior Data Analyst</strong> jobs</a></li><li class=\"my-1\"><a href=\"/list/machine-learning-engineer-jobs/\" title=\"Find Machine Learning Engineer Jobs\">Open <strong>Machine Learning Engineer</strong> jobs</a></li><li class=\"my-1\"><a href=\"/list/senior-machine-learning-engineer-jobs/\" title=\"Find Senior Machine Learning Engineer Jobs\">Open <strong>Senior Machine Learning Engineer</strong> jobs</a></li><li class=\"my-1\"><a href=\"/list/data-architect-jobs/\" title=\"Find Data Architect Jobs\">Open <strong>Data Architect</strong> jobs</a></li><li class=\"my-1\"><a href=\"/list/analytics-engineer-jobs/\" title=\"Find Analytics Engineer Jobs\">Open <strong>Analytics Engineer</strong> jobs</a></li><li class=\"my-1\"><a href=\"/list/staff-data-engineer-jobs/\" title=\"Find Staff Data Engineer Jobs\">Open <strong>Staff Data Engineer</strong> jobs</a></li><li class=\"my-1\"><a href=\"/list/lead-data-scientist-jobs/\" title=\"Find Lead Data Scientist Jobs\">Open <strong>Lead Data Scientist</strong> jobs</a></li><li class=\"my-1\"><a href=\"/list/lead-data-engineer-jobs/\" title=\"Find Lead Data Engineer Jobs\">Open <strong>Lead Data Engineer</strong> jobs</a></li><li class=\"my-1\"><a href=\"/list/sr-data-engineer-jobs/\" title=\"Find Sr. Data Engineer Jobs\">Open <strong>Sr. Data Engineer</strong> jobs</a></li><li class=\"my-1\"><a href=\"/list/data-engineering-manager-jobs/\" title=\"Find Data Engineering Manager Jobs\">Open <strong>Data Engineering Manager</strong> jobs</a></li><li class=\"my-1\"><a href=\"/list/senior-analytics-engineer-jobs/\" title=\"Find Senior Analytics Engineer Jobs\">Open <strong>Senior Analytics Engineer</strong> jobs</a></li><li class=\"my-1\"><a href=\"/list/data-science-manager-jobs/\" title=\"Find Data Science Manager Jobs\">Open <strong>Data Science Manager</strong> jobs</a></li><li class=\"my-1\"><a href=\"/list/staff-machine-learning-engineer-jobs/\" title=\"Find Staff Machine Learning Engineer Jobs\">Open <strong>Staff Machine Learning Engineer</strong> jobs</a></li><li class=\"my-1\"><a href=\"/list/sr-data-scientist-jobs/\" title=\"Find Sr. Data Scientist Jobs\">Open <strong>Sr. Data Scientist</strong> jobs</a></li><li class=\"my-1\"><a href=\"/list/principal-data-engineer-jobs/\" title=\"Find Principal Data Engineer Jobs\">Open <strong>Principal Data Engineer</strong> jobs</a></li><li class=\"my-1\"><a href=\"/list/data-analytics-engineer-jobs/\" title=\"Find Data Analytics Engineer Jobs\">Open <strong>Data Analytics Engineer</strong> jobs</a></li><li class=\"my-1\"><a href=\"/list/product-data-analyst-jobs/\" title=\"Find Product Data Analyst Jobs\">Open <strong>Product Data Analyst</strong> jobs</a></li><li class=\"my-1\"><a href=\"/list/data-engineer-remote-jobs/\" title=\"Find Data Engineer (Remote) Jobs\">Open <strong>Data Engineer (Remote)</strong> jobs</a></li><li class=\"my-1\"><a href=\"/list/data-engineer-ii-jobs/\" title=\"Find Data Engineer II Jobs\">Open <strong>Data Engineer II</strong> jobs</a></li><li class=\"my-1\"><a href=\"/list/data-science-intern-jobs/\" title=\"Find Data Science Intern Jobs\">Open <strong>Data Science Intern</strong> jobs</a></li>\n",
       "</ul>\n",
       "</div>\n",
       "<div class=\"col-sm-5 my-2 px-2\">\n",
       "<ul class=\"list-unstyled\">\n",
       "<li class=\"my-1\"><a href=\"/list/python-related-jobs/\" title=\"Find AI/ML/Data Science Jobs related to Python\">Open <strong>Python</strong>-related jobs</a></li><li class=\"my-1\"><a href=\"/list/engineering-related-jobs/\" title=\"Find AI/ML/Data Science Jobs related to Engineering\">Open <strong>Engineering</strong>-related jobs</a></li><li class=\"my-1\"><a href=\"/list/sql-related-jobs/\" title=\"Find AI/ML/Data Science Jobs related to SQL\">Open <strong>SQL</strong>-related jobs</a></li><li class=\"my-1\"><a href=\"/list/machine-learning-related-jobs/\" title=\"Find AI/ML/Data Science Jobs related to Machine Learning\">Open <strong>Machine Learning</strong>-related jobs</a></li><li class=\"my-1\"><a href=\"/list/computer-science-related-jobs/\" title=\"Find AI/ML/Data Science Jobs related to Computer Science\">Open <strong>Computer Science</strong>-related jobs</a></li><li class=\"my-1\"><a href=\"/list/research-related-jobs/\" title=\"Find AI/ML/Data Science Jobs related to Research\">Open <strong>Research</strong>-related jobs</a></li><li class=\"my-1\"><a href=\"/list/aws-related-jobs/\" title=\"Find AI/ML/Data Science Jobs related to AWS\">Open <strong>AWS</strong>-related jobs</a></li><li class=\"my-1\"><a href=\"/list/pipelines-related-jobs/\" title=\"Find AI/ML/Data Science Jobs related to Pipelines\">Open <strong>Pipelines</strong>-related jobs</a></li><li class=\"my-1\"><a href=\"/list/statistics-related-jobs/\" title=\"Find AI/ML/Data Science Jobs related to Statistics\">Open <strong>Statistics</strong>-related jobs</a></li><li class=\"my-1\"><a href=\"/list/spark-related-jobs/\" title=\"Find AI/ML/Data Science Jobs related to Spark\">Open <strong>Spark</strong>-related jobs</a></li><li class=\"my-1\"><a href=\"/list/testing-related-jobs/\" title=\"Find AI/ML/Data Science Jobs related to Testing\">Open <strong>Testing</strong>-related jobs</a></li><li class=\"my-1\"><a href=\"/list/r-related-jobs/\" title=\"Find AI/ML/Data Science Jobs related to R\">Open <strong>R</strong>-related jobs</a></li><li class=\"my-1\"><a href=\"/list/big-data-related-jobs/\" title=\"Find AI/ML/Data Science Jobs related to Big Data\">Open <strong>Big Data</strong>-related jobs</a></li><li class=\"my-1\"><a href=\"/list/etl-related-jobs/\" title=\"Find AI/ML/Data Science Jobs related to ETL\">Open <strong>ETL</strong>-related jobs</a></li><li class=\"my-1\"><a href=\"/list/agile-related-jobs/\" title=\"Find AI/ML/Data Science Jobs related to Agile\">Open <strong>Agile</strong>-related jobs</a></li><li class=\"my-1\"><a href=\"/list/data-pipelines-related-jobs/\" title=\"Find AI/ML/Data Science Jobs related to Data pipelines\">Open <strong>Data pipelines</strong>-related jobs</a></li><li class=\"my-1\"><a href=\"/list/data-analysis-related-jobs/\" title=\"Find AI/ML/Data Science Jobs related to Data analysis\">Open <strong>Data analysis</strong>-related jobs</a></li><li class=\"my-1\"><a href=\"/list/tableau-related-jobs/\" title=\"Find AI/ML/Data Science Jobs related to Tableau\">Open <strong>Tableau</strong>-related jobs</a></li><li class=\"my-1\"><a href=\"/list/mathematics-related-jobs/\" title=\"Find AI/ML/Data Science Jobs related to Mathematics\">Open <strong>Mathematics</strong>-related jobs</a></li><li class=\"my-1\"><a href=\"/list/data-analytics-related-jobs/\" title=\"Find AI/ML/Data Science Jobs related to Data Analytics\">Open <strong>Data Analytics</strong>-related jobs</a></li><li class=\"my-1\"><a href=\"/list/security-related-jobs/\" title=\"Find AI/ML/Data Science Jobs related to Security\">Open <strong>Security</strong>-related jobs</a></li><li class=\"my-1\"><a href=\"/list/airflow-related-jobs/\" title=\"Find AI/ML/Data Science Jobs related to Airflow\">Open <strong>Airflow</strong>-related jobs</a></li><li class=\"my-1\"><a href=\"/list/gcp-related-jobs/\" title=\"Find AI/ML/Data Science Jobs related to GCP\">Open <strong>GCP</strong>-related jobs</a></li><li class=\"my-1\"><a href=\"/list/phd-related-jobs/\" title=\"Find AI/ML/Data Science Jobs related to PhD\">Open <strong>PhD</strong>-related jobs</a></li><li class=\"my-1\"><a href=\"/list/streaming-related-jobs/\" title=\"Find AI/ML/Data Science Jobs related to Streaming\">Open <strong>Streaming</strong>-related jobs</a></li>\n",
       "</ul>\n",
       "</div>\n",
       "</div>\n",
       "</div>\n",
       "</main>\n",
       "<footer class=\"mt-auto py-4 border-top bg-dark\">\n",
       "<div class=\"container-lg\">\n",
       "<div class=\"row py-4\">\n",
       "<div class=\"col-12 col-md\">\n",
       "<p class=\"text-muted\">\n",
       "\t  Got questions, feedback or ideas?\n",
       "\t  Drop us a <a class=\"text-light\" href=\"mailto:mail@ai-jobs.net\">message</a>.\n",
       "\t</p>\n",
       "</div>\n",
       "<div class=\"col\">\n",
       "<h3 class=\"h4\">For candidates</h3>\n",
       "<ul class=\"list-unstyled\">\n",
       "<li class=\"my-1\"><a class=\"text-light\" href=\"/register/\"><i class=\"fas fa-user-plus\"></i> Sign up</a></li>\n",
       "<li class=\"my-1\"><a class=\"text-light\" href=\"/\"><i class=\"fas fa-search\"></i> Find a job</a></li>\n",
       "<li class=\"my-1\"><a class=\"text-light\" href=\"/job/emails/\"><i class=\"far fa-envelope\"></i> Job emails</a></li>\n",
       "<li class=\"my-1\"><a class=\"text-light\" href=\"/job/marks/\"><i class=\"fas fa-list-ol\"></i> Saved jobs</a></li>\n",
       "<li class=\"my-1\"><a class=\"text-light\" href=\"/countries/\"><i class=\"fas fa-map-pin\"></i> Country search</a></li>\n",
       "<li class=\"my-1\"><a class=\"text-light\" href=\"/trends/\"><i class=\"fas fa-chart-area\"></i> Hiring trends</a></li>\n",
       "</ul>\n",
       "</div>\n",
       "<div class=\"col\">\n",
       "<h3 class=\"h4\">For employers</h3>\n",
       "<ul class=\"list-unstyled\">\n",
       "<li class=\"my-1\"><a class=\"text-light\" href=\"/post-a-job/\"><i class=\"fas fa-bullhorn\"></i> Post a job</a></li>\n",
       "<li class=\"my-1\"><a class=\"text-light\" href=\"/jobs/\"><i class=\"fas fa-list-ul\"></i> My job ads</a></li>\n",
       "<li class=\"my-1\"><a class=\"text-light\" href=\"/orders/\"><i class=\"far fa-file-alt\"></i> My orders</a></li>\n",
       "<li class=\"my-1\"><a class=\"text-light\" href=\"/accounts/dashboard/\"><i class=\"fas fa-user\"></i> My account</a></li>\n",
       "</ul>\n",
       "</div>\n",
       "<div class=\"col-md\">\n",
       "<h3 class=\"h4\">Connect</h3>\n",
       "<ul class=\"list-unstyled\">\n",
       "<li class=\"my-1\"><a class=\"text-light\" href=\"https://twitter.com/ai_jobsNET\" rel=\"noopener\" target=\"_blank\"><i class=\"fab fa-twitter\"></i> Twitter</a></li>\n",
       "<li class=\"my-1\"><a class=\"text-light\" href=\"https://www.linkedin.com/company/ai-jobs-net/\" rel=\"noopener\" target=\"_blank\"><i class=\"fab fa-linkedin\"></i> LinkedIn</a></li>\n",
       "<li class=\"my-1\"><a class=\"text-light\" href=\"https://www.reddit.com/user/ai_jobs\" rel=\"noopener\" target=\"_blank\"><i class=\"fab fa-reddit\"></i> Reddit</a></li>\n",
       "<li class=\"my-1\"><a class=\"text-light\" href=\"https://ai-jobs.tumblr.com/\" rel=\"noopener\" target=\"_blank\"><i class=\"fab fa-tumblr\"></i> Tumblr</a></li>\n",
       "<li class=\"my-1\"><a class=\"text-light\" href=\"/feed/\"><i class=\"fas fa-rss\"></i> RSS</a></li>\n",
       "</ul>\n",
       "</div>\n",
       "</div>\n",
       "<div class=\"row border-top border-secondary py-4 mb-3\">\n",
       "<div class=\"col-md text-muted\">\n",
       "\t© 2022 <a class=\"text-light\" href=\"/\">ai-jobs.net</a>\n",
       "<span>| v2.16.2</span>\n",
       "<span class=\"text-muted\">| Made with ♥️  + ☕ in Zürich, Switzerland and around the world.</span>\n",
       "</div>\n",
       "<div class=\"col-md text-md-right text-muted\">\n",
       "<a class=\"text-light\" href=\"/terms/\">Terms and conditions</a> |\n",
       "\t<a class=\"text-light\" href=\"/privacy/\">Privacy policy</a> |\n",
       "\t<a class=\"text-light\" href=\"/about/\">About</a>\n",
       "</div>\n",
       "</div>\n",
       "</div>\n",
       "</footer>\n",
       "<script>\n",
       "$(function(){\n",
       "  // search stuff\n",
       "  $(\"#copy-link\").click(function(ev) {\n",
       "      navigator.clipboard.writeText('https://ai-jobs.net/analyst-jobs/').then(\n",
       "          function() {\n",
       "              $(ev.target).popover('show');\n",
       "              setTimeout(function() { $(ev.target).popover('hide')}, 3000);\n",
       "          },\n",
       "      );\n",
       "  });\n",
       "  var getMoreResults = function(offset) {\n",
       "      $.post({\n",
       "\t  url: '/',\n",
       "\t  headers: { 'X-CSRFToken': 'DszIhTu8XAvQXnjyBqocL8nSQl1gX3WVX25ql9iq0FnLoHsPvyS50Cy2stozt3BV', 'offset': offset },\n",
       "\t  data: $(\"#job-filter\").serialize(),\n",
       "\t  success: function(res) {\n",
       "\t      $(\"#load-more-jobs\").replaceWith(res);\n",
       "\t      setClickMore();\n",
       "\t  }\n",
       "      });\n",
       "  }\n",
       "  var setClickMore = function(){\n",
       "      $(\"#load-more-jobs\").click(function(ev) {\n",
       "\t  ev.preventDefault();\n",
       "\t  getMoreResults($(this).attr('data-offset'));\n",
       "      });\n",
       "  }\n",
       "  setClickMore();\n",
       "  // display settings\n",
       "  var setDisplaySetting = function(val) {\n",
       "      $.post({\n",
       "\t  url: '/',\n",
       "\t  headers: { 'X-CSRFToken': 'DszIhTu8XAvQXnjyBqocL8nSQl1gX3WVX25ql9iq0FnLoHsPvyS50Cy2stozt3BV' },\n",
       "\t  data: { 'display_setting': val },\n",
       "\t  success: function(res) {\n",
       "\t      document.location.reload();\n",
       "\t  }\n",
       "      });\n",
       "  }\n",
       "  $(\".dropdown-item.display-setting\").click(function(ev){\n",
       "      setDisplaySetting(ev.currentTarget.id);\n",
       "  });\n",
       "});\n",
       "</script>\n",
       "<nav class=\"navbar fixed-bottom navbar-light bg-white border-top py-2 d-md-none\">\n",
       "<a class=\"nav-link px-1 text-dark\" href=\"/\"><i class=\"fas fa-search\"></i> Search</a>\n",
       "<a class=\"nav-link px-1 text-dark\" href=\"/job/emails/\"><i class=\"far fa-envelope\"></i> Emails</a>\n",
       "<a class=\"nav-link px-1 text-dark\" href=\"/job/marks/\"><i class=\"fas fa-list-ol\"></i> Saved</a>\n",
       "<a class=\"nav-link px-1 text-dark\" href=\"https://salaries.ai-jobs.net/\"><i class=\"fas fa-dollar-sign\"></i> Salaries</a>\n",
       "<a class=\"nav-link px-1 text-dark\" href=\"/dark/mode/\" title=\"Switch to dark mode\"><i class=\"fas fa-moon\"></i></a>\n",
       "</nav>\n",
       "</body>\n",
       "</html>"
      ]
     },
     "execution_count": 221,
     "metadata": {},
     "output_type": "execute_result"
    }
   ],
   "source": [
    "soup"
   ]
  },
  {
   "cell_type": "code",
   "execution_count": 222,
   "metadata": {},
   "outputs": [],
   "source": [
    "#start to store the website content in a variable \n",
    "\n",
    "results = soup.find('div', {'class':'list-group list-group-flush mb-5'}).find_all('a', {'class':'col list-group-item-action px-2 py-3'})"
   ]
  },
  {
   "cell_type": "code",
   "execution_count": 223,
   "metadata": {},
   "outputs": [
    {
     "data": {
      "text/plain": [
       "100"
      ]
     },
     "execution_count": 223,
     "metadata": {},
     "output_type": "execute_result"
    }
   ],
   "source": [
    "len(results)"
   ]
  },
  {
   "cell_type": "markdown",
   "metadata": {},
   "source": [
    "#### Job Title"
   ]
  },
  {
   "cell_type": "code",
   "execution_count": 224,
   "metadata": {},
   "outputs": [
    {
     "data": {
      "text/plain": [
       "'Senior Data Engineer - Analytic Platform'"
      ]
     },
     "execution_count": 224,
     "metadata": {},
     "output_type": "execute_result"
    }
   ],
   "source": [
    "#pulling out content from each index of the list \n",
    "\n",
    "results[0].find('h2', {'class':'h4 mb-1'}).get_text()"
   ]
  },
  {
   "cell_type": "markdown",
   "metadata": {},
   "source": [
    "#### Company"
   ]
  },
  {
   "cell_type": "code",
   "execution_count": 225,
   "metadata": {},
   "outputs": [
    {
     "data": {
      "text/plain": [
       "'StubHub'"
      ]
     },
     "execution_count": 225,
     "metadata": {},
     "output_type": "execute_result"
    }
   ],
   "source": [
    "results[0].find('p', {'class':'m-0 text-muted job-list-item-company'}).get_text()"
   ]
  },
  {
   "cell_type": "markdown",
   "metadata": {},
   "source": [
    "### Location"
   ]
  },
  {
   "cell_type": "code",
   "execution_count": 226,
   "metadata": {},
   "outputs": [
    {
     "data": {
      "text/plain": [
       "'Irvine, CA'"
      ]
     },
     "execution_count": 226,
     "metadata": {},
     "output_type": "execute_result"
    }
   ],
   "source": [
    "results[0].find('span', {'class':'d-none d-md-block text-break job-list-item-location'}).get_text()"
   ]
  },
  {
   "cell_type": "markdown",
   "metadata": {},
   "source": [
    "### Level"
   ]
  },
  {
   "cell_type": "code",
   "execution_count": 227,
   "metadata": {},
   "outputs": [
    {
     "data": {
      "text/plain": [
       "'Senior-level'"
      ]
     },
     "execution_count": 227,
     "metadata": {},
     "output_type": "execute_result"
    }
   ],
   "source": [
    "results[4].find('span', {'class':'badge badge-info badge-pill my-md-1 d-none d-md-inline-block'}).get_text()"
   ]
  },
  {
   "cell_type": "markdown",
   "metadata": {},
   "source": [
    "### Job Type"
   ]
  },
  {
   "cell_type": "code",
   "execution_count": 228,
   "metadata": {},
   "outputs": [
    {
     "data": {
      "text/plain": [
       "'Full Time'"
      ]
     },
     "execution_count": 228,
     "metadata": {},
     "output_type": "execute_result"
    }
   ],
   "source": [
    "results[0].find('span', {'class':'badge badge-secondary badge-pill my-md-1'}).get_text()"
   ]
  },
  {
   "cell_type": "markdown",
   "metadata": {},
   "source": [
    "### Salary Range"
   ]
  },
  {
   "cell_type": "code",
   "execution_count": 229,
   "metadata": {},
   "outputs": [
    {
     "data": {
      "text/plain": [
       "'USD 76K - 150K *'"
      ]
     },
     "execution_count": 229,
     "metadata": {},
     "output_type": "execute_result"
    }
   ],
   "source": [
    "results[0].find('span', {'class':'badge badge-success badge-pill d-none d-md-inline-block'}).get_text()"
   ]
  },
  {
   "cell_type": "markdown",
   "metadata": {},
   "source": [
    "### Skills"
   ]
  },
  {
   "cell_type": "code",
   "execution_count": 230,
   "metadata": {},
   "outputs": [
    {
     "data": {
      "text/plain": [
       "['Airflow',\n",
       " 'Data pipelines',\n",
       " 'Data Warehousing',\n",
       " 'Engineering',\n",
       " 'Kafka',\n",
       " 'Machine Learning',\n",
       " 'Pipelines',\n",
       " '+5']"
      ]
     },
     "execution_count": 230,
     "metadata": {},
     "output_type": "execute_result"
    }
   ],
   "source": [
    "[x.get_text() for x in results[0].find_all('span', 'badge badge-light badge-pill')]"
   ]
  },
  {
   "cell_type": "markdown",
   "metadata": {},
   "source": [
    "### Benefits"
   ]
  },
  {
   "cell_type": "code",
   "execution_count": 231,
   "metadata": {},
   "outputs": [
    {
     "data": {
      "text/plain": [
       "['Career development',\n",
       " 'Health care',\n",
       " 'Lunch / meals',\n",
       " 'Startup environment',\n",
       " 'Team events',\n",
       " '+1']"
      ]
     },
     "execution_count": 231,
     "metadata": {},
     "output_type": "execute_result"
    }
   ],
   "source": [
    "[i.get_text() for i in results[0].find_all('span', 'badge badge-success badge-pill')]"
   ]
  },
  {
   "cell_type": "code",
   "execution_count": 232,
   "metadata": {},
   "outputs": [],
   "source": [
    "#create an empty list\n",
    "Job_title = []\n",
    "Company = []\n",
    "Location = []\n",
    "Level = []\n",
    "Job_type = []\n",
    "Salary = []\n",
    "Skill = []\n",
    "Benefit = []"
   ]
  },
  {
   "cell_type": "code",
   "execution_count": 233,
   "metadata": {},
   "outputs": [],
   "source": [
    "#Create a for loop that will loop through the rows and append the data extracted to the list created\n",
    "for result in results:\n",
    "    try:\n",
    "        Job_title.append(result.find('h2', {'class':'h4 mb-1'}).get_text()) \n",
    "    except:\n",
    "        Job_title.append('n/a')\n",
    "        \n",
    "    try:\n",
    "        Company.append(result.find('p', {'class':'m-0 text-muted job-list-item-company'}).get_text()) \n",
    "    except:\n",
    "        Company.append('n/a')\n",
    "        \n",
    "    try:\n",
    "        Location.append(result.find('span', {'class':'d-none d-md-block text-break job-list-item-location'}).get_text()) \n",
    "    except:\n",
    "        Location.append('n/a')\n",
    "        \n",
    "    try:\n",
    "        Level.append(result.find('span', {'class':'badge badge-info badge-pill my-md-1 d-none d-md-inline-block'}).get_text()) \n",
    "    except:\n",
    "        Level.append('n/a')\n",
    "        \n",
    "    try:\n",
    "        Job_type.append(result.find('span', {'class':'badge badge-secondary badge-pill my-md-1'}).get_text()) \n",
    "    except:\n",
    "        Job_type.append('n/a')\n",
    "    \n",
    "    try:\n",
    "        Salary.append(result.find('span', {'class':'badge badge-success badge-pill d-none d-md-inline-block'}).get_text()) \n",
    "    except:\n",
    "        Salary.append('n/a')\n",
    "    \n",
    "    try:\n",
    "        Skill.append([x.get_text() for x in result.find_all('span', 'badge badge-light badge-pill')])\n",
    "    except:\n",
    "        Skill.append('n/a')\n",
    "    \n",
    "    try:\n",
    "        Benefit.append([x.get_text() for x in result.find_all('span', 'badge badge-success badge-pill')])\n",
    "    except:\n",
    "        Benefit.append('n/a')"
   ]
  },
  {
   "cell_type": "code",
   "execution_count": 234,
   "metadata": {},
   "outputs": [],
   "source": [
    "#give column header names to each columns\n",
    "analysts = pd.DataFrame({'Job Title': Job_title, 'Company': Company, 'Location': Location, 'Level': Level,\n",
    "                        'Job Type': Job_type, 'Salary Range': Salary, 'Required Skills': Skill, 'Benefits': Benefit})"
   ]
  },
  {
   "cell_type": "code",
   "execution_count": 235,
   "metadata": {},
   "outputs": [],
   "source": [
    "#export the dataframe to excel\n",
    "\n",
    "analysts.to_excel('analyst.xlsx', index=False)"
   ]
  },
  {
   "cell_type": "markdown",
   "metadata": {},
   "source": [
    "## Exploratory Data Analysis"
   ]
  },
  {
   "cell_type": "markdown",
   "metadata": {},
   "source": [
    "### Importing Required Libraries for EDA"
   ]
  },
  {
   "cell_type": "code",
   "execution_count": 236,
   "metadata": {},
   "outputs": [],
   "source": [
    "# data manipulation\n",
    "import pandas as pd\n",
    "import numpy as np\n",
    "\n",
    "# Import visualization libraries\n",
    "import matplotlib.pyplot as plt\n",
    "from matplotlib import rcParams\n",
    "import matplotlib\n",
    "import matplotlib.pyplot as plt\n",
    "import seaborn as sns\n",
    "import plotly.express as px\n",
    "\n",
    "%matplotlib inline\n",
    "\n",
    "# apply some cool styling\n",
    "plt.style.use(\"ggplot\")\n",
    "rcParams['figure.figsize'] = (12,  6)\n",
    "sns.set_style('darkgrid')\n",
    "matplotlib.rcParams['font.size'] = 14\n",
    "matplotlib.rcParams['figure.figsize'] = (9, 5)\n",
    "matplotlib.rcParams['figure.facecolor'] = '#00000000'"
   ]
  },
  {
   "cell_type": "markdown",
   "metadata": {},
   "source": [
    "### Understanding the data"
   ]
  },
  {
   "cell_type": "code",
   "execution_count": 237,
   "metadata": {},
   "outputs": [],
   "source": [
    "df = analysts"
   ]
  },
  {
   "cell_type": "code",
   "execution_count": 238,
   "metadata": {
    "scrolled": false
   },
   "outputs": [
    {
     "data": {
      "text/html": [
       "<div>\n",
       "<style scoped>\n",
       "    .dataframe tbody tr th:only-of-type {\n",
       "        vertical-align: middle;\n",
       "    }\n",
       "\n",
       "    .dataframe tbody tr th {\n",
       "        vertical-align: top;\n",
       "    }\n",
       "\n",
       "    .dataframe thead th {\n",
       "        text-align: right;\n",
       "    }\n",
       "</style>\n",
       "<table border=\"1\" class=\"dataframe\">\n",
       "  <thead>\n",
       "    <tr style=\"text-align: right;\">\n",
       "      <th></th>\n",
       "      <th>Job Title</th>\n",
       "      <th>Company</th>\n",
       "      <th>Location</th>\n",
       "      <th>Level</th>\n",
       "      <th>Job Type</th>\n",
       "      <th>Salary Range</th>\n",
       "      <th>Required Skills</th>\n",
       "      <th>Benefits</th>\n",
       "    </tr>\n",
       "  </thead>\n",
       "  <tbody>\n",
       "    <tr>\n",
       "      <th>0</th>\n",
       "      <td>Senior Data Engineer - Analytic Platform</td>\n",
       "      <td>StubHub</td>\n",
       "      <td>Irvine, CA</td>\n",
       "      <td>Senior-level</td>\n",
       "      <td>Full Time</td>\n",
       "      <td>USD 76K - 150K *</td>\n",
       "      <td>[Airflow, Data pipelines, Data Warehousing, En...</td>\n",
       "      <td>[Career development, Health care, Lunch / meal...</td>\n",
       "    </tr>\n",
       "    <tr>\n",
       "      <th>1</th>\n",
       "      <td>Credit Analytics and Data Science Lead</td>\n",
       "      <td>Uncapped</td>\n",
       "      <td>Warsaw, Masovian Voivodeship, Poland - Remote</td>\n",
       "      <td>Mid-level</td>\n",
       "      <td>Full Time</td>\n",
       "      <td>n/a</td>\n",
       "      <td>[Credit risk, Finance, Machine Learning, ML mo...</td>\n",
       "      <td>[Career development, Competitive pay, Equity, ...</td>\n",
       "    </tr>\n",
       "    <tr>\n",
       "      <th>2</th>\n",
       "      <td>Data Analytics Assistant</td>\n",
       "      <td>Publicis Groupe</td>\n",
       "      <td>Warszawa, Poland</td>\n",
       "      <td>Entry-level</td>\n",
       "      <td>Full Time</td>\n",
       "      <td>n/a</td>\n",
       "      <td>[Bitbucket, Data Analytics, Jira, Machine Lear...</td>\n",
       "      <td>[]</td>\n",
       "    </tr>\n",
       "    <tr>\n",
       "      <th>3</th>\n",
       "      <td>Data Analyst (TA-4160)</td>\n",
       "      <td>Publicis Groupe</td>\n",
       "      <td>Bogotá, Colombia</td>\n",
       "      <td>Mid-level</td>\n",
       "      <td>Full Time</td>\n",
       "      <td>USD 51K - 90K *</td>\n",
       "      <td>[Business Intelligence, Data Analytics, Data m...</td>\n",
       "      <td>[Career development, Flex hours, Team events]</td>\n",
       "    </tr>\n",
       "    <tr>\n",
       "      <th>4</th>\n",
       "      <td>(Senior) Digital Analytics Engineer</td>\n",
       "      <td>Netcentric</td>\n",
       "      <td>Munich, Germany</td>\n",
       "      <td>Senior-level</td>\n",
       "      <td>Full Time</td>\n",
       "      <td>n/a</td>\n",
       "      <td>[A/B testing, APIs, Computer Science, Engineer...</td>\n",
       "      <td>[Career development, Fitness / gym, Flex hours...</td>\n",
       "    </tr>\n",
       "  </tbody>\n",
       "</table>\n",
       "</div>"
      ],
      "text/plain": [
       "                                  Job Title          Company  \\\n",
       "0  Senior Data Engineer - Analytic Platform          StubHub   \n",
       "1    Credit Analytics and Data Science Lead         Uncapped   \n",
       "2                  Data Analytics Assistant  Publicis Groupe   \n",
       "3                    Data Analyst (TA-4160)  Publicis Groupe   \n",
       "4       (Senior) Digital Analytics Engineer       Netcentric   \n",
       "\n",
       "                                        Location         Level   Job Type  \\\n",
       "0                                     Irvine, CA  Senior-level  Full Time   \n",
       "1  Warsaw, Masovian Voivodeship, Poland - Remote     Mid-level  Full Time   \n",
       "2                               Warszawa, Poland   Entry-level  Full Time   \n",
       "3                               Bogotá, Colombia     Mid-level  Full Time   \n",
       "4                                Munich, Germany  Senior-level  Full Time   \n",
       "\n",
       "       Salary Range                                    Required Skills  \\\n",
       "0  USD 76K - 150K *  [Airflow, Data pipelines, Data Warehousing, En...   \n",
       "1               n/a  [Credit risk, Finance, Machine Learning, ML mo...   \n",
       "2               n/a  [Bitbucket, Data Analytics, Jira, Machine Lear...   \n",
       "3   USD 51K - 90K *  [Business Intelligence, Data Analytics, Data m...   \n",
       "4               n/a  [A/B testing, APIs, Computer Science, Engineer...   \n",
       "\n",
       "                                            Benefits  \n",
       "0  [Career development, Health care, Lunch / meal...  \n",
       "1  [Career development, Competitive pay, Equity, ...  \n",
       "2                                                 []  \n",
       "3      [Career development, Flex hours, Team events]  \n",
       "4  [Career development, Fitness / gym, Flex hours...  "
      ]
     },
     "execution_count": 238,
     "metadata": {},
     "output_type": "execute_result"
    }
   ],
   "source": [
    "df.head()"
   ]
  },
  {
   "cell_type": "markdown",
   "metadata": {},
   "source": [
    ".head() returns the first 5 rows of my dataset. This is useful if you want to see some example values for each variable."
   ]
  },
  {
   "cell_type": "code",
   "execution_count": 239,
   "metadata": {},
   "outputs": [
    {
     "data": {
      "text/html": [
       "<div>\n",
       "<style scoped>\n",
       "    .dataframe tbody tr th:only-of-type {\n",
       "        vertical-align: middle;\n",
       "    }\n",
       "\n",
       "    .dataframe tbody tr th {\n",
       "        vertical-align: top;\n",
       "    }\n",
       "\n",
       "    .dataframe thead th {\n",
       "        text-align: right;\n",
       "    }\n",
       "</style>\n",
       "<table border=\"1\" class=\"dataframe\">\n",
       "  <thead>\n",
       "    <tr style=\"text-align: right;\">\n",
       "      <th></th>\n",
       "      <th>Job Title</th>\n",
       "      <th>Company</th>\n",
       "      <th>Location</th>\n",
       "      <th>Level</th>\n",
       "      <th>Job Type</th>\n",
       "      <th>Salary Range</th>\n",
       "      <th>Required Skills</th>\n",
       "      <th>Benefits</th>\n",
       "    </tr>\n",
       "  </thead>\n",
       "  <tbody>\n",
       "    <tr>\n",
       "      <th>95</th>\n",
       "      <td>Data Analyst -  Compliance</td>\n",
       "      <td>PhonePe</td>\n",
       "      <td>Bengaluru</td>\n",
       "      <td>n/a</td>\n",
       "      <td>Full Time</td>\n",
       "      <td>USD 50K - 85K *</td>\n",
       "      <td>[Banking, Data Analytics, Data visualization, ...</td>\n",
       "      <td>[Career development, Flex hours, Medical leave...</td>\n",
       "    </tr>\n",
       "    <tr>\n",
       "      <th>96</th>\n",
       "      <td>Data Analytics Coach</td>\n",
       "      <td>Multiverse</td>\n",
       "      <td>London, England, United Kingdom - Remote</td>\n",
       "      <td>Mid-level</td>\n",
       "      <td>Full Time</td>\n",
       "      <td>n/a</td>\n",
       "      <td>[Data Analytics, Excel, PhD, Power BI, Python,...</td>\n",
       "      <td>[Career development, Equity, Health care, Insu...</td>\n",
       "    </tr>\n",
       "    <tr>\n",
       "      <th>97</th>\n",
       "      <td>Senior Data Scientist, Machine Learning - Game...</td>\n",
       "      <td>Rockstar Games</td>\n",
       "      <td>Manhattan, New York, United States</td>\n",
       "      <td>Senior-level</td>\n",
       "      <td>Full Time</td>\n",
       "      <td>USD 68K - 135K *</td>\n",
       "      <td>[Big Data, Classification, Computer Science, D...</td>\n",
       "      <td>[Career development]</td>\n",
       "    </tr>\n",
       "    <tr>\n",
       "      <th>98</th>\n",
       "      <td>BI Analyst</td>\n",
       "      <td>Darrow</td>\n",
       "      <td>Tel Aviv</td>\n",
       "      <td>Senior-level</td>\n",
       "      <td>Full Time</td>\n",
       "      <td>n/a</td>\n",
       "      <td>[Business Intelligence, Data analysis, Data ma...</td>\n",
       "      <td>[Career development, Startup environment]</td>\n",
       "    </tr>\n",
       "    <tr>\n",
       "      <th>99</th>\n",
       "      <td>Senior Data Analyst</td>\n",
       "      <td>DigitalOcean</td>\n",
       "      <td>United States and Canada</td>\n",
       "      <td>Senior-level</td>\n",
       "      <td>Full Time</td>\n",
       "      <td>USD 50K - 85K *</td>\n",
       "      <td>[Computer Science, Economics, Engineering, Exc...</td>\n",
       "      <td>[Competitive pay, Conferences, Equity, Health ...</td>\n",
       "    </tr>\n",
       "  </tbody>\n",
       "</table>\n",
       "</div>"
      ],
      "text/plain": [
       "                                            Job Title         Company  \\\n",
       "95                         Data Analyst -  Compliance         PhonePe   \n",
       "96                               Data Analytics Coach      Multiverse   \n",
       "97  Senior Data Scientist, Machine Learning - Game...  Rockstar Games   \n",
       "98                                         BI Analyst          Darrow   \n",
       "99                                Senior Data Analyst    DigitalOcean   \n",
       "\n",
       "                                    Location         Level   Job Type  \\\n",
       "95                                 Bengaluru           n/a  Full Time   \n",
       "96  London, England, United Kingdom - Remote     Mid-level  Full Time   \n",
       "97        Manhattan, New York, United States  Senior-level  Full Time   \n",
       "98                                  Tel Aviv  Senior-level  Full Time   \n",
       "99                  United States and Canada  Senior-level  Full Time   \n",
       "\n",
       "        Salary Range                                    Required Skills  \\\n",
       "95   USD 50K - 85K *  [Banking, Data Analytics, Data visualization, ...   \n",
       "96               n/a  [Data Analytics, Excel, PhD, Power BI, Python,...   \n",
       "97  USD 68K - 135K *  [Big Data, Classification, Computer Science, D...   \n",
       "98               n/a  [Business Intelligence, Data analysis, Data ma...   \n",
       "99   USD 50K - 85K *  [Computer Science, Economics, Engineering, Exc...   \n",
       "\n",
       "                                             Benefits  \n",
       "95  [Career development, Flex hours, Medical leave...  \n",
       "96  [Career development, Equity, Health care, Insu...  \n",
       "97                               [Career development]  \n",
       "98          [Career development, Startup environment]  \n",
       "99  [Competitive pay, Conferences, Equity, Health ...  "
      ]
     },
     "execution_count": 239,
     "metadata": {},
     "output_type": "execute_result"
    }
   ],
   "source": [
    "df.tail()"
   ]
  },
  {
   "cell_type": "code",
   "execution_count": 240,
   "metadata": {},
   "outputs": [
    {
     "data": {
      "text/plain": [
       "(100, 8)"
      ]
     },
     "execution_count": 240,
     "metadata": {},
     "output_type": "execute_result"
    }
   ],
   "source": [
    "df.shape"
   ]
  },
  {
   "cell_type": "markdown",
   "metadata": {},
   "source": [
    ".shape returns the number of rows by the number of columns for my dataset. The output (100, 8), means the dataset has 100 rows and 8 columns."
   ]
  },
  {
   "cell_type": "code",
   "execution_count": 241,
   "metadata": {},
   "outputs": [
    {
     "data": {
      "text/plain": [
       "array(['Job Title', 'Company', 'Location', 'Level', 'Job Type',\n",
       "       'Salary Range', 'Required Skills', 'Benefits'], dtype=object)"
      ]
     },
     "execution_count": 241,
     "metadata": {},
     "output_type": "execute_result"
    }
   ],
   "source": [
    "df.columns.values"
   ]
  },
  {
   "cell_type": "markdown",
   "metadata": {},
   "source": [
    ".columns returns all 8 column names of the dataset."
   ]
  },
  {
   "cell_type": "code",
   "execution_count": 242,
   "metadata": {},
   "outputs": [
    {
     "name": "stdout",
     "output_type": "stream",
     "text": [
      "<class 'pandas.core.frame.DataFrame'>\n",
      "RangeIndex: 100 entries, 0 to 99\n",
      "Data columns (total 8 columns):\n",
      " #   Column           Non-Null Count  Dtype \n",
      "---  ------           --------------  ----- \n",
      " 0   Job Title        100 non-null    object\n",
      " 1   Company          100 non-null    object\n",
      " 2   Location         100 non-null    object\n",
      " 3   Level            100 non-null    object\n",
      " 4   Job Type         100 non-null    object\n",
      " 5   Salary Range     100 non-null    object\n",
      " 6   Required Skills  100 non-null    object\n",
      " 7   Benefits         100 non-null    object\n",
      "dtypes: object(8)\n",
      "memory usage: 6.4+ KB\n"
     ]
    }
   ],
   "source": [
    "#Basic information\n",
    "\n",
    "df.info()"
   ]
  },
  {
   "cell_type": "markdown",
   "metadata": {},
   "source": [
    ".info() provides Key information related to the dataset. \n",
    "8 columns, number of enteries (100 rows), and data types (objects)"
   ]
  },
  {
   "cell_type": "markdown",
   "metadata": {},
   "source": [
    "### Cleaning the data"
   ]
  },
  {
   "cell_type": "code",
   "execution_count": 243,
   "metadata": {},
   "outputs": [
    {
     "data": {
      "text/plain": [
       "Job Title          0\n",
       "Company            0\n",
       "Location           0\n",
       "Level              0\n",
       "Job Type           0\n",
       "Salary Range       0\n",
       "Required Skills    0\n",
       "Benefits           0\n",
       "dtype: int64"
      ]
     },
     "execution_count": 243,
     "metadata": {},
     "output_type": "execute_result"
    }
   ],
   "source": [
    "## Check for null values\n",
    "\n",
    "df.isnull().sum()\n",
    "\n"
   ]
  },
  {
   "cell_type": "code",
   "execution_count": 244,
   "metadata": {},
   "outputs": [
    {
     "data": {
      "text/plain": [
       "100"
      ]
     },
     "execution_count": 244,
     "metadata": {},
     "output_type": "execute_result"
    }
   ],
   "source": [
    "len(df)"
   ]
  },
  {
   "cell_type": "markdown",
   "metadata": {},
   "source": [
    "### Univariate Analysis"
   ]
  },
  {
   "cell_type": "code",
   "execution_count": 245,
   "metadata": {},
   "outputs": [
    {
     "data": {
      "application/vnd.plotly.v1+json": {
       "config": {
        "plotlyServerURL": "https://plot.ly"
       },
       "data": [
        {
         "alignmentgroup": "True",
         "hovertemplate": "Count=%{marker.color}<br>title=%{y}<extra></extra>",
         "legendgroup": "",
         "marker": {
          "color": [
           11,
           8,
           3,
           2,
           2,
           1,
           1,
           1,
           1,
           1,
           1,
           1,
           1,
           1,
           1,
           1,
           1,
           1,
           1,
           1
          ],
          "coloraxis": "coloraxis",
          "pattern": {
           "shape": ""
          }
         },
         "name": "",
         "offsetgroup": "",
         "orientation": "h",
         "showlegend": false,
         "text": [
          11,
          8,
          3,
          2,
          2,
          1,
          1,
          1,
          1,
          1,
          1,
          1,
          1,
          1,
          1,
          1,
          1,
          1,
          1,
          1
         ],
         "textposition": "outside",
         "type": "bar",
         "x": [
          11,
          8,
          3,
          2,
          2,
          1,
          1,
          1,
          1,
          1,
          1,
          1,
          1,
          1,
          1,
          1,
          1,
          1,
          1,
          1
         ],
         "xaxis": "x",
         "y": [
          "Data Analyst",
          "Senior Data Analyst",
          "BI Analyst",
          "Senior Analyst, Data Analytics",
          "People Data Analyst",
          "HR Data Analyst",
          "Mid-Level Data Analyst (remote)",
          "Data Analyst, Federal Civilian (remote)",
          "Senior Data Analyst - Marketing, m/w/d",
          "Manager, GCP Quality, Analytics and Data Sciences",
          "Senior Manager, Data Analytics – Internal Audit",
          "Senior Security Analytics Engineer",
          "Risk and Payments Data Analyst",
          "Sr. Data Analyst (Onsite/Hybrid)",
          "Graduate - Data Science, Visa Consulting & Analytics, AUNZSP",
          "Automated Driving and Advanced Driver Assistance Data Analyst (Contract)",
          "Audit Analytics Centre of Excellence - Data Analyst",
          "Apprentice Associate Insight Analyst",
          "Technical Data Analyst, Peacock",
          "Data Analytics Coach"
         ],
         "yaxis": "y"
        }
       ],
       "layout": {
        "barmode": "relative",
        "coloraxis": {
         "colorbar": {
          "title": {
           "text": "Count"
          }
         },
         "colorscale": [
          [
           0,
           "#440154"
          ],
          [
           0.1111111111111111,
           "#482878"
          ],
          [
           0.2222222222222222,
           "#3e4989"
          ],
          [
           0.3333333333333333,
           "#31688e"
          ],
          [
           0.4444444444444444,
           "#26828e"
          ],
          [
           0.5555555555555556,
           "#1f9e89"
          ],
          [
           0.6666666666666666,
           "#35b779"
          ],
          [
           0.7777777777777778,
           "#6ece58"
          ],
          [
           0.8888888888888888,
           "#b5de2b"
          ],
          [
           1,
           "#fde725"
          ]
         ]
        },
        "legend": {
         "tracegroupgap": 0
        },
        "margin": {
         "t": 60
        },
        "template": {
         "data": {
          "bar": [
           {
            "error_x": {
             "color": "#2a3f5f"
            },
            "error_y": {
             "color": "#2a3f5f"
            },
            "marker": {
             "line": {
              "color": "#E5ECF6",
              "width": 0.5
             },
             "pattern": {
              "fillmode": "overlay",
              "size": 10,
              "solidity": 0.2
             }
            },
            "type": "bar"
           }
          ],
          "barpolar": [
           {
            "marker": {
             "line": {
              "color": "#E5ECF6",
              "width": 0.5
             },
             "pattern": {
              "fillmode": "overlay",
              "size": 10,
              "solidity": 0.2
             }
            },
            "type": "barpolar"
           }
          ],
          "carpet": [
           {
            "aaxis": {
             "endlinecolor": "#2a3f5f",
             "gridcolor": "white",
             "linecolor": "white",
             "minorgridcolor": "white",
             "startlinecolor": "#2a3f5f"
            },
            "baxis": {
             "endlinecolor": "#2a3f5f",
             "gridcolor": "white",
             "linecolor": "white",
             "minorgridcolor": "white",
             "startlinecolor": "#2a3f5f"
            },
            "type": "carpet"
           }
          ],
          "choropleth": [
           {
            "colorbar": {
             "outlinewidth": 0,
             "ticks": ""
            },
            "type": "choropleth"
           }
          ],
          "contour": [
           {
            "colorbar": {
             "outlinewidth": 0,
             "ticks": ""
            },
            "colorscale": [
             [
              0,
              "#0d0887"
             ],
             [
              0.1111111111111111,
              "#46039f"
             ],
             [
              0.2222222222222222,
              "#7201a8"
             ],
             [
              0.3333333333333333,
              "#9c179e"
             ],
             [
              0.4444444444444444,
              "#bd3786"
             ],
             [
              0.5555555555555556,
              "#d8576b"
             ],
             [
              0.6666666666666666,
              "#ed7953"
             ],
             [
              0.7777777777777778,
              "#fb9f3a"
             ],
             [
              0.8888888888888888,
              "#fdca26"
             ],
             [
              1,
              "#f0f921"
             ]
            ],
            "type": "contour"
           }
          ],
          "contourcarpet": [
           {
            "colorbar": {
             "outlinewidth": 0,
             "ticks": ""
            },
            "type": "contourcarpet"
           }
          ],
          "heatmap": [
           {
            "colorbar": {
             "outlinewidth": 0,
             "ticks": ""
            },
            "colorscale": [
             [
              0,
              "#0d0887"
             ],
             [
              0.1111111111111111,
              "#46039f"
             ],
             [
              0.2222222222222222,
              "#7201a8"
             ],
             [
              0.3333333333333333,
              "#9c179e"
             ],
             [
              0.4444444444444444,
              "#bd3786"
             ],
             [
              0.5555555555555556,
              "#d8576b"
             ],
             [
              0.6666666666666666,
              "#ed7953"
             ],
             [
              0.7777777777777778,
              "#fb9f3a"
             ],
             [
              0.8888888888888888,
              "#fdca26"
             ],
             [
              1,
              "#f0f921"
             ]
            ],
            "type": "heatmap"
           }
          ],
          "heatmapgl": [
           {
            "colorbar": {
             "outlinewidth": 0,
             "ticks": ""
            },
            "colorscale": [
             [
              0,
              "#0d0887"
             ],
             [
              0.1111111111111111,
              "#46039f"
             ],
             [
              0.2222222222222222,
              "#7201a8"
             ],
             [
              0.3333333333333333,
              "#9c179e"
             ],
             [
              0.4444444444444444,
              "#bd3786"
             ],
             [
              0.5555555555555556,
              "#d8576b"
             ],
             [
              0.6666666666666666,
              "#ed7953"
             ],
             [
              0.7777777777777778,
              "#fb9f3a"
             ],
             [
              0.8888888888888888,
              "#fdca26"
             ],
             [
              1,
              "#f0f921"
             ]
            ],
            "type": "heatmapgl"
           }
          ],
          "histogram": [
           {
            "marker": {
             "pattern": {
              "fillmode": "overlay",
              "size": 10,
              "solidity": 0.2
             }
            },
            "type": "histogram"
           }
          ],
          "histogram2d": [
           {
            "colorbar": {
             "outlinewidth": 0,
             "ticks": ""
            },
            "colorscale": [
             [
              0,
              "#0d0887"
             ],
             [
              0.1111111111111111,
              "#46039f"
             ],
             [
              0.2222222222222222,
              "#7201a8"
             ],
             [
              0.3333333333333333,
              "#9c179e"
             ],
             [
              0.4444444444444444,
              "#bd3786"
             ],
             [
              0.5555555555555556,
              "#d8576b"
             ],
             [
              0.6666666666666666,
              "#ed7953"
             ],
             [
              0.7777777777777778,
              "#fb9f3a"
             ],
             [
              0.8888888888888888,
              "#fdca26"
             ],
             [
              1,
              "#f0f921"
             ]
            ],
            "type": "histogram2d"
           }
          ],
          "histogram2dcontour": [
           {
            "colorbar": {
             "outlinewidth": 0,
             "ticks": ""
            },
            "colorscale": [
             [
              0,
              "#0d0887"
             ],
             [
              0.1111111111111111,
              "#46039f"
             ],
             [
              0.2222222222222222,
              "#7201a8"
             ],
             [
              0.3333333333333333,
              "#9c179e"
             ],
             [
              0.4444444444444444,
              "#bd3786"
             ],
             [
              0.5555555555555556,
              "#d8576b"
             ],
             [
              0.6666666666666666,
              "#ed7953"
             ],
             [
              0.7777777777777778,
              "#fb9f3a"
             ],
             [
              0.8888888888888888,
              "#fdca26"
             ],
             [
              1,
              "#f0f921"
             ]
            ],
            "type": "histogram2dcontour"
           }
          ],
          "mesh3d": [
           {
            "colorbar": {
             "outlinewidth": 0,
             "ticks": ""
            },
            "type": "mesh3d"
           }
          ],
          "parcoords": [
           {
            "line": {
             "colorbar": {
              "outlinewidth": 0,
              "ticks": ""
             }
            },
            "type": "parcoords"
           }
          ],
          "pie": [
           {
            "automargin": true,
            "type": "pie"
           }
          ],
          "scatter": [
           {
            "fillpattern": {
             "fillmode": "overlay",
             "size": 10,
             "solidity": 0.2
            },
            "type": "scatter"
           }
          ],
          "scatter3d": [
           {
            "line": {
             "colorbar": {
              "outlinewidth": 0,
              "ticks": ""
             }
            },
            "marker": {
             "colorbar": {
              "outlinewidth": 0,
              "ticks": ""
             }
            },
            "type": "scatter3d"
           }
          ],
          "scattercarpet": [
           {
            "marker": {
             "colorbar": {
              "outlinewidth": 0,
              "ticks": ""
             }
            },
            "type": "scattercarpet"
           }
          ],
          "scattergeo": [
           {
            "marker": {
             "colorbar": {
              "outlinewidth": 0,
              "ticks": ""
             }
            },
            "type": "scattergeo"
           }
          ],
          "scattergl": [
           {
            "marker": {
             "colorbar": {
              "outlinewidth": 0,
              "ticks": ""
             }
            },
            "type": "scattergl"
           }
          ],
          "scattermapbox": [
           {
            "marker": {
             "colorbar": {
              "outlinewidth": 0,
              "ticks": ""
             }
            },
            "type": "scattermapbox"
           }
          ],
          "scatterpolar": [
           {
            "marker": {
             "colorbar": {
              "outlinewidth": 0,
              "ticks": ""
             }
            },
            "type": "scatterpolar"
           }
          ],
          "scatterpolargl": [
           {
            "marker": {
             "colorbar": {
              "outlinewidth": 0,
              "ticks": ""
             }
            },
            "type": "scatterpolargl"
           }
          ],
          "scatterternary": [
           {
            "marker": {
             "colorbar": {
              "outlinewidth": 0,
              "ticks": ""
             }
            },
            "type": "scatterternary"
           }
          ],
          "surface": [
           {
            "colorbar": {
             "outlinewidth": 0,
             "ticks": ""
            },
            "colorscale": [
             [
              0,
              "#0d0887"
             ],
             [
              0.1111111111111111,
              "#46039f"
             ],
             [
              0.2222222222222222,
              "#7201a8"
             ],
             [
              0.3333333333333333,
              "#9c179e"
             ],
             [
              0.4444444444444444,
              "#bd3786"
             ],
             [
              0.5555555555555556,
              "#d8576b"
             ],
             [
              0.6666666666666666,
              "#ed7953"
             ],
             [
              0.7777777777777778,
              "#fb9f3a"
             ],
             [
              0.8888888888888888,
              "#fdca26"
             ],
             [
              1,
              "#f0f921"
             ]
            ],
            "type": "surface"
           }
          ],
          "table": [
           {
            "cells": {
             "fill": {
              "color": "#EBF0F8"
             },
             "line": {
              "color": "white"
             }
            },
            "header": {
             "fill": {
              "color": "#C8D4E3"
             },
             "line": {
              "color": "white"
             }
            },
            "type": "table"
           }
          ]
         },
         "layout": {
          "annotationdefaults": {
           "arrowcolor": "#2a3f5f",
           "arrowhead": 0,
           "arrowwidth": 1
          },
          "autotypenumbers": "strict",
          "coloraxis": {
           "colorbar": {
            "outlinewidth": 0,
            "ticks": ""
           }
          },
          "colorscale": {
           "diverging": [
            [
             0,
             "#8e0152"
            ],
            [
             0.1,
             "#c51b7d"
            ],
            [
             0.2,
             "#de77ae"
            ],
            [
             0.3,
             "#f1b6da"
            ],
            [
             0.4,
             "#fde0ef"
            ],
            [
             0.5,
             "#f7f7f7"
            ],
            [
             0.6,
             "#e6f5d0"
            ],
            [
             0.7,
             "#b8e186"
            ],
            [
             0.8,
             "#7fbc41"
            ],
            [
             0.9,
             "#4d9221"
            ],
            [
             1,
             "#276419"
            ]
           ],
           "sequential": [
            [
             0,
             "#0d0887"
            ],
            [
             0.1111111111111111,
             "#46039f"
            ],
            [
             0.2222222222222222,
             "#7201a8"
            ],
            [
             0.3333333333333333,
             "#9c179e"
            ],
            [
             0.4444444444444444,
             "#bd3786"
            ],
            [
             0.5555555555555556,
             "#d8576b"
            ],
            [
             0.6666666666666666,
             "#ed7953"
            ],
            [
             0.7777777777777778,
             "#fb9f3a"
            ],
            [
             0.8888888888888888,
             "#fdca26"
            ],
            [
             1,
             "#f0f921"
            ]
           ],
           "sequentialminus": [
            [
             0,
             "#0d0887"
            ],
            [
             0.1111111111111111,
             "#46039f"
            ],
            [
             0.2222222222222222,
             "#7201a8"
            ],
            [
             0.3333333333333333,
             "#9c179e"
            ],
            [
             0.4444444444444444,
             "#bd3786"
            ],
            [
             0.5555555555555556,
             "#d8576b"
            ],
            [
             0.6666666666666666,
             "#ed7953"
            ],
            [
             0.7777777777777778,
             "#fb9f3a"
            ],
            [
             0.8888888888888888,
             "#fdca26"
            ],
            [
             1,
             "#f0f921"
            ]
           ]
          },
          "colorway": [
           "#636efa",
           "#EF553B",
           "#00cc96",
           "#ab63fa",
           "#FFA15A",
           "#19d3f3",
           "#FF6692",
           "#B6E880",
           "#FF97FF",
           "#FECB52"
          ],
          "font": {
           "color": "#2a3f5f"
          },
          "geo": {
           "bgcolor": "white",
           "lakecolor": "white",
           "landcolor": "#E5ECF6",
           "showlakes": true,
           "showland": true,
           "subunitcolor": "white"
          },
          "hoverlabel": {
           "align": "left"
          },
          "hovermode": "closest",
          "mapbox": {
           "style": "light"
          },
          "paper_bgcolor": "white",
          "plot_bgcolor": "#E5ECF6",
          "polar": {
           "angularaxis": {
            "gridcolor": "white",
            "linecolor": "white",
            "ticks": ""
           },
           "bgcolor": "#E5ECF6",
           "radialaxis": {
            "gridcolor": "white",
            "linecolor": "white",
            "ticks": ""
           }
          },
          "scene": {
           "xaxis": {
            "backgroundcolor": "#E5ECF6",
            "gridcolor": "white",
            "gridwidth": 2,
            "linecolor": "white",
            "showbackground": true,
            "ticks": "",
            "zerolinecolor": "white"
           },
           "yaxis": {
            "backgroundcolor": "#E5ECF6",
            "gridcolor": "white",
            "gridwidth": 2,
            "linecolor": "white",
            "showbackground": true,
            "ticks": "",
            "zerolinecolor": "white"
           },
           "zaxis": {
            "backgroundcolor": "#E5ECF6",
            "gridcolor": "white",
            "gridwidth": 2,
            "linecolor": "white",
            "showbackground": true,
            "ticks": "",
            "zerolinecolor": "white"
           }
          },
          "shapedefaults": {
           "line": {
            "color": "#2a3f5f"
           }
          },
          "ternary": {
           "aaxis": {
            "gridcolor": "white",
            "linecolor": "white",
            "ticks": ""
           },
           "baxis": {
            "gridcolor": "white",
            "linecolor": "white",
            "ticks": ""
           },
           "bgcolor": "#E5ECF6",
           "caxis": {
            "gridcolor": "white",
            "linecolor": "white",
            "ticks": ""
           }
          },
          "title": {
           "x": 0.05
          },
          "xaxis": {
           "automargin": true,
           "gridcolor": "white",
           "linecolor": "white",
           "ticks": "",
           "title": {
            "standoff": 15
           },
           "zerolinecolor": "white",
           "zerolinewidth": 2
          },
          "yaxis": {
           "automargin": true,
           "gridcolor": "white",
           "linecolor": "white",
           "ticks": "",
           "title": {
            "standoff": 15
           },
           "zerolinecolor": "white",
           "zerolinewidth": 2
          }
         }
        },
        "title": {
         "font": {
          "color": "green",
          "family": "Titillium Web",
          "size": 25
         },
         "text": "<b>Top 20 Analytics Jobs</b>",
         "x": 0.6,
         "xanchor": "center",
         "y": 0.95,
         "yanchor": "top"
        },
        "xaxis": {
         "anchor": "y",
         "color": "teal",
         "domain": [
          0,
          1
         ],
         "linecolor": "gray",
         "linewidth": 3,
         "mirror": true,
         "showgrid": false,
         "tickmode": "auto",
         "title": {
          "font": {
           "color": "maroon",
           "family": "Open Sans",
           "size": 20
          },
          "standoff": 15,
          "text": "Jobs"
         }
        },
        "yaxis": {
         "anchor": "x",
         "categoryorder": "total ascending",
         "color": "Teal",
         "domain": [
          0,
          1
         ],
         "linecolor": "gray",
         "linewidth": 3,
         "mirror": true,
         "nticks": 20,
         "showgrid": false,
         "tickfont": {
          "family": "Arial"
         },
         "title": {
          "font": {
           "color": "maroon",
           "family": "Droid Sans",
           "size": 20
          },
          "standoff": 15,
          "text": "Title"
         }
        }
       }
      },
      "text/html": [
       "<div>                            <div id=\"24d0ac2a-1132-4795-bfc0-d7b1a6d4ed0d\" class=\"plotly-graph-div\" style=\"height:525px; width:100%;\"></div>            <script type=\"text/javascript\">                require([\"plotly\"], function(Plotly) {                    window.PLOTLYENV=window.PLOTLYENV || {};                                    if (document.getElementById(\"24d0ac2a-1132-4795-bfc0-d7b1a6d4ed0d\")) {                    Plotly.newPlot(                        \"24d0ac2a-1132-4795-bfc0-d7b1a6d4ed0d\",                        [{\"alignmentgroup\":\"True\",\"hovertemplate\":\"Count=%{marker.color}<br>title=%{y}<extra></extra>\",\"legendgroup\":\"\",\"marker\":{\"color\":[11,8,3,2,2,1,1,1,1,1,1,1,1,1,1,1,1,1,1,1],\"coloraxis\":\"coloraxis\",\"pattern\":{\"shape\":\"\"}},\"name\":\"\",\"offsetgroup\":\"\",\"orientation\":\"h\",\"showlegend\":false,\"text\":[11.0,8.0,3.0,2.0,2.0,1.0,1.0,1.0,1.0,1.0,1.0,1.0,1.0,1.0,1.0,1.0,1.0,1.0,1.0,1.0],\"textposition\":\"outside\",\"x\":[11,8,3,2,2,1,1,1,1,1,1,1,1,1,1,1,1,1,1,1],\"xaxis\":\"x\",\"y\":[\"Data Analyst\",\"Senior Data Analyst\",\"BI Analyst\",\"Senior Analyst, Data Analytics\",\"People Data Analyst\",\"HR Data Analyst\",\"Mid-Level Data Analyst (remote)\",\"Data Analyst, Federal Civilian (remote)\",\"Senior Data Analyst - Marketing, m/w/d\",\"Manager, GCP Quality, Analytics and Data Sciences\",\"Senior Manager, Data Analytics \\u2013 Internal Audit\",\"Senior Security Analytics Engineer\",\"Risk and Payments Data Analyst\",\"Sr. Data Analyst (Onsite/Hybrid)\",\"Graduate - Data Science, Visa Consulting & Analytics, AUNZSP\",\"Automated Driving and Advanced Driver Assistance Data Analyst (Contract)\",\"Audit Analytics Centre of Excellence - Data Analyst\",\"Apprentice Associate Insight Analyst\",\"Technical Data Analyst, Peacock\",\"Data Analytics Coach\"],\"yaxis\":\"y\",\"type\":\"bar\"}],                        {\"template\":{\"data\":{\"histogram2dcontour\":[{\"type\":\"histogram2dcontour\",\"colorbar\":{\"outlinewidth\":0,\"ticks\":\"\"},\"colorscale\":[[0.0,\"#0d0887\"],[0.1111111111111111,\"#46039f\"],[0.2222222222222222,\"#7201a8\"],[0.3333333333333333,\"#9c179e\"],[0.4444444444444444,\"#bd3786\"],[0.5555555555555556,\"#d8576b\"],[0.6666666666666666,\"#ed7953\"],[0.7777777777777778,\"#fb9f3a\"],[0.8888888888888888,\"#fdca26\"],[1.0,\"#f0f921\"]]}],\"choropleth\":[{\"type\":\"choropleth\",\"colorbar\":{\"outlinewidth\":0,\"ticks\":\"\"}}],\"histogram2d\":[{\"type\":\"histogram2d\",\"colorbar\":{\"outlinewidth\":0,\"ticks\":\"\"},\"colorscale\":[[0.0,\"#0d0887\"],[0.1111111111111111,\"#46039f\"],[0.2222222222222222,\"#7201a8\"],[0.3333333333333333,\"#9c179e\"],[0.4444444444444444,\"#bd3786\"],[0.5555555555555556,\"#d8576b\"],[0.6666666666666666,\"#ed7953\"],[0.7777777777777778,\"#fb9f3a\"],[0.8888888888888888,\"#fdca26\"],[1.0,\"#f0f921\"]]}],\"heatmap\":[{\"type\":\"heatmap\",\"colorbar\":{\"outlinewidth\":0,\"ticks\":\"\"},\"colorscale\":[[0.0,\"#0d0887\"],[0.1111111111111111,\"#46039f\"],[0.2222222222222222,\"#7201a8\"],[0.3333333333333333,\"#9c179e\"],[0.4444444444444444,\"#bd3786\"],[0.5555555555555556,\"#d8576b\"],[0.6666666666666666,\"#ed7953\"],[0.7777777777777778,\"#fb9f3a\"],[0.8888888888888888,\"#fdca26\"],[1.0,\"#f0f921\"]]}],\"heatmapgl\":[{\"type\":\"heatmapgl\",\"colorbar\":{\"outlinewidth\":0,\"ticks\":\"\"},\"colorscale\":[[0.0,\"#0d0887\"],[0.1111111111111111,\"#46039f\"],[0.2222222222222222,\"#7201a8\"],[0.3333333333333333,\"#9c179e\"],[0.4444444444444444,\"#bd3786\"],[0.5555555555555556,\"#d8576b\"],[0.6666666666666666,\"#ed7953\"],[0.7777777777777778,\"#fb9f3a\"],[0.8888888888888888,\"#fdca26\"],[1.0,\"#f0f921\"]]}],\"contourcarpet\":[{\"type\":\"contourcarpet\",\"colorbar\":{\"outlinewidth\":0,\"ticks\":\"\"}}],\"contour\":[{\"type\":\"contour\",\"colorbar\":{\"outlinewidth\":0,\"ticks\":\"\"},\"colorscale\":[[0.0,\"#0d0887\"],[0.1111111111111111,\"#46039f\"],[0.2222222222222222,\"#7201a8\"],[0.3333333333333333,\"#9c179e\"],[0.4444444444444444,\"#bd3786\"],[0.5555555555555556,\"#d8576b\"],[0.6666666666666666,\"#ed7953\"],[0.7777777777777778,\"#fb9f3a\"],[0.8888888888888888,\"#fdca26\"],[1.0,\"#f0f921\"]]}],\"surface\":[{\"type\":\"surface\",\"colorbar\":{\"outlinewidth\":0,\"ticks\":\"\"},\"colorscale\":[[0.0,\"#0d0887\"],[0.1111111111111111,\"#46039f\"],[0.2222222222222222,\"#7201a8\"],[0.3333333333333333,\"#9c179e\"],[0.4444444444444444,\"#bd3786\"],[0.5555555555555556,\"#d8576b\"],[0.6666666666666666,\"#ed7953\"],[0.7777777777777778,\"#fb9f3a\"],[0.8888888888888888,\"#fdca26\"],[1.0,\"#f0f921\"]]}],\"mesh3d\":[{\"type\":\"mesh3d\",\"colorbar\":{\"outlinewidth\":0,\"ticks\":\"\"}}],\"scatter\":[{\"fillpattern\":{\"fillmode\":\"overlay\",\"size\":10,\"solidity\":0.2},\"type\":\"scatter\"}],\"parcoords\":[{\"type\":\"parcoords\",\"line\":{\"colorbar\":{\"outlinewidth\":0,\"ticks\":\"\"}}}],\"scatterpolargl\":[{\"type\":\"scatterpolargl\",\"marker\":{\"colorbar\":{\"outlinewidth\":0,\"ticks\":\"\"}}}],\"bar\":[{\"error_x\":{\"color\":\"#2a3f5f\"},\"error_y\":{\"color\":\"#2a3f5f\"},\"marker\":{\"line\":{\"color\":\"#E5ECF6\",\"width\":0.5},\"pattern\":{\"fillmode\":\"overlay\",\"size\":10,\"solidity\":0.2}},\"type\":\"bar\"}],\"scattergeo\":[{\"type\":\"scattergeo\",\"marker\":{\"colorbar\":{\"outlinewidth\":0,\"ticks\":\"\"}}}],\"scatterpolar\":[{\"type\":\"scatterpolar\",\"marker\":{\"colorbar\":{\"outlinewidth\":0,\"ticks\":\"\"}}}],\"histogram\":[{\"marker\":{\"pattern\":{\"fillmode\":\"overlay\",\"size\":10,\"solidity\":0.2}},\"type\":\"histogram\"}],\"scattergl\":[{\"type\":\"scattergl\",\"marker\":{\"colorbar\":{\"outlinewidth\":0,\"ticks\":\"\"}}}],\"scatter3d\":[{\"type\":\"scatter3d\",\"line\":{\"colorbar\":{\"outlinewidth\":0,\"ticks\":\"\"}},\"marker\":{\"colorbar\":{\"outlinewidth\":0,\"ticks\":\"\"}}}],\"scattermapbox\":[{\"type\":\"scattermapbox\",\"marker\":{\"colorbar\":{\"outlinewidth\":0,\"ticks\":\"\"}}}],\"scatterternary\":[{\"type\":\"scatterternary\",\"marker\":{\"colorbar\":{\"outlinewidth\":0,\"ticks\":\"\"}}}],\"scattercarpet\":[{\"type\":\"scattercarpet\",\"marker\":{\"colorbar\":{\"outlinewidth\":0,\"ticks\":\"\"}}}],\"carpet\":[{\"aaxis\":{\"endlinecolor\":\"#2a3f5f\",\"gridcolor\":\"white\",\"linecolor\":\"white\",\"minorgridcolor\":\"white\",\"startlinecolor\":\"#2a3f5f\"},\"baxis\":{\"endlinecolor\":\"#2a3f5f\",\"gridcolor\":\"white\",\"linecolor\":\"white\",\"minorgridcolor\":\"white\",\"startlinecolor\":\"#2a3f5f\"},\"type\":\"carpet\"}],\"table\":[{\"cells\":{\"fill\":{\"color\":\"#EBF0F8\"},\"line\":{\"color\":\"white\"}},\"header\":{\"fill\":{\"color\":\"#C8D4E3\"},\"line\":{\"color\":\"white\"}},\"type\":\"table\"}],\"barpolar\":[{\"marker\":{\"line\":{\"color\":\"#E5ECF6\",\"width\":0.5},\"pattern\":{\"fillmode\":\"overlay\",\"size\":10,\"solidity\":0.2}},\"type\":\"barpolar\"}],\"pie\":[{\"automargin\":true,\"type\":\"pie\"}]},\"layout\":{\"autotypenumbers\":\"strict\",\"colorway\":[\"#636efa\",\"#EF553B\",\"#00cc96\",\"#ab63fa\",\"#FFA15A\",\"#19d3f3\",\"#FF6692\",\"#B6E880\",\"#FF97FF\",\"#FECB52\"],\"font\":{\"color\":\"#2a3f5f\"},\"hovermode\":\"closest\",\"hoverlabel\":{\"align\":\"left\"},\"paper_bgcolor\":\"white\",\"plot_bgcolor\":\"#E5ECF6\",\"polar\":{\"bgcolor\":\"#E5ECF6\",\"angularaxis\":{\"gridcolor\":\"white\",\"linecolor\":\"white\",\"ticks\":\"\"},\"radialaxis\":{\"gridcolor\":\"white\",\"linecolor\":\"white\",\"ticks\":\"\"}},\"ternary\":{\"bgcolor\":\"#E5ECF6\",\"aaxis\":{\"gridcolor\":\"white\",\"linecolor\":\"white\",\"ticks\":\"\"},\"baxis\":{\"gridcolor\":\"white\",\"linecolor\":\"white\",\"ticks\":\"\"},\"caxis\":{\"gridcolor\":\"white\",\"linecolor\":\"white\",\"ticks\":\"\"}},\"coloraxis\":{\"colorbar\":{\"outlinewidth\":0,\"ticks\":\"\"}},\"colorscale\":{\"sequential\":[[0.0,\"#0d0887\"],[0.1111111111111111,\"#46039f\"],[0.2222222222222222,\"#7201a8\"],[0.3333333333333333,\"#9c179e\"],[0.4444444444444444,\"#bd3786\"],[0.5555555555555556,\"#d8576b\"],[0.6666666666666666,\"#ed7953\"],[0.7777777777777778,\"#fb9f3a\"],[0.8888888888888888,\"#fdca26\"],[1.0,\"#f0f921\"]],\"sequentialminus\":[[0.0,\"#0d0887\"],[0.1111111111111111,\"#46039f\"],[0.2222222222222222,\"#7201a8\"],[0.3333333333333333,\"#9c179e\"],[0.4444444444444444,\"#bd3786\"],[0.5555555555555556,\"#d8576b\"],[0.6666666666666666,\"#ed7953\"],[0.7777777777777778,\"#fb9f3a\"],[0.8888888888888888,\"#fdca26\"],[1.0,\"#f0f921\"]],\"diverging\":[[0,\"#8e0152\"],[0.1,\"#c51b7d\"],[0.2,\"#de77ae\"],[0.3,\"#f1b6da\"],[0.4,\"#fde0ef\"],[0.5,\"#f7f7f7\"],[0.6,\"#e6f5d0\"],[0.7,\"#b8e186\"],[0.8,\"#7fbc41\"],[0.9,\"#4d9221\"],[1,\"#276419\"]]},\"xaxis\":{\"gridcolor\":\"white\",\"linecolor\":\"white\",\"ticks\":\"\",\"title\":{\"standoff\":15},\"zerolinecolor\":\"white\",\"automargin\":true,\"zerolinewidth\":2},\"yaxis\":{\"gridcolor\":\"white\",\"linecolor\":\"white\",\"ticks\":\"\",\"title\":{\"standoff\":15},\"zerolinecolor\":\"white\",\"automargin\":true,\"zerolinewidth\":2},\"scene\":{\"xaxis\":{\"backgroundcolor\":\"#E5ECF6\",\"gridcolor\":\"white\",\"linecolor\":\"white\",\"showbackground\":true,\"ticks\":\"\",\"zerolinecolor\":\"white\",\"gridwidth\":2},\"yaxis\":{\"backgroundcolor\":\"#E5ECF6\",\"gridcolor\":\"white\",\"linecolor\":\"white\",\"showbackground\":true,\"ticks\":\"\",\"zerolinecolor\":\"white\",\"gridwidth\":2},\"zaxis\":{\"backgroundcolor\":\"#E5ECF6\",\"gridcolor\":\"white\",\"linecolor\":\"white\",\"showbackground\":true,\"ticks\":\"\",\"zerolinecolor\":\"white\",\"gridwidth\":2}},\"shapedefaults\":{\"line\":{\"color\":\"#2a3f5f\"}},\"annotationdefaults\":{\"arrowcolor\":\"#2a3f5f\",\"arrowhead\":0,\"arrowwidth\":1},\"geo\":{\"bgcolor\":\"white\",\"landcolor\":\"#E5ECF6\",\"subunitcolor\":\"white\",\"showland\":true,\"showlakes\":true,\"lakecolor\":\"white\"},\"title\":{\"x\":0.05},\"mapbox\":{\"style\":\"light\"}}},\"xaxis\":{\"anchor\":\"y\",\"domain\":[0.0,1.0],\"title\":{\"text\":\"Jobs\",\"font\":{\"family\":\"Open Sans\",\"size\":20,\"color\":\"maroon\"},\"standoff\":15},\"color\":\"teal\",\"showgrid\":false,\"tickmode\":\"auto\",\"linecolor\":\"gray\",\"linewidth\":3,\"mirror\":true},\"yaxis\":{\"anchor\":\"x\",\"domain\":[0.0,1.0],\"title\":{\"text\":\"Title\",\"font\":{\"family\":\"Droid Sans\",\"size\":20,\"color\":\"maroon\"},\"standoff\":15},\"categoryorder\":\"total ascending\",\"tickfont\":{\"family\":\"Arial\"},\"color\":\"Teal\",\"nticks\":20,\"showgrid\":false,\"linecolor\":\"gray\",\"linewidth\":3,\"mirror\":true},\"coloraxis\":{\"colorbar\":{\"title\":{\"text\":\"Count\"}},\"colorscale\":[[0.0,\"#440154\"],[0.1111111111111111,\"#482878\"],[0.2222222222222222,\"#3e4989\"],[0.3333333333333333,\"#31688e\"],[0.4444444444444444,\"#26828e\"],[0.5555555555555556,\"#1f9e89\"],[0.6666666666666666,\"#35b779\"],[0.7777777777777778,\"#6ece58\"],[0.8888888888888888,\"#b5de2b\"],[1.0,\"#fde725\"]]},\"legend\":{\"tracegroupgap\":0},\"margin\":{\"t\":60},\"barmode\":\"relative\",\"title\":{\"font\":{\"size\":25,\"color\":\"green\",\"family\":\"Titillium Web\"},\"text\":\"<b>Top 20 Analytics Jobs</b>\",\"x\":0.6,\"y\":0.95,\"xanchor\":\"center\",\"yanchor\":\"top\"}},                        {\"responsive\": true}                    ).then(function(){\n",
       "                            \n",
       "var gd = document.getElementById('24d0ac2a-1132-4795-bfc0-d7b1a6d4ed0d');\n",
       "var x = new MutationObserver(function (mutations, observer) {{\n",
       "        var display = window.getComputedStyle(gd).display;\n",
       "        if (!display || display === 'none') {{\n",
       "            console.log([gd, 'removed!']);\n",
       "            Plotly.purge(gd);\n",
       "            observer.disconnect();\n",
       "        }}\n",
       "}});\n",
       "\n",
       "// Listen for the removal of the full notebook cells\n",
       "var notebookContainer = gd.closest('#notebook-container');\n",
       "if (notebookContainer) {{\n",
       "    x.observe(notebookContainer, {childList: true});\n",
       "}}\n",
       "\n",
       "// Listen for the clearing of the current output cell\n",
       "var outputEl = gd.closest('.output');\n",
       "if (outputEl) {{\n",
       "    x.observe(outputEl, {childList: true});\n",
       "}}\n",
       "\n",
       "                        })                };                });            </script>        </div>"
      ]
     },
     "metadata": {},
     "output_type": "display_data"
    }
   ],
   "source": [
    "## Top 20 Analytics Jobs\n",
    "\n",
    "titles = df['Job Title'].value_counts()\n",
    "titles = dict(titles)\n",
    "list1 = titles.keys()\n",
    "list2 = titles.values()\n",
    "titles_df = pd.DataFrame(list(zip(list1,list2)), columns=['title','count'])\n",
    "fig = px.bar(titles_df[0:20],y='title', x='count', text='count',orientation='h',\n",
    "            labels={'count':'Count'}, color='count', color_continuous_scale = 'Viridis') \n",
    "fig.update_traces(textposition='outside')\n",
    "fig.update_layout(title_text=\"<b>Top 20 Analytics Jobs</b>\",\n",
    "                 title_font_size=25,\n",
    "                 title_font_color='green',\n",
    "                 title_font_family='Titillium Web',\n",
    "                 title_x=0.6,\n",
    "                 title_y=0.95,\n",
    "                 title_xanchor='center',\n",
    "                 title_yanchor='top',\n",
    "                 yaxis={'categoryorder':'total ascending'}\n",
    "                 )\n",
    "fig.update_xaxes(\n",
    "        color='teal',\n",
    "        title_text='Jobs',\n",
    "        title_font_family='Open Sans',\n",
    "        title_font_size=20,\n",
    "        title_font_color='maroon',\n",
    "        title_standoff = 15,\n",
    "        showgrid=False,\n",
    "        tickmode='auto',\n",
    "        linecolor='gray',\n",
    "        linewidth=3,\n",
    "        mirror=True)\n",
    "fig.update_yaxes(\n",
    "        color='Teal',\n",
    "        title_text='Title',\n",
    "        title_font_family='Droid Sans',\n",
    "        title_font_size=20,\n",
    "        title_font_color='maroon',\n",
    "        title_standoff = 15,\n",
    "        tickfont_family='Arial',\n",
    "        nticks = 20,\n",
    "        showgrid=False,\n",
    "        linecolor='gray',\n",
    "        linewidth=3,\n",
    "        mirror = True)"
   ]
  },
  {
   "cell_type": "code",
   "execution_count": 246,
   "metadata": {},
   "outputs": [
    {
     "data": {
      "application/vnd.plotly.v1+json": {
       "config": {
        "plotlyServerURL": "https://plot.ly"
       },
       "data": [
        {
         "alignmentgroup": "True",
         "hovertemplate": "Count=%{marker.color}<br>company=%{y}<extra></extra>",
         "legendgroup": "",
         "marker": {
          "color": [
           4,
           4,
           3,
           3,
           3,
           3,
           3,
           2,
           2,
           2,
           2,
           2,
           2,
           1,
           1,
           1,
           1,
           1,
           1,
           1
          ],
          "coloraxis": "coloraxis",
          "pattern": {
           "shape": ""
          }
         },
         "name": "",
         "offsetgroup": "",
         "orientation": "h",
         "showlegend": false,
         "text": [
          4,
          4,
          3,
          3,
          3,
          3,
          3,
          2,
          2,
          2,
          2,
          2,
          2,
          1,
          1,
          1,
          1,
          1,
          1,
          1
         ],
         "textposition": "outside",
         "type": "bar",
         "x": [
          4,
          4,
          3,
          3,
          3,
          3,
          3,
          2,
          2,
          2,
          2,
          2,
          2,
          1,
          1,
          1,
          1,
          1,
          1,
          1
         ],
         "xaxis": "x",
         "y": [
          "Bosch Group",
          "Visa",
          "CI&T",
          "Experian",
          "Zscaler",
          "Publicis Groupe",
          "NielsenIQ",
          "Deezer",
          "Netcentric",
          "Eurowag",
          "Biogen",
          "Boskalis",
          "Lakeshore Learning Materials, LLC",
          "3Cloud",
          "Sutherland",
          "Margera",
          "Rockstar Games",
          "McDonald's Corporation",
          "Metiora",
          "Ginkgo Bioworks"
         ],
         "yaxis": "y"
        }
       ],
       "layout": {
        "barmode": "relative",
        "coloraxis": {
         "colorbar": {
          "title": {
           "text": "Count"
          }
         },
         "colorscale": [
          [
           0,
           "#440154"
          ],
          [
           0.1111111111111111,
           "#482878"
          ],
          [
           0.2222222222222222,
           "#3e4989"
          ],
          [
           0.3333333333333333,
           "#31688e"
          ],
          [
           0.4444444444444444,
           "#26828e"
          ],
          [
           0.5555555555555556,
           "#1f9e89"
          ],
          [
           0.6666666666666666,
           "#35b779"
          ],
          [
           0.7777777777777778,
           "#6ece58"
          ],
          [
           0.8888888888888888,
           "#b5de2b"
          ],
          [
           1,
           "#fde725"
          ]
         ]
        },
        "legend": {
         "tracegroupgap": 0
        },
        "margin": {
         "t": 60
        },
        "template": {
         "data": {
          "bar": [
           {
            "error_x": {
             "color": "#2a3f5f"
            },
            "error_y": {
             "color": "#2a3f5f"
            },
            "marker": {
             "line": {
              "color": "#E5ECF6",
              "width": 0.5
             },
             "pattern": {
              "fillmode": "overlay",
              "size": 10,
              "solidity": 0.2
             }
            },
            "type": "bar"
           }
          ],
          "barpolar": [
           {
            "marker": {
             "line": {
              "color": "#E5ECF6",
              "width": 0.5
             },
             "pattern": {
              "fillmode": "overlay",
              "size": 10,
              "solidity": 0.2
             }
            },
            "type": "barpolar"
           }
          ],
          "carpet": [
           {
            "aaxis": {
             "endlinecolor": "#2a3f5f",
             "gridcolor": "white",
             "linecolor": "white",
             "minorgridcolor": "white",
             "startlinecolor": "#2a3f5f"
            },
            "baxis": {
             "endlinecolor": "#2a3f5f",
             "gridcolor": "white",
             "linecolor": "white",
             "minorgridcolor": "white",
             "startlinecolor": "#2a3f5f"
            },
            "type": "carpet"
           }
          ],
          "choropleth": [
           {
            "colorbar": {
             "outlinewidth": 0,
             "ticks": ""
            },
            "type": "choropleth"
           }
          ],
          "contour": [
           {
            "colorbar": {
             "outlinewidth": 0,
             "ticks": ""
            },
            "colorscale": [
             [
              0,
              "#0d0887"
             ],
             [
              0.1111111111111111,
              "#46039f"
             ],
             [
              0.2222222222222222,
              "#7201a8"
             ],
             [
              0.3333333333333333,
              "#9c179e"
             ],
             [
              0.4444444444444444,
              "#bd3786"
             ],
             [
              0.5555555555555556,
              "#d8576b"
             ],
             [
              0.6666666666666666,
              "#ed7953"
             ],
             [
              0.7777777777777778,
              "#fb9f3a"
             ],
             [
              0.8888888888888888,
              "#fdca26"
             ],
             [
              1,
              "#f0f921"
             ]
            ],
            "type": "contour"
           }
          ],
          "contourcarpet": [
           {
            "colorbar": {
             "outlinewidth": 0,
             "ticks": ""
            },
            "type": "contourcarpet"
           }
          ],
          "heatmap": [
           {
            "colorbar": {
             "outlinewidth": 0,
             "ticks": ""
            },
            "colorscale": [
             [
              0,
              "#0d0887"
             ],
             [
              0.1111111111111111,
              "#46039f"
             ],
             [
              0.2222222222222222,
              "#7201a8"
             ],
             [
              0.3333333333333333,
              "#9c179e"
             ],
             [
              0.4444444444444444,
              "#bd3786"
             ],
             [
              0.5555555555555556,
              "#d8576b"
             ],
             [
              0.6666666666666666,
              "#ed7953"
             ],
             [
              0.7777777777777778,
              "#fb9f3a"
             ],
             [
              0.8888888888888888,
              "#fdca26"
             ],
             [
              1,
              "#f0f921"
             ]
            ],
            "type": "heatmap"
           }
          ],
          "heatmapgl": [
           {
            "colorbar": {
             "outlinewidth": 0,
             "ticks": ""
            },
            "colorscale": [
             [
              0,
              "#0d0887"
             ],
             [
              0.1111111111111111,
              "#46039f"
             ],
             [
              0.2222222222222222,
              "#7201a8"
             ],
             [
              0.3333333333333333,
              "#9c179e"
             ],
             [
              0.4444444444444444,
              "#bd3786"
             ],
             [
              0.5555555555555556,
              "#d8576b"
             ],
             [
              0.6666666666666666,
              "#ed7953"
             ],
             [
              0.7777777777777778,
              "#fb9f3a"
             ],
             [
              0.8888888888888888,
              "#fdca26"
             ],
             [
              1,
              "#f0f921"
             ]
            ],
            "type": "heatmapgl"
           }
          ],
          "histogram": [
           {
            "marker": {
             "pattern": {
              "fillmode": "overlay",
              "size": 10,
              "solidity": 0.2
             }
            },
            "type": "histogram"
           }
          ],
          "histogram2d": [
           {
            "colorbar": {
             "outlinewidth": 0,
             "ticks": ""
            },
            "colorscale": [
             [
              0,
              "#0d0887"
             ],
             [
              0.1111111111111111,
              "#46039f"
             ],
             [
              0.2222222222222222,
              "#7201a8"
             ],
             [
              0.3333333333333333,
              "#9c179e"
             ],
             [
              0.4444444444444444,
              "#bd3786"
             ],
             [
              0.5555555555555556,
              "#d8576b"
             ],
             [
              0.6666666666666666,
              "#ed7953"
             ],
             [
              0.7777777777777778,
              "#fb9f3a"
             ],
             [
              0.8888888888888888,
              "#fdca26"
             ],
             [
              1,
              "#f0f921"
             ]
            ],
            "type": "histogram2d"
           }
          ],
          "histogram2dcontour": [
           {
            "colorbar": {
             "outlinewidth": 0,
             "ticks": ""
            },
            "colorscale": [
             [
              0,
              "#0d0887"
             ],
             [
              0.1111111111111111,
              "#46039f"
             ],
             [
              0.2222222222222222,
              "#7201a8"
             ],
             [
              0.3333333333333333,
              "#9c179e"
             ],
             [
              0.4444444444444444,
              "#bd3786"
             ],
             [
              0.5555555555555556,
              "#d8576b"
             ],
             [
              0.6666666666666666,
              "#ed7953"
             ],
             [
              0.7777777777777778,
              "#fb9f3a"
             ],
             [
              0.8888888888888888,
              "#fdca26"
             ],
             [
              1,
              "#f0f921"
             ]
            ],
            "type": "histogram2dcontour"
           }
          ],
          "mesh3d": [
           {
            "colorbar": {
             "outlinewidth": 0,
             "ticks": ""
            },
            "type": "mesh3d"
           }
          ],
          "parcoords": [
           {
            "line": {
             "colorbar": {
              "outlinewidth": 0,
              "ticks": ""
             }
            },
            "type": "parcoords"
           }
          ],
          "pie": [
           {
            "automargin": true,
            "type": "pie"
           }
          ],
          "scatter": [
           {
            "fillpattern": {
             "fillmode": "overlay",
             "size": 10,
             "solidity": 0.2
            },
            "type": "scatter"
           }
          ],
          "scatter3d": [
           {
            "line": {
             "colorbar": {
              "outlinewidth": 0,
              "ticks": ""
             }
            },
            "marker": {
             "colorbar": {
              "outlinewidth": 0,
              "ticks": ""
             }
            },
            "type": "scatter3d"
           }
          ],
          "scattercarpet": [
           {
            "marker": {
             "colorbar": {
              "outlinewidth": 0,
              "ticks": ""
             }
            },
            "type": "scattercarpet"
           }
          ],
          "scattergeo": [
           {
            "marker": {
             "colorbar": {
              "outlinewidth": 0,
              "ticks": ""
             }
            },
            "type": "scattergeo"
           }
          ],
          "scattergl": [
           {
            "marker": {
             "colorbar": {
              "outlinewidth": 0,
              "ticks": ""
             }
            },
            "type": "scattergl"
           }
          ],
          "scattermapbox": [
           {
            "marker": {
             "colorbar": {
              "outlinewidth": 0,
              "ticks": ""
             }
            },
            "type": "scattermapbox"
           }
          ],
          "scatterpolar": [
           {
            "marker": {
             "colorbar": {
              "outlinewidth": 0,
              "ticks": ""
             }
            },
            "type": "scatterpolar"
           }
          ],
          "scatterpolargl": [
           {
            "marker": {
             "colorbar": {
              "outlinewidth": 0,
              "ticks": ""
             }
            },
            "type": "scatterpolargl"
           }
          ],
          "scatterternary": [
           {
            "marker": {
             "colorbar": {
              "outlinewidth": 0,
              "ticks": ""
             }
            },
            "type": "scatterternary"
           }
          ],
          "surface": [
           {
            "colorbar": {
             "outlinewidth": 0,
             "ticks": ""
            },
            "colorscale": [
             [
              0,
              "#0d0887"
             ],
             [
              0.1111111111111111,
              "#46039f"
             ],
             [
              0.2222222222222222,
              "#7201a8"
             ],
             [
              0.3333333333333333,
              "#9c179e"
             ],
             [
              0.4444444444444444,
              "#bd3786"
             ],
             [
              0.5555555555555556,
              "#d8576b"
             ],
             [
              0.6666666666666666,
              "#ed7953"
             ],
             [
              0.7777777777777778,
              "#fb9f3a"
             ],
             [
              0.8888888888888888,
              "#fdca26"
             ],
             [
              1,
              "#f0f921"
             ]
            ],
            "type": "surface"
           }
          ],
          "table": [
           {
            "cells": {
             "fill": {
              "color": "#EBF0F8"
             },
             "line": {
              "color": "white"
             }
            },
            "header": {
             "fill": {
              "color": "#C8D4E3"
             },
             "line": {
              "color": "white"
             }
            },
            "type": "table"
           }
          ]
         },
         "layout": {
          "annotationdefaults": {
           "arrowcolor": "#2a3f5f",
           "arrowhead": 0,
           "arrowwidth": 1
          },
          "autotypenumbers": "strict",
          "coloraxis": {
           "colorbar": {
            "outlinewidth": 0,
            "ticks": ""
           }
          },
          "colorscale": {
           "diverging": [
            [
             0,
             "#8e0152"
            ],
            [
             0.1,
             "#c51b7d"
            ],
            [
             0.2,
             "#de77ae"
            ],
            [
             0.3,
             "#f1b6da"
            ],
            [
             0.4,
             "#fde0ef"
            ],
            [
             0.5,
             "#f7f7f7"
            ],
            [
             0.6,
             "#e6f5d0"
            ],
            [
             0.7,
             "#b8e186"
            ],
            [
             0.8,
             "#7fbc41"
            ],
            [
             0.9,
             "#4d9221"
            ],
            [
             1,
             "#276419"
            ]
           ],
           "sequential": [
            [
             0,
             "#0d0887"
            ],
            [
             0.1111111111111111,
             "#46039f"
            ],
            [
             0.2222222222222222,
             "#7201a8"
            ],
            [
             0.3333333333333333,
             "#9c179e"
            ],
            [
             0.4444444444444444,
             "#bd3786"
            ],
            [
             0.5555555555555556,
             "#d8576b"
            ],
            [
             0.6666666666666666,
             "#ed7953"
            ],
            [
             0.7777777777777778,
             "#fb9f3a"
            ],
            [
             0.8888888888888888,
             "#fdca26"
            ],
            [
             1,
             "#f0f921"
            ]
           ],
           "sequentialminus": [
            [
             0,
             "#0d0887"
            ],
            [
             0.1111111111111111,
             "#46039f"
            ],
            [
             0.2222222222222222,
             "#7201a8"
            ],
            [
             0.3333333333333333,
             "#9c179e"
            ],
            [
             0.4444444444444444,
             "#bd3786"
            ],
            [
             0.5555555555555556,
             "#d8576b"
            ],
            [
             0.6666666666666666,
             "#ed7953"
            ],
            [
             0.7777777777777778,
             "#fb9f3a"
            ],
            [
             0.8888888888888888,
             "#fdca26"
            ],
            [
             1,
             "#f0f921"
            ]
           ]
          },
          "colorway": [
           "#636efa",
           "#EF553B",
           "#00cc96",
           "#ab63fa",
           "#FFA15A",
           "#19d3f3",
           "#FF6692",
           "#B6E880",
           "#FF97FF",
           "#FECB52"
          ],
          "font": {
           "color": "#2a3f5f"
          },
          "geo": {
           "bgcolor": "white",
           "lakecolor": "white",
           "landcolor": "#E5ECF6",
           "showlakes": true,
           "showland": true,
           "subunitcolor": "white"
          },
          "hoverlabel": {
           "align": "left"
          },
          "hovermode": "closest",
          "mapbox": {
           "style": "light"
          },
          "paper_bgcolor": "white",
          "plot_bgcolor": "#E5ECF6",
          "polar": {
           "angularaxis": {
            "gridcolor": "white",
            "linecolor": "white",
            "ticks": ""
           },
           "bgcolor": "#E5ECF6",
           "radialaxis": {
            "gridcolor": "white",
            "linecolor": "white",
            "ticks": ""
           }
          },
          "scene": {
           "xaxis": {
            "backgroundcolor": "#E5ECF6",
            "gridcolor": "white",
            "gridwidth": 2,
            "linecolor": "white",
            "showbackground": true,
            "ticks": "",
            "zerolinecolor": "white"
           },
           "yaxis": {
            "backgroundcolor": "#E5ECF6",
            "gridcolor": "white",
            "gridwidth": 2,
            "linecolor": "white",
            "showbackground": true,
            "ticks": "",
            "zerolinecolor": "white"
           },
           "zaxis": {
            "backgroundcolor": "#E5ECF6",
            "gridcolor": "white",
            "gridwidth": 2,
            "linecolor": "white",
            "showbackground": true,
            "ticks": "",
            "zerolinecolor": "white"
           }
          },
          "shapedefaults": {
           "line": {
            "color": "#2a3f5f"
           }
          },
          "ternary": {
           "aaxis": {
            "gridcolor": "white",
            "linecolor": "white",
            "ticks": ""
           },
           "baxis": {
            "gridcolor": "white",
            "linecolor": "white",
            "ticks": ""
           },
           "bgcolor": "#E5ECF6",
           "caxis": {
            "gridcolor": "white",
            "linecolor": "white",
            "ticks": ""
           }
          },
          "title": {
           "x": 0.05
          },
          "xaxis": {
           "automargin": true,
           "gridcolor": "white",
           "linecolor": "white",
           "ticks": "",
           "title": {
            "standoff": 15
           },
           "zerolinecolor": "white",
           "zerolinewidth": 2
          },
          "yaxis": {
           "automargin": true,
           "gridcolor": "white",
           "linecolor": "white",
           "ticks": "",
           "title": {
            "standoff": 15
           },
           "zerolinecolor": "white",
           "zerolinewidth": 2
          }
         }
        },
        "title": {
         "font": {
          "color": "green",
          "family": "Titillium Web",
          "size": 25
         },
         "text": "<b>Top 20 Recriuting Companies </b>",
         "x": 0.6,
         "xanchor": "center",
         "y": 0.95,
         "yanchor": "top"
        },
        "xaxis": {
         "anchor": "y",
         "color": "teal",
         "domain": [
          0,
          1
         ],
         "linecolor": "gray",
         "linewidth": 3,
         "mirror": true,
         "showgrid": false,
         "title": {
          "font": {
           "color": "maroon",
           "family": "Open Sans",
           "size": 20
          },
          "standoff": 15,
          "text": "Jobs"
         }
        },
        "yaxis": {
         "anchor": "x",
         "categoryorder": "total ascending",
         "color": "Teal",
         "domain": [
          0,
          1
         ],
         "linecolor": "gray",
         "linewidth": 3,
         "mirror": true,
         "nticks": 20,
         "showgrid": false,
         "tickfont": {
          "family": "Arial"
         },
         "title": {
          "font": {
           "color": "maroon",
           "family": "Droid Sans",
           "size": 20
          },
          "standoff": 15,
          "text": "Company"
         }
        }
       }
      },
      "text/html": [
       "<div>                            <div id=\"2f76782e-1946-4a8c-9947-b77ab4aa1b57\" class=\"plotly-graph-div\" style=\"height:525px; width:100%;\"></div>            <script type=\"text/javascript\">                require([\"plotly\"], function(Plotly) {                    window.PLOTLYENV=window.PLOTLYENV || {};                                    if (document.getElementById(\"2f76782e-1946-4a8c-9947-b77ab4aa1b57\")) {                    Plotly.newPlot(                        \"2f76782e-1946-4a8c-9947-b77ab4aa1b57\",                        [{\"alignmentgroup\":\"True\",\"hovertemplate\":\"Count=%{marker.color}<br>company=%{y}<extra></extra>\",\"legendgroup\":\"\",\"marker\":{\"color\":[4,4,3,3,3,3,3,2,2,2,2,2,2,1,1,1,1,1,1,1],\"coloraxis\":\"coloraxis\",\"pattern\":{\"shape\":\"\"}},\"name\":\"\",\"offsetgroup\":\"\",\"orientation\":\"h\",\"showlegend\":false,\"text\":[4.0,4.0,3.0,3.0,3.0,3.0,3.0,2.0,2.0,2.0,2.0,2.0,2.0,1.0,1.0,1.0,1.0,1.0,1.0,1.0],\"textposition\":\"outside\",\"x\":[4,4,3,3,3,3,3,2,2,2,2,2,2,1,1,1,1,1,1,1],\"xaxis\":\"x\",\"y\":[\"Bosch Group\",\"Visa\",\"CI&T\",\"Experian\",\"Zscaler\",\"Publicis Groupe\",\"NielsenIQ\",\"Deezer\",\"Netcentric\",\"Eurowag\",\"Biogen\",\"Boskalis\",\"Lakeshore Learning Materials, LLC\",\"3Cloud\",\"Sutherland\",\"Margera\",\"Rockstar Games\",\"McDonald's Corporation\",\"Metiora\",\"Ginkgo Bioworks\"],\"yaxis\":\"y\",\"type\":\"bar\"}],                        {\"template\":{\"data\":{\"histogram2dcontour\":[{\"type\":\"histogram2dcontour\",\"colorbar\":{\"outlinewidth\":0,\"ticks\":\"\"},\"colorscale\":[[0.0,\"#0d0887\"],[0.1111111111111111,\"#46039f\"],[0.2222222222222222,\"#7201a8\"],[0.3333333333333333,\"#9c179e\"],[0.4444444444444444,\"#bd3786\"],[0.5555555555555556,\"#d8576b\"],[0.6666666666666666,\"#ed7953\"],[0.7777777777777778,\"#fb9f3a\"],[0.8888888888888888,\"#fdca26\"],[1.0,\"#f0f921\"]]}],\"choropleth\":[{\"type\":\"choropleth\",\"colorbar\":{\"outlinewidth\":0,\"ticks\":\"\"}}],\"histogram2d\":[{\"type\":\"histogram2d\",\"colorbar\":{\"outlinewidth\":0,\"ticks\":\"\"},\"colorscale\":[[0.0,\"#0d0887\"],[0.1111111111111111,\"#46039f\"],[0.2222222222222222,\"#7201a8\"],[0.3333333333333333,\"#9c179e\"],[0.4444444444444444,\"#bd3786\"],[0.5555555555555556,\"#d8576b\"],[0.6666666666666666,\"#ed7953\"],[0.7777777777777778,\"#fb9f3a\"],[0.8888888888888888,\"#fdca26\"],[1.0,\"#f0f921\"]]}],\"heatmap\":[{\"type\":\"heatmap\",\"colorbar\":{\"outlinewidth\":0,\"ticks\":\"\"},\"colorscale\":[[0.0,\"#0d0887\"],[0.1111111111111111,\"#46039f\"],[0.2222222222222222,\"#7201a8\"],[0.3333333333333333,\"#9c179e\"],[0.4444444444444444,\"#bd3786\"],[0.5555555555555556,\"#d8576b\"],[0.6666666666666666,\"#ed7953\"],[0.7777777777777778,\"#fb9f3a\"],[0.8888888888888888,\"#fdca26\"],[1.0,\"#f0f921\"]]}],\"heatmapgl\":[{\"type\":\"heatmapgl\",\"colorbar\":{\"outlinewidth\":0,\"ticks\":\"\"},\"colorscale\":[[0.0,\"#0d0887\"],[0.1111111111111111,\"#46039f\"],[0.2222222222222222,\"#7201a8\"],[0.3333333333333333,\"#9c179e\"],[0.4444444444444444,\"#bd3786\"],[0.5555555555555556,\"#d8576b\"],[0.6666666666666666,\"#ed7953\"],[0.7777777777777778,\"#fb9f3a\"],[0.8888888888888888,\"#fdca26\"],[1.0,\"#f0f921\"]]}],\"contourcarpet\":[{\"type\":\"contourcarpet\",\"colorbar\":{\"outlinewidth\":0,\"ticks\":\"\"}}],\"contour\":[{\"type\":\"contour\",\"colorbar\":{\"outlinewidth\":0,\"ticks\":\"\"},\"colorscale\":[[0.0,\"#0d0887\"],[0.1111111111111111,\"#46039f\"],[0.2222222222222222,\"#7201a8\"],[0.3333333333333333,\"#9c179e\"],[0.4444444444444444,\"#bd3786\"],[0.5555555555555556,\"#d8576b\"],[0.6666666666666666,\"#ed7953\"],[0.7777777777777778,\"#fb9f3a\"],[0.8888888888888888,\"#fdca26\"],[1.0,\"#f0f921\"]]}],\"surface\":[{\"type\":\"surface\",\"colorbar\":{\"outlinewidth\":0,\"ticks\":\"\"},\"colorscale\":[[0.0,\"#0d0887\"],[0.1111111111111111,\"#46039f\"],[0.2222222222222222,\"#7201a8\"],[0.3333333333333333,\"#9c179e\"],[0.4444444444444444,\"#bd3786\"],[0.5555555555555556,\"#d8576b\"],[0.6666666666666666,\"#ed7953\"],[0.7777777777777778,\"#fb9f3a\"],[0.8888888888888888,\"#fdca26\"],[1.0,\"#f0f921\"]]}],\"mesh3d\":[{\"type\":\"mesh3d\",\"colorbar\":{\"outlinewidth\":0,\"ticks\":\"\"}}],\"scatter\":[{\"fillpattern\":{\"fillmode\":\"overlay\",\"size\":10,\"solidity\":0.2},\"type\":\"scatter\"}],\"parcoords\":[{\"type\":\"parcoords\",\"line\":{\"colorbar\":{\"outlinewidth\":0,\"ticks\":\"\"}}}],\"scatterpolargl\":[{\"type\":\"scatterpolargl\",\"marker\":{\"colorbar\":{\"outlinewidth\":0,\"ticks\":\"\"}}}],\"bar\":[{\"error_x\":{\"color\":\"#2a3f5f\"},\"error_y\":{\"color\":\"#2a3f5f\"},\"marker\":{\"line\":{\"color\":\"#E5ECF6\",\"width\":0.5},\"pattern\":{\"fillmode\":\"overlay\",\"size\":10,\"solidity\":0.2}},\"type\":\"bar\"}],\"scattergeo\":[{\"type\":\"scattergeo\",\"marker\":{\"colorbar\":{\"outlinewidth\":0,\"ticks\":\"\"}}}],\"scatterpolar\":[{\"type\":\"scatterpolar\",\"marker\":{\"colorbar\":{\"outlinewidth\":0,\"ticks\":\"\"}}}],\"histogram\":[{\"marker\":{\"pattern\":{\"fillmode\":\"overlay\",\"size\":10,\"solidity\":0.2}},\"type\":\"histogram\"}],\"scattergl\":[{\"type\":\"scattergl\",\"marker\":{\"colorbar\":{\"outlinewidth\":0,\"ticks\":\"\"}}}],\"scatter3d\":[{\"type\":\"scatter3d\",\"line\":{\"colorbar\":{\"outlinewidth\":0,\"ticks\":\"\"}},\"marker\":{\"colorbar\":{\"outlinewidth\":0,\"ticks\":\"\"}}}],\"scattermapbox\":[{\"type\":\"scattermapbox\",\"marker\":{\"colorbar\":{\"outlinewidth\":0,\"ticks\":\"\"}}}],\"scatterternary\":[{\"type\":\"scatterternary\",\"marker\":{\"colorbar\":{\"outlinewidth\":0,\"ticks\":\"\"}}}],\"scattercarpet\":[{\"type\":\"scattercarpet\",\"marker\":{\"colorbar\":{\"outlinewidth\":0,\"ticks\":\"\"}}}],\"carpet\":[{\"aaxis\":{\"endlinecolor\":\"#2a3f5f\",\"gridcolor\":\"white\",\"linecolor\":\"white\",\"minorgridcolor\":\"white\",\"startlinecolor\":\"#2a3f5f\"},\"baxis\":{\"endlinecolor\":\"#2a3f5f\",\"gridcolor\":\"white\",\"linecolor\":\"white\",\"minorgridcolor\":\"white\",\"startlinecolor\":\"#2a3f5f\"},\"type\":\"carpet\"}],\"table\":[{\"cells\":{\"fill\":{\"color\":\"#EBF0F8\"},\"line\":{\"color\":\"white\"}},\"header\":{\"fill\":{\"color\":\"#C8D4E3\"},\"line\":{\"color\":\"white\"}},\"type\":\"table\"}],\"barpolar\":[{\"marker\":{\"line\":{\"color\":\"#E5ECF6\",\"width\":0.5},\"pattern\":{\"fillmode\":\"overlay\",\"size\":10,\"solidity\":0.2}},\"type\":\"barpolar\"}],\"pie\":[{\"automargin\":true,\"type\":\"pie\"}]},\"layout\":{\"autotypenumbers\":\"strict\",\"colorway\":[\"#636efa\",\"#EF553B\",\"#00cc96\",\"#ab63fa\",\"#FFA15A\",\"#19d3f3\",\"#FF6692\",\"#B6E880\",\"#FF97FF\",\"#FECB52\"],\"font\":{\"color\":\"#2a3f5f\"},\"hovermode\":\"closest\",\"hoverlabel\":{\"align\":\"left\"},\"paper_bgcolor\":\"white\",\"plot_bgcolor\":\"#E5ECF6\",\"polar\":{\"bgcolor\":\"#E5ECF6\",\"angularaxis\":{\"gridcolor\":\"white\",\"linecolor\":\"white\",\"ticks\":\"\"},\"radialaxis\":{\"gridcolor\":\"white\",\"linecolor\":\"white\",\"ticks\":\"\"}},\"ternary\":{\"bgcolor\":\"#E5ECF6\",\"aaxis\":{\"gridcolor\":\"white\",\"linecolor\":\"white\",\"ticks\":\"\"},\"baxis\":{\"gridcolor\":\"white\",\"linecolor\":\"white\",\"ticks\":\"\"},\"caxis\":{\"gridcolor\":\"white\",\"linecolor\":\"white\",\"ticks\":\"\"}},\"coloraxis\":{\"colorbar\":{\"outlinewidth\":0,\"ticks\":\"\"}},\"colorscale\":{\"sequential\":[[0.0,\"#0d0887\"],[0.1111111111111111,\"#46039f\"],[0.2222222222222222,\"#7201a8\"],[0.3333333333333333,\"#9c179e\"],[0.4444444444444444,\"#bd3786\"],[0.5555555555555556,\"#d8576b\"],[0.6666666666666666,\"#ed7953\"],[0.7777777777777778,\"#fb9f3a\"],[0.8888888888888888,\"#fdca26\"],[1.0,\"#f0f921\"]],\"sequentialminus\":[[0.0,\"#0d0887\"],[0.1111111111111111,\"#46039f\"],[0.2222222222222222,\"#7201a8\"],[0.3333333333333333,\"#9c179e\"],[0.4444444444444444,\"#bd3786\"],[0.5555555555555556,\"#d8576b\"],[0.6666666666666666,\"#ed7953\"],[0.7777777777777778,\"#fb9f3a\"],[0.8888888888888888,\"#fdca26\"],[1.0,\"#f0f921\"]],\"diverging\":[[0,\"#8e0152\"],[0.1,\"#c51b7d\"],[0.2,\"#de77ae\"],[0.3,\"#f1b6da\"],[0.4,\"#fde0ef\"],[0.5,\"#f7f7f7\"],[0.6,\"#e6f5d0\"],[0.7,\"#b8e186\"],[0.8,\"#7fbc41\"],[0.9,\"#4d9221\"],[1,\"#276419\"]]},\"xaxis\":{\"gridcolor\":\"white\",\"linecolor\":\"white\",\"ticks\":\"\",\"title\":{\"standoff\":15},\"zerolinecolor\":\"white\",\"automargin\":true,\"zerolinewidth\":2},\"yaxis\":{\"gridcolor\":\"white\",\"linecolor\":\"white\",\"ticks\":\"\",\"title\":{\"standoff\":15},\"zerolinecolor\":\"white\",\"automargin\":true,\"zerolinewidth\":2},\"scene\":{\"xaxis\":{\"backgroundcolor\":\"#E5ECF6\",\"gridcolor\":\"white\",\"linecolor\":\"white\",\"showbackground\":true,\"ticks\":\"\",\"zerolinecolor\":\"white\",\"gridwidth\":2},\"yaxis\":{\"backgroundcolor\":\"#E5ECF6\",\"gridcolor\":\"white\",\"linecolor\":\"white\",\"showbackground\":true,\"ticks\":\"\",\"zerolinecolor\":\"white\",\"gridwidth\":2},\"zaxis\":{\"backgroundcolor\":\"#E5ECF6\",\"gridcolor\":\"white\",\"linecolor\":\"white\",\"showbackground\":true,\"ticks\":\"\",\"zerolinecolor\":\"white\",\"gridwidth\":2}},\"shapedefaults\":{\"line\":{\"color\":\"#2a3f5f\"}},\"annotationdefaults\":{\"arrowcolor\":\"#2a3f5f\",\"arrowhead\":0,\"arrowwidth\":1},\"geo\":{\"bgcolor\":\"white\",\"landcolor\":\"#E5ECF6\",\"subunitcolor\":\"white\",\"showland\":true,\"showlakes\":true,\"lakecolor\":\"white\"},\"title\":{\"x\":0.05},\"mapbox\":{\"style\":\"light\"}}},\"xaxis\":{\"anchor\":\"y\",\"domain\":[0.0,1.0],\"title\":{\"text\":\"Jobs\",\"font\":{\"family\":\"Open Sans\",\"size\":20,\"color\":\"maroon\"},\"standoff\":15},\"color\":\"teal\",\"showgrid\":false,\"linecolor\":\"gray\",\"linewidth\":3,\"mirror\":true},\"yaxis\":{\"anchor\":\"x\",\"domain\":[0.0,1.0],\"title\":{\"text\":\"Company\",\"font\":{\"family\":\"Droid Sans\",\"size\":20,\"color\":\"maroon\"},\"standoff\":15},\"categoryorder\":\"total ascending\",\"tickfont\":{\"family\":\"Arial\"},\"color\":\"Teal\",\"nticks\":20,\"showgrid\":false,\"linecolor\":\"gray\",\"linewidth\":3,\"mirror\":true},\"coloraxis\":{\"colorbar\":{\"title\":{\"text\":\"Count\"}},\"colorscale\":[[0.0,\"#440154\"],[0.1111111111111111,\"#482878\"],[0.2222222222222222,\"#3e4989\"],[0.3333333333333333,\"#31688e\"],[0.4444444444444444,\"#26828e\"],[0.5555555555555556,\"#1f9e89\"],[0.6666666666666666,\"#35b779\"],[0.7777777777777778,\"#6ece58\"],[0.8888888888888888,\"#b5de2b\"],[1.0,\"#fde725\"]]},\"legend\":{\"tracegroupgap\":0},\"margin\":{\"t\":60},\"barmode\":\"relative\",\"title\":{\"font\":{\"size\":25,\"color\":\"green\",\"family\":\"Titillium Web\"},\"text\":\"<b>Top 20 Recriuting Companies </b>\",\"x\":0.6,\"y\":0.95,\"xanchor\":\"center\",\"yanchor\":\"top\"}},                        {\"responsive\": true}                    ).then(function(){\n",
       "                            \n",
       "var gd = document.getElementById('2f76782e-1946-4a8c-9947-b77ab4aa1b57');\n",
       "var x = new MutationObserver(function (mutations, observer) {{\n",
       "        var display = window.getComputedStyle(gd).display;\n",
       "        if (!display || display === 'none') {{\n",
       "            console.log([gd, 'removed!']);\n",
       "            Plotly.purge(gd);\n",
       "            observer.disconnect();\n",
       "        }}\n",
       "}});\n",
       "\n",
       "// Listen for the removal of the full notebook cells\n",
       "var notebookContainer = gd.closest('#notebook-container');\n",
       "if (notebookContainer) {{\n",
       "    x.observe(notebookContainer, {childList: true});\n",
       "}}\n",
       "\n",
       "// Listen for the clearing of the current output cell\n",
       "var outputEl = gd.closest('.output');\n",
       "if (outputEl) {{\n",
       "    x.observe(outputEl, {childList: true});\n",
       "}}\n",
       "\n",
       "                        })                };                });            </script>        </div>"
      ]
     },
     "metadata": {},
     "output_type": "display_data"
    }
   ],
   "source": [
    "## Top 20 Recriuting Companies \n",
    "\n",
    "companies = df['Company'].value_counts()\n",
    "companies = dict(companies)\n",
    "list1 = companies.keys()\n",
    "list2 = companies.values()\n",
    "companies_df = pd.DataFrame(list(zip(list1,list2)), columns=['company','count'])\n",
    "\n",
    "fig = px.bar(companies_df[0:20],y='company', x='count', text='count',orientation='h',\n",
    "            labels={'count':'Count'}, color='count', color_continuous_scale = 'Viridis') \n",
    "\n",
    "fig.update_traces(textposition='outside')\n",
    "fig.update_layout(title_text=\"<b>Top 20 Recriuting Companies </b>\",\n",
    "                 title_font_size=25,\n",
    "                 title_font_color='green',\n",
    "                 title_font_family='Titillium Web',\n",
    "                 title_x=0.6,\n",
    "                 title_y=0.95,\n",
    "                 title_xanchor='center',\n",
    "                 title_yanchor='top',\n",
    "                 yaxis={'categoryorder':'total ascending'}\n",
    "                 )\n",
    "\n",
    "fig.update_xaxes(\n",
    "        color='teal',\n",
    "        title_text='Jobs',\n",
    "        title_font_family='Open Sans',\n",
    "        title_font_size=20,\n",
    "        title_font_color='maroon',\n",
    "        title_standoff = 15,\n",
    "        showgrid=False,\n",
    "        linecolor='gray',\n",
    "        linewidth=3,\n",
    "        mirror=True)\n",
    "\n",
    "fig.update_yaxes(\n",
    "        color='Teal',\n",
    "        title_text='Company',\n",
    "        title_font_family='Droid Sans',\n",
    "        title_font_size=20,\n",
    "        title_font_color='maroon',\n",
    "        title_standoff = 15,\n",
    "        tickfont_family='Arial',\n",
    "        nticks = 20,\n",
    "        showgrid=False,\n",
    "        linecolor='gray',\n",
    "        linewidth=3,\n",
    "        mirror = True)\n"
   ]
  },
  {
   "cell_type": "code",
   "execution_count": 247,
   "metadata": {},
   "outputs": [
    {
     "data": {
      "application/vnd.plotly.v1+json": {
       "config": {
        "plotlyServerURL": "https://plot.ly"
       },
       "data": [
        {
         "alignmentgroup": "True",
         "hovertemplate": "Count=%{marker.color}<br>locality=%{y}<extra></extra>",
         "legendgroup": "",
         "marker": {
          "color": [
           4,
           4,
           3,
           2,
           2,
           2,
           2,
           2,
           2,
           2,
           2,
           2,
           1,
           1,
           1,
           1,
           1,
           1,
           1,
           1
          ],
          "coloraxis": "coloraxis",
          "pattern": {
           "shape": ""
          }
         },
         "name": "",
         "offsetgroup": "",
         "orientation": "h",
         "showlegend": false,
         "text": [
          4,
          4,
          3,
          2,
          2,
          2,
          2,
          2,
          2,
          2,
          2,
          2,
          1,
          1,
          1,
          1,
          1,
          1,
          1,
          1
         ],
         "textposition": "outside",
         "type": "bar",
         "x": [
          4,
          4,
          3,
          2,
          2,
          2,
          2,
          2,
          2,
          2,
          2,
          2,
          1,
          1,
          1,
          1,
          1,
          1,
          1,
          1
         ],
         "xaxis": "x",
         "y": [
          "Paris, France",
          "New York City, United States",
          "Brazil",
          "Berlin, Germany",
          "Remote",
          "India - Bengaluru",
          "Chicago, IL, United States",
          "Praha 4, Czech republic",
          "Toronto, ON, Canada",
          "Long Beach, CA, United States",
          "Bengaluru, India",
          "Madrid, Spain",
          "Toronto or Remote (Canada)",
          "Remote, UNITED STATES, United States",
          "Barcelona",
          "Remote- United States",
          "Boston, MA",
          "San Francisco, Costa Rica",
          "Foster City, CA, United States",
          "Warszawa, Poznań, Poland"
         ],
         "yaxis": "y"
        }
       ],
       "layout": {
        "barmode": "relative",
        "coloraxis": {
         "colorbar": {
          "title": {
           "text": "Count"
          }
         },
         "colorscale": [
          [
           0,
           "#440154"
          ],
          [
           0.1111111111111111,
           "#482878"
          ],
          [
           0.2222222222222222,
           "#3e4989"
          ],
          [
           0.3333333333333333,
           "#31688e"
          ],
          [
           0.4444444444444444,
           "#26828e"
          ],
          [
           0.5555555555555556,
           "#1f9e89"
          ],
          [
           0.6666666666666666,
           "#35b779"
          ],
          [
           0.7777777777777778,
           "#6ece58"
          ],
          [
           0.8888888888888888,
           "#b5de2b"
          ],
          [
           1,
           "#fde725"
          ]
         ]
        },
        "legend": {
         "tracegroupgap": 0
        },
        "margin": {
         "t": 60
        },
        "template": {
         "data": {
          "bar": [
           {
            "error_x": {
             "color": "#2a3f5f"
            },
            "error_y": {
             "color": "#2a3f5f"
            },
            "marker": {
             "line": {
              "color": "#E5ECF6",
              "width": 0.5
             },
             "pattern": {
              "fillmode": "overlay",
              "size": 10,
              "solidity": 0.2
             }
            },
            "type": "bar"
           }
          ],
          "barpolar": [
           {
            "marker": {
             "line": {
              "color": "#E5ECF6",
              "width": 0.5
             },
             "pattern": {
              "fillmode": "overlay",
              "size": 10,
              "solidity": 0.2
             }
            },
            "type": "barpolar"
           }
          ],
          "carpet": [
           {
            "aaxis": {
             "endlinecolor": "#2a3f5f",
             "gridcolor": "white",
             "linecolor": "white",
             "minorgridcolor": "white",
             "startlinecolor": "#2a3f5f"
            },
            "baxis": {
             "endlinecolor": "#2a3f5f",
             "gridcolor": "white",
             "linecolor": "white",
             "minorgridcolor": "white",
             "startlinecolor": "#2a3f5f"
            },
            "type": "carpet"
           }
          ],
          "choropleth": [
           {
            "colorbar": {
             "outlinewidth": 0,
             "ticks": ""
            },
            "type": "choropleth"
           }
          ],
          "contour": [
           {
            "colorbar": {
             "outlinewidth": 0,
             "ticks": ""
            },
            "colorscale": [
             [
              0,
              "#0d0887"
             ],
             [
              0.1111111111111111,
              "#46039f"
             ],
             [
              0.2222222222222222,
              "#7201a8"
             ],
             [
              0.3333333333333333,
              "#9c179e"
             ],
             [
              0.4444444444444444,
              "#bd3786"
             ],
             [
              0.5555555555555556,
              "#d8576b"
             ],
             [
              0.6666666666666666,
              "#ed7953"
             ],
             [
              0.7777777777777778,
              "#fb9f3a"
             ],
             [
              0.8888888888888888,
              "#fdca26"
             ],
             [
              1,
              "#f0f921"
             ]
            ],
            "type": "contour"
           }
          ],
          "contourcarpet": [
           {
            "colorbar": {
             "outlinewidth": 0,
             "ticks": ""
            },
            "type": "contourcarpet"
           }
          ],
          "heatmap": [
           {
            "colorbar": {
             "outlinewidth": 0,
             "ticks": ""
            },
            "colorscale": [
             [
              0,
              "#0d0887"
             ],
             [
              0.1111111111111111,
              "#46039f"
             ],
             [
              0.2222222222222222,
              "#7201a8"
             ],
             [
              0.3333333333333333,
              "#9c179e"
             ],
             [
              0.4444444444444444,
              "#bd3786"
             ],
             [
              0.5555555555555556,
              "#d8576b"
             ],
             [
              0.6666666666666666,
              "#ed7953"
             ],
             [
              0.7777777777777778,
              "#fb9f3a"
             ],
             [
              0.8888888888888888,
              "#fdca26"
             ],
             [
              1,
              "#f0f921"
             ]
            ],
            "type": "heatmap"
           }
          ],
          "heatmapgl": [
           {
            "colorbar": {
             "outlinewidth": 0,
             "ticks": ""
            },
            "colorscale": [
             [
              0,
              "#0d0887"
             ],
             [
              0.1111111111111111,
              "#46039f"
             ],
             [
              0.2222222222222222,
              "#7201a8"
             ],
             [
              0.3333333333333333,
              "#9c179e"
             ],
             [
              0.4444444444444444,
              "#bd3786"
             ],
             [
              0.5555555555555556,
              "#d8576b"
             ],
             [
              0.6666666666666666,
              "#ed7953"
             ],
             [
              0.7777777777777778,
              "#fb9f3a"
             ],
             [
              0.8888888888888888,
              "#fdca26"
             ],
             [
              1,
              "#f0f921"
             ]
            ],
            "type": "heatmapgl"
           }
          ],
          "histogram": [
           {
            "marker": {
             "pattern": {
              "fillmode": "overlay",
              "size": 10,
              "solidity": 0.2
             }
            },
            "type": "histogram"
           }
          ],
          "histogram2d": [
           {
            "colorbar": {
             "outlinewidth": 0,
             "ticks": ""
            },
            "colorscale": [
             [
              0,
              "#0d0887"
             ],
             [
              0.1111111111111111,
              "#46039f"
             ],
             [
              0.2222222222222222,
              "#7201a8"
             ],
             [
              0.3333333333333333,
              "#9c179e"
             ],
             [
              0.4444444444444444,
              "#bd3786"
             ],
             [
              0.5555555555555556,
              "#d8576b"
             ],
             [
              0.6666666666666666,
              "#ed7953"
             ],
             [
              0.7777777777777778,
              "#fb9f3a"
             ],
             [
              0.8888888888888888,
              "#fdca26"
             ],
             [
              1,
              "#f0f921"
             ]
            ],
            "type": "histogram2d"
           }
          ],
          "histogram2dcontour": [
           {
            "colorbar": {
             "outlinewidth": 0,
             "ticks": ""
            },
            "colorscale": [
             [
              0,
              "#0d0887"
             ],
             [
              0.1111111111111111,
              "#46039f"
             ],
             [
              0.2222222222222222,
              "#7201a8"
             ],
             [
              0.3333333333333333,
              "#9c179e"
             ],
             [
              0.4444444444444444,
              "#bd3786"
             ],
             [
              0.5555555555555556,
              "#d8576b"
             ],
             [
              0.6666666666666666,
              "#ed7953"
             ],
             [
              0.7777777777777778,
              "#fb9f3a"
             ],
             [
              0.8888888888888888,
              "#fdca26"
             ],
             [
              1,
              "#f0f921"
             ]
            ],
            "type": "histogram2dcontour"
           }
          ],
          "mesh3d": [
           {
            "colorbar": {
             "outlinewidth": 0,
             "ticks": ""
            },
            "type": "mesh3d"
           }
          ],
          "parcoords": [
           {
            "line": {
             "colorbar": {
              "outlinewidth": 0,
              "ticks": ""
             }
            },
            "type": "parcoords"
           }
          ],
          "pie": [
           {
            "automargin": true,
            "type": "pie"
           }
          ],
          "scatter": [
           {
            "fillpattern": {
             "fillmode": "overlay",
             "size": 10,
             "solidity": 0.2
            },
            "type": "scatter"
           }
          ],
          "scatter3d": [
           {
            "line": {
             "colorbar": {
              "outlinewidth": 0,
              "ticks": ""
             }
            },
            "marker": {
             "colorbar": {
              "outlinewidth": 0,
              "ticks": ""
             }
            },
            "type": "scatter3d"
           }
          ],
          "scattercarpet": [
           {
            "marker": {
             "colorbar": {
              "outlinewidth": 0,
              "ticks": ""
             }
            },
            "type": "scattercarpet"
           }
          ],
          "scattergeo": [
           {
            "marker": {
             "colorbar": {
              "outlinewidth": 0,
              "ticks": ""
             }
            },
            "type": "scattergeo"
           }
          ],
          "scattergl": [
           {
            "marker": {
             "colorbar": {
              "outlinewidth": 0,
              "ticks": ""
             }
            },
            "type": "scattergl"
           }
          ],
          "scattermapbox": [
           {
            "marker": {
             "colorbar": {
              "outlinewidth": 0,
              "ticks": ""
             }
            },
            "type": "scattermapbox"
           }
          ],
          "scatterpolar": [
           {
            "marker": {
             "colorbar": {
              "outlinewidth": 0,
              "ticks": ""
             }
            },
            "type": "scatterpolar"
           }
          ],
          "scatterpolargl": [
           {
            "marker": {
             "colorbar": {
              "outlinewidth": 0,
              "ticks": ""
             }
            },
            "type": "scatterpolargl"
           }
          ],
          "scatterternary": [
           {
            "marker": {
             "colorbar": {
              "outlinewidth": 0,
              "ticks": ""
             }
            },
            "type": "scatterternary"
           }
          ],
          "surface": [
           {
            "colorbar": {
             "outlinewidth": 0,
             "ticks": ""
            },
            "colorscale": [
             [
              0,
              "#0d0887"
             ],
             [
              0.1111111111111111,
              "#46039f"
             ],
             [
              0.2222222222222222,
              "#7201a8"
             ],
             [
              0.3333333333333333,
              "#9c179e"
             ],
             [
              0.4444444444444444,
              "#bd3786"
             ],
             [
              0.5555555555555556,
              "#d8576b"
             ],
             [
              0.6666666666666666,
              "#ed7953"
             ],
             [
              0.7777777777777778,
              "#fb9f3a"
             ],
             [
              0.8888888888888888,
              "#fdca26"
             ],
             [
              1,
              "#f0f921"
             ]
            ],
            "type": "surface"
           }
          ],
          "table": [
           {
            "cells": {
             "fill": {
              "color": "#EBF0F8"
             },
             "line": {
              "color": "white"
             }
            },
            "header": {
             "fill": {
              "color": "#C8D4E3"
             },
             "line": {
              "color": "white"
             }
            },
            "type": "table"
           }
          ]
         },
         "layout": {
          "annotationdefaults": {
           "arrowcolor": "#2a3f5f",
           "arrowhead": 0,
           "arrowwidth": 1
          },
          "autotypenumbers": "strict",
          "coloraxis": {
           "colorbar": {
            "outlinewidth": 0,
            "ticks": ""
           }
          },
          "colorscale": {
           "diverging": [
            [
             0,
             "#8e0152"
            ],
            [
             0.1,
             "#c51b7d"
            ],
            [
             0.2,
             "#de77ae"
            ],
            [
             0.3,
             "#f1b6da"
            ],
            [
             0.4,
             "#fde0ef"
            ],
            [
             0.5,
             "#f7f7f7"
            ],
            [
             0.6,
             "#e6f5d0"
            ],
            [
             0.7,
             "#b8e186"
            ],
            [
             0.8,
             "#7fbc41"
            ],
            [
             0.9,
             "#4d9221"
            ],
            [
             1,
             "#276419"
            ]
           ],
           "sequential": [
            [
             0,
             "#0d0887"
            ],
            [
             0.1111111111111111,
             "#46039f"
            ],
            [
             0.2222222222222222,
             "#7201a8"
            ],
            [
             0.3333333333333333,
             "#9c179e"
            ],
            [
             0.4444444444444444,
             "#bd3786"
            ],
            [
             0.5555555555555556,
             "#d8576b"
            ],
            [
             0.6666666666666666,
             "#ed7953"
            ],
            [
             0.7777777777777778,
             "#fb9f3a"
            ],
            [
             0.8888888888888888,
             "#fdca26"
            ],
            [
             1,
             "#f0f921"
            ]
           ],
           "sequentialminus": [
            [
             0,
             "#0d0887"
            ],
            [
             0.1111111111111111,
             "#46039f"
            ],
            [
             0.2222222222222222,
             "#7201a8"
            ],
            [
             0.3333333333333333,
             "#9c179e"
            ],
            [
             0.4444444444444444,
             "#bd3786"
            ],
            [
             0.5555555555555556,
             "#d8576b"
            ],
            [
             0.6666666666666666,
             "#ed7953"
            ],
            [
             0.7777777777777778,
             "#fb9f3a"
            ],
            [
             0.8888888888888888,
             "#fdca26"
            ],
            [
             1,
             "#f0f921"
            ]
           ]
          },
          "colorway": [
           "#636efa",
           "#EF553B",
           "#00cc96",
           "#ab63fa",
           "#FFA15A",
           "#19d3f3",
           "#FF6692",
           "#B6E880",
           "#FF97FF",
           "#FECB52"
          ],
          "font": {
           "color": "#2a3f5f"
          },
          "geo": {
           "bgcolor": "white",
           "lakecolor": "white",
           "landcolor": "#E5ECF6",
           "showlakes": true,
           "showland": true,
           "subunitcolor": "white"
          },
          "hoverlabel": {
           "align": "left"
          },
          "hovermode": "closest",
          "mapbox": {
           "style": "light"
          },
          "paper_bgcolor": "white",
          "plot_bgcolor": "#E5ECF6",
          "polar": {
           "angularaxis": {
            "gridcolor": "white",
            "linecolor": "white",
            "ticks": ""
           },
           "bgcolor": "#E5ECF6",
           "radialaxis": {
            "gridcolor": "white",
            "linecolor": "white",
            "ticks": ""
           }
          },
          "scene": {
           "xaxis": {
            "backgroundcolor": "#E5ECF6",
            "gridcolor": "white",
            "gridwidth": 2,
            "linecolor": "white",
            "showbackground": true,
            "ticks": "",
            "zerolinecolor": "white"
           },
           "yaxis": {
            "backgroundcolor": "#E5ECF6",
            "gridcolor": "white",
            "gridwidth": 2,
            "linecolor": "white",
            "showbackground": true,
            "ticks": "",
            "zerolinecolor": "white"
           },
           "zaxis": {
            "backgroundcolor": "#E5ECF6",
            "gridcolor": "white",
            "gridwidth": 2,
            "linecolor": "white",
            "showbackground": true,
            "ticks": "",
            "zerolinecolor": "white"
           }
          },
          "shapedefaults": {
           "line": {
            "color": "#2a3f5f"
           }
          },
          "ternary": {
           "aaxis": {
            "gridcolor": "white",
            "linecolor": "white",
            "ticks": ""
           },
           "baxis": {
            "gridcolor": "white",
            "linecolor": "white",
            "ticks": ""
           },
           "bgcolor": "#E5ECF6",
           "caxis": {
            "gridcolor": "white",
            "linecolor": "white",
            "ticks": ""
           }
          },
          "title": {
           "x": 0.05
          },
          "xaxis": {
           "automargin": true,
           "gridcolor": "white",
           "linecolor": "white",
           "ticks": "",
           "title": {
            "standoff": 15
           },
           "zerolinecolor": "white",
           "zerolinewidth": 2
          },
          "yaxis": {
           "automargin": true,
           "gridcolor": "white",
           "linecolor": "white",
           "ticks": "",
           "title": {
            "standoff": 15
           },
           "zerolinecolor": "white",
           "zerolinewidth": 2
          }
         }
        },
        "title": {
         "font": {
          "color": "green",
          "family": "Titillium Web",
          "size": 25
         },
         "text": "<b>Top Analytics Job Locations </b>",
         "x": 0.6,
         "xanchor": "center",
         "y": 0.95,
         "yanchor": "top"
        },
        "xaxis": {
         "anchor": "y",
         "color": "teal",
         "domain": [
          0,
          1
         ],
         "linecolor": "gray",
         "linewidth": 3,
         "mirror": true,
         "showgrid": false,
         "tickmode": "auto",
         "title": {
          "font": {
           "color": "maroon",
           "family": "Open Sans",
           "size": 20
          },
          "standoff": 15,
          "text": "Jobs"
         }
        },
        "yaxis": {
         "anchor": "x",
         "categoryorder": "total ascending",
         "color": "Teal",
         "domain": [
          0,
          1
         ],
         "linecolor": "gray",
         "linewidth": 3,
         "mirror": true,
         "nticks": 20,
         "showgrid": false,
         "tickfont": {
          "family": "Arial"
         },
         "title": {
          "font": {
           "color": "maroon",
           "family": "Droid Sans",
           "size": 20
          },
          "standoff": 15,
          "text": "Location"
         }
        }
       }
      },
      "text/html": [
       "<div>                            <div id=\"f1a94b48-2f22-46ca-897e-d123a672f154\" class=\"plotly-graph-div\" style=\"height:525px; width:100%;\"></div>            <script type=\"text/javascript\">                require([\"plotly\"], function(Plotly) {                    window.PLOTLYENV=window.PLOTLYENV || {};                                    if (document.getElementById(\"f1a94b48-2f22-46ca-897e-d123a672f154\")) {                    Plotly.newPlot(                        \"f1a94b48-2f22-46ca-897e-d123a672f154\",                        [{\"alignmentgroup\":\"True\",\"hovertemplate\":\"Count=%{marker.color}<br>locality=%{y}<extra></extra>\",\"legendgroup\":\"\",\"marker\":{\"color\":[4,4,3,2,2,2,2,2,2,2,2,2,1,1,1,1,1,1,1,1],\"coloraxis\":\"coloraxis\",\"pattern\":{\"shape\":\"\"}},\"name\":\"\",\"offsetgroup\":\"\",\"orientation\":\"h\",\"showlegend\":false,\"text\":[4.0,4.0,3.0,2.0,2.0,2.0,2.0,2.0,2.0,2.0,2.0,2.0,1.0,1.0,1.0,1.0,1.0,1.0,1.0,1.0],\"textposition\":\"outside\",\"x\":[4,4,3,2,2,2,2,2,2,2,2,2,1,1,1,1,1,1,1,1],\"xaxis\":\"x\",\"y\":[\"Paris, France\",\"New York City, United States\",\"Brazil\",\"Berlin, Germany\",\"Remote\",\"India - Bengaluru\",\"Chicago, IL, United States\",\"Praha 4, Czech republic\",\"Toronto, ON, Canada\",\"Long Beach, CA, United States\",\"Bengaluru, India\",\"Madrid, Spain\",\"Toronto or Remote (Canada)\",\"Remote, UNITED STATES, United States\",\"Barcelona\",\"Remote- United States\",\"Boston, MA\",\"San Francisco, Costa Rica\",\"Foster City, CA, United States\",\"Warszawa, Pozna\\u0144, Poland\"],\"yaxis\":\"y\",\"type\":\"bar\"}],                        {\"template\":{\"data\":{\"histogram2dcontour\":[{\"type\":\"histogram2dcontour\",\"colorbar\":{\"outlinewidth\":0,\"ticks\":\"\"},\"colorscale\":[[0.0,\"#0d0887\"],[0.1111111111111111,\"#46039f\"],[0.2222222222222222,\"#7201a8\"],[0.3333333333333333,\"#9c179e\"],[0.4444444444444444,\"#bd3786\"],[0.5555555555555556,\"#d8576b\"],[0.6666666666666666,\"#ed7953\"],[0.7777777777777778,\"#fb9f3a\"],[0.8888888888888888,\"#fdca26\"],[1.0,\"#f0f921\"]]}],\"choropleth\":[{\"type\":\"choropleth\",\"colorbar\":{\"outlinewidth\":0,\"ticks\":\"\"}}],\"histogram2d\":[{\"type\":\"histogram2d\",\"colorbar\":{\"outlinewidth\":0,\"ticks\":\"\"},\"colorscale\":[[0.0,\"#0d0887\"],[0.1111111111111111,\"#46039f\"],[0.2222222222222222,\"#7201a8\"],[0.3333333333333333,\"#9c179e\"],[0.4444444444444444,\"#bd3786\"],[0.5555555555555556,\"#d8576b\"],[0.6666666666666666,\"#ed7953\"],[0.7777777777777778,\"#fb9f3a\"],[0.8888888888888888,\"#fdca26\"],[1.0,\"#f0f921\"]]}],\"heatmap\":[{\"type\":\"heatmap\",\"colorbar\":{\"outlinewidth\":0,\"ticks\":\"\"},\"colorscale\":[[0.0,\"#0d0887\"],[0.1111111111111111,\"#46039f\"],[0.2222222222222222,\"#7201a8\"],[0.3333333333333333,\"#9c179e\"],[0.4444444444444444,\"#bd3786\"],[0.5555555555555556,\"#d8576b\"],[0.6666666666666666,\"#ed7953\"],[0.7777777777777778,\"#fb9f3a\"],[0.8888888888888888,\"#fdca26\"],[1.0,\"#f0f921\"]]}],\"heatmapgl\":[{\"type\":\"heatmapgl\",\"colorbar\":{\"outlinewidth\":0,\"ticks\":\"\"},\"colorscale\":[[0.0,\"#0d0887\"],[0.1111111111111111,\"#46039f\"],[0.2222222222222222,\"#7201a8\"],[0.3333333333333333,\"#9c179e\"],[0.4444444444444444,\"#bd3786\"],[0.5555555555555556,\"#d8576b\"],[0.6666666666666666,\"#ed7953\"],[0.7777777777777778,\"#fb9f3a\"],[0.8888888888888888,\"#fdca26\"],[1.0,\"#f0f921\"]]}],\"contourcarpet\":[{\"type\":\"contourcarpet\",\"colorbar\":{\"outlinewidth\":0,\"ticks\":\"\"}}],\"contour\":[{\"type\":\"contour\",\"colorbar\":{\"outlinewidth\":0,\"ticks\":\"\"},\"colorscale\":[[0.0,\"#0d0887\"],[0.1111111111111111,\"#46039f\"],[0.2222222222222222,\"#7201a8\"],[0.3333333333333333,\"#9c179e\"],[0.4444444444444444,\"#bd3786\"],[0.5555555555555556,\"#d8576b\"],[0.6666666666666666,\"#ed7953\"],[0.7777777777777778,\"#fb9f3a\"],[0.8888888888888888,\"#fdca26\"],[1.0,\"#f0f921\"]]}],\"surface\":[{\"type\":\"surface\",\"colorbar\":{\"outlinewidth\":0,\"ticks\":\"\"},\"colorscale\":[[0.0,\"#0d0887\"],[0.1111111111111111,\"#46039f\"],[0.2222222222222222,\"#7201a8\"],[0.3333333333333333,\"#9c179e\"],[0.4444444444444444,\"#bd3786\"],[0.5555555555555556,\"#d8576b\"],[0.6666666666666666,\"#ed7953\"],[0.7777777777777778,\"#fb9f3a\"],[0.8888888888888888,\"#fdca26\"],[1.0,\"#f0f921\"]]}],\"mesh3d\":[{\"type\":\"mesh3d\",\"colorbar\":{\"outlinewidth\":0,\"ticks\":\"\"}}],\"scatter\":[{\"fillpattern\":{\"fillmode\":\"overlay\",\"size\":10,\"solidity\":0.2},\"type\":\"scatter\"}],\"parcoords\":[{\"type\":\"parcoords\",\"line\":{\"colorbar\":{\"outlinewidth\":0,\"ticks\":\"\"}}}],\"scatterpolargl\":[{\"type\":\"scatterpolargl\",\"marker\":{\"colorbar\":{\"outlinewidth\":0,\"ticks\":\"\"}}}],\"bar\":[{\"error_x\":{\"color\":\"#2a3f5f\"},\"error_y\":{\"color\":\"#2a3f5f\"},\"marker\":{\"line\":{\"color\":\"#E5ECF6\",\"width\":0.5},\"pattern\":{\"fillmode\":\"overlay\",\"size\":10,\"solidity\":0.2}},\"type\":\"bar\"}],\"scattergeo\":[{\"type\":\"scattergeo\",\"marker\":{\"colorbar\":{\"outlinewidth\":0,\"ticks\":\"\"}}}],\"scatterpolar\":[{\"type\":\"scatterpolar\",\"marker\":{\"colorbar\":{\"outlinewidth\":0,\"ticks\":\"\"}}}],\"histogram\":[{\"marker\":{\"pattern\":{\"fillmode\":\"overlay\",\"size\":10,\"solidity\":0.2}},\"type\":\"histogram\"}],\"scattergl\":[{\"type\":\"scattergl\",\"marker\":{\"colorbar\":{\"outlinewidth\":0,\"ticks\":\"\"}}}],\"scatter3d\":[{\"type\":\"scatter3d\",\"line\":{\"colorbar\":{\"outlinewidth\":0,\"ticks\":\"\"}},\"marker\":{\"colorbar\":{\"outlinewidth\":0,\"ticks\":\"\"}}}],\"scattermapbox\":[{\"type\":\"scattermapbox\",\"marker\":{\"colorbar\":{\"outlinewidth\":0,\"ticks\":\"\"}}}],\"scatterternary\":[{\"type\":\"scatterternary\",\"marker\":{\"colorbar\":{\"outlinewidth\":0,\"ticks\":\"\"}}}],\"scattercarpet\":[{\"type\":\"scattercarpet\",\"marker\":{\"colorbar\":{\"outlinewidth\":0,\"ticks\":\"\"}}}],\"carpet\":[{\"aaxis\":{\"endlinecolor\":\"#2a3f5f\",\"gridcolor\":\"white\",\"linecolor\":\"white\",\"minorgridcolor\":\"white\",\"startlinecolor\":\"#2a3f5f\"},\"baxis\":{\"endlinecolor\":\"#2a3f5f\",\"gridcolor\":\"white\",\"linecolor\":\"white\",\"minorgridcolor\":\"white\",\"startlinecolor\":\"#2a3f5f\"},\"type\":\"carpet\"}],\"table\":[{\"cells\":{\"fill\":{\"color\":\"#EBF0F8\"},\"line\":{\"color\":\"white\"}},\"header\":{\"fill\":{\"color\":\"#C8D4E3\"},\"line\":{\"color\":\"white\"}},\"type\":\"table\"}],\"barpolar\":[{\"marker\":{\"line\":{\"color\":\"#E5ECF6\",\"width\":0.5},\"pattern\":{\"fillmode\":\"overlay\",\"size\":10,\"solidity\":0.2}},\"type\":\"barpolar\"}],\"pie\":[{\"automargin\":true,\"type\":\"pie\"}]},\"layout\":{\"autotypenumbers\":\"strict\",\"colorway\":[\"#636efa\",\"#EF553B\",\"#00cc96\",\"#ab63fa\",\"#FFA15A\",\"#19d3f3\",\"#FF6692\",\"#B6E880\",\"#FF97FF\",\"#FECB52\"],\"font\":{\"color\":\"#2a3f5f\"},\"hovermode\":\"closest\",\"hoverlabel\":{\"align\":\"left\"},\"paper_bgcolor\":\"white\",\"plot_bgcolor\":\"#E5ECF6\",\"polar\":{\"bgcolor\":\"#E5ECF6\",\"angularaxis\":{\"gridcolor\":\"white\",\"linecolor\":\"white\",\"ticks\":\"\"},\"radialaxis\":{\"gridcolor\":\"white\",\"linecolor\":\"white\",\"ticks\":\"\"}},\"ternary\":{\"bgcolor\":\"#E5ECF6\",\"aaxis\":{\"gridcolor\":\"white\",\"linecolor\":\"white\",\"ticks\":\"\"},\"baxis\":{\"gridcolor\":\"white\",\"linecolor\":\"white\",\"ticks\":\"\"},\"caxis\":{\"gridcolor\":\"white\",\"linecolor\":\"white\",\"ticks\":\"\"}},\"coloraxis\":{\"colorbar\":{\"outlinewidth\":0,\"ticks\":\"\"}},\"colorscale\":{\"sequential\":[[0.0,\"#0d0887\"],[0.1111111111111111,\"#46039f\"],[0.2222222222222222,\"#7201a8\"],[0.3333333333333333,\"#9c179e\"],[0.4444444444444444,\"#bd3786\"],[0.5555555555555556,\"#d8576b\"],[0.6666666666666666,\"#ed7953\"],[0.7777777777777778,\"#fb9f3a\"],[0.8888888888888888,\"#fdca26\"],[1.0,\"#f0f921\"]],\"sequentialminus\":[[0.0,\"#0d0887\"],[0.1111111111111111,\"#46039f\"],[0.2222222222222222,\"#7201a8\"],[0.3333333333333333,\"#9c179e\"],[0.4444444444444444,\"#bd3786\"],[0.5555555555555556,\"#d8576b\"],[0.6666666666666666,\"#ed7953\"],[0.7777777777777778,\"#fb9f3a\"],[0.8888888888888888,\"#fdca26\"],[1.0,\"#f0f921\"]],\"diverging\":[[0,\"#8e0152\"],[0.1,\"#c51b7d\"],[0.2,\"#de77ae\"],[0.3,\"#f1b6da\"],[0.4,\"#fde0ef\"],[0.5,\"#f7f7f7\"],[0.6,\"#e6f5d0\"],[0.7,\"#b8e186\"],[0.8,\"#7fbc41\"],[0.9,\"#4d9221\"],[1,\"#276419\"]]},\"xaxis\":{\"gridcolor\":\"white\",\"linecolor\":\"white\",\"ticks\":\"\",\"title\":{\"standoff\":15},\"zerolinecolor\":\"white\",\"automargin\":true,\"zerolinewidth\":2},\"yaxis\":{\"gridcolor\":\"white\",\"linecolor\":\"white\",\"ticks\":\"\",\"title\":{\"standoff\":15},\"zerolinecolor\":\"white\",\"automargin\":true,\"zerolinewidth\":2},\"scene\":{\"xaxis\":{\"backgroundcolor\":\"#E5ECF6\",\"gridcolor\":\"white\",\"linecolor\":\"white\",\"showbackground\":true,\"ticks\":\"\",\"zerolinecolor\":\"white\",\"gridwidth\":2},\"yaxis\":{\"backgroundcolor\":\"#E5ECF6\",\"gridcolor\":\"white\",\"linecolor\":\"white\",\"showbackground\":true,\"ticks\":\"\",\"zerolinecolor\":\"white\",\"gridwidth\":2},\"zaxis\":{\"backgroundcolor\":\"#E5ECF6\",\"gridcolor\":\"white\",\"linecolor\":\"white\",\"showbackground\":true,\"ticks\":\"\",\"zerolinecolor\":\"white\",\"gridwidth\":2}},\"shapedefaults\":{\"line\":{\"color\":\"#2a3f5f\"}},\"annotationdefaults\":{\"arrowcolor\":\"#2a3f5f\",\"arrowhead\":0,\"arrowwidth\":1},\"geo\":{\"bgcolor\":\"white\",\"landcolor\":\"#E5ECF6\",\"subunitcolor\":\"white\",\"showland\":true,\"showlakes\":true,\"lakecolor\":\"white\"},\"title\":{\"x\":0.05},\"mapbox\":{\"style\":\"light\"}}},\"xaxis\":{\"anchor\":\"y\",\"domain\":[0.0,1.0],\"title\":{\"text\":\"Jobs\",\"font\":{\"family\":\"Open Sans\",\"size\":20,\"color\":\"maroon\"},\"standoff\":15},\"color\":\"teal\",\"showgrid\":false,\"tickmode\":\"auto\",\"linecolor\":\"gray\",\"linewidth\":3,\"mirror\":true},\"yaxis\":{\"anchor\":\"x\",\"domain\":[0.0,1.0],\"title\":{\"text\":\"Location\",\"font\":{\"family\":\"Droid Sans\",\"size\":20,\"color\":\"maroon\"},\"standoff\":15},\"categoryorder\":\"total ascending\",\"tickfont\":{\"family\":\"Arial\"},\"color\":\"Teal\",\"nticks\":20,\"showgrid\":false,\"linecolor\":\"gray\",\"linewidth\":3,\"mirror\":true},\"coloraxis\":{\"colorbar\":{\"title\":{\"text\":\"Count\"}},\"colorscale\":[[0.0,\"#440154\"],[0.1111111111111111,\"#482878\"],[0.2222222222222222,\"#3e4989\"],[0.3333333333333333,\"#31688e\"],[0.4444444444444444,\"#26828e\"],[0.5555555555555556,\"#1f9e89\"],[0.6666666666666666,\"#35b779\"],[0.7777777777777778,\"#6ece58\"],[0.8888888888888888,\"#b5de2b\"],[1.0,\"#fde725\"]]},\"legend\":{\"tracegroupgap\":0},\"margin\":{\"t\":60},\"barmode\":\"relative\",\"title\":{\"font\":{\"size\":25,\"color\":\"green\",\"family\":\"Titillium Web\"},\"text\":\"<b>Top Analytics Job Locations </b>\",\"x\":0.6,\"y\":0.95,\"xanchor\":\"center\",\"yanchor\":\"top\"}},                        {\"responsive\": true}                    ).then(function(){\n",
       "                            \n",
       "var gd = document.getElementById('f1a94b48-2f22-46ca-897e-d123a672f154');\n",
       "var x = new MutationObserver(function (mutations, observer) {{\n",
       "        var display = window.getComputedStyle(gd).display;\n",
       "        if (!display || display === 'none') {{\n",
       "            console.log([gd, 'removed!']);\n",
       "            Plotly.purge(gd);\n",
       "            observer.disconnect();\n",
       "        }}\n",
       "}});\n",
       "\n",
       "// Listen for the removal of the full notebook cells\n",
       "var notebookContainer = gd.closest('#notebook-container');\n",
       "if (notebookContainer) {{\n",
       "    x.observe(notebookContainer, {childList: true});\n",
       "}}\n",
       "\n",
       "// Listen for the clearing of the current output cell\n",
       "var outputEl = gd.closest('.output');\n",
       "if (outputEl) {{\n",
       "    x.observe(outputEl, {childList: true});\n",
       "}}\n",
       "\n",
       "                        })                };                });            </script>        </div>"
      ]
     },
     "metadata": {},
     "output_type": "display_data"
    }
   ],
   "source": [
    "## Top Analytics Job Locations\n",
    "\n",
    "locations = df['Location'].value_counts()\n",
    "locations = dict(locations)\n",
    "list1 = locations.keys()\n",
    "list2 = locations.values()\n",
    "locations_df = pd.DataFrame(list(zip(list1,list2)), columns=['locality','count'])\n",
    "fig = px.bar(locations_df[0:20],y='locality', x='count', text='count',orientation='h',\n",
    "            labels={'count':'Count'}, color='count', color_continuous_scale = 'Viridis') \n",
    "fig.update_traces(textposition='outside')\n",
    "fig.update_layout(title_text=\"<b>Top Analytics Job Locations </b>\",\n",
    "                 title_font_size=25,\n",
    "                 title_font_color='green',\n",
    "                 title_font_family='Titillium Web',\n",
    "                 title_x=0.6,\n",
    "                 title_y=0.95,\n",
    "                 title_xanchor='center',\n",
    "                 title_yanchor='top',\n",
    "                 yaxis={'categoryorder':'total ascending'}\n",
    "                 )\n",
    "fig.update_xaxes(\n",
    "        color='teal',\n",
    "        title_text='Jobs',\n",
    "        title_font_family='Open Sans',\n",
    "        title_font_size=20,\n",
    "        title_font_color='maroon',\n",
    "        title_standoff = 15,\n",
    "        showgrid=False,\n",
    "        tickmode='auto',\n",
    "        linecolor='gray',\n",
    "        linewidth=3,\n",
    "        mirror=True)\n",
    "fig.update_yaxes(\n",
    "        color='Teal',\n",
    "        title_text='Location',\n",
    "        title_font_family='Droid Sans',\n",
    "        title_font_size=20,\n",
    "        title_font_color='maroon',\n",
    "        title_standoff = 15,\n",
    "        tickfont_family='Arial',\n",
    "        nticks = 20,\n",
    "        showgrid=False,\n",
    "        linecolor='gray',\n",
    "        linewidth=3,\n",
    "        mirror = True)"
   ]
  },
  {
   "cell_type": "markdown",
   "metadata": {},
   "source": [
    "### Bivariate Analysis"
   ]
  },
  {
   "cell_type": "code",
   "execution_count": 248,
   "metadata": {},
   "outputs": [],
   "source": [
    "df.drop(df.loc[df[\"Level\"] == \"n/a\"].index, inplace=True)"
   ]
  },
  {
   "cell_type": "code",
   "execution_count": 249,
   "metadata": {},
   "outputs": [
    {
     "data": {
      "text/plain": [
       "<seaborn.axisgrid.FacetGrid at 0x2725acb85e0>"
      ]
     },
     "execution_count": 249,
     "metadata": {},
     "output_type": "execute_result"
    },
    {
     "data": {
      "image/png": "[encoded data removed]",
      "text/plain": [
       "<Figure size 905.15x360 with 1 Axes>"
      ]
     },
     "metadata": {
      "needs_background": "light"
     },
     "output_type": "display_data"
    }
   ],
   "source": [
    "sns.displot(df, x=\"Level\", hue=\"Job Title\",  shrink=.2)"
   ]
  },
  {
   "cell_type": "code",
   "execution_count": 250,
   "metadata": {},
   "outputs": [
    {
     "data": {
      "text/plain": [
       "<seaborn.axisgrid.FacetGrid at 0x2725afb3af0>"
      ]
     },
     "execution_count": 250,
     "metadata": {},
     "output_type": "execute_result"
    },
    {
     "data": {
      "image/png": "[encoded data removed]",
      "text/plain": [
       "<Figure size 633.9x360 with 1 Axes>"
      ]
     },
     "metadata": {
      "needs_background": "light"
     },
     "output_type": "display_data"
    }
   ],
   "source": [
    "sns.displot(df, x=\"Job Type\", hue=\"Company\",  shrink=.2)"
   ]
  },
  {
   "cell_type": "code",
   "execution_count": 251,
   "metadata": {},
   "outputs": [],
   "source": [
    "df.drop(df.loc[df[\"Salary Range\"] == \"n/a\"].index, inplace=True)"
   ]
  },
  {
   "cell_type": "code",
   "execution_count": 252,
   "metadata": {},
   "outputs": [
    {
     "data": {
      "text/plain": [
       "<seaborn.axisgrid.FacetGrid at 0x2725b2bdcd0>"
      ]
     },
     "execution_count": 252,
     "metadata": {},
     "output_type": "execute_result"
    },
    {
     "data": {
      "image/png": "[encoded data removed]",
      "text/plain": [
       "<Figure size 523.275x360 with 1 Axes>"
      ]
     },
     "metadata": {
      "needs_background": "light"
     },
     "output_type": "display_data"
    }
   ],
   "source": [
    "sns.catplot(\n",
    "    data=df, y=\"Job Type\", hue=\"Salary Range\", kind=\"count\",\n",
    "    palette=\"pastel\", edgecolor=\".6\",\n",
    ")"
   ]
  },
  {
   "cell_type": "code",
   "execution_count": 253,
   "metadata": {},
   "outputs": [
    {
     "data": {
      "text/plain": [
       "<seaborn.axisgrid.FacetGrid at 0x27258362e50>"
      ]
     },
     "execution_count": 253,
     "metadata": {},
     "output_type": "execute_result"
    },
    {
     "data": {
      "image/png": "[encoded data removed]",
      "text/plain": [
       "<Figure size 523.275x360 with 1 Axes>"
      ]
     },
     "metadata": {
      "needs_background": "light"
     },
     "output_type": "display_data"
    }
   ],
   "source": [
    "sns.displot(df, x=\"Level\", hue=\"Salary Range\", multiple=\"dodge\", stat=\"density\")"
   ]
  },
  {
   "cell_type": "code",
   "execution_count": 254,
   "metadata": {
    "scrolled": true
   },
   "outputs": [
    {
     "data": {
      "text/plain": [
       "<seaborn.axisgrid.FacetGrid at 0x2725b89eca0>"
      ]
     },
     "execution_count": 254,
     "metadata": {},
     "output_type": "execute_result"
    },
    {
     "data": {
      "image/png": "[encoded data removed]",
      "text/plain": [
       "<Figure size 504.4x360 with 1 Axes>"
      ]
     },
     "metadata": {
      "needs_background": "light"
     },
     "output_type": "display_data"
    }
   ],
   "source": [
    "sns.displot(df, x=\"Job Type\", hue=\"Level\",  shrink=.2)"
   ]
  },
  {
   "cell_type": "markdown",
   "metadata": {},
   "source": [
    "## Insights"
   ]
  },
  {
   "cell_type": "code",
   "execution_count": 215,
   "metadata": {},
   "outputs": [],
   "source": [
    "# Insites from Comparing different Job sites"
   ]
  },
  {
   "cell_type": "markdown",
   "metadata": {},
   "source": [
    "\n",
    "    -> Data analyst job percentage is the highest in the job portal we analyzed\n",
    "    \n",
    "    -> Visa and Bosch group has the most data analytics position, with a total of 4 each\n",
    "    \n",
    "    -> More Data scientist jobs are posted in New York city (United States) and Paris (France)\n",
    "    \n",
    "    -> Lowest salaries payed for Data analyst is 30k and Highest is 150K\n",
    "    \n",
    "    -> Full-time jobs are most paid. \n",
    "       \n",
    "    -> Top 5 skills asked are Python, SQL, Tableau, Data Visualization, Excel.\n",
    "    \n",
    "     -> The more skillset you have, the more jobs you can apply for.\n",
    "\n",
    "    "
   ]
  },
  {
   "cell_type": "markdown",
   "metadata": {},
   "source": [
    "## Conclusion\n",
    "\n",
    "A detailed data analysis is done from a scrapped dataset. It can be concluded that:\n",
    "\n",
    "1. Data Analyst is one the most popular and emerging field.\n",
    "2. Average salary of data analysts across the world were explored.\n",
    "3. Salaries across type of employment such as Internship, Full-time, etc.\n",
    "4. Salaries rise as you gain experience. "
   ]
  },
  {
   "cell_type": "code",
   "execution_count": null,
   "metadata": {},
   "outputs": [],
   "source": []
  }
 ],
 "metadata": {
  "kernelspec": {
   "display_name": "Python 3",
   "language": "python",
   "name": "python3"
  },
  "language_info": {
   "codemirror_mode": {
    "name": "ipython",
    "version": 3
   },
   "file_extension": ".py",
   "mimetype": "text/x-python",
   "name": "python",
   "nbconvert_exporter": "python",
   "pygments_lexer": "ipython3",
   "version": "3.8.3"
  }
 },
 "nbformat": 4,
 "nbformat_minor": 4
}
